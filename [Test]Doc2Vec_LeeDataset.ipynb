{
  "nbformat": 4,
  "nbformat_minor": 0,
  "metadata": {
    "colab": {
      "name": "[Test]Doc2Vec_LeeDataset.ipynb",
      "version": "0.3.2",
      "provenance": [],
      "collapsed_sections": [
        "kteI3zCqybqe",
        "t7mKE3H2ybq6"
      ],
      "include_colab_link": true
    },
    "kernelspec": {
      "display_name": "Python 3",
      "language": "python",
      "name": "python3"
    }
  },
  "cells": [
    {
      "cell_type": "markdown",
      "metadata": {
        "id": "view-in-github",
        "colab_type": "text"
      },
      "source": [
        "<a href=\"https://colab.research.google.com/github/huyhoang17/Colab_Temporary/blob/master/[Test]Doc2Vec_LeeDataset.ipynb\" target=\"_parent\"><img src=\"https://colab.research.google.com/assets/colab-badge.svg\" alt=\"Open In Colab\"/></a>"
      ]
    },
    {
      "metadata": {
        "id": "auHiLcxwybpk",
        "colab_type": "code",
        "colab": {}
      },
      "cell_type": "code",
      "source": [
        "import logging\n",
        "import logging\n",
        "logging.basicConfig(format='%(asctime)s - %(name)s - %(levelname)s - %(message)s', level=logging.INFO)"
      ],
      "execution_count": 0,
      "outputs": []
    },
    {
      "metadata": {
        "id": "XC4gd9cWybps",
        "colab_type": "code",
        "colab": {}
      },
      "cell_type": "code",
      "source": [
        "import gensim\n",
        "import os\n",
        "import collections\n",
        "import smart_open\n",
        "import random"
      ],
      "execution_count": 0,
      "outputs": []
    },
    {
      "metadata": {
        "id": "qbh5au44ybpw",
        "colab_type": "code",
        "colab": {},
        "outputId": "9e99dcd6-01ac-4173-d66a-12c54982f1d8"
      },
      "cell_type": "code",
      "source": [
        "gensim.__path__[0]"
      ],
      "execution_count": 0,
      "outputs": [
        {
          "output_type": "execute_result",
          "data": {
            "text/plain": [
              "'/home/phan.huy.hoang/.local/lib/python3.5/site-packages/gensim'"
            ]
          },
          "metadata": {
            "tags": []
          },
          "execution_count": 4
        }
      ]
    },
    {
      "metadata": {
        "id": "NWZoBDHTybp1",
        "colab_type": "code",
        "colab": {},
        "outputId": "de1f1c67-bcc9-4f85-df12-7615cd5d374d"
      },
      "cell_type": "code",
      "source": [
        "os.path.exists(os.path.join(gensim.__path__[0], 'test', 'test_data'))"
      ],
      "execution_count": 0,
      "outputs": [
        {
          "output_type": "execute_result",
          "data": {
            "text/plain": [
              "True"
            ]
          },
          "metadata": {
            "tags": []
          },
          "execution_count": 5
        }
      ]
    },
    {
      "metadata": {
        "id": "G7hqG-hEybp5",
        "colab_type": "code",
        "colab": {}
      },
      "cell_type": "code",
      "source": [
        "test_data_dir = '{}'.format(os.sep).join([gensim.__path__[0], 'test', 'test_data'])\n",
        "lee_train_file = test_data_dir + os.sep + 'lee_background.cor'\n",
        "lee_test_file = test_data_dir + os.sep + 'lee.cor'"
      ],
      "execution_count": 0,
      "outputs": []
    },
    {
      "metadata": {
        "id": "Mw-2Zp14ybp7",
        "colab_type": "code",
        "colab": {},
        "outputId": "fe3297f4-d244-4d98-f7ec-2c7edde75a6b"
      },
      "cell_type": "code",
      "source": [
        "os.path.exists(lee_train_file), os.path.exists(lee_test_file)"
      ],
      "execution_count": 0,
      "outputs": [
        {
          "output_type": "execute_result",
          "data": {
            "text/plain": [
              "(True, True)"
            ]
          },
          "metadata": {
            "tags": []
          },
          "execution_count": 10
        }
      ]
    },
    {
      "metadata": {
        "id": "EqiTdGe-ybp_",
        "colab_type": "code",
        "colab": {},
        "outputId": "945d7036-05ba-4497-c8bb-005048c92fe6"
      },
      "cell_type": "code",
      "source": [
        "!head -n 1 $lee_train_file"
      ],
      "execution_count": 0,
      "outputs": [
        {
          "output_type": "stream",
          "text": [
            "Hundreds of people have been forced to vacate their homes in the Southern Highlands of New South Wales as strong winds today pushed a huge bushfire towards the town of Hill Top. A new blaze near Goulburn, south-west of Sydney, has forced the closure of the Hume Highway. At about 4:00pm AEDT, a marked deterioration in the weather as a storm cell moved east across the Blue Mountains forced authorities to make a decision to evacuate people from homes in outlying streets at Hill Top in the New South Wales southern highlands. An estimated 500 residents have left their homes for nearby Mittagong. The New South Wales Rural Fire Service says the weather conditions which caused the fire to burn in a finger formation have now eased and about 60 fire units in and around Hill Top are optimistic of defending all properties. As more than 100 blazes burn on New Year's Eve in New South Wales, fire crews have been called to new fire at Gunning, south of Goulburn. While few details are available at this stage, fire authorities says it has closed the Hume Highway in both directions. Meanwhile, a new fire in Sydney's west is no longer threatening properties in the Cranebrook area. Rain has fallen in some parts of the Illawarra, Sydney, the Hunter Valley and the north coast. But the Bureau of Meteorology's Claire Richards says the rain has done little to ease any of the hundred fires still burning across the state. \"The falls have been quite isolated in those areas and generally the falls have been less than about five millimetres,\" she said. \"In some places really not significant at all, less than a millimetre, so there hasn't been much relief as far as rain is concerned. \"In fact, they've probably hampered the efforts of the firefighters more because of the wind gusts that are associated with those thunderstorms.\" \r\n"
          ],
          "name": "stdout"
        }
      ]
    },
    {
      "metadata": {
        "id": "stoLNbucybqD",
        "colab_type": "code",
        "colab": {},
        "outputId": "3631ce73-e11b-453c-e3f8-14eeda19d939"
      },
      "cell_type": "code",
      "source": [
        "!wc -l $lee_train_file"
      ],
      "execution_count": 0,
      "outputs": [
        {
          "output_type": "stream",
          "text": [
            "299 /home/phan.huy.hoang/.local/lib/python3.5/site-packages/gensim/test/test_data/lee_background.cor\r\n"
          ],
          "name": "stdout"
        }
      ]
    },
    {
      "metadata": {
        "id": "qp3EEMH3ybqF",
        "colab_type": "code",
        "colab": {},
        "outputId": "de78cb14-3d67-46c2-c168-23c42b620e7a"
      },
      "cell_type": "code",
      "source": [
        "!wc -l $lee_test_file"
      ],
      "execution_count": 0,
      "outputs": [
        {
          "output_type": "stream",
          "text": [
            "49 /home/phan.huy.hoang/.local/lib/python3.5/site-packages/gensim/test/test_data/lee.cor\r\n"
          ],
          "name": "stdout"
        }
      ]
    },
    {
      "metadata": {
        "id": "Lpc63fYcybqK",
        "colab_type": "code",
        "colab": {}
      },
      "cell_type": "code",
      "source": [
        "def read_corpus(fname, tokens_only=False):\n",
        "    with smart_open.smart_open(fname, encoding=\"iso-8859-1\") as f:\n",
        "        for i, line in enumerate(f):\n",
        "            if tokens_only:\n",
        "                yield gensim.utils.simple_preprocess(line)\n",
        "            else:\n",
        "                # For training data, add tags\n",
        "                yield gensim.models.doc2vec.TaggedDocument(gensim.utils.simple_preprocess(line), [i])"
      ],
      "execution_count": 0,
      "outputs": []
    },
    {
      "metadata": {
        "id": "JGnGDX_hybqP",
        "colab_type": "code",
        "colab": {}
      },
      "cell_type": "code",
      "source": [
        "train_corpus = list(read_corpus(lee_train_file))"
      ],
      "execution_count": 0,
      "outputs": []
    },
    {
      "metadata": {
        "id": "aa_ErwnKybqR",
        "colab_type": "code",
        "colab": {}
      },
      "cell_type": "code",
      "source": [
        "test_corpus = list(read_corpus(lee_test_file, tokens_only=True))"
      ],
      "execution_count": 0,
      "outputs": []
    },
    {
      "metadata": {
        "id": "HMiTo01mybqV",
        "colab_type": "code",
        "colab": {},
        "outputId": "65cd4763-363a-4443-9667-becc63a9f190"
      },
      "cell_type": "code",
      "source": [
        "train_corpus[0]"
      ],
      "execution_count": 0,
      "outputs": [
        {
          "output_type": "execute_result",
          "data": {
            "text/plain": [
              "TaggedDocument(words=['hundreds', 'of', 'people', 'have', 'been', 'forced', 'to', 'vacate', 'their', 'homes', 'in', 'the', 'southern', 'highlands', 'of', 'new', 'south', 'wales', 'as', 'strong', 'winds', 'today', 'pushed', 'huge', 'bushfire', 'towards', 'the', 'town', 'of', 'hill', 'top', 'new', 'blaze', 'near', 'goulburn', 'south', 'west', 'of', 'sydney', 'has', 'forced', 'the', 'closure', 'of', 'the', 'hume', 'highway', 'at', 'about', 'pm', 'aedt', 'marked', 'deterioration', 'in', 'the', 'weather', 'as', 'storm', 'cell', 'moved', 'east', 'across', 'the', 'blue', 'mountains', 'forced', 'authorities', 'to', 'make', 'decision', 'to', 'evacuate', 'people', 'from', 'homes', 'in', 'outlying', 'streets', 'at', 'hill', 'top', 'in', 'the', 'new', 'south', 'wales', 'southern', 'highlands', 'an', 'estimated', 'residents', 'have', 'left', 'their', 'homes', 'for', 'nearby', 'mittagong', 'the', 'new', 'south', 'wales', 'rural', 'fire', 'service', 'says', 'the', 'weather', 'conditions', 'which', 'caused', 'the', 'fire', 'to', 'burn', 'in', 'finger', 'formation', 'have', 'now', 'eased', 'and', 'about', 'fire', 'units', 'in', 'and', 'around', 'hill', 'top', 'are', 'optimistic', 'of', 'defending', 'all', 'properties', 'as', 'more', 'than', 'blazes', 'burn', 'on', 'new', 'year', 'eve', 'in', 'new', 'south', 'wales', 'fire', 'crews', 'have', 'been', 'called', 'to', 'new', 'fire', 'at', 'gunning', 'south', 'of', 'goulburn', 'while', 'few', 'details', 'are', 'available', 'at', 'this', 'stage', 'fire', 'authorities', 'says', 'it', 'has', 'closed', 'the', 'hume', 'highway', 'in', 'both', 'directions', 'meanwhile', 'new', 'fire', 'in', 'sydney', 'west', 'is', 'no', 'longer', 'threatening', 'properties', 'in', 'the', 'cranebrook', 'area', 'rain', 'has', 'fallen', 'in', 'some', 'parts', 'of', 'the', 'illawarra', 'sydney', 'the', 'hunter', 'valley', 'and', 'the', 'north', 'coast', 'but', 'the', 'bureau', 'of', 'meteorology', 'claire', 'richards', 'says', 'the', 'rain', 'has', 'done', 'little', 'to', 'ease', 'any', 'of', 'the', 'hundred', 'fires', 'still', 'burning', 'across', 'the', 'state', 'the', 'falls', 'have', 'been', 'quite', 'isolated', 'in', 'those', 'areas', 'and', 'generally', 'the', 'falls', 'have', 'been', 'less', 'than', 'about', 'five', 'millimetres', 'she', 'said', 'in', 'some', 'places', 'really', 'not', 'significant', 'at', 'all', 'less', 'than', 'millimetre', 'so', 'there', 'hasn', 'been', 'much', 'relief', 'as', 'far', 'as', 'rain', 'is', 'concerned', 'in', 'fact', 'they', 've', 'probably', 'hampered', 'the', 'efforts', 'of', 'the', 'firefighters', 'more', 'because', 'of', 'the', 'wind', 'gusts', 'that', 'are', 'associated', 'with', 'those', 'thunderstorms'], tags=[0])"
            ]
          },
          "metadata": {
            "tags": []
          },
          "execution_count": 28
        }
      ]
    },
    {
      "metadata": {
        "id": "aksThf8lybqX",
        "colab_type": "code",
        "colab": {},
        "outputId": "34c4397c-248d-439e-9482-b382be44882a"
      },
      "cell_type": "code",
      "source": [
        "test_corpus[0]"
      ],
      "execution_count": 0,
      "outputs": [
        {
          "output_type": "execute_result",
          "data": {
            "text/plain": [
              "['the',\n",
              " 'national',\n",
              " 'executive',\n",
              " 'of',\n",
              " 'the',\n",
              " 'strife',\n",
              " 'torn',\n",
              " 'democrats',\n",
              " 'last',\n",
              " 'night',\n",
              " 'appointed',\n",
              " 'little',\n",
              " 'known',\n",
              " 'west',\n",
              " 'australian',\n",
              " 'senator',\n",
              " 'brian',\n",
              " 'greig',\n",
              " 'as',\n",
              " 'interim',\n",
              " 'leader',\n",
              " 'shock',\n",
              " 'move',\n",
              " 'likely',\n",
              " 'to',\n",
              " 'provoke',\n",
              " 'further',\n",
              " 'conflict',\n",
              " 'between',\n",
              " 'the',\n",
              " 'party',\n",
              " 'senators',\n",
              " 'and',\n",
              " 'its',\n",
              " 'organisation',\n",
              " 'in',\n",
              " 'move',\n",
              " 'to',\n",
              " 'reassert',\n",
              " 'control',\n",
              " 'over',\n",
              " 'the',\n",
              " 'party',\n",
              " 'seven',\n",
              " 'senators',\n",
              " 'the',\n",
              " 'national',\n",
              " 'executive',\n",
              " 'last',\n",
              " 'night',\n",
              " 'rejected',\n",
              " 'aden',\n",
              " 'ridgeway',\n",
              " 'bid',\n",
              " 'to',\n",
              " 'become',\n",
              " 'interim',\n",
              " 'leader',\n",
              " 'in',\n",
              " 'favour',\n",
              " 'of',\n",
              " 'senator',\n",
              " 'greig',\n",
              " 'supporter',\n",
              " 'of',\n",
              " 'deposed',\n",
              " 'leader',\n",
              " 'natasha',\n",
              " 'stott',\n",
              " 'despoja',\n",
              " 'and',\n",
              " 'an',\n",
              " 'outspoken',\n",
              " 'gay',\n",
              " 'rights',\n",
              " 'activist']"
            ]
          },
          "metadata": {
            "tags": []
          },
          "execution_count": 29
        }
      ]
    },
    {
      "metadata": {
        "id": "XH0N3-R0ybqZ",
        "colab_type": "text"
      },
      "cell_type": "markdown",
      "source": [
        "### Training the Model"
      ]
    },
    {
      "metadata": {
        "id": "IO3_c3n_ybqa",
        "colab_type": "code",
        "colab": {},
        "outputId": "8471af98-2d2c-4e75-cfcc-93d700a3f93c"
      },
      "cell_type": "code",
      "source": [
        "model = gensim.models.doc2vec.Doc2Vec(\n",
        "    vector_size=50, min_count=2, epochs=40\n",
        ")"
      ],
      "execution_count": 0,
      "outputs": [
        {
          "output_type": "stream",
          "text": [
            "2018-11-06 13:38:52,706 - gensim.models.base_any2vec - WARNING - consider setting layer size to a multiple of 4 for greater performance\n"
          ],
          "name": "stderr"
        }
      ]
    },
    {
      "metadata": {
        "id": "kteI3zCqybqe",
        "colab_type": "text"
      },
      "cell_type": "markdown",
      "source": [
        "### Build a Vocabulary"
      ]
    },
    {
      "metadata": {
        "id": "bwdKORqyybqf",
        "colab_type": "code",
        "colab": {},
        "outputId": "7001b136-961e-4d14-a06f-7b728e71ea4a"
      },
      "cell_type": "code",
      "source": [
        "model.build_vocab(train_corpus)"
      ],
      "execution_count": 0,
      "outputs": [
        {
          "output_type": "stream",
          "text": [
            "2018-11-06 13:39:08,746 - gensim.models.doc2vec - INFO - collecting all words and their counts\n",
            "2018-11-06 13:39:08,751 - gensim.models.doc2vec - INFO - PROGRESS: at example #0, processed 0 words (0/s), 0 word types, 0 tags\n",
            "2018-11-06 13:39:08,776 - gensim.models.doc2vec - INFO - collected 6981 word types and 300 unique tags from a corpus of 300 examples and 58152 words\n",
            "2018-11-06 13:39:08,777 - gensim.models.word2vec - INFO - Loading a fresh vocabulary\n",
            "2018-11-06 13:39:08,789 - gensim.models.word2vec - INFO - effective_min_count=2 retains 3955 unique words (56% of original 6981, drops 3026)\n",
            "2018-11-06 13:39:08,790 - gensim.models.word2vec - INFO - effective_min_count=2 leaves 55126 word corpus (94% of original 58152, drops 3026)\n",
            "2018-11-06 13:39:08,798 - gensim.models.word2vec - INFO - deleting the raw counts dictionary of 6981 items\n",
            "2018-11-06 13:39:08,799 - gensim.models.word2vec - INFO - sample=0.001 downsamples 46 most-common words\n",
            "2018-11-06 13:39:08,799 - gensim.models.word2vec - INFO - downsampling leaves estimated 42390 word corpus (76.9% of prior 55126)\n",
            "2018-11-06 13:39:08,809 - gensim.models.base_any2vec - INFO - estimated required memory for 3955 words and 50 dimensions: 3619500 bytes\n",
            "2018-11-06 13:39:08,810 - gensim.models.word2vec - INFO - resetting layer weights\n"
          ],
          "name": "stderr"
        }
      ]
    },
    {
      "metadata": {
        "id": "IGxEsm2Fybqh",
        "colab_type": "code",
        "colab": {},
        "outputId": "ee7da9bc-8792-4068-f491-ce0d7f441b17"
      },
      "cell_type": "code",
      "source": [
        "len(model.wv.vocab)"
      ],
      "execution_count": 0,
      "outputs": [
        {
          "output_type": "execute_result",
          "data": {
            "text/plain": [
              "3955"
            ]
          },
          "metadata": {
            "tags": []
          },
          "execution_count": 33
        }
      ]
    },
    {
      "metadata": {
        "id": "cluu-aAwybqk",
        "colab_type": "code",
        "colab": {}
      },
      "cell_type": "code",
      "source": [
        "out = model.wv.vocab['penalty']"
      ],
      "execution_count": 0,
      "outputs": []
    },
    {
      "metadata": {
        "id": "wRMPIUBRybqm",
        "colab_type": "code",
        "colab": {},
        "outputId": "774d5ea3-8770-4f55-a40d-8321f47ad996"
      },
      "cell_type": "code",
      "source": [
        "out.index"
      ],
      "execution_count": 0,
      "outputs": [
        {
          "output_type": "execute_result",
          "data": {
            "text/plain": [
              "1934"
            ]
          },
          "metadata": {
            "tags": []
          },
          "execution_count": 36
        }
      ]
    },
    {
      "metadata": {
        "id": "Kt9KwGQiybqq",
        "colab_type": "code",
        "colab": {},
        "outputId": "8dba1a37-1267-4997-b803-597cfe20f4ba"
      },
      "cell_type": "code",
      "source": [
        "out.count"
      ],
      "execution_count": 0,
      "outputs": [
        {
          "output_type": "execute_result",
          "data": {
            "text/plain": [
              "4"
            ]
          },
          "metadata": {
            "tags": []
          },
          "execution_count": 37
        }
      ]
    },
    {
      "metadata": {
        "id": "xntUXCOLybqs",
        "colab_type": "code",
        "colab": {},
        "outputId": "3fca68be-bb79-4a1c-eeaa-b41a00eea3b5"
      },
      "cell_type": "code",
      "source": [
        "out.sample_int"
      ],
      "execution_count": 0,
      "outputs": [
        {
          "output_type": "execute_result",
          "data": {
            "text/plain": [
              "4294967296"
            ]
          },
          "metadata": {
            "tags": []
          },
          "execution_count": 38
        }
      ]
    },
    {
      "metadata": {
        "id": "5gzdHsvcybqv",
        "colab_type": "code",
        "colab": {},
        "outputId": "efe44581-2178-450d-f4af-57207707a3b9"
      },
      "cell_type": "code",
      "source": [
        "model.wv.vocab['penalty'].count"
      ],
      "execution_count": 0,
      "outputs": [
        {
          "output_type": "execute_result",
          "data": {
            "text/plain": [
              "4"
            ]
          },
          "metadata": {
            "tags": []
          },
          "execution_count": 39
        }
      ]
    },
    {
      "metadata": {
        "id": "v5zmXTxTybqz",
        "colab_type": "code",
        "colab": {},
        "outputId": "17b68897-d80f-4d47-83e2-393c960c7c2c"
      },
      "cell_type": "code",
      "source": [
        "%time model.train(train_corpus, total_examples=model.corpus_count, epochs=model.epochs)"
      ],
      "execution_count": 0,
      "outputs": [
        {
          "output_type": "stream",
          "text": [
            "2018-11-06 13:40:57,535 - gensim.models.base_any2vec - INFO - training model with 3 workers on 3955 vocabulary and 50 features, using sg=0 hs=0 sample=0.001 negative=5 window=5\n",
            "2018-11-06 13:40:57,565 - gensim.models.base_any2vec - INFO - worker thread finished; awaiting finish of 2 more threads\n",
            "2018-11-06 13:40:57,565 - gensim.models.base_any2vec - INFO - worker thread finished; awaiting finish of 1 more threads\n",
            "2018-11-06 13:40:57,566 - gensim.models.base_any2vec - INFO - worker thread finished; awaiting finish of 0 more threads\n",
            "2018-11-06 13:40:57,566 - gensim.models.base_any2vec - INFO - EPOCH - 1 : training on 58152 raw words (42700 effective words) took 0.0s, 1443896 effective words/s\n",
            "2018-11-06 13:40:57,604 - gensim.models.base_any2vec - INFO - worker thread finished; awaiting finish of 2 more threads\n",
            "2018-11-06 13:40:57,606 - gensim.models.base_any2vec - INFO - worker thread finished; awaiting finish of 1 more threads\n",
            "2018-11-06 13:40:57,606 - gensim.models.base_any2vec - INFO - worker thread finished; awaiting finish of 0 more threads\n",
            "2018-11-06 13:40:57,607 - gensim.models.base_any2vec - INFO - EPOCH - 2 : training on 58152 raw words (42671 effective words) took 0.0s, 1096485 effective words/s\n",
            "2018-11-06 13:40:57,640 - gensim.models.base_any2vec - INFO - worker thread finished; awaiting finish of 2 more threads\n",
            "2018-11-06 13:40:57,641 - gensim.models.base_any2vec - INFO - worker thread finished; awaiting finish of 1 more threads\n",
            "2018-11-06 13:40:57,642 - gensim.models.base_any2vec - INFO - worker thread finished; awaiting finish of 0 more threads\n",
            "2018-11-06 13:40:57,642 - gensim.models.base_any2vec - INFO - EPOCH - 3 : training on 58152 raw words (42647 effective words) took 0.0s, 1277560 effective words/s\n",
            "2018-11-06 13:40:57,672 - gensim.models.base_any2vec - INFO - worker thread finished; awaiting finish of 2 more threads\n",
            "2018-11-06 13:40:57,673 - gensim.models.base_any2vec - INFO - worker thread finished; awaiting finish of 1 more threads\n",
            "2018-11-06 13:40:57,675 - gensim.models.base_any2vec - INFO - worker thread finished; awaiting finish of 0 more threads\n",
            "2018-11-06 13:40:57,676 - gensim.models.base_any2vec - INFO - EPOCH - 4 : training on 58152 raw words (42709 effective words) took 0.0s, 1335691 effective words/s\n",
            "2018-11-06 13:40:57,707 - gensim.models.base_any2vec - INFO - worker thread finished; awaiting finish of 2 more threads\n",
            "2018-11-06 13:40:57,708 - gensim.models.base_any2vec - INFO - worker thread finished; awaiting finish of 1 more threads\n",
            "2018-11-06 13:40:57,709 - gensim.models.base_any2vec - INFO - worker thread finished; awaiting finish of 0 more threads\n",
            "2018-11-06 13:40:57,710 - gensim.models.base_any2vec - INFO - EPOCH - 5 : training on 58152 raw words (42811 effective words) took 0.0s, 1320321 effective words/s\n",
            "2018-11-06 13:40:57,739 - gensim.models.base_any2vec - INFO - worker thread finished; awaiting finish of 2 more threads\n",
            "2018-11-06 13:40:57,742 - gensim.models.base_any2vec - INFO - worker thread finished; awaiting finish of 1 more threads\n",
            "2018-11-06 13:40:57,743 - gensim.models.base_any2vec - INFO - worker thread finished; awaiting finish of 0 more threads\n",
            "2018-11-06 13:40:57,743 - gensim.models.base_any2vec - INFO - EPOCH - 6 : training on 58152 raw words (42717 effective words) took 0.0s, 1339020 effective words/s\n",
            "2018-11-06 13:40:57,775 - gensim.models.base_any2vec - INFO - worker thread finished; awaiting finish of 2 more threads\n",
            "2018-11-06 13:40:57,776 - gensim.models.base_any2vec - INFO - worker thread finished; awaiting finish of 1 more threads\n",
            "2018-11-06 13:40:57,777 - gensim.models.base_any2vec - INFO - worker thread finished; awaiting finish of 0 more threads\n",
            "2018-11-06 13:40:57,777 - gensim.models.base_any2vec - INFO - EPOCH - 7 : training on 58152 raw words (42530 effective words) took 0.0s, 1352089 effective words/s\n",
            "2018-11-06 13:40:57,803 - gensim.models.base_any2vec - INFO - worker thread finished; awaiting finish of 2 more threads\n",
            "2018-11-06 13:40:57,804 - gensim.models.base_any2vec - INFO - worker thread finished; awaiting finish of 1 more threads\n",
            "2018-11-06 13:40:57,804 - gensim.models.base_any2vec - INFO - worker thread finished; awaiting finish of 0 more threads\n",
            "2018-11-06 13:40:57,805 - gensim.models.base_any2vec - INFO - EPOCH - 8 : training on 58152 raw words (42627 effective words) took 0.0s, 1625869 effective words/s\n",
            "2018-11-06 13:40:57,838 - gensim.models.base_any2vec - INFO - worker thread finished; awaiting finish of 2 more threads\n",
            "2018-11-06 13:40:57,839 - gensim.models.base_any2vec - INFO - worker thread finished; awaiting finish of 1 more threads\n",
            "2018-11-06 13:40:57,840 - gensim.models.base_any2vec - INFO - worker thread finished; awaiting finish of 0 more threads\n",
            "2018-11-06 13:40:57,840 - gensim.models.base_any2vec - INFO - EPOCH - 9 : training on 58152 raw words (42668 effective words) took 0.0s, 1240058 effective words/s\n",
            "2018-11-06 13:40:57,869 - gensim.models.base_any2vec - INFO - worker thread finished; awaiting finish of 2 more threads\n",
            "2018-11-06 13:40:57,871 - gensim.models.base_any2vec - INFO - worker thread finished; awaiting finish of 1 more threads\n",
            "2018-11-06 13:40:57,871 - gensim.models.base_any2vec - INFO - worker thread finished; awaiting finish of 0 more threads\n",
            "2018-11-06 13:40:57,871 - gensim.models.base_any2vec - INFO - EPOCH - 10 : training on 58152 raw words (42700 effective words) took 0.0s, 1438428 effective words/s\n",
            "2018-11-06 13:40:57,897 - gensim.models.base_any2vec - INFO - worker thread finished; awaiting finish of 2 more threads\n",
            "2018-11-06 13:40:57,898 - gensim.models.base_any2vec - INFO - worker thread finished; awaiting finish of 1 more threads\n",
            "2018-11-06 13:40:57,900 - gensim.models.base_any2vec - INFO - worker thread finished; awaiting finish of 0 more threads\n",
            "2018-11-06 13:40:57,901 - gensim.models.base_any2vec - INFO - EPOCH - 11 : training on 58152 raw words (42683 effective words) took 0.0s, 1526908 effective words/s\n",
            "2018-11-06 13:40:57,932 - gensim.models.base_any2vec - INFO - worker thread finished; awaiting finish of 2 more threads\n",
            "2018-11-06 13:40:57,934 - gensim.models.base_any2vec - INFO - worker thread finished; awaiting finish of 1 more threads\n",
            "2018-11-06 13:40:57,935 - gensim.models.base_any2vec - INFO - worker thread finished; awaiting finish of 0 more threads\n",
            "2018-11-06 13:40:57,935 - gensim.models.base_any2vec - INFO - EPOCH - 12 : training on 58152 raw words (42584 effective words) took 0.0s, 1318322 effective words/s\n",
            "2018-11-06 13:40:57,965 - gensim.models.base_any2vec - INFO - worker thread finished; awaiting finish of 2 more threads\n",
            "2018-11-06 13:40:57,967 - gensim.models.base_any2vec - INFO - worker thread finished; awaiting finish of 1 more threads\n",
            "2018-11-06 13:40:57,967 - gensim.models.base_any2vec - INFO - worker thread finished; awaiting finish of 0 more threads\n",
            "2018-11-06 13:40:57,967 - gensim.models.base_any2vec - INFO - EPOCH - 13 : training on 58152 raw words (42828 effective words) took 0.0s, 1433255 effective words/s\n",
            "2018-11-06 13:40:57,999 - gensim.models.base_any2vec - INFO - worker thread finished; awaiting finish of 2 more threads\n",
            "2018-11-06 13:40:58,000 - gensim.models.base_any2vec - INFO - worker thread finished; awaiting finish of 1 more threads\n",
            "2018-11-06 13:40:58,001 - gensim.models.base_any2vec - INFO - worker thread finished; awaiting finish of 0 more threads\n",
            "2018-11-06 13:40:58,001 - gensim.models.base_any2vec - INFO - EPOCH - 14 : training on 58152 raw words (42727 effective words) took 0.0s, 1319520 effective words/s\n",
            "2018-11-06 13:40:58,031 - gensim.models.base_any2vec - INFO - worker thread finished; awaiting finish of 2 more threads\n",
            "2018-11-06 13:40:58,034 - gensim.models.base_any2vec - INFO - worker thread finished; awaiting finish of 1 more threads\n",
            "2018-11-06 13:40:58,035 - gensim.models.base_any2vec - INFO - worker thread finished; awaiting finish of 0 more threads\n",
            "2018-11-06 13:40:58,035 - gensim.models.base_any2vec - INFO - EPOCH - 15 : training on 58152 raw words (42650 effective words) took 0.0s, 1314031 effective words/s\n",
            "2018-11-06 13:40:58,062 - gensim.models.base_any2vec - INFO - worker thread finished; awaiting finish of 2 more threads\n",
            "2018-11-06 13:40:58,064 - gensim.models.base_any2vec - INFO - worker thread finished; awaiting finish of 1 more threads\n"
          ],
          "name": "stderr"
        },
        {
          "output_type": "stream",
          "text": [
            "2018-11-06 13:40:58,065 - gensim.models.base_any2vec - INFO - worker thread finished; awaiting finish of 0 more threads\n",
            "2018-11-06 13:40:58,066 - gensim.models.base_any2vec - INFO - EPOCH - 16 : training on 58152 raw words (42695 effective words) took 0.0s, 1472572 effective words/s\n",
            "2018-11-06 13:40:58,093 - gensim.models.base_any2vec - INFO - worker thread finished; awaiting finish of 2 more threads\n",
            "2018-11-06 13:40:58,094 - gensim.models.base_any2vec - INFO - worker thread finished; awaiting finish of 1 more threads\n",
            "2018-11-06 13:40:58,094 - gensim.models.base_any2vec - INFO - worker thread finished; awaiting finish of 0 more threads\n",
            "2018-11-06 13:40:58,095 - gensim.models.base_any2vec - INFO - EPOCH - 17 : training on 58152 raw words (42731 effective words) took 0.0s, 1589026 effective words/s\n",
            "2018-11-06 13:40:58,124 - gensim.models.base_any2vec - INFO - worker thread finished; awaiting finish of 2 more threads\n",
            "2018-11-06 13:40:58,125 - gensim.models.base_any2vec - INFO - worker thread finished; awaiting finish of 1 more threads\n",
            "2018-11-06 13:40:58,127 - gensim.models.base_any2vec - INFO - worker thread finished; awaiting finish of 0 more threads\n",
            "2018-11-06 13:40:58,127 - gensim.models.base_any2vec - INFO - EPOCH - 18 : training on 58152 raw words (42752 effective words) took 0.0s, 1384879 effective words/s\n",
            "2018-11-06 13:40:58,155 - gensim.models.base_any2vec - INFO - worker thread finished; awaiting finish of 2 more threads\n",
            "2018-11-06 13:40:58,155 - gensim.models.base_any2vec - INFO - worker thread finished; awaiting finish of 1 more threads\n",
            "2018-11-06 13:40:58,156 - gensim.models.base_any2vec - INFO - worker thread finished; awaiting finish of 0 more threads\n",
            "2018-11-06 13:40:58,156 - gensim.models.base_any2vec - INFO - EPOCH - 19 : training on 58152 raw words (42578 effective words) took 0.0s, 1502758 effective words/s\n",
            "2018-11-06 13:40:58,182 - gensim.models.base_any2vec - INFO - worker thread finished; awaiting finish of 2 more threads\n",
            "2018-11-06 13:40:58,183 - gensim.models.base_any2vec - INFO - worker thread finished; awaiting finish of 1 more threads\n",
            "2018-11-06 13:40:58,184 - gensim.models.base_any2vec - INFO - worker thread finished; awaiting finish of 0 more threads\n",
            "2018-11-06 13:40:58,184 - gensim.models.base_any2vec - INFO - EPOCH - 20 : training on 58152 raw words (42768 effective words) took 0.0s, 1634732 effective words/s\n",
            "2018-11-06 13:40:58,214 - gensim.models.base_any2vec - INFO - worker thread finished; awaiting finish of 2 more threads\n",
            "2018-11-06 13:40:58,215 - gensim.models.base_any2vec - INFO - worker thread finished; awaiting finish of 1 more threads\n",
            "2018-11-06 13:40:58,216 - gensim.models.base_any2vec - INFO - worker thread finished; awaiting finish of 0 more threads\n",
            "2018-11-06 13:40:58,217 - gensim.models.base_any2vec - INFO - EPOCH - 21 : training on 58152 raw words (42776 effective words) took 0.0s, 1374968 effective words/s\n",
            "2018-11-06 13:40:58,244 - gensim.models.base_any2vec - INFO - worker thread finished; awaiting finish of 2 more threads\n",
            "2018-11-06 13:40:58,245 - gensim.models.base_any2vec - INFO - worker thread finished; awaiting finish of 1 more threads\n",
            "2018-11-06 13:40:58,245 - gensim.models.base_any2vec - INFO - worker thread finished; awaiting finish of 0 more threads\n",
            "2018-11-06 13:40:58,246 - gensim.models.base_any2vec - INFO - EPOCH - 22 : training on 58152 raw words (42724 effective words) took 0.0s, 1618620 effective words/s\n",
            "2018-11-06 13:40:58,274 - gensim.models.base_any2vec - INFO - worker thread finished; awaiting finish of 2 more threads\n",
            "2018-11-06 13:40:58,275 - gensim.models.base_any2vec - INFO - worker thread finished; awaiting finish of 1 more threads\n",
            "2018-11-06 13:40:58,275 - gensim.models.base_any2vec - INFO - worker thread finished; awaiting finish of 0 more threads\n",
            "2018-11-06 13:40:58,276 - gensim.models.base_any2vec - INFO - EPOCH - 23 : training on 58152 raw words (42672 effective words) took 0.0s, 1481951 effective words/s\n",
            "2018-11-06 13:40:58,307 - gensim.models.base_any2vec - INFO - worker thread finished; awaiting finish of 2 more threads\n",
            "2018-11-06 13:40:58,308 - gensim.models.base_any2vec - INFO - worker thread finished; awaiting finish of 1 more threads\n",
            "2018-11-06 13:40:58,308 - gensim.models.base_any2vec - INFO - worker thread finished; awaiting finish of 0 more threads\n",
            "2018-11-06 13:40:58,309 - gensim.models.base_any2vec - INFO - EPOCH - 24 : training on 58152 raw words (42752 effective words) took 0.0s, 1375132 effective words/s\n",
            "2018-11-06 13:40:58,335 - gensim.models.base_any2vec - INFO - worker thread finished; awaiting finish of 2 more threads\n",
            "2018-11-06 13:40:58,336 - gensim.models.base_any2vec - INFO - worker thread finished; awaiting finish of 1 more threads\n",
            "2018-11-06 13:40:58,336 - gensim.models.base_any2vec - INFO - worker thread finished; awaiting finish of 0 more threads\n",
            "2018-11-06 13:40:58,337 - gensim.models.base_any2vec - INFO - EPOCH - 25 : training on 58152 raw words (42648 effective words) took 0.0s, 1602498 effective words/s\n",
            "2018-11-06 13:40:58,365 - gensim.models.base_any2vec - INFO - worker thread finished; awaiting finish of 2 more threads\n",
            "2018-11-06 13:40:58,366 - gensim.models.base_any2vec - INFO - worker thread finished; awaiting finish of 1 more threads\n",
            "2018-11-06 13:40:58,367 - gensim.models.base_any2vec - INFO - worker thread finished; awaiting finish of 0 more threads\n",
            "2018-11-06 13:40:58,367 - gensim.models.base_any2vec - INFO - EPOCH - 26 : training on 58152 raw words (42718 effective words) took 0.0s, 1481416 effective words/s\n",
            "2018-11-06 13:40:58,397 - gensim.models.base_any2vec - INFO - worker thread finished; awaiting finish of 2 more threads\n",
            "2018-11-06 13:40:58,398 - gensim.models.base_any2vec - INFO - worker thread finished; awaiting finish of 1 more threads\n",
            "2018-11-06 13:40:58,399 - gensim.models.base_any2vec - INFO - worker thread finished; awaiting finish of 0 more threads\n",
            "2018-11-06 13:40:58,400 - gensim.models.base_any2vec - INFO - EPOCH - 27 : training on 58152 raw words (42827 effective words) took 0.0s, 1364317 effective words/s\n",
            "2018-11-06 13:40:58,429 - gensim.models.base_any2vec - INFO - worker thread finished; awaiting finish of 2 more threads\n",
            "2018-11-06 13:40:58,430 - gensim.models.base_any2vec - INFO - worker thread finished; awaiting finish of 1 more threads\n",
            "2018-11-06 13:40:58,431 - gensim.models.base_any2vec - INFO - worker thread finished; awaiting finish of 0 more threads\n",
            "2018-11-06 13:40:58,431 - gensim.models.base_any2vec - INFO - EPOCH - 28 : training on 58152 raw words (42693 effective words) took 0.0s, 1528511 effective words/s\n",
            "2018-11-06 13:40:58,459 - gensim.models.base_any2vec - INFO - worker thread finished; awaiting finish of 2 more threads\n",
            "2018-11-06 13:40:58,461 - gensim.models.base_any2vec - INFO - worker thread finished; awaiting finish of 1 more threads\n",
            "2018-11-06 13:40:58,462 - gensim.models.base_any2vec - INFO - worker thread finished; awaiting finish of 0 more threads\n",
            "2018-11-06 13:40:58,462 - gensim.models.base_any2vec - INFO - EPOCH - 29 : training on 58152 raw words (42721 effective words) took 0.0s, 1474365 effective words/s\n",
            "2018-11-06 13:40:58,491 - gensim.models.base_any2vec - INFO - worker thread finished; awaiting finish of 2 more threads\n",
            "2018-11-06 13:40:58,492 - gensim.models.base_any2vec - INFO - worker thread finished; awaiting finish of 1 more threads\n",
            "2018-11-06 13:40:58,493 - gensim.models.base_any2vec - INFO - worker thread finished; awaiting finish of 0 more threads\n",
            "2018-11-06 13:40:58,493 - gensim.models.base_any2vec - INFO - EPOCH - 30 : training on 58152 raw words (42835 effective words) took 0.0s, 1432370 effective words/s\n",
            "2018-11-06 13:40:58,519 - gensim.models.base_any2vec - INFO - worker thread finished; awaiting finish of 2 more threads\n",
            "2018-11-06 13:40:58,520 - gensim.models.base_any2vec - INFO - worker thread finished; awaiting finish of 1 more threads\n",
            "2018-11-06 13:40:58,521 - gensim.models.base_any2vec - INFO - worker thread finished; awaiting finish of 0 more threads\n",
            "2018-11-06 13:40:58,521 - gensim.models.base_any2vec - INFO - EPOCH - 31 : training on 58152 raw words (42792 effective words) took 0.0s, 1605167 effective words/s\n",
            "2018-11-06 13:40:58,550 - gensim.models.base_any2vec - INFO - worker thread finished; awaiting finish of 2 more threads\n"
          ],
          "name": "stderr"
        },
        {
          "output_type": "stream",
          "text": [
            "2018-11-06 13:40:58,551 - gensim.models.base_any2vec - INFO - worker thread finished; awaiting finish of 1 more threads\n",
            "2018-11-06 13:40:58,551 - gensim.models.base_any2vec - INFO - worker thread finished; awaiting finish of 0 more threads\n",
            "2018-11-06 13:40:58,551 - gensim.models.base_any2vec - INFO - EPOCH - 32 : training on 58152 raw words (42813 effective words) took 0.0s, 1481239 effective words/s\n",
            "2018-11-06 13:40:58,586 - gensim.models.base_any2vec - INFO - worker thread finished; awaiting finish of 2 more threads\n",
            "2018-11-06 13:40:58,588 - gensim.models.base_any2vec - INFO - worker thread finished; awaiting finish of 1 more threads\n",
            "2018-11-06 13:40:58,589 - gensim.models.base_any2vec - INFO - worker thread finished; awaiting finish of 0 more threads\n",
            "2018-11-06 13:40:58,589 - gensim.models.base_any2vec - INFO - EPOCH - 33 : training on 58152 raw words (42683 effective words) took 0.0s, 1209220 effective words/s\n",
            "2018-11-06 13:40:58,616 - gensim.models.base_any2vec - INFO - worker thread finished; awaiting finish of 2 more threads\n",
            "2018-11-06 13:40:58,618 - gensim.models.base_any2vec - INFO - worker thread finished; awaiting finish of 1 more threads\n",
            "2018-11-06 13:40:58,619 - gensim.models.base_any2vec - INFO - worker thread finished; awaiting finish of 0 more threads\n",
            "2018-11-06 13:40:58,619 - gensim.models.base_any2vec - INFO - EPOCH - 34 : training on 58152 raw words (42875 effective words) took 0.0s, 1478739 effective words/s\n",
            "2018-11-06 13:40:58,655 - gensim.models.base_any2vec - INFO - worker thread finished; awaiting finish of 2 more threads\n",
            "2018-11-06 13:40:58,657 - gensim.models.base_any2vec - INFO - worker thread finished; awaiting finish of 1 more threads\n",
            "2018-11-06 13:40:58,660 - gensim.models.base_any2vec - INFO - worker thread finished; awaiting finish of 0 more threads\n",
            "2018-11-06 13:40:58,660 - gensim.models.base_any2vec - INFO - EPOCH - 35 : training on 58152 raw words (42715 effective words) took 0.0s, 1120792 effective words/s\n",
            "2018-11-06 13:40:58,699 - gensim.models.base_any2vec - INFO - worker thread finished; awaiting finish of 2 more threads\n",
            "2018-11-06 13:40:58,703 - gensim.models.base_any2vec - INFO - worker thread finished; awaiting finish of 1 more threads\n",
            "2018-11-06 13:40:58,705 - gensim.models.base_any2vec - INFO - worker thread finished; awaiting finish of 0 more threads\n",
            "2018-11-06 13:40:58,705 - gensim.models.base_any2vec - INFO - EPOCH - 36 : training on 58152 raw words (42756 effective words) took 0.0s, 990563 effective words/s\n",
            "2018-11-06 13:40:58,739 - gensim.models.base_any2vec - INFO - worker thread finished; awaiting finish of 2 more threads\n",
            "2018-11-06 13:40:58,740 - gensim.models.base_any2vec - INFO - worker thread finished; awaiting finish of 1 more threads\n",
            "2018-11-06 13:40:58,741 - gensim.models.base_any2vec - INFO - worker thread finished; awaiting finish of 0 more threads\n",
            "2018-11-06 13:40:58,742 - gensim.models.base_any2vec - INFO - EPOCH - 37 : training on 58152 raw words (42681 effective words) took 0.0s, 1233831 effective words/s\n",
            "2018-11-06 13:40:58,775 - gensim.models.base_any2vec - INFO - worker thread finished; awaiting finish of 2 more threads\n",
            "2018-11-06 13:40:58,777 - gensim.models.base_any2vec - INFO - worker thread finished; awaiting finish of 1 more threads\n",
            "2018-11-06 13:40:58,782 - gensim.models.base_any2vec - INFO - worker thread finished; awaiting finish of 0 more threads\n",
            "2018-11-06 13:40:58,783 - gensim.models.base_any2vec - INFO - EPOCH - 38 : training on 58152 raw words (42580 effective words) took 0.0s, 1083096 effective words/s\n",
            "2018-11-06 13:40:58,819 - gensim.models.base_any2vec - INFO - worker thread finished; awaiting finish of 2 more threads\n",
            "2018-11-06 13:40:58,821 - gensim.models.base_any2vec - INFO - worker thread finished; awaiting finish of 1 more threads\n",
            "2018-11-06 13:40:58,824 - gensim.models.base_any2vec - INFO - worker thread finished; awaiting finish of 0 more threads\n",
            "2018-11-06 13:40:58,825 - gensim.models.base_any2vec - INFO - EPOCH - 39 : training on 58152 raw words (42572 effective words) took 0.0s, 1106368 effective words/s\n",
            "2018-11-06 13:40:58,857 - gensim.models.base_any2vec - INFO - worker thread finished; awaiting finish of 2 more threads\n",
            "2018-11-06 13:40:58,859 - gensim.models.base_any2vec - INFO - worker thread finished; awaiting finish of 1 more threads\n",
            "2018-11-06 13:40:58,860 - gensim.models.base_any2vec - INFO - worker thread finished; awaiting finish of 0 more threads\n",
            "2018-11-06 13:40:58,860 - gensim.models.base_any2vec - INFO - EPOCH - 40 : training on 58152 raw words (42643 effective words) took 0.0s, 1276019 effective words/s\n",
            "2018-11-06 13:40:58,860 - gensim.models.base_any2vec - INFO - training on a 2326080 raw words (1708252 effective words) took 1.3s, 1289384 effective words/s\n"
          ],
          "name": "stderr"
        },
        {
          "output_type": "stream",
          "text": [
            "CPU times: user 2.82 s, sys: 90.8 ms, total: 2.92 s\n",
            "Wall time: 1.33 s\n"
          ],
          "name": "stdout"
        }
      ]
    },
    {
      "metadata": {
        "id": "0Z3IXjYyybq2",
        "colab_type": "code",
        "colab": {},
        "outputId": "08ef3dab-5d20-4225-da59-4e7664b80abd"
      },
      "cell_type": "code",
      "source": [
        "model.infer_vector(['only', 'you', 'can', 'prevent', 'forest', 'fires'])"
      ],
      "execution_count": 0,
      "outputs": [
        {
          "output_type": "execute_result",
          "data": {
            "text/plain": [
              "array([ 0.08360713,  0.01631254, -0.04183105, -0.00785593, -0.11343515,\n",
              "        0.06252062, -0.0330346 ,  0.05906279,  0.19208252, -0.15333943,\n",
              "        0.08949752,  0.15328696, -0.12229927, -0.30908647, -0.00523353,\n",
              "        0.0252743 ,  0.01795276,  0.16005374, -0.1954154 ,  0.13947405,\n",
              "        0.07007284, -0.13739602, -0.24065627, -0.13380183,  0.01745245,\n",
              "       -0.07832631, -0.13093564,  0.202811  ,  0.17244281, -0.24963602,\n",
              "        0.08955073,  0.02941275, -0.10749572,  0.15061925, -0.356345  ,\n",
              "       -0.02305871, -0.10631384, -0.08712512, -0.24847867, -0.15010199,\n",
              "       -0.03027439,  0.0967899 ,  0.0370245 ,  0.19810742,  0.10562744,\n",
              "       -0.03624142, -0.18996407, -0.2312625 ,  0.12166946,  0.15223996],\n",
              "      dtype=float32)"
            ]
          },
          "metadata": {
            "tags": []
          },
          "execution_count": 41
        }
      ]
    },
    {
      "metadata": {
        "id": "t7mKE3H2ybq6",
        "colab_type": "text"
      },
      "cell_type": "markdown",
      "source": [
        "### Assessing Model"
      ]
    },
    {
      "metadata": {
        "id": "sFOO1TC9ybq7",
        "colab_type": "code",
        "colab": {},
        "outputId": "449108a3-01c3-4b69-c3d1-8afff9b675b7"
      },
      "cell_type": "code",
      "source": [
        "len(model.docvecs)"
      ],
      "execution_count": 0,
      "outputs": [
        {
          "output_type": "execute_result",
          "data": {
            "text/plain": [
              "300"
            ]
          },
          "metadata": {
            "tags": []
          },
          "execution_count": 43
        }
      ]
    },
    {
      "metadata": {
        "id": "gFMYL0b3ybq_",
        "colab_type": "code",
        "colab": {},
        "outputId": "52f74664-d188-4b27-f9bd-e0f01bd7fc7b"
      },
      "cell_type": "code",
      "source": [
        "ranks = []\n",
        "second_ranks = []\n",
        "for doc_id in range(len(train_corpus)):\n",
        "    inferred_vector = model.infer_vector(train_corpus[doc_id].words)\n",
        "    sims = model.docvecs.most_similar([inferred_vector], topn=len(model.docvecs))\n",
        "    rank = [docid for docid, sim in sims].index(doc_id)\n",
        "    ranks.append(rank)\n",
        "    \n",
        "    second_ranks.append(sims[1])"
      ],
      "execution_count": 0,
      "outputs": [
        {
          "output_type": "stream",
          "text": [
            "2018-11-06 13:44:32,430 - gensim.models.keyedvectors - INFO - precomputing L2-norms of doc weight vectors\n",
            "/home/phan.huy.hoang/.local/lib/python3.5/site-packages/gensim/matutils.py:737: FutureWarning: Conversion of the second argument of issubdtype from `int` to `np.signedinteger` is deprecated. In future, it will be treated as `np.int64 == np.dtype(int).type`.\n",
            "  if np.issubdtype(vec.dtype, np.int):\n"
          ],
          "name": "stderr"
        }
      ]
    },
    {
      "metadata": {
        "id": "RJg4mU-ZybrC",
        "colab_type": "code",
        "colab": {},
        "outputId": "6c1251af-0ce4-4079-cca4-9efa93ea7337"
      },
      "cell_type": "code",
      "source": [
        "collections.Counter(ranks) "
      ],
      "execution_count": 0,
      "outputs": [
        {
          "output_type": "execute_result",
          "data": {
            "text/plain": [
              "Counter({0: 292, 1: 8})"
            ]
          },
          "metadata": {
            "tags": []
          },
          "execution_count": 45
        }
      ]
    },
    {
      "metadata": {
        "id": "BjV8XcrTybrF",
        "colab_type": "code",
        "colab": {},
        "outputId": "68bd9b54-33ca-4ecd-9b97-dc20df0bcbeb"
      },
      "cell_type": "code",
      "source": [
        "print('Document ({}): «{}»\\n'.format(doc_id, ' '.join(train_corpus[doc_id].words)))\n",
        "print(u'SIMILAR/DISSIMILAR DOCS PER MODEL %s:\\n' % model)\n",
        "for label, index in [('MOST', 0), ('SECOND-MOST', 1), ('MEDIAN', len(sims)//2), ('LEAST', len(sims) - 1)]:\n",
        "    print(u'%s %s: «%s»\\n' % (label, sims[index], ' '.join(train_corpus[sims[index][0]].words)))"
      ],
      "execution_count": 0,
      "outputs": [
        {
          "output_type": "stream",
          "text": [
            "Document (299): «australia will take on france in the doubles rubber of the davis cup tennis final today with the tie levelled at wayne arthurs and todd woodbridge are scheduled to lead australia in the doubles against cedric pioline and fabrice santoro however changes can be made to the line up up to an hour before the match and australian team captain john fitzgerald suggested he might do just that we ll make team appraisal of the whole situation go over the pros and cons and make decision french team captain guy forget says he will not make changes but does not know what to expect from australia todd is the best doubles player in the world right now so expect him to play he said would probably use wayne arthurs but don know what to expect really pat rafter salvaged australia davis cup campaign yesterday with win in the second singles match rafter overcame an arm injury to defeat french number one sebastien grosjean in three sets the australian says he is happy with his form it not very pretty tennis there isn too many consistent bounces you are playing like said bit of classic old grass court rafter said rafter levelled the score after lleyton hewitt shock five set loss to nicholas escude in the first singles rubber but rafter says he felt no added pressure after hewitt defeat knew had good team to back me up even if we were down he said knew could win on the last day know the boys can win doubles so even if we were down still feel we are good enough team to win and vice versa they are good enough team to beat us as well»\n",
            "\n",
            "SIMILAR/DISSIMILAR DOCS PER MODEL Doc2Vec(dm/m,d50,n5,w5,mc2,s0.001,t3):\n",
            "\n",
            "MOST (299, 0.9410356283187866): «australia will take on france in the doubles rubber of the davis cup tennis final today with the tie levelled at wayne arthurs and todd woodbridge are scheduled to lead australia in the doubles against cedric pioline and fabrice santoro however changes can be made to the line up up to an hour before the match and australian team captain john fitzgerald suggested he might do just that we ll make team appraisal of the whole situation go over the pros and cons and make decision french team captain guy forget says he will not make changes but does not know what to expect from australia todd is the best doubles player in the world right now so expect him to play he said would probably use wayne arthurs but don know what to expect really pat rafter salvaged australia davis cup campaign yesterday with win in the second singles match rafter overcame an arm injury to defeat french number one sebastien grosjean in three sets the australian says he is happy with his form it not very pretty tennis there isn too many consistent bounces you are playing like said bit of classic old grass court rafter said rafter levelled the score after lleyton hewitt shock five set loss to nicholas escude in the first singles rubber but rafter says he felt no added pressure after hewitt defeat knew had good team to back me up even if we were down he said knew could win on the last day know the boys can win doubles so even if we were down still feel we are good enough team to win and vice versa they are good enough team to beat us as well»\n",
            "\n",
            "SECOND-MOST (104, 0.778113842010498): «australian cricket captain steve waugh has supported fast bowler brett lee after criticism of his intimidatory bowling to the south african tailenders in the first test in adelaide earlier this month lee was fined for giving new zealand tailender shane bond an unsportsmanlike send off during the third test in perth waugh says tailenders should not be protected from short pitched bowling these days you re earning big money you ve got responsibility to learn how to bat he said mean there no times like years ago when it was not professional and sort of bowlers code these days you re professional our batsmen work very hard at their batting and expect other tailenders to do likewise meanwhile waugh says his side will need to guard against complacency after convincingly winning the first test by runs waugh says despite the dominance of his side in the first test south africa can never be taken lightly it only one test match out of three or six whichever way you want to look at it so there lot of work to go he said but it nice to win the first battle definitely it gives us lot of confidence going into melbourne you know the big crowd there we love playing in front of the boxing day crowd so that will be to our advantage as well south africa begins four day match against new south wales in sydney on thursday in the lead up to the boxing day test veteran fast bowler allan donald will play in the warm up match and is likely to take his place in the team for the second test south african captain shaun pollock expects much better performance from his side in the melbourne test we still believe that we didn play to our full potential so if we can improve on our aspects the output we put out on the field will be lot better and we still believe we have side that is good enough to beat australia on our day he said»\n",
            "\n",
            "MEDIAN (126, 0.2717760503292084): «federal science minister peter mcgauran says he is confident security measures at the lucas heights nuclear reactor in sydney are adequate despite major protest this morning dozens of greenpeace demonstrators walked through the front entrance of the facility this morning unfurling anti nuclear banners on radio tower and the reactor building more than people were arrested mr mcgauran says guards and police quickly had the situation under control we won be rushed into any change of security procedures because we know we have very strong security he said it was really decision by the guards at the time to make risk assessment and they decided these demonstrators particularly given their large numbers could not be stopped but quickly new south wales police could be called he said»\n",
            "\n",
            "LEAST (233, -0.08750015497207642): «three us troops and five members of the afghan opposition were killed by stray us bomb near kandahar in afghanistan the pentagon said the pentagon had earlier confirmed that two us special forces soldiers were killed and others wounded north of kandahar when bomber dropped pound bomb too close to them the was flying in support of opposition forces north of kandahar said pentagon spokeswoman victori clark we have an update since this morning and unfortunately the number of us forces killed is now three rival afghan factions signed an historic power sharing agreement to form post taliban government and set the country on the road to recovery and democracy after two decades of war the accord was sealed after nine days of exhausting negotiations and paves the way for six month interim administration headed by moderate muslim hamid karzai from the dominant pashtun ethnic group the deal gives the northern alliance control of three key portfolios in the member cabinet which includes two women and is due to be up and running by december it also gives symbolic role to the former king and provides for un security force for kabul the agreement was signed in the german city of bonn by the leaders of the four delegations and un special envoy for afghanistan lakhdar brahimi to applause from an audience which included german chancellor gerhard schroeder we were the champions of resistance and will be proud to be the champions of peace said yunus qanooni the northern alliance chief negotiator and the interim government interior minister delegate from the so called peshawar group sayed hamed gailani summed up the atmosphere in single phrase there are two things evident today yesterday rain does not have the courage to cry and the sun cannot hide its smile he said the appointment of karzai year old tribal pashtun tribal leader currently fighting the taliban near their last stronghold of kandahar was seen as an attempt to balance afghanistan delicate ethnic mix it cements whirlwind transformation in afghanistan fate since the september attacks on new york and washington the trigger for massive us air strikes that have dislodged the taliban militia from most of the country and put the northern alliance back on top showing the strain from nine days of frantic diplomacy brahimi recognised the accord was far from perfect and that its signatories were not fully representative of the afghan people»\n",
            "\n"
          ],
          "name": "stdout"
        }
      ]
    },
    {
      "metadata": {
        "id": "BDriRC3PybrH",
        "colab_type": "code",
        "colab": {},
        "outputId": "b692cc24-ff8f-4225-9a43-85e8733d9575"
      },
      "cell_type": "code",
      "source": [
        "# Pick a random document from the corpus and infer a vector from the model\n",
        "doc_id = random.randint(0, len(train_corpus) - 1)\n",
        "\n",
        "# Compare and print the second-most-similar document\n",
        "print('Train Document ({}): «{}»\\n'.format(doc_id, ' '.join(train_corpus[doc_id].words)))\n",
        "sim_id = second_ranks[doc_id]\n",
        "print('Similar Document {}: «{}»\\n'.format(sim_id, ' '.join(train_corpus[sim_id[0]].words)))"
      ],
      "execution_count": 0,
      "outputs": [
        {
          "output_type": "stream",
          "text": [
            "Train Document (219): «several people believed to be as many as have been shot at northern indiana factory in the united states police said the person who did the shooting was still inside the building preliminary reports suggested disgruntled employee might be behind the mass shooting at nu wood decorative millwork factory at the industrial park in goshen which occurred around pm local time am aedt we re hearing as many as have been shot but we can confirm that said goshen police dispatcher we haven been able to get inside she said the person who fired the shots at the factory near goshen was still inside the facility the city is about kilometres east of chicago»\n",
            "\n",
            "Similar Document (79, 0.8300520181655884): «dozens of people were injured some seriously and others were trapped after roof collapsed at south african shopping centre burying some children on skating rink witnesses and police said initial reports spoke of up to people trapped at the kolonnade shopping centre in the north of the capital but pretoria emergency spokesman johan pieterse later said police had rescued four people from the rubble and could not immediately locate any more police and police dogs are still inside but can find anyone else just now he added by pm local time am aedt two hours after the collapse injured people mostly adults had been taken to hospitals around the city by ambulance or helicopter mr pieterse said most of those injured were those standing at the glass wall watching people ice skate he added some of the injured included children skating on the ice rink who were partially buried in rubble when the roof gave way witnesses said some square metres of roofing were believed to have collapsed new floor had recently been added to the shopping mall above the rink and the roof had leaked but according to us everything was fine ice rink manager brian bellis told the afp news agency there was lot of dust and smoke and then people were just running and screaming running away from where it happened the south african broadcasting corporation radio quoted one witness as saying several people including young children were brought out on stretchers while others were helicoptered to hospital about police and soldiers cordoned off the area one bystander marius duplessis said he was searching for his year old son who had been working at the centre his car is there but he is nowhere to be found he is not on the casualty list so just praying that he not inside he said»\n",
            "\n"
          ],
          "name": "stdout"
        }
      ]
    },
    {
      "metadata": {
        "id": "_m1NGsWdybrM",
        "colab_type": "code",
        "colab": {},
        "outputId": "4b6be3a8-a221-4446-89cd-5aaa123dd072"
      },
      "cell_type": "code",
      "source": [
        "# Pick a random document from the test corpus and infer a vector from the model\n",
        "doc_id = random.randint(0, len(test_corpus) - 1)\n",
        "inferred_vector = model.infer_vector(test_corpus[doc_id])\n",
        "sims = model.docvecs.most_similar([inferred_vector], topn=len(model.docvecs))\n",
        "\n",
        "# Compare and print the most/median/least similar documents from the train corpus\n",
        "print('Test Document ({}): «{}»\\n'.format(doc_id, ' '.join(test_corpus[doc_id])))\n",
        "print(u'SIMILAR/DISSIMILAR DOCS PER MODEL %s:\\n' % model)\n",
        "for label, index in [('MOST', 0), ('MEDIAN', len(sims)//2), ('LEAST', len(sims) - 1)]:\n",
        "    print(u'%s %s: «%s»\\n' % (label, sims[index], ' '.join(train_corpus[sims[index][0]].words)))"
      ],
      "execution_count": 0,
      "outputs": [
        {
          "output_type": "stream",
          "text": [
            "Test Document (13): «queensland senator andrew bartlett has launched last minute bid to rescue the australian democrats from split that threatens to destroy the party with nominations for the party leadership to close on wednesday night senator bartlett met last night with deputy leader aden ridgeway to offer him place on unity ticket and set up reform process to begin healing the party wounds party sources said senator ridgeway who turned against former leader natasha stott despoja is still expected to contest the leadership against one of her two supporters senator bartlett or brian greig installed as interim leader by the party executive last thursday»\n",
            "\n",
            "SIMILAR/DISSIMILAR DOCS PER MODEL Doc2Vec(dm/m,d50,n5,w5,mc2,s0.001,t3):\n",
            "\n",
            "MOST (3, 0.6604465246200562): «argentina political and economic crisis has deepened with the resignation of its interim president who took office just week ago aldolfo rodregiuez saa told stunned nation that he could not rescue argentina because key fellow peronists would not support his default on massive foreign debt repayment or his plan for new currency it was only week ago that he was promising million new jobs to end four years of recession days after his predecessor resigned following series of failed rescue packages after announcing that the senate leader ramon puerta would assume the presidency until congress appoints new caretaker president the government said he too had quit and another senior lawmaker would act in the role fresh elections are not scheduled until march leaving whoever assumes the presidency with the daunting task of tackling argentina worst crisis in years but this time isolated by international lending agencies»\n",
            "\n",
            "MEDIAN (44, 0.2080513834953308): «palestinian man has been shot dead as israeli forces charged into palestinian controlled land in the northern west bank in hot pursuit of gunmen who opened fire on them earlier palestinian officials said walid saadi was killed by heavy machine gun fire as tanks and helicopters fought pitched battle with the palestinian gunmen holed up in house on the edge of the town of jenin after attacking an israeli army post palestinian medics said israeli military sources said two armed men had been shot although it was not immediately clear if saadi was one of them or civilian caught in the intense fire israeli forces did not say how many gunmen they were facing down although officials had earlier said it was two an army spokesman said the gunmen had been heading through israel controlled territory east of the town when they ran into an army post and opened fire it claimed they had been planning to attack the nearby jewish settlement of qadim the israeli soldiers returned fire but the men escaped into palestinian self rule land next to the northern town of jenin the army chased them into land under the control of the palestinian authority and tracked them down to house where the men took cover the palestinians then threw two grenades at soldiers and border police injuring one policeman slightly firefight erupted around the house palestinian and israeli security officials said during which the tanks fired two shells into the building helicopters also opened fire killing saadi palestinian officials said according to jenin hospital officials two palestinians were injured in the exchange as the tanks and two jeeps entered metres into palestinian territory to besiege the house»\n",
            "\n",
            "LEAST (168, -0.27736228704452515): «six swiss tour company staff have been found guilty of manslaughter over the deaths of australians and seven others in canyoning disaster two guides who survived the accident on july were acquitted adventure world president stephan friedli vice president peter balmer and director georg hoedle were each given five month suspended sentence and fine of swiss francs about general manager felix oehler received five months and fine of francs base manager bernhard gafner four months and francs and lead guide bernhard steuri three months and francs all six will pay one eighth of the court costs and one eighth of the plaintiffs costs about francs each guides simon wiget and stefan abegglen were acquitted peter dewar whose son bradley died in the disaster says more legal action is planned guess if anything the main thing we were waiting for was verdict of guilty or not guilty mr dewar said the guilty verdict at least leaves something open for civil action we already have legal representation in place mr dewar said he hopes civil action would be further form of punishment for the guilty bill peel of mackay in north queensland whose son billy died in the canyoning accident is disappointed with the verdict it swiss law and we have to abide by it was very angry very angry couldn believe it we were told this when the lawyer came to australia months ago but it was still hard to believe it was true oh well at least they are guilty and they have to live that the rest of their lives and that some punishment anyway mr peel said»\n",
            "\n"
          ],
          "name": "stdout"
        }
      ]
    },
    {
      "metadata": {
        "id": "EMFME5vRybrO",
        "colab_type": "code",
        "colab": {}
      },
      "cell_type": "code",
      "source": [
        ""
      ],
      "execution_count": 0,
      "outputs": []
    }
  ]
}
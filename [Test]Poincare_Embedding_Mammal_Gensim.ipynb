{
  "nbformat": 4,
  "nbformat_minor": 0,
  "metadata": {
    "colab": {
      "name": "[Test]Poincare_Embedding_Mammal_Gensim.ipynb",
      "version": "0.3.2",
      "provenance": [],
      "collapsed_sections": [],
      "include_colab_link": true
    },
    "kernelspec": {
      "display_name": "Python 3",
      "language": "python",
      "name": "python3"
    }
  },
  "cells": [
    {
      "cell_type": "markdown",
      "metadata": {
        "id": "view-in-github",
        "colab_type": "text"
      },
      "source": [
        "<a href=\"https://colab.research.google.com/github/huyhoang17/Colab_Temporary/blob/master/[Test]Poincare_Embedding_Mammal_Gensim.ipynb\" target=\"_parent\"><img src=\"https://colab.research.google.com/assets/colab-badge.svg\" alt=\"Open In Colab\"/></a>"
      ]
    },
    {
      "metadata": {
        "id": "cNuBqC8ooMwQ",
        "colab_type": "text"
      },
      "cell_type": "markdown",
      "source": [
        "- https://nbviewer.jupyter.org/github/RaRe-Technologies/gensim/blob/develop/docs/notebooks/Poincare%20Tutorial.ipynb\n",
        "\n",
        "- https://nbviewer.jupyter.org/github/harmanpreet93/poincare-embedding-using-gensim/blob/master/poincare-embeddings-using-gensim.ipynb"
      ]
    },
    {
      "metadata": {
        "id": "w87YOVXsoMwQ",
        "colab_type": "code",
        "colab": {}
      },
      "cell_type": "code",
      "source": [
        "%load_ext autoreload\n",
        "%autoreload 2"
      ],
      "execution_count": 0,
      "outputs": []
    },
    {
      "metadata": {
        "id": "B9Cvh09SoMwU",
        "colab_type": "code",
        "colab": {}
      },
      "cell_type": "code",
      "source": [
        "# !wget https://raw.githubusercontent.com/jayantj/gensim/poincare_data/docs/notebooks/poincare/data/wordnet_mammal_hypernyms.tsv"
      ],
      "execution_count": 0,
      "outputs": []
    },
    {
      "metadata": {
        "id": "f2n2M7pToMwW",
        "colab_type": "code",
        "colab": {},
        "outputId": "e7a3c9b1-b399-4d93-f9de-7b9f8904eb93"
      },
      "cell_type": "code",
      "source": [
        "ls"
      ],
      "execution_count": 0,
      "outputs": [
        {
          "output_type": "stream",
          "text": [
            "Poincare_Embedding_Mammal.ipynb  wordnet_mammal_hypernyms.tsv\r\n"
          ],
          "name": "stdout"
        }
      ]
    },
    {
      "metadata": {
        "id": "bn1rkLfVoMwZ",
        "colab_type": "code",
        "colab": {},
        "outputId": "01a4add8-a501-4c32-c391-e606341e73ce"
      },
      "cell_type": "code",
      "source": [
        "import gensim"
      ],
      "execution_count": 0,
      "outputs": [
        {
          "output_type": "stream",
          "text": [
            "/usr/lib/python3.5/importlib/_bootstrap.py:222: RuntimeWarning: numpy.dtype size changed, may indicate binary incompatibility. Expected 96, got 88\n",
            "  return f(*args, **kwds)\n",
            "/usr/lib/python3.5/importlib/_bootstrap.py:222: RuntimeWarning: numpy.dtype size changed, may indicate binary incompatibility. Expected 96, got 88\n",
            "  return f(*args, **kwds)\n"
          ],
          "name": "stderr"
        }
      ]
    },
    {
      "metadata": {
        "id": "MV9s9cGJoMwc",
        "colab_type": "code",
        "colab": {}
      },
      "cell_type": "code",
      "source": [
        "import os\n",
        "import logging\n",
        "import numpy as np\n",
        "\n",
        "from gensim.models.poincare import PoincareModel, PoincareKeyedVectors, PoincareRelations\n",
        "\n",
        "logging.basicConfig(level=logging.INFO)"
      ],
      "execution_count": 0,
      "outputs": []
    },
    {
      "metadata": {
        "id": "EFk0lholoMwe",
        "colab_type": "code",
        "colab": {}
      },
      "cell_type": "code",
      "source": [
        "data_directory = os.path.join(os.getcwd(), 'data')\n",
        "wordnet_mammal_file = os.path.join(data_directory, 'wordnet_mammal_hypernyms.tsv')"
      ],
      "execution_count": 0,
      "outputs": []
    },
    {
      "metadata": {
        "id": "ESIjfqxWoMwg",
        "colab_type": "code",
        "colab": {},
        "outputId": "51aca2a9-d4af-4657-c486-44786918e993"
      },
      "cell_type": "code",
      "source": [
        "os.path.exists(wordnet_mammal_file)"
      ],
      "execution_count": 0,
      "outputs": [
        {
          "output_type": "execute_result",
          "data": {
            "text/plain": [
              "True"
            ]
          },
          "metadata": {
            "tags": []
          },
          "execution_count": 13
        }
      ]
    },
    {
      "metadata": {
        "id": "HDOl-phOoMwj",
        "colab_type": "code",
        "colab": {},
        "outputId": "2fa09971-36e8-4a2f-c2da-d0d7775420ab"
      },
      "cell_type": "code",
      "source": [
        "model = PoincareModel(train_data=[('node.1', 'node.2'), ('node.2', 'node.3')])"
      ],
      "execution_count": 0,
      "outputs": [
        {
          "output_type": "stream",
          "text": [
            "INFO:gensim.models.poincare:loading relations from train data..\n",
            "INFO:gensim.models.poincare:loaded 2 relations from train data, 3 nodes\n"
          ],
          "name": "stderr"
        }
      ]
    },
    {
      "metadata": {
        "id": "BmBF0K7HoMwl",
        "colab_type": "code",
        "colab": {},
        "outputId": "c0020e16-7b18-494a-aeac-485ddeac2834"
      },
      "cell_type": "code",
      "source": [
        "!head $wordnet_mammal_file"
      ],
      "execution_count": 0,
      "outputs": [
        {
          "output_type": "stream",
          "text": [
            "kangaroo.n.01\tmarsupial.n.01\r\n",
            "domestic_goat.n.01\teven-toed_ungulate.n.01\r\n",
            "rock_squirrel.n.01\tground_squirrel.n.02\r\n",
            "vizsla.n.01\tdog.n.01\r\n",
            "dandie_dinmont.n.01\tmammal.n.01\r\n",
            "broodmare.n.01\thorse.n.01\r\n",
            "spotted_skunk.n.01\tspotted_skunk.n.01\r\n",
            "hispid_pocket_mouse.n.01\thispid_pocket_mouse.n.01\r\n",
            "lesser_kudu.n.01\tplacental.n.01\r\n",
            "water_shrew.n.01\tinsectivore.n.01\r\n"
          ],
          "name": "stdout"
        }
      ]
    },
    {
      "metadata": {
        "id": "OKp8J3F6oMwo",
        "colab_type": "code",
        "colab": {},
        "outputId": "cc872c22-78ef-4c37-bdb5-67effd5244c2"
      },
      "cell_type": "code",
      "source": [
        "!tail $wordnet_mammal_file"
      ],
      "execution_count": 0,
      "outputs": [
        {
          "output_type": "stream",
          "text": [
            "cactus_mouse.n.01\tmouse.n.01\r\n",
            "hart.n.03\truminant.n.01\r\n",
            "broodmare.n.01\tequine.n.01\r\n",
            "sussex_spaniel.n.01\tsporting_dog.n.01\r\n",
            "omaha.n.04\todd-toed_ungulate.n.01\r\n",
            "alaska_fur_seal.n.01\tplacental.n.01\r\n",
            "cattalo.n.01\tbovine.n.01\r\n",
            "soft-coated_wheaten_terrier.n.01\tmammal.n.01\r\n",
            "harness_horse.n.01\thorse.n.01\r\n",
            "banteng.n.01\teven-toed_ungulate.n.01\r\n"
          ],
          "name": "stdout"
        }
      ]
    },
    {
      "metadata": {
        "id": "Pu9c8SH8oMws",
        "colab_type": "code",
        "colab": {}
      },
      "cell_type": "code",
      "source": [
        "relations = PoincareRelations(file_path=wordnet_mammal_file, delimiter='\\t')"
      ],
      "execution_count": 0,
      "outputs": []
    },
    {
      "metadata": {
        "id": "hxH_sOzCoMwu",
        "colab_type": "code",
        "colab": {},
        "outputId": "0c55257f-a47a-42e7-d571-66a23377a15b"
      },
      "cell_type": "code",
      "source": [
        "model = PoincareModel(train_data=relations)"
      ],
      "execution_count": 0,
      "outputs": [
        {
          "output_type": "stream",
          "text": [
            "INFO:gensim.models.poincare:loading relations from train data..\n",
            "INFO:gensim.models.poincare:loaded 7724 relations from train data, 1182 nodes\n"
          ],
          "name": "stderr"
        }
      ]
    },
    {
      "metadata": {
        "id": "a65Boc_7oMwy",
        "colab_type": "code",
        "colab": {},
        "outputId": "a406115a-aec7-482c-8af0-5a10d6a4ef84"
      },
      "cell_type": "code",
      "source": [
        "model = PoincareModel(train_data=relations, size=2, burn_in=0)"
      ],
      "execution_count": 0,
      "outputs": [
        {
          "output_type": "stream",
          "text": [
            "INFO:gensim.models.poincare:loading relations from train data..\n",
            "INFO:gensim.models.poincare:loaded 7724 relations from train data, 1182 nodes\n"
          ],
          "name": "stderr"
        }
      ]
    },
    {
      "metadata": {
        "id": "Pr_056YRoMw1",
        "colab_type": "code",
        "colab": {},
        "outputId": "8a0991c4-a86c-4060-abcf-82996e4af652"
      },
      "cell_type": "code",
      "source": [
        "model.train(epochs=10, print_every=500)"
      ],
      "execution_count": 0,
      "outputs": [
        {
          "output_type": "stream",
          "text": [
            "INFO:gensim.models.poincare:training model of size 2 with 1 workers on 7724 relations for 10 epochs and 0 burn-in epochs, using lr=0.10000 burn-in lr=0.01000 negative=10\n",
            "INFO:gensim.models.poincare:starting training (10 epochs)----------------------------------------\n",
            "INFO:gensim.models.poincare:training on epoch 1, examples #4990-#5000, loss: 23.57\n",
            "INFO:gensim.models.poincare:time taken for 5000 examples: 0.46 s, 10815.48 examples / s\n",
            "INFO:gensim.models.poincare:training on epoch 2, examples #4990-#5000, loss: 22.37\n",
            "INFO:gensim.models.poincare:time taken for 5000 examples: 0.44 s, 11273.64 examples / s\n",
            "INFO:gensim.models.poincare:training on epoch 3, examples #4990-#5000, loss: 21.18\n",
            "INFO:gensim.models.poincare:time taken for 5000 examples: 0.45 s, 11080.12 examples / s\n",
            "INFO:gensim.models.poincare:training on epoch 4, examples #4990-#5000, loss: 20.08\n",
            "INFO:gensim.models.poincare:time taken for 5000 examples: 0.45 s, 11108.83 examples / s\n",
            "INFO:gensim.models.poincare:training on epoch 5, examples #4990-#5000, loss: 19.14\n",
            "INFO:gensim.models.poincare:time taken for 5000 examples: 0.44 s, 11487.71 examples / s\n",
            "INFO:gensim.models.poincare:training on epoch 6, examples #4990-#5000, loss: 18.31\n",
            "INFO:gensim.models.poincare:time taken for 5000 examples: 0.44 s, 11297.00 examples / s\n",
            "INFO:gensim.models.poincare:training on epoch 7, examples #4990-#5000, loss: 17.68\n",
            "INFO:gensim.models.poincare:time taken for 5000 examples: 0.43 s, 11538.53 examples / s\n",
            "INFO:gensim.models.poincare:training on epoch 8, examples #4990-#5000, loss: 16.93\n",
            "INFO:gensim.models.poincare:time taken for 5000 examples: 0.44 s, 11470.46 examples / s\n",
            "INFO:gensim.models.poincare:training on epoch 9, examples #4990-#5000, loss: 16.67\n",
            "INFO:gensim.models.poincare:time taken for 5000 examples: 0.47 s, 10540.91 examples / s\n",
            "INFO:gensim.models.poincare:training on epoch 10, examples #4990-#5000, loss: 16.23\n",
            "INFO:gensim.models.poincare:time taken for 5000 examples: 0.44 s, 11351.00 examples / s\n",
            "INFO:gensim.models.poincare:training finished\n"
          ],
          "name": "stderr"
        }
      ]
    },
    {
      "metadata": {
        "id": "4J1M_upJoMw5",
        "colab_type": "code",
        "colab": {},
        "outputId": "ba920e78-2005-430e-a684-537f3f817215"
      },
      "cell_type": "code",
      "source": [
        "model.save(os.path.join('models', 'test_model'))"
      ],
      "execution_count": 0,
      "outputs": [
        {
          "output_type": "stream",
          "text": [
            "INFO:gensim.utils:saving PoincareModel object under models/test_model, separately None\n",
            "INFO:gensim.utils:not storing attribute _node_probabilities\n",
            "INFO:gensim.utils:not storing attribute _node_counts_cumsum\n",
            "INFO:gensim.utils:saved models/test_model\n"
          ],
          "name": "stderr"
        }
      ]
    },
    {
      "metadata": {
        "id": "jUmdK5lpoMw7",
        "colab_type": "code",
        "colab": {},
        "outputId": "0f781c01-8c27-4f98-b105-35308c12a5c8"
      },
      "cell_type": "code",
      "source": [
        "model2 = PoincareModel.load(os.path.join('models','test_model'))"
      ],
      "execution_count": 0,
      "outputs": [
        {
          "output_type": "stream",
          "text": [
            "INFO:gensim.utils:loading PoincareModel object from models/test_model\n",
            "INFO:gensim.utils:loading kv recursively from models/test_model.kv.* with mmap=None\n",
            "INFO:gensim.utils:setting ignored attribute _node_probabilities to None\n",
            "INFO:gensim.utils:setting ignored attribute _node_counts_cumsum to None\n",
            "INFO:gensim.utils:loaded models/test_model\n"
          ],
          "name": "stderr"
        }
      ]
    },
    {
      "metadata": {
        "id": "OtQkq16LoMw_",
        "colab_type": "code",
        "colab": {},
        "outputId": "952cf733-0d45-4ced-9881-b6015f1543d8"
      },
      "cell_type": "code",
      "source": [
        "model.kv.save_word2vec_format(os.path.join('models','test_vectors'))"
      ],
      "execution_count": 0,
      "outputs": [
        {
          "output_type": "stream",
          "text": [
            "INFO:gensim.models.utils_any2vec:storing 1182x2 projection weights into models/test_vectors\n"
          ],
          "name": "stderr"
        }
      ]
    },
    {
      "metadata": {
        "id": "p6nnvjwgoMxB",
        "colab_type": "code",
        "colab": {},
        "outputId": "021ca786-0727-4ed1-a3b9-402fae028c80"
      },
      "cell_type": "code",
      "source": [
        "vectors = PoincareKeyedVectors.load_word2vec_format(os.path.join('models','test_vectors'))"
      ],
      "execution_count": 0,
      "outputs": [
        {
          "output_type": "stream",
          "text": [
            "INFO:gensim.models.utils_any2vec:loading projection weights from models/test_vectors\n",
            "INFO:gensim.models.utils_any2vec:loaded (1182, 2) matrix from models/test_vectors\n"
          ],
          "name": "stderr"
        }
      ]
    },
    {
      "metadata": {
        "id": "OnfTZ7UDoMxD",
        "colab_type": "text"
      },
      "cell_type": "markdown",
      "source": [
        "### Train Poincare Model on WordNet data"
      ]
    },
    {
      "metadata": {
        "id": "9QJ3lQwQoMxF",
        "colab_type": "code",
        "colab": {},
        "outputId": "eac3f254-3488-4798-f105-d92305f56198"
      },
      "cell_type": "code",
      "source": [
        "relations = PoincareRelations(file_path=wordnet_mammal_file, delimiter='\\t')\n",
        "size = 50\n",
        "burn_in = 0\n",
        "workers = 1 # multi-threaded version wasn't implemented yet\n",
        "negative = 15\n",
        "epochs = 100\n",
        "print_every = 500\n",
        "batch_size = 10\n",
        "model = PoincareModel(train_data=relations, size=size, burn_in=burn_in, workers=workers, negative=negative)\n",
        "model.train(epochs=epochs, print_every=print_every,batch_size=batch_size)"
      ],
      "execution_count": 0,
      "outputs": [
        {
          "output_type": "stream",
          "text": [
            "INFO:gensim.models.poincare:loading relations from train data..\n",
            "INFO:gensim.models.poincare:loaded 7724 relations from train data, 1182 nodes\n",
            "INFO:gensim.models.poincare:training model of size 50 with 1 workers on 7724 relations for 100 epochs and 0 burn-in epochs, using lr=0.10000 burn-in lr=0.01000 negative=15\n",
            "INFO:gensim.models.poincare:starting training (100 epochs)----------------------------------------\n",
            "INFO:gensim.models.poincare:training on epoch 1, examples #4990-#5000, loss: 27.14\n",
            "INFO:gensim.models.poincare:time taken for 5000 examples: 1.04 s, 4808.99 examples / s\n",
            "INFO:gensim.models.poincare:training on epoch 2, examples #4990-#5000, loss: 24.86\n",
            "INFO:gensim.models.poincare:time taken for 5000 examples: 1.02 s, 4900.23 examples / s\n",
            "INFO:gensim.models.poincare:training on epoch 3, examples #4990-#5000, loss: 22.18\n",
            "INFO:gensim.models.poincare:time taken for 5000 examples: 1.05 s, 4773.69 examples / s\n",
            "INFO:gensim.models.poincare:training on epoch 4, examples #4990-#5000, loss: 19.68\n",
            "INFO:gensim.models.poincare:time taken for 5000 examples: 1.11 s, 4494.14 examples / s\n",
            "INFO:gensim.models.poincare:training on epoch 5, examples #4990-#5000, loss: 17.37\n",
            "INFO:gensim.models.poincare:time taken for 5000 examples: 1.16 s, 4304.87 examples / s\n",
            "INFO:gensim.models.poincare:training on epoch 6, examples #4990-#5000, loss: 15.42\n",
            "INFO:gensim.models.poincare:time taken for 5000 examples: 1.02 s, 4882.32 examples / s\n",
            "INFO:gensim.models.poincare:training on epoch 7, examples #4990-#5000, loss: 13.89\n",
            "INFO:gensim.models.poincare:time taken for 5000 examples: 1.05 s, 4757.81 examples / s\n",
            "INFO:gensim.models.poincare:training on epoch 8, examples #4990-#5000, loss: 12.60\n",
            "INFO:gensim.models.poincare:time taken for 5000 examples: 1.08 s, 4614.41 examples / s\n",
            "INFO:gensim.models.poincare:training on epoch 9, examples #4990-#5000, loss: 11.56\n",
            "INFO:gensim.models.poincare:time taken for 5000 examples: 1.14 s, 4372.77 examples / s\n",
            "INFO:gensim.models.poincare:training on epoch 10, examples #4990-#5000, loss: 10.88\n",
            "INFO:gensim.models.poincare:time taken for 5000 examples: 1.04 s, 4803.50 examples / s\n",
            "INFO:gensim.models.poincare:training on epoch 11, examples #4990-#5000, loss: 10.18\n",
            "INFO:gensim.models.poincare:time taken for 5000 examples: 1.06 s, 4730.69 examples / s\n",
            "INFO:gensim.models.poincare:training on epoch 12, examples #4990-#5000, loss: 9.66\n",
            "INFO:gensim.models.poincare:time taken for 5000 examples: 1.05 s, 4758.01 examples / s\n",
            "INFO:gensim.models.poincare:training on epoch 13, examples #4990-#5000, loss: 9.32\n",
            "INFO:gensim.models.poincare:time taken for 5000 examples: 1.06 s, 4733.04 examples / s\n",
            "INFO:gensim.models.poincare:training on epoch 14, examples #4990-#5000, loss: 8.91\n",
            "INFO:gensim.models.poincare:time taken for 5000 examples: 1.09 s, 4602.86 examples / s\n",
            "INFO:gensim.models.poincare:training on epoch 15, examples #4990-#5000, loss: 8.60\n",
            "INFO:gensim.models.poincare:time taken for 5000 examples: 1.05 s, 4739.45 examples / s\n",
            "INFO:gensim.models.poincare:training on epoch 16, examples #4990-#5000, loss: 8.35\n",
            "INFO:gensim.models.poincare:time taken for 5000 examples: 1.07 s, 4673.85 examples / s\n",
            "INFO:gensim.models.poincare:training on epoch 17, examples #4990-#5000, loss: 8.14\n",
            "INFO:gensim.models.poincare:time taken for 5000 examples: 1.05 s, 4776.00 examples / s\n",
            "INFO:gensim.models.poincare:training on epoch 18, examples #4990-#5000, loss: 7.89\n",
            "INFO:gensim.models.poincare:time taken for 5000 examples: 1.05 s, 4759.56 examples / s\n",
            "INFO:gensim.models.poincare:training on epoch 19, examples #4990-#5000, loss: 7.69\n",
            "INFO:gensim.models.poincare:time taken for 5000 examples: 1.07 s, 4675.22 examples / s\n",
            "INFO:gensim.models.poincare:training on epoch 20, examples #4990-#5000, loss: 7.54\n",
            "INFO:gensim.models.poincare:time taken for 5000 examples: 1.11 s, 4521.02 examples / s\n",
            "INFO:gensim.models.poincare:training on epoch 21, examples #4990-#5000, loss: 7.40\n",
            "INFO:gensim.models.poincare:time taken for 5000 examples: 1.07 s, 4672.16 examples / s\n",
            "INFO:gensim.models.poincare:training on epoch 22, examples #4990-#5000, loss: 7.29\n",
            "INFO:gensim.models.poincare:time taken for 5000 examples: 1.09 s, 4605.45 examples / s\n",
            "INFO:gensim.models.poincare:training on epoch 23, examples #4990-#5000, loss: 7.21\n",
            "INFO:gensim.models.poincare:time taken for 5000 examples: 1.11 s, 4516.54 examples / s\n",
            "INFO:gensim.models.poincare:training on epoch 24, examples #4990-#5000, loss: 7.02\n",
            "INFO:gensim.models.poincare:time taken for 5000 examples: 1.21 s, 4119.61 examples / s\n",
            "INFO:gensim.models.poincare:training on epoch 25, examples #4990-#5000, loss: 6.95\n",
            "INFO:gensim.models.poincare:time taken for 5000 examples: 1.11 s, 4497.23 examples / s\n",
            "INFO:gensim.models.poincare:training on epoch 26, examples #4990-#5000, loss: 6.85\n",
            "INFO:gensim.models.poincare:time taken for 5000 examples: 1.05 s, 4773.87 examples / s\n",
            "INFO:gensim.models.poincare:training on epoch 27, examples #4990-#5000, loss: 6.76\n",
            "INFO:gensim.models.poincare:time taken for 5000 examples: 1.04 s, 4825.06 examples / s\n",
            "INFO:gensim.models.poincare:training on epoch 28, examples #4990-#5000, loss: 6.71\n",
            "INFO:gensim.models.poincare:time taken for 5000 examples: 1.09 s, 4583.25 examples / s\n",
            "INFO:gensim.models.poincare:training on epoch 29, examples #4990-#5000, loss: 6.59\n",
            "INFO:gensim.models.poincare:time taken for 5000 examples: 1.11 s, 4488.41 examples / s\n",
            "INFO:gensim.models.poincare:training on epoch 30, examples #4990-#5000, loss: 6.51\n",
            "INFO:gensim.models.poincare:time taken for 5000 examples: 1.13 s, 4428.74 examples / s\n",
            "INFO:gensim.models.poincare:training on epoch 31, examples #4990-#5000, loss: 6.44\n",
            "INFO:gensim.models.poincare:time taken for 5000 examples: 1.13 s, 4438.69 examples / s\n",
            "INFO:gensim.models.poincare:training on epoch 32, examples #4990-#5000, loss: 6.37\n",
            "INFO:gensim.models.poincare:time taken for 5000 examples: 1.11 s, 4499.60 examples / s\n",
            "INFO:gensim.models.poincare:training on epoch 33, examples #4990-#5000, loss: 6.30\n",
            "INFO:gensim.models.poincare:time taken for 5000 examples: 1.14 s, 4389.39 examples / s\n",
            "INFO:gensim.models.poincare:training on epoch 34, examples #4990-#5000, loss: 6.29\n",
            "INFO:gensim.models.poincare:time taken for 5000 examples: 1.04 s, 4820.34 examples / s\n",
            "INFO:gensim.models.poincare:training on epoch 35, examples #4990-#5000, loss: 6.27\n",
            "INFO:gensim.models.poincare:time taken for 5000 examples: 1.03 s, 4875.22 examples / s\n",
            "INFO:gensim.models.poincare:training on epoch 36, examples #4990-#5000, loss: 6.11\n",
            "INFO:gensim.models.poincare:time taken for 5000 examples: 1.20 s, 4177.86 examples / s\n",
            "INFO:gensim.models.poincare:training on epoch 37, examples #4990-#5000, loss: 6.07\n",
            "INFO:gensim.models.poincare:time taken for 5000 examples: 1.17 s, 4263.47 examples / s\n",
            "INFO:gensim.models.poincare:training on epoch 38, examples #4990-#5000, loss: 6.13\n",
            "INFO:gensim.models.poincare:time taken for 5000 examples: 1.28 s, 3897.34 examples / s\n",
            "INFO:gensim.models.poincare:training on epoch 39, examples #4990-#5000, loss: 5.96\n",
            "INFO:gensim.models.poincare:time taken for 5000 examples: 1.16 s, 4299.34 examples / s\n",
            "INFO:gensim.models.poincare:training on epoch 40, examples #4990-#5000, loss: 5.94\n",
            "INFO:gensim.models.poincare:time taken for 5000 examples: 1.13 s, 4423.72 examples / s\n",
            "INFO:gensim.models.poincare:training on epoch 41, examples #4990-#5000, loss: 5.92\n",
            "INFO:gensim.models.poincare:time taken for 5000 examples: 1.03 s, 4874.79 examples / s\n",
            "INFO:gensim.models.poincare:training on epoch 42, examples #4990-#5000, loss: 5.99\n",
            "INFO:gensim.models.poincare:time taken for 5000 examples: 1.16 s, 4298.72 examples / s\n",
            "INFO:gensim.models.poincare:training on epoch 43, examples #4990-#5000, loss: 5.92\n",
            "INFO:gensim.models.poincare:time taken for 5000 examples: 1.05 s, 4753.81 examples / s\n",
            "INFO:gensim.models.poincare:training on epoch 44, examples #4990-#5000, loss: 5.87\n",
            "INFO:gensim.models.poincare:time taken for 5000 examples: 1.07 s, 4665.84 examples / s\n",
            "INFO:gensim.models.poincare:training on epoch 45, examples #4990-#5000, loss: 5.72\n",
            "INFO:gensim.models.poincare:time taken for 5000 examples: 1.18 s, 4230.98 examples / s\n",
            "INFO:gensim.models.poincare:training on epoch 46, examples #4990-#5000, loss: 5.71\n",
            "INFO:gensim.models.poincare:time taken for 5000 examples: 1.04 s, 4808.00 examples / s\n"
          ],
          "name": "stderr"
        },
        {
          "output_type": "stream",
          "text": [
            "INFO:gensim.models.poincare:training on epoch 47, examples #4990-#5000, loss: 5.71\n",
            "INFO:gensim.models.poincare:time taken for 5000 examples: 1.02 s, 4888.87 examples / s\n",
            "INFO:gensim.models.poincare:training on epoch 48, examples #4990-#5000, loss: 5.71\n",
            "INFO:gensim.models.poincare:time taken for 5000 examples: 1.10 s, 4531.51 examples / s\n",
            "INFO:gensim.models.poincare:training on epoch 49, examples #4990-#5000, loss: 5.65\n",
            "INFO:gensim.models.poincare:time taken for 5000 examples: 1.05 s, 4743.28 examples / s\n",
            "INFO:gensim.models.poincare:training on epoch 50, examples #4990-#5000, loss: 5.62\n",
            "INFO:gensim.models.poincare:time taken for 5000 examples: 1.18 s, 4220.02 examples / s\n",
            "INFO:gensim.models.poincare:training on epoch 51, examples #4990-#5000, loss: 5.67\n",
            "INFO:gensim.models.poincare:time taken for 5000 examples: 1.20 s, 4178.98 examples / s\n",
            "INFO:gensim.models.poincare:training on epoch 52, examples #4990-#5000, loss: 5.59\n",
            "INFO:gensim.models.poincare:time taken for 5000 examples: 1.13 s, 4434.61 examples / s\n",
            "INFO:gensim.models.poincare:training on epoch 53, examples #4990-#5000, loss: 5.60\n",
            "INFO:gensim.models.poincare:time taken for 5000 examples: 1.08 s, 4619.37 examples / s\n",
            "INFO:gensim.models.poincare:training on epoch 54, examples #4990-#5000, loss: 5.56\n",
            "INFO:gensim.models.poincare:time taken for 5000 examples: 1.16 s, 4299.55 examples / s\n",
            "INFO:gensim.models.poincare:training on epoch 55, examples #4990-#5000, loss: 5.55\n",
            "INFO:gensim.models.poincare:time taken for 5000 examples: 1.23 s, 4081.60 examples / s\n",
            "INFO:gensim.models.poincare:training on epoch 56, examples #4990-#5000, loss: 5.42\n",
            "INFO:gensim.models.poincare:time taken for 5000 examples: 1.18 s, 4222.22 examples / s\n",
            "INFO:gensim.models.poincare:training on epoch 57, examples #4990-#5000, loss: 5.42\n",
            "INFO:gensim.models.poincare:time taken for 5000 examples: 1.21 s, 4130.02 examples / s\n",
            "INFO:gensim.models.poincare:training on epoch 58, examples #4990-#5000, loss: 5.46\n",
            "INFO:gensim.models.poincare:time taken for 5000 examples: 1.11 s, 4509.71 examples / s\n",
            "INFO:gensim.models.poincare:training on epoch 59, examples #4990-#5000, loss: 5.38\n",
            "INFO:gensim.models.poincare:time taken for 5000 examples: 1.10 s, 4534.42 examples / s\n",
            "INFO:gensim.models.poincare:training on epoch 60, examples #4990-#5000, loss: 5.31\n",
            "INFO:gensim.models.poincare:time taken for 5000 examples: 1.23 s, 4076.29 examples / s\n",
            "INFO:gensim.models.poincare:training on epoch 61, examples #4990-#5000, loss: 5.43\n",
            "INFO:gensim.models.poincare:time taken for 5000 examples: 1.22 s, 4101.30 examples / s\n",
            "INFO:gensim.models.poincare:training on epoch 62, examples #4990-#5000, loss: 5.38\n",
            "INFO:gensim.models.poincare:time taken for 5000 examples: 1.19 s, 4201.53 examples / s\n",
            "INFO:gensim.models.poincare:training on epoch 63, examples #4990-#5000, loss: 5.37\n",
            "INFO:gensim.models.poincare:time taken for 5000 examples: 1.07 s, 4659.24 examples / s\n",
            "INFO:gensim.models.poincare:training on epoch 64, examples #4990-#5000, loss: 5.33\n",
            "INFO:gensim.models.poincare:time taken for 5000 examples: 1.09 s, 4584.65 examples / s\n",
            "INFO:gensim.models.poincare:training on epoch 65, examples #4990-#5000, loss: 5.26\n",
            "INFO:gensim.models.poincare:time taken for 5000 examples: 1.07 s, 4655.66 examples / s\n",
            "INFO:gensim.models.poincare:training on epoch 66, examples #4990-#5000, loss: 5.28\n",
            "INFO:gensim.models.poincare:time taken for 5000 examples: 1.08 s, 4644.09 examples / s\n",
            "INFO:gensim.models.poincare:training on epoch 67, examples #4990-#5000, loss: 5.30\n",
            "INFO:gensim.models.poincare:time taken for 5000 examples: 1.19 s, 4193.61 examples / s\n",
            "INFO:gensim.models.poincare:training on epoch 68, examples #4990-#5000, loss: 5.24\n",
            "INFO:gensim.models.poincare:time taken for 5000 examples: 1.07 s, 4659.13 examples / s\n",
            "INFO:gensim.models.poincare:training on epoch 69, examples #4990-#5000, loss: 5.28\n",
            "INFO:gensim.models.poincare:time taken for 5000 examples: 1.10 s, 4565.70 examples / s\n",
            "INFO:gensim.models.poincare:training on epoch 70, examples #4990-#5000, loss: 5.20\n",
            "INFO:gensim.models.poincare:time taken for 5000 examples: 1.07 s, 4656.40 examples / s\n",
            "INFO:gensim.models.poincare:training on epoch 71, examples #4990-#5000, loss: 5.16\n",
            "INFO:gensim.models.poincare:time taken for 5000 examples: 1.07 s, 4677.16 examples / s\n",
            "INFO:gensim.models.poincare:training on epoch 72, examples #4990-#5000, loss: 5.17\n",
            "INFO:gensim.models.poincare:time taken for 5000 examples: 1.17 s, 4258.11 examples / s\n",
            "INFO:gensim.models.poincare:training on epoch 73, examples #4990-#5000, loss: 5.23\n",
            "INFO:gensim.models.poincare:time taken for 5000 examples: 1.10 s, 4541.37 examples / s\n",
            "INFO:gensim.models.poincare:training on epoch 74, examples #4990-#5000, loss: 5.15\n",
            "INFO:gensim.models.poincare:time taken for 5000 examples: 1.09 s, 4581.03 examples / s\n",
            "INFO:gensim.models.poincare:training on epoch 75, examples #4990-#5000, loss: 5.11\n",
            "INFO:gensim.models.poincare:time taken for 5000 examples: 1.06 s, 4710.28 examples / s\n",
            "INFO:gensim.models.poincare:training on epoch 76, examples #4990-#5000, loss: 5.12\n",
            "INFO:gensim.models.poincare:time taken for 5000 examples: 1.12 s, 4452.58 examples / s\n",
            "INFO:gensim.models.poincare:training on epoch 77, examples #4990-#5000, loss: 5.13\n",
            "INFO:gensim.models.poincare:time taken for 5000 examples: 1.08 s, 4651.11 examples / s\n",
            "INFO:gensim.models.poincare:training on epoch 78, examples #4990-#5000, loss: 5.10\n",
            "INFO:gensim.models.poincare:time taken for 5000 examples: 1.02 s, 4901.87 examples / s\n",
            "INFO:gensim.models.poincare:training on epoch 79, examples #4990-#5000, loss: 5.08\n",
            "INFO:gensim.models.poincare:time taken for 5000 examples: 1.07 s, 4674.55 examples / s\n",
            "INFO:gensim.models.poincare:training on epoch 80, examples #4990-#5000, loss: 5.08\n",
            "INFO:gensim.models.poincare:time taken for 5000 examples: 1.11 s, 4503.82 examples / s\n",
            "INFO:gensim.models.poincare:training on epoch 81, examples #4990-#5000, loss: 5.04\n",
            "INFO:gensim.models.poincare:time taken for 5000 examples: 1.11 s, 4523.66 examples / s\n",
            "INFO:gensim.models.poincare:training on epoch 82, examples #4990-#5000, loss: 5.09\n",
            "INFO:gensim.models.poincare:time taken for 5000 examples: 1.15 s, 4329.29 examples / s\n",
            "INFO:gensim.models.poincare:training on epoch 83, examples #4990-#5000, loss: 5.04\n",
            "INFO:gensim.models.poincare:time taken for 5000 examples: 1.10 s, 4553.52 examples / s\n",
            "INFO:gensim.models.poincare:training on epoch 84, examples #4990-#5000, loss: 5.05\n",
            "INFO:gensim.models.poincare:time taken for 5000 examples: 1.04 s, 4803.08 examples / s\n",
            "INFO:gensim.models.poincare:training on epoch 85, examples #4990-#5000, loss: 5.04\n",
            "INFO:gensim.models.poincare:time taken for 5000 examples: 1.11 s, 4507.76 examples / s\n",
            "INFO:gensim.models.poincare:training on epoch 86, examples #4990-#5000, loss: 5.03\n",
            "INFO:gensim.models.poincare:time taken for 5000 examples: 1.07 s, 4659.03 examples / s\n",
            "INFO:gensim.models.poincare:training on epoch 87, examples #4990-#5000, loss: 4.98\n",
            "INFO:gensim.models.poincare:time taken for 5000 examples: 1.04 s, 4816.34 examples / s\n",
            "INFO:gensim.models.poincare:training on epoch 88, examples #4990-#5000, loss: 4.95\n",
            "INFO:gensim.models.poincare:time taken for 5000 examples: 1.06 s, 4717.47 examples / s\n",
            "INFO:gensim.models.poincare:training on epoch 89, examples #4990-#5000, loss: 4.95\n",
            "INFO:gensim.models.poincare:time taken for 5000 examples: 1.10 s, 4559.69 examples / s\n",
            "INFO:gensim.models.poincare:training on epoch 90, examples #4990-#5000, loss: 4.94\n",
            "INFO:gensim.models.poincare:time taken for 5000 examples: 1.11 s, 4491.47 examples / s\n",
            "INFO:gensim.models.poincare:training on epoch 91, examples #4990-#5000, loss: 4.94\n",
            "INFO:gensim.models.poincare:time taken for 5000 examples: 1.23 s, 4063.27 examples / s\n",
            "INFO:gensim.models.poincare:training on epoch 92, examples #4990-#5000, loss: 4.98\n",
            "INFO:gensim.models.poincare:time taken for 5000 examples: 1.10 s, 4553.66 examples / s\n",
            "INFO:gensim.models.poincare:training on epoch 93, examples #4990-#5000, loss: 4.86\n",
            "INFO:gensim.models.poincare:time taken for 5000 examples: 1.16 s, 4295.74 examples / s\n",
            "INFO:gensim.models.poincare:training on epoch 94, examples #4990-#5000, loss: 4.89\n",
            "INFO:gensim.models.poincare:time taken for 5000 examples: 1.05 s, 4742.86 examples / s\n",
            "INFO:gensim.models.poincare:training on epoch 95, examples #4990-#5000, loss: 4.77\n"
          ],
          "name": "stderr"
        },
        {
          "output_type": "stream",
          "text": [
            "INFO:gensim.models.poincare:time taken for 5000 examples: 1.11 s, 4507.79 examples / s\n",
            "INFO:gensim.models.poincare:training on epoch 96, examples #4990-#5000, loss: 4.82\n",
            "INFO:gensim.models.poincare:time taken for 5000 examples: 1.19 s, 4206.02 examples / s\n",
            "INFO:gensim.models.poincare:training on epoch 97, examples #4990-#5000, loss: 4.88\n",
            "INFO:gensim.models.poincare:time taken for 5000 examples: 1.21 s, 4141.96 examples / s\n",
            "INFO:gensim.models.poincare:training on epoch 98, examples #4990-#5000, loss: 4.91\n",
            "INFO:gensim.models.poincare:time taken for 5000 examples: 1.12 s, 4458.38 examples / s\n",
            "INFO:gensim.models.poincare:training on epoch 99, examples #4990-#5000, loss: 4.84\n",
            "INFO:gensim.models.poincare:time taken for 5000 examples: 1.06 s, 4706.94 examples / s\n",
            "INFO:gensim.models.poincare:training on epoch 100, examples #4990-#5000, loss: 4.86\n",
            "INFO:gensim.models.poincare:time taken for 5000 examples: 1.04 s, 4787.59 examples / s\n",
            "INFO:gensim.models.poincare:training finished\n"
          ],
          "name": "stderr"
        }
      ]
    },
    {
      "metadata": {
        "id": "qbQbU4rhoMxG",
        "colab_type": "text"
      },
      "cell_type": "markdown",
      "source": [
        "### Save Poincare model"
      ]
    },
    {
      "metadata": {
        "id": "KsDHI0OeoMxH",
        "colab_type": "code",
        "colab": {},
        "outputId": "09bc95d7-5a50-4acd-cc37-f398f011ae1b"
      },
      "cell_type": "code",
      "source": [
        "# Saves the entire PoincareModel instance, the loaded model can be trained further\n",
        "model.save(os.path.join(\"models\", 'gensim_model_batch_size_10_burn_in_0_epochs_100_neg_15_dim_50'))\n",
        "\n",
        "# Saves only the vectors from the PoincareModel instance, in the commonly used word2vec format\n",
        "model.kv.save_word2vec_format(os.path.join(\"models\", 'gensim_model_batch_size_10_burn_in_0_epochs_100_neg_15_dim_50_vectors'))\n",
        "PoincareKeyedVectors.load_word2vec_format(os.path.join(\"models\", 'gensim_model_batch_size_10_burn_in_0_epochs_100_neg_15_dim_50_vectors'))"
      ],
      "execution_count": 0,
      "outputs": [
        {
          "output_type": "stream",
          "text": [
            "INFO:gensim.utils:saving PoincareModel object under models/gensim_model_batch_size_10_burn_in_0_epochs_100_neg_15_dim_50, separately None\n",
            "INFO:gensim.utils:not storing attribute _node_probabilities\n",
            "INFO:gensim.utils:not storing attribute _node_counts_cumsum\n",
            "INFO:gensim.utils:saved models/gensim_model_batch_size_10_burn_in_0_epochs_100_neg_15_dim_50\n",
            "INFO:gensim.models.utils_any2vec:storing 1182x50 projection weights into models/gensim_model_batch_size_10_burn_in_0_epochs_100_neg_15_dim_50_vectors\n",
            "INFO:gensim.models.utils_any2vec:loading projection weights from models/gensim_model_batch_size_10_burn_in_0_epochs_100_neg_15_dim_50_vectors\n",
            "INFO:gensim.models.utils_any2vec:loaded (1182, 50) matrix from models/gensim_model_batch_size_10_burn_in_0_epochs_100_neg_15_dim_50_vectors\n"
          ],
          "name": "stderr"
        },
        {
          "output_type": "execute_result",
          "data": {
            "text/plain": [
              "<gensim.models.poincare.PoincareKeyedVectors at 0x7f9224ffbac8>"
            ]
          },
          "metadata": {
            "tags": []
          },
          "execution_count": 46
        }
      ]
    },
    {
      "metadata": {
        "id": "3Pejk9i7oMxK",
        "colab_type": "code",
        "colab": {},
        "outputId": "5889f623-a003-4859-a467-f786e9a223cb"
      },
      "cell_type": "code",
      "source": [
        "!ls models"
      ],
      "execution_count": 0,
      "outputs": [
        {
          "output_type": "stream",
          "text": [
            "gensim_model_batch_size_10_burn_in_0_epochs_100_neg_15_dim_50\r\n",
            "gensim_model_batch_size_10_burn_in_0_epochs_100_neg_15_dim_50_vectors\r\n",
            "test_model\r\n",
            "test_vectors\r\n"
          ],
          "name": "stdout"
        }
      ]
    },
    {
      "metadata": {
        "id": "7IE95bHMoMxM",
        "colab_type": "text"
      },
      "cell_type": "markdown",
      "source": [
        "### Load Model"
      ]
    },
    {
      "metadata": {
        "id": "9Dk2cAw_oMxM",
        "colab_type": "code",
        "colab": {},
        "outputId": "ea389ce8-1652-4471-cb80-adec1b4827f7"
      },
      "cell_type": "code",
      "source": [
        "# Load an example model\n",
        "test_model_path = os.path.join(\"models\", 'gensim_model_batch_size_10_burn_in_0_epochs_100_neg_15_dim_50')\n",
        "model = PoincareModel.load(test_model_path)"
      ],
      "execution_count": 0,
      "outputs": [
        {
          "output_type": "stream",
          "text": [
            "INFO:gensim.utils:loading PoincareModel object from models/gensim_model_batch_size_10_burn_in_0_epochs_100_neg_15_dim_50\n",
            "INFO:gensim.utils:loading kv recursively from models/gensim_model_batch_size_10_burn_in_0_epochs_100_neg_15_dim_50.kv.* with mmap=None\n",
            "INFO:gensim.utils:setting ignored attribute _node_probabilities to None\n",
            "INFO:gensim.utils:setting ignored attribute _node_counts_cumsum to None\n",
            "INFO:gensim.utils:loaded models/gensim_model_batch_size_10_burn_in_0_epochs_100_neg_15_dim_50\n"
          ],
          "name": "stderr"
        }
      ]
    },
    {
      "metadata": {
        "id": "SHowxfXWoMxQ",
        "colab_type": "code",
        "colab": {},
        "outputId": "4bf2c793-e0b1-4b58-a6c2-e46d105e89d2"
      },
      "cell_type": "code",
      "source": [
        "model.kv.distance('leopard.n.02', 'mammal.n.01')"
      ],
      "execution_count": 0,
      "outputs": [
        {
          "output_type": "execute_result",
          "data": {
            "text/plain": [
              "4.6996343113350845"
            ]
          },
          "metadata": {
            "tags": []
          },
          "execution_count": 49
        }
      ]
    },
    {
      "metadata": {
        "id": "eKjfiHfmoMxR",
        "colab_type": "code",
        "colab": {},
        "outputId": "a8a75ac0-bafd-4c2f-d3fe-408781a9e23a"
      },
      "cell_type": "code",
      "source": [
        "model.kv.distance('big_cat.n.01', 'carnivore.n.01')"
      ],
      "execution_count": 0,
      "outputs": [
        {
          "output_type": "execute_result",
          "data": {
            "text/plain": [
              "4.05283757757651"
            ]
          },
          "metadata": {
            "tags": []
          },
          "execution_count": 51
        }
      ]
    },
    {
      "metadata": {
        "id": "vBIABXhIoMxV",
        "colab_type": "code",
        "colab": {},
        "outputId": "d0964dca-f137-49a8-9080-dc2496817bb9"
      },
      "cell_type": "code",
      "source": [
        "model.kv.distance('leopard.n.02', 'carnivore.n.01')"
      ],
      "execution_count": 0,
      "outputs": [
        {
          "output_type": "execute_result",
          "data": {
            "text/plain": [
              "5.899219325927009"
            ]
          },
          "metadata": {
            "tags": []
          },
          "execution_count": 52
        }
      ]
    },
    {
      "metadata": {
        "id": "niKcwJhwoMxX",
        "colab_type": "code",
        "colab": {},
        "outputId": "c353fcd5-7f6e-4b56-80ec-6ae0be27c8b4"
      },
      "cell_type": "code",
      "source": [
        "model.kv.most_similar('carnivore.n.01')"
      ],
      "execution_count": 0,
      "outputs": [
        {
          "output_type": "execute_result",
          "data": {
            "text/plain": [
              "[('canine.n.02', 1.4622685157321058),\n",
              " ('dog.n.01', 1.7998485698460545),\n",
              " ('mammal.n.01', 2.2189321543666836),\n",
              " ('placental.n.01', 2.253621796196318),\n",
              " ('hunting_dog.n.01', 2.5581271084899964),\n",
              " ('working_dog.n.01', 2.939891969715774),\n",
              " ('terrier.n.01', 3.1837159005993154),\n",
              " ('hound.n.01', 3.2627874434520683),\n",
              " ('sporting_dog.n.01', 3.430326973465194),\n",
              " ('ungulate.n.01', 3.713664161261775)]"
            ]
          },
          "metadata": {
            "tags": []
          },
          "execution_count": 54
        }
      ]
    },
    {
      "metadata": {
        "id": "USbfq2eJoMxa",
        "colab_type": "code",
        "colab": {},
        "outputId": "6c4972cd-69a7-4624-d632-2767600daab0"
      },
      "cell_type": "code",
      "source": [
        "model.kv.most_similar('placental.n.01')"
      ],
      "execution_count": 0,
      "outputs": [
        {
          "output_type": "execute_result",
          "data": {
            "text/plain": [
              "[('mammal.n.01', 0.14645553384552298),\n",
              " ('ungulate.n.01', 1.540289528532619),\n",
              " ('rodent.n.01', 2.2167308771485357),\n",
              " ('carnivore.n.01', 2.253621796196318),\n",
              " ('canine.n.02', 2.2648718242311165),\n",
              " ('primate.n.02', 2.493889812208345),\n",
              " ('dog.n.01', 2.675541827178736),\n",
              " ('bovid.n.01', 2.8032366921995058),\n",
              " ('ruminant.n.01', 2.8583992985502293),\n",
              " ('horse.n.01', 2.8594645400993772)]"
            ]
          },
          "metadata": {
            "tags": []
          },
          "execution_count": 55
        }
      ]
    },
    {
      "metadata": {
        "id": "Iq-0rio6oMxd",
        "colab_type": "code",
        "colab": {},
        "outputId": "2c87d956-654e-4c9d-b525-b1de2d66a803"
      },
      "cell_type": "code",
      "source": [
        "model.kv.most_similar('dog.n.01')"
      ],
      "execution_count": 0,
      "outputs": [
        {
          "output_type": "execute_result",
          "data": {
            "text/plain": [
              "[('canine.n.02', 0.6940082439545993),\n",
              " ('carnivore.n.01', 1.799848569846055),\n",
              " ('hunting_dog.n.01', 2.102261594865515),\n",
              " ('mammal.n.01', 2.636876641390817),\n",
              " ('placental.n.01', 2.675541827178737),\n",
              " ('hound.n.01', 3.076053270695522),\n",
              " ('terrier.n.01', 3.1882716701053258),\n",
              " ('sporting_dog.n.01', 3.284713879653239),\n",
              " ('working_dog.n.01', 3.3184642024075632),\n",
              " ('spaniel.n.01', 3.7835057476631344)]"
            ]
          },
          "metadata": {
            "tags": []
          },
          "execution_count": 56
        }
      ]
    },
    {
      "metadata": {
        "id": "ybc2zreHoMxe",
        "colab_type": "code",
        "colab": {},
        "outputId": "97d6d412-20e1-4efc-9348-203a5c615637"
      },
      "cell_type": "code",
      "source": [
        "model.kv.most_similar('water_buffalo.n.01')"
      ],
      "execution_count": 0,
      "outputs": [
        {
          "output_type": "execute_result",
          "data": {
            "text/plain": [
              "[('old_world_buffalo.n.01', 4.535602868678815),\n",
              " ('ungulate.n.01', 4.776634516635558),\n",
              " ('placental.n.01', 4.928882990831339),\n",
              " ('mammal.n.01', 4.950466575525492),\n",
              " ('bovid.n.01', 5.302031802179551),\n",
              " ('ruminant.n.01', 5.3361939826241604),\n",
              " ('even-toed_ungulate.n.01', 5.38102898984388),\n",
              " ('antelope.n.01', 6.234752116735898),\n",
              " ('bovine.n.01', 6.385315881570075),\n",
              " ('rodent.n.01', 6.487380883950741)]"
            ]
          },
          "metadata": {
            "tags": []
          },
          "execution_count": 57
        }
      ]
    },
    {
      "metadata": {
        "id": "MPXk0Z7coMxh",
        "colab_type": "code",
        "colab": {},
        "outputId": "34981946-3166-4bfa-d753-e8ba669c8303"
      },
      "cell_type": "code",
      "source": [
        "model.kv.most_similar('rodent.n.01')"
      ],
      "execution_count": 0,
      "outputs": [
        {
          "output_type": "execute_result",
          "data": {
            "text/plain": [
              "[('placental.n.01', 2.2167308771485357),\n",
              " ('mammal.n.01', 2.2495965615454594),\n",
              " ('ungulate.n.01', 3.2636266955897715),\n",
              " ('squirrel.n.01', 3.580557360231174),\n",
              " ('rat.n.01', 3.791180665616557),\n",
              " ('mouse.n.01', 3.8481892737284618),\n",
              " ('carnivore.n.01', 3.916215035173135),\n",
              " ('canine.n.02', 3.956813566470553),\n",
              " ('primate.n.02', 4.003461462425588),\n",
              " ('ground_squirrel.n.02', 4.14184857850737)]"
            ]
          },
          "metadata": {
            "tags": []
          },
          "execution_count": 58
        }
      ]
    },
    {
      "metadata": {
        "id": "WHDvBmOhoMxk",
        "colab_type": "code",
        "colab": {},
        "outputId": "c98c6662-961b-483c-bb21-a325046c1348"
      },
      "cell_type": "code",
      "source": [
        "model.kv.most_similar('rat.n.01')"
      ],
      "execution_count": 0,
      "outputs": [
        {
          "output_type": "execute_result",
          "data": {
            "text/plain": [
              "[('pocket_rat.n.01', 1.9203139422218085),\n",
              " ('placental.n.01', 3.4274962065357326),\n",
              " ('mammal.n.01', 3.460372398746926),\n",
              " ('gopher.n.04', 3.658878861481397),\n",
              " ('rodent.n.01', 3.791180665616557),\n",
              " ('pocket_mouse.n.01', 3.9305179704671156),\n",
              " ('ungulate.n.01', 4.469113630749723),\n",
              " ('carnivore.n.01', 4.976579507134635),\n",
              " ('canine.n.02', 5.008050036363146),\n",
              " ('primate.n.02', 5.2113547616528955)]"
            ]
          },
          "metadata": {
            "tags": []
          },
          "execution_count": 59
        }
      ]
    },
    {
      "metadata": {
        "id": "2ZN3CP00oMxl",
        "colab_type": "code",
        "colab": {},
        "outputId": "ad0b839c-1378-4cb4-a80f-b6eeb1e3ad31"
      },
      "cell_type": "code",
      "source": [
        "model.kv.most_similar('ungulate.n.01')"
      ],
      "execution_count": 0,
      "outputs": [
        {
          "output_type": "execute_result",
          "data": {
            "text/plain": [
              "[('placental.n.01', 1.540289528532619),\n",
              " ('mammal.n.01', 1.5764339459988883),\n",
              " ('bovid.n.01', 2.3998372043187866),\n",
              " ('even-toed_ungulate.n.01', 2.4237860114509253),\n",
              " ('ruminant.n.01', 2.4452965085767464),\n",
              " ('odd-toed_ungulate.n.01', 2.8792636724601106),\n",
              " ('horse.n.01', 2.9122289575872817),\n",
              " ('equine.n.01', 3.0234663015759593),\n",
              " ('bovine.n.01', 3.088924285509799),\n",
              " ('antelope.n.01', 3.2286959998520084)]"
            ]
          },
          "metadata": {
            "tags": []
          },
          "execution_count": 60
        }
      ]
    },
    {
      "metadata": {
        "id": "CIDy7ALPoMxo",
        "colab_type": "code",
        "colab": {},
        "outputId": "a7c48021-e6c4-4d8c-92c4-cca083a50319"
      },
      "cell_type": "code",
      "source": [
        "model.kv.most_similar('horse.n.01')"
      ],
      "execution_count": 0,
      "outputs": [
        {
          "output_type": "execute_result",
          "data": {
            "text/plain": [
              "[('equine.n.01', 0.9909224063410882),\n",
              " ('odd-toed_ungulate.n.01', 1.0767240202495443),\n",
              " ('saddle_horse.n.01', 2.8004988083198548),\n",
              " ('racehorse.n.01', 2.8087947852250443),\n",
              " ('placental.n.01', 2.8594645400993772),\n",
              " ('mammal.n.01', 2.879713565770368),\n",
              " ('ungulate.n.01', 2.9122289575872817),\n",
              " ('thoroughbred.n.02', 3.3844598450070644),\n",
              " ('workhorse.n.02', 3.8375313266289632),\n",
              " ('draft_horse.n.01', 4.159634832726027)]"
            ]
          },
          "metadata": {
            "tags": []
          },
          "execution_count": 61
        }
      ]
    },
    {
      "metadata": {
        "id": "RT1EsJSfoMxp",
        "colab_type": "code",
        "colab": {},
        "outputId": "d423033d-a1c8-4b5e-bdab-bcc83299f863"
      },
      "cell_type": "code",
      "source": [
        "# Rank of distance of node 2 from node 1 in relation to distances of all nodes from node 1\n",
        "model.kv.rank('dog.n.01', 'carnivore.n.01')"
      ],
      "execution_count": 0,
      "outputs": [
        {
          "output_type": "execute_result",
          "data": {
            "text/plain": [
              "2"
            ]
          },
          "metadata": {
            "tags": []
          },
          "execution_count": 63
        }
      ]
    },
    {
      "metadata": {
        "id": "Cv2OIawRoMxs",
        "colab_type": "code",
        "colab": {},
        "outputId": "0e30b71a-0c70-44f3-b685-8e63a41d2bbf"
      },
      "cell_type": "code",
      "source": [
        "model.kv.rank('big_cat.n.01', 'carnivore.n.01')"
      ],
      "execution_count": 0,
      "outputs": [
        {
          "output_type": "execute_result",
          "data": {
            "text/plain": [
              "5"
            ]
          },
          "metadata": {
            "tags": []
          },
          "execution_count": 64
        }
      ]
    },
    {
      "metadata": {
        "id": "qbDIAezKoMxx",
        "colab_type": "code",
        "colab": {},
        "outputId": "b496c27c-31a9-4768-c1c6-f6cbb64f2fe8"
      },
      "cell_type": "code",
      "source": [
        "model.kv.rank('horse.n.01', 'mammal.n.01')"
      ],
      "execution_count": 0,
      "outputs": [
        {
          "output_type": "execute_result",
          "data": {
            "text/plain": [
              "6"
            ]
          },
          "metadata": {
            "tags": []
          },
          "execution_count": 67
        }
      ]
    },
    {
      "metadata": {
        "id": "LkrVu8fEoMxz",
        "colab_type": "code",
        "colab": {},
        "outputId": "eb17641f-4329-40d2-8970-6bbf27063f89"
      },
      "cell_type": "code",
      "source": [
        "# Finding Poincare distance between input vectors\n",
        "vector_1 = np.random.uniform(size=(100,)) # vector with 100 dim\n",
        "vector_2 = np.random.uniform(size=(100,))\n",
        "vectors_multiple = np.random.uniform(size=(5, 100)) # 5 vectors of 100 dim each\n",
        "\n",
        "# Distance between vector_1 and vector_2\n",
        "print(PoincareKeyedVectors.vector_distance(vector_1, vector_2))\n",
        "# Distance between vector_1 and each vector in vectors_multiple\n",
        "print(PoincareKeyedVectors.vector_distance_batch(vector_1, vectors_multiple))"
      ],
      "execution_count": 0,
      "outputs": [
        {
          "output_type": "stream",
          "text": [
            "0.2476983757166352\n",
            "[0.20072996 0.251983   0.20987393 0.24016439 0.22474547]\n"
          ],
          "name": "stdout"
        }
      ]
    },
    {
      "metadata": {
        "id": "7oMAI-FmoMx2",
        "colab_type": "code",
        "colab": {},
        "outputId": "d1de1b48-1621-4316-b8c6-18b1d1b3ff73"
      },
      "cell_type": "code",
      "source": [
        "# Closest child node\n",
        "model.kv.closest_child('virginia_deer.n.01')"
      ],
      "execution_count": 0,
      "outputs": [
        {
          "output_type": "execute_result",
          "data": {
            "text/plain": [
              "'japanese_deer.n.01'"
            ]
          },
          "metadata": {
            "tags": []
          },
          "execution_count": 69
        }
      ]
    },
    {
      "metadata": {
        "id": "q-38-h2foMx4",
        "colab_type": "code",
        "colab": {},
        "outputId": "d635d852-b7c4-4de5-991d-b230f3d6a5b4"
      },
      "cell_type": "code",
      "source": [
        "model.kv.closest_child('mammal.n.01')"
      ],
      "execution_count": 0,
      "outputs": [
        {
          "output_type": "execute_result",
          "data": {
            "text/plain": [
              "'placental.n.01'"
            ]
          },
          "metadata": {
            "tags": []
          },
          "execution_count": 70
        }
      ]
    },
    {
      "metadata": {
        "id": "jJqT0PFLoMx8",
        "colab_type": "code",
        "colab": {},
        "outputId": "761a7d43-e45f-4a9d-f305-c3283ccfe33a"
      },
      "cell_type": "code",
      "source": [
        "model.kv.closest_parent('canine.n.02')"
      ],
      "execution_count": 0,
      "outputs": [
        {
          "output_type": "execute_result",
          "data": {
            "text/plain": [
              "'carnivore.n.01'"
            ]
          },
          "metadata": {
            "tags": []
          },
          "execution_count": 71
        }
      ]
    },
    {
      "metadata": {
        "id": "CkmN8yvRoMyD",
        "colab_type": "code",
        "colab": {},
        "outputId": "848ba02d-dc36-4f1e-a8a4-c75e97f64daf"
      },
      "cell_type": "code",
      "source": [
        "model.kv.closest_parent('virginia_deer.n.01')\n"
      ],
      "execution_count": 0,
      "outputs": [
        {
          "output_type": "execute_result",
          "data": {
            "text/plain": [
              "'placental.n.01'"
            ]
          },
          "metadata": {
            "tags": []
          },
          "execution_count": 72
        }
      ]
    },
    {
      "metadata": {
        "id": "YDToErqXoMyF",
        "colab_type": "code",
        "colab": {},
        "outputId": "b845a0d8-a7d5-4d8f-8a9c-aa04bf5c00d3"
      },
      "cell_type": "code",
      "source": [
        "# Position in hierarchy - lower values represent that the node is higher in the hierarchy\n",
        "print(model.kv.norm('virginia_deer.n.01'))\n",
        "print(model.kv.norm('sheep.n.01'))\n",
        "print(model.kv.norm('dog.n.01'))\n",
        "print(model.kv.norm('placental.n.01'))\n",
        "print(model.kv.norm('mammal.n.01'))"
      ],
      "execution_count": 0,
      "outputs": [
        {
          "output_type": "stream",
          "text": [
            "0.9975266039625919\n",
            "0.9633381372043165\n",
            "0.8655538903869042\n",
            "0.047698901404521925\n",
            "0.045305595484846535\n"
          ],
          "name": "stdout"
        }
      ]
    },
    {
      "metadata": {
        "id": "HPOlqcm_oMyH",
        "colab_type": "code",
        "colab": {},
        "outputId": "69c01d96-1e61-48f0-b2c0-94389c005350"
      },
      "cell_type": "code",
      "source": [
        "# Difference in hierarchy between the first node and the second node\n",
        "# Positive values indicate the first node is higher in the hierarchy\n",
        "print(model.kv.difference_in_hierarchy('dog.n.01', 'sheep.n.01'))"
      ],
      "execution_count": 0,
      "outputs": [
        {
          "output_type": "stream",
          "text": [
            "0.09778424681741227\n"
          ],
          "name": "stdout"
        }
      ]
    },
    {
      "metadata": {
        "id": "a6wTgI6AoMyJ",
        "colab_type": "code",
        "colab": {},
        "outputId": "5177aa23-5af2-4a81-b260-bf4254c6ee27"
      },
      "cell_type": "code",
      "source": [
        "# One possible descendant chain\n",
        "model.kv.descendants('mammal.n.01')"
      ],
      "execution_count": 0,
      "outputs": [
        {
          "output_type": "execute_result",
          "data": {
            "text/plain": [
              "['placental.n.01',\n",
              " 'ungulate.n.01',\n",
              " 'bovid.n.01',\n",
              " 'ruminant.n.01',\n",
              " 'even-toed_ungulate.n.01']"
            ]
          },
          "metadata": {
            "tags": []
          },
          "execution_count": 75
        }
      ]
    },
    {
      "metadata": {
        "id": "n89PwQBioMyL",
        "colab_type": "code",
        "colab": {},
        "outputId": "c8a9b83a-b8c3-45a3-efd8-7bf6cddec7f3"
      },
      "cell_type": "code",
      "source": [
        "# One possible ancestor chain\n",
        "model.kv.ancestors('dog.n.01')"
      ],
      "execution_count": 0,
      "outputs": [
        {
          "output_type": "execute_result",
          "data": {
            "text/plain": [
              "['canine.n.02', 'carnivore.n.01', 'mammal.n.01']"
            ]
          },
          "metadata": {
            "tags": []
          },
          "execution_count": 76
        }
      ]
    },
    {
      "metadata": {
        "id": "0abjaAfJoMyM",
        "colab_type": "code",
        "colab": {},
        "outputId": "ab3dd08d-8587-456f-e02d-165dd0892a79"
      },
      "cell_type": "code",
      "source": [
        "model.kv.ancestors('sheep.n.01')"
      ],
      "execution_count": 0,
      "outputs": [
        {
          "output_type": "execute_result",
          "data": {
            "text/plain": [
              "['ungulate.n.01', 'placental.n.01', 'mammal.n.01']"
            ]
          },
          "metadata": {
            "tags": []
          },
          "execution_count": 77
        }
      ]
    },
    {
      "metadata": {
        "id": "IxHremzuoMyO",
        "colab_type": "text"
      },
      "cell_type": "markdown",
      "source": [
        "### Visualization"
      ]
    },
    {
      "metadata": {
        "id": "GTEb8NnJoMyP",
        "colab_type": "code",
        "colab": {},
        "outputId": "266faa4d-9fbb-428d-f578-2098c3a4fa60"
      },
      "cell_type": "code",
      "source": [
        "from gensim.viz.poincare import poincare_2d_visualization, poincare_distance_heatmap\n",
        "import plotly.plotly as py\n",
        "py.sign_in('huyhoang17', 'wc50ox3mrO2B9sCKlHFr')"
      ],
      "execution_count": 0,
      "outputs": [
        {
          "output_type": "stream",
          "text": [
            "/usr/lib/python3.5/importlib/_bootstrap.py:222: RuntimeWarning: numpy.dtype size changed, may indicate binary incompatibility. Expected 96, got 88\n",
            "  return f(*args, **kwds)\n",
            "/usr/lib/python3.5/importlib/_bootstrap.py:222: RuntimeWarning: numpy.dtype size changed, may indicate binary incompatibility. Expected 96, got 88\n",
            "  return f(*args, **kwds)\n"
          ],
          "name": "stderr"
        }
      ]
    },
    {
      "metadata": {
        "id": "8ApUQbq7oMyS",
        "colab_type": "code",
        "colab": {},
        "outputId": "513145aa-8bf1-4947-ebba-8c6b17d2ffc4"
      },
      "cell_type": "code",
      "source": [
        "len(list(relations))"
      ],
      "execution_count": 0,
      "outputs": [
        {
          "output_type": "execute_result",
          "data": {
            "text/plain": [
              "7724"
            ]
          },
          "metadata": {
            "tags": []
          },
          "execution_count": 79
        }
      ]
    },
    {
      "metadata": {
        "id": "BKVt6268oMyV",
        "colab_type": "code",
        "colab": {},
        "outputId": "046dadf0-2ac4-4966-a780-6a90206632a0"
      },
      "cell_type": "code",
      "source": [
        "len(list(set(relations)))"
      ],
      "execution_count": 0,
      "outputs": [
        {
          "output_type": "execute_result",
          "data": {
            "text/plain": [
              "7724"
            ]
          },
          "metadata": {
            "tags": []
          },
          "execution_count": 80
        }
      ]
    },
    {
      "metadata": {
        "id": "97GV8rkKoMyY",
        "colab_type": "code",
        "colab": {}
      },
      "cell_type": "code",
      "source": [
        "all_relations = list(set(relations))"
      ],
      "execution_count": 0,
      "outputs": []
    },
    {
      "metadata": {
        "id": "pA7zQdW1oMyZ",
        "colab_type": "code",
        "colab": {},
        "outputId": "b00cf9d2-8116-4c48-e28a-05603c6196b8"
      },
      "cell_type": "code",
      "source": [
        "all_relations[:10]"
      ],
      "execution_count": 0,
      "outputs": [
        {
          "output_type": "execute_result",
          "data": {
            "text/plain": [
              "[('blenheim_spaniel.n.01', 'dog.n.01'),\n",
              " ('aardwolf.n.01', 'placental.n.01'),\n",
              " ('pygmy_marmoset.n.01', 'pygmy_marmoset.n.01'),\n",
              " ('hairy-legged_vampire_bat.n.01', 'hairy-legged_vampire_bat.n.01'),\n",
              " ('green_monkey.n.01', 'guenon.n.01'),\n",
              " ('polo_pony.n.01', 'equine.n.01'),\n",
              " ('cynopterus_sphinx.n.01', 'cynopterus_sphinx.n.01'),\n",
              " ('bighorn.n.02', 'placental.n.01'),\n",
              " ('hart.n.03', 'placental.n.01'),\n",
              " ('crabeater_seal.n.01', 'seal.n.09')]"
            ]
          },
          "metadata": {
            "tags": []
          },
          "execution_count": 83
        }
      ]
    },
    {
      "metadata": {
        "id": "nFmws256oMya",
        "colab_type": "code",
        "colab": {}
      },
      "cell_type": "code",
      "source": [
        "# show_node_labels = ['mammal.n.01', 'placental.n.01', 'tiger.n.02', 'homo_sapiens.n.01']\n",
        "show_node_labels = ['mammal.n.01', 'placental.n.01', 'ungulate.n.01', 'carnivore.n.01', 'rodent.n.01',\n",
        "'canine.n.02', 'even-toed_ungulate.n.01', 'odd-toed_ungulate.n.01', 'elephant.n.01',\n",
        "'rhinoceros.n.01', 'german_shepherd.n.01', 'feline.n.01', 'tiger.n.02', 'homo_sapiens.n.01']\n",
        "filtered_set = set()\n",
        "for relation in all_relations:\n",
        "    if relation[0] in show_node_labels and relation[1] in show_node_labels:\n",
        "        filtered_set.add(relation)"
      ],
      "execution_count": 0,
      "outputs": []
    },
    {
      "metadata": {
        "id": "mnD4QxHzoMyb",
        "colab_type": "code",
        "colab": {},
        "outputId": "d6adb1d5-1a8a-400c-cd00-f639700a96c6"
      },
      "cell_type": "code",
      "source": [
        "len(filtered_set)"
      ],
      "execution_count": 0,
      "outputs": [
        {
          "output_type": "execute_result",
          "data": {
            "text/plain": [
              "49"
            ]
          },
          "metadata": {
            "tags": []
          },
          "execution_count": 85
        }
      ]
    },
    {
      "metadata": {
        "id": "1UF5DaVboMyd",
        "colab_type": "code",
        "colab": {},
        "outputId": "6b07da6f-f06c-4b5a-f1b6-da04cb75c13d"
      },
      "cell_type": "code",
      "source": [
        "filtered_set"
      ],
      "execution_count": 0,
      "outputs": [
        {
          "output_type": "execute_result",
          "data": {
            "text/plain": [
              "{('canine.n.02', 'canine.n.02'),\n",
              " ('canine.n.02', 'carnivore.n.01'),\n",
              " ('canine.n.02', 'mammal.n.01'),\n",
              " ('canine.n.02', 'placental.n.01'),\n",
              " ('carnivore.n.01', 'carnivore.n.01'),\n",
              " ('carnivore.n.01', 'mammal.n.01'),\n",
              " ('carnivore.n.01', 'placental.n.01'),\n",
              " ('elephant.n.01', 'elephant.n.01'),\n",
              " ('elephant.n.01', 'mammal.n.01'),\n",
              " ('elephant.n.01', 'placental.n.01'),\n",
              " ('even-toed_ungulate.n.01', 'even-toed_ungulate.n.01'),\n",
              " ('even-toed_ungulate.n.01', 'mammal.n.01'),\n",
              " ('even-toed_ungulate.n.01', 'placental.n.01'),\n",
              " ('even-toed_ungulate.n.01', 'ungulate.n.01'),\n",
              " ('feline.n.01', 'carnivore.n.01'),\n",
              " ('feline.n.01', 'feline.n.01'),\n",
              " ('feline.n.01', 'mammal.n.01'),\n",
              " ('feline.n.01', 'placental.n.01'),\n",
              " ('german_shepherd.n.01', 'canine.n.02'),\n",
              " ('german_shepherd.n.01', 'carnivore.n.01'),\n",
              " ('german_shepherd.n.01', 'german_shepherd.n.01'),\n",
              " ('german_shepherd.n.01', 'mammal.n.01'),\n",
              " ('german_shepherd.n.01', 'placental.n.01'),\n",
              " ('homo_sapiens.n.01', 'homo_sapiens.n.01'),\n",
              " ('homo_sapiens.n.01', 'mammal.n.01'),\n",
              " ('homo_sapiens.n.01', 'placental.n.01'),\n",
              " ('mammal.n.01', 'mammal.n.01'),\n",
              " ('odd-toed_ungulate.n.01', 'mammal.n.01'),\n",
              " ('odd-toed_ungulate.n.01', 'odd-toed_ungulate.n.01'),\n",
              " ('odd-toed_ungulate.n.01', 'placental.n.01'),\n",
              " ('odd-toed_ungulate.n.01', 'ungulate.n.01'),\n",
              " ('placental.n.01', 'mammal.n.01'),\n",
              " ('placental.n.01', 'placental.n.01'),\n",
              " ('rhinoceros.n.01', 'mammal.n.01'),\n",
              " ('rhinoceros.n.01', 'odd-toed_ungulate.n.01'),\n",
              " ('rhinoceros.n.01', 'placental.n.01'),\n",
              " ('rhinoceros.n.01', 'rhinoceros.n.01'),\n",
              " ('rhinoceros.n.01', 'ungulate.n.01'),\n",
              " ('rodent.n.01', 'mammal.n.01'),\n",
              " ('rodent.n.01', 'placental.n.01'),\n",
              " ('rodent.n.01', 'rodent.n.01'),\n",
              " ('tiger.n.02', 'carnivore.n.01'),\n",
              " ('tiger.n.02', 'feline.n.01'),\n",
              " ('tiger.n.02', 'mammal.n.01'),\n",
              " ('tiger.n.02', 'placental.n.01'),\n",
              " ('tiger.n.02', 'tiger.n.02'),\n",
              " ('ungulate.n.01', 'mammal.n.01'),\n",
              " ('ungulate.n.01', 'placental.n.01'),\n",
              " ('ungulate.n.01', 'ungulate.n.01')}"
            ]
          },
          "metadata": {
            "tags": []
          },
          "execution_count": 86
        }
      ]
    },
    {
      "metadata": {
        "id": "OVtJ_HRJoMyg",
        "colab_type": "code",
        "colab": {},
        "outputId": "c08352cd-c0de-4b87-a7ba-c87261cc07ae"
      },
      "cell_type": "code",
      "source": [
        "size = 2\n",
        "burn_in = 0\n",
        "workers = 1\n",
        "negative = 10\n",
        "model_with_dim_2 = PoincareModel(train_data=relations,size=size, burn_in=burn_in,workers=workers,negative=negative)\n",
        "model_with_dim_2.train(epochs=100, print_every=400,batch_size=10)"
      ],
      "execution_count": 0,
      "outputs": [
        {
          "output_type": "stream",
          "text": [
            "INFO:gensim.models.poincare:loading relations from train data..\n",
            "INFO:gensim.models.poincare:loaded 7724 relations from train data, 1182 nodes\n",
            "INFO:gensim.models.poincare:training model of size 2 with 1 workers on 7724 relations for 100 epochs and 0 burn-in epochs, using lr=0.10000 burn-in lr=0.01000 negative=10\n",
            "INFO:gensim.models.poincare:starting training (100 epochs)----------------------------------------\n",
            "INFO:gensim.models.poincare:training on epoch 1, examples #3990-#4000, loss: 23.64\n",
            "INFO:gensim.models.poincare:time taken for 4000 examples: 0.37 s, 10722.20 examples / s\n",
            "INFO:gensim.models.poincare:training on epoch 2, examples #3990-#4000, loss: 22.45\n",
            "INFO:gensim.models.poincare:time taken for 4000 examples: 0.36 s, 11054.22 examples / s\n",
            "INFO:gensim.models.poincare:training on epoch 3, examples #3990-#4000, loss: 21.25\n",
            "INFO:gensim.models.poincare:time taken for 4000 examples: 0.41 s, 9849.18 examples / s\n",
            "INFO:gensim.models.poincare:training on epoch 4, examples #3990-#4000, loss: 20.12\n",
            "INFO:gensim.models.poincare:time taken for 4000 examples: 0.36 s, 11069.58 examples / s\n",
            "INFO:gensim.models.poincare:training on epoch 5, examples #3990-#4000, loss: 19.22\n",
            "INFO:gensim.models.poincare:time taken for 4000 examples: 0.36 s, 11254.70 examples / s\n",
            "INFO:gensim.models.poincare:training on epoch 6, examples #3990-#4000, loss: 18.32\n",
            "INFO:gensim.models.poincare:time taken for 4000 examples: 0.37 s, 10799.53 examples / s\n",
            "INFO:gensim.models.poincare:training on epoch 7, examples #3990-#4000, loss: 17.75\n",
            "INFO:gensim.models.poincare:time taken for 4000 examples: 0.37 s, 10806.48 examples / s\n",
            "INFO:gensim.models.poincare:training on epoch 8, examples #3990-#4000, loss: 16.95\n",
            "INFO:gensim.models.poincare:time taken for 4000 examples: 0.36 s, 10967.75 examples / s\n",
            "INFO:gensim.models.poincare:training on epoch 9, examples #3990-#4000, loss: 16.75\n",
            "INFO:gensim.models.poincare:time taken for 4000 examples: 0.38 s, 10477.45 examples / s\n",
            "INFO:gensim.models.poincare:training on epoch 10, examples #3990-#4000, loss: 16.28\n",
            "INFO:gensim.models.poincare:time taken for 4000 examples: 0.36 s, 11230.53 examples / s\n",
            "INFO:gensim.models.poincare:training on epoch 11, examples #3990-#4000, loss: 15.64\n",
            "INFO:gensim.models.poincare:time taken for 4000 examples: 0.41 s, 9731.43 examples / s\n",
            "INFO:gensim.models.poincare:training on epoch 12, examples #3990-#4000, loss: 15.37\n",
            "INFO:gensim.models.poincare:time taken for 4000 examples: 0.41 s, 9668.20 examples / s\n",
            "INFO:gensim.models.poincare:training on epoch 13, examples #3990-#4000, loss: 14.93\n",
            "INFO:gensim.models.poincare:time taken for 4000 examples: 0.40 s, 9999.54 examples / s\n",
            "INFO:gensim.models.poincare:training on epoch 14, examples #3990-#4000, loss: 14.79\n",
            "INFO:gensim.models.poincare:time taken for 4000 examples: 0.36 s, 11100.96 examples / s\n",
            "INFO:gensim.models.poincare:training on epoch 15, examples #3990-#4000, loss: 14.41\n",
            "INFO:gensim.models.poincare:time taken for 4000 examples: 0.42 s, 9606.56 examples / s\n",
            "INFO:gensim.models.poincare:training on epoch 16, examples #3990-#4000, loss: 14.24\n",
            "INFO:gensim.models.poincare:time taken for 4000 examples: 0.37 s, 10906.87 examples / s\n",
            "INFO:gensim.models.poincare:training on epoch 17, examples #3990-#4000, loss: 14.02\n",
            "INFO:gensim.models.poincare:time taken for 4000 examples: 0.41 s, 9828.83 examples / s\n",
            "INFO:gensim.models.poincare:training on epoch 18, examples #3990-#4000, loss: 13.83\n",
            "INFO:gensim.models.poincare:time taken for 4000 examples: 0.36 s, 11101.78 examples / s\n",
            "INFO:gensim.models.poincare:training on epoch 19, examples #3990-#4000, loss: 13.61\n",
            "INFO:gensim.models.poincare:time taken for 4000 examples: 0.36 s, 11174.91 examples / s\n",
            "INFO:gensim.models.poincare:training on epoch 20, examples #3990-#4000, loss: 13.53\n",
            "INFO:gensim.models.poincare:time taken for 4000 examples: 0.37 s, 10905.46 examples / s\n",
            "INFO:gensim.models.poincare:training on epoch 21, examples #3990-#4000, loss: 13.36\n",
            "INFO:gensim.models.poincare:time taken for 4000 examples: 0.37 s, 10876.77 examples / s\n",
            "INFO:gensim.models.poincare:training on epoch 22, examples #3990-#4000, loss: 13.05\n",
            "INFO:gensim.models.poincare:time taken for 4000 examples: 0.36 s, 10970.70 examples / s\n",
            "INFO:gensim.models.poincare:training on epoch 23, examples #3990-#4000, loss: 13.03\n",
            "INFO:gensim.models.poincare:time taken for 4000 examples: 0.35 s, 11268.03 examples / s\n",
            "INFO:gensim.models.poincare:training on epoch 24, examples #3990-#4000, loss: 12.86\n",
            "INFO:gensim.models.poincare:time taken for 4000 examples: 0.36 s, 11093.55 examples / s\n",
            "INFO:gensim.models.poincare:training on epoch 25, examples #3990-#4000, loss: 12.64\n",
            "INFO:gensim.models.poincare:time taken for 4000 examples: 0.36 s, 11110.25 examples / s\n",
            "INFO:gensim.models.poincare:training on epoch 26, examples #3990-#4000, loss: 12.44\n",
            "INFO:gensim.models.poincare:time taken for 4000 examples: 0.36 s, 11076.69 examples / s\n",
            "INFO:gensim.models.poincare:training on epoch 27, examples #3990-#4000, loss: 12.40\n",
            "INFO:gensim.models.poincare:time taken for 4000 examples: 0.36 s, 11138.19 examples / s\n",
            "INFO:gensim.models.poincare:training on epoch 28, examples #3990-#4000, loss: 12.15\n",
            "INFO:gensim.models.poincare:time taken for 4000 examples: 0.36 s, 10970.40 examples / s\n",
            "INFO:gensim.models.poincare:training on epoch 29, examples #3990-#4000, loss: 12.02\n",
            "INFO:gensim.models.poincare:time taken for 4000 examples: 0.36 s, 11073.22 examples / s\n",
            "INFO:gensim.models.poincare:training on epoch 30, examples #3990-#4000, loss: 11.97\n",
            "INFO:gensim.models.poincare:time taken for 4000 examples: 0.36 s, 11109.15 examples / s\n",
            "INFO:gensim.models.poincare:training on epoch 31, examples #3990-#4000, loss: 11.89\n",
            "INFO:gensim.models.poincare:time taken for 4000 examples: 0.36 s, 10969.10 examples / s\n",
            "INFO:gensim.models.poincare:training on epoch 32, examples #3990-#4000, loss: 11.69\n",
            "INFO:gensim.models.poincare:time taken for 4000 examples: 0.36 s, 11140.70 examples / s\n",
            "INFO:gensim.models.poincare:training on epoch 33, examples #3990-#4000, loss: 11.70\n",
            "INFO:gensim.models.poincare:time taken for 4000 examples: 0.36 s, 11241.93 examples / s\n",
            "INFO:gensim.models.poincare:training on epoch 34, examples #3990-#4000, loss: 11.74\n",
            "INFO:gensim.models.poincare:time taken for 4000 examples: 0.36 s, 11095.03 examples / s\n",
            "INFO:gensim.models.poincare:training on epoch 35, examples #3990-#4000, loss: 11.38\n",
            "INFO:gensim.models.poincare:time taken for 4000 examples: 0.37 s, 10771.11 examples / s\n",
            "INFO:gensim.models.poincare:training on epoch 36, examples #3990-#4000, loss: 11.43\n",
            "INFO:gensim.models.poincare:time taken for 4000 examples: 0.37 s, 10827.31 examples / s\n",
            "INFO:gensim.models.poincare:training on epoch 37, examples #3990-#4000, loss: 11.23\n",
            "INFO:gensim.models.poincare:time taken for 4000 examples: 0.36 s, 11038.95 examples / s\n",
            "INFO:gensim.models.poincare:training on epoch 38, examples #3990-#4000, loss: 11.08\n",
            "INFO:gensim.models.poincare:time taken for 4000 examples: 0.36 s, 11079.73 examples / s\n",
            "INFO:gensim.models.poincare:training on epoch 39, examples #3990-#4000, loss: 11.11\n",
            "INFO:gensim.models.poincare:time taken for 4000 examples: 0.36 s, 11058.28 examples / s\n",
            "INFO:gensim.models.poincare:training on epoch 40, examples #3990-#4000, loss: 10.89\n",
            "INFO:gensim.models.poincare:time taken for 4000 examples: 0.39 s, 10277.64 examples / s\n",
            "INFO:gensim.models.poincare:training on epoch 41, examples #3990-#4000, loss: 10.70\n",
            "INFO:gensim.models.poincare:time taken for 4000 examples: 0.36 s, 11096.47 examples / s\n",
            "INFO:gensim.models.poincare:training on epoch 42, examples #3990-#4000, loss: 10.73\n",
            "INFO:gensim.models.poincare:time taken for 4000 examples: 0.38 s, 10573.03 examples / s\n",
            "INFO:gensim.models.poincare:training on epoch 43, examples #3990-#4000, loss: 10.51\n",
            "INFO:gensim.models.poincare:time taken for 4000 examples: 0.36 s, 11033.05 examples / s\n",
            "INFO:gensim.models.poincare:training on epoch 44, examples #3990-#4000, loss: 10.44\n",
            "INFO:gensim.models.poincare:time taken for 4000 examples: 0.38 s, 10407.52 examples / s\n",
            "INFO:gensim.models.poincare:training on epoch 45, examples #3990-#4000, loss: 10.59\n",
            "INFO:gensim.models.poincare:time taken for 4000 examples: 0.37 s, 10742.61 examples / s\n",
            "INFO:gensim.models.poincare:training on epoch 46, examples #3990-#4000, loss: 10.34\n"
          ],
          "name": "stderr"
        },
        {
          "output_type": "stream",
          "text": [
            "INFO:gensim.models.poincare:time taken for 4000 examples: 0.37 s, 10743.03 examples / s\n",
            "INFO:gensim.models.poincare:training on epoch 47, examples #3990-#4000, loss: 10.20\n",
            "INFO:gensim.models.poincare:time taken for 4000 examples: 0.36 s, 11000.61 examples / s\n",
            "INFO:gensim.models.poincare:training on epoch 48, examples #3990-#4000, loss: 10.22\n",
            "INFO:gensim.models.poincare:time taken for 4000 examples: 0.37 s, 10733.34 examples / s\n",
            "INFO:gensim.models.poincare:training on epoch 49, examples #3990-#4000, loss: 10.21\n",
            "INFO:gensim.models.poincare:time taken for 4000 examples: 0.36 s, 11143.51 examples / s\n",
            "INFO:gensim.models.poincare:training on epoch 50, examples #3990-#4000, loss: 10.15\n",
            "INFO:gensim.models.poincare:time taken for 4000 examples: 0.36 s, 11124.44 examples / s\n",
            "INFO:gensim.models.poincare:training on epoch 51, examples #3990-#4000, loss: 10.06\n",
            "INFO:gensim.models.poincare:time taken for 4000 examples: 0.36 s, 11056.53 examples / s\n",
            "INFO:gensim.models.poincare:training on epoch 52, examples #3990-#4000, loss: 9.94\n",
            "INFO:gensim.models.poincare:time taken for 4000 examples: 0.37 s, 10879.81 examples / s\n",
            "INFO:gensim.models.poincare:training on epoch 53, examples #3990-#4000, loss: 9.52\n",
            "INFO:gensim.models.poincare:time taken for 4000 examples: 0.37 s, 10822.15 examples / s\n",
            "INFO:gensim.models.poincare:training on epoch 54, examples #3990-#4000, loss: 9.72\n",
            "INFO:gensim.models.poincare:time taken for 4000 examples: 0.36 s, 11147.81 examples / s\n",
            "INFO:gensim.models.poincare:training on epoch 55, examples #3990-#4000, loss: 9.77\n",
            "INFO:gensim.models.poincare:time taken for 4000 examples: 0.36 s, 11015.59 examples / s\n",
            "INFO:gensim.models.poincare:training on epoch 56, examples #3990-#4000, loss: 9.34\n",
            "INFO:gensim.models.poincare:time taken for 4000 examples: 0.36 s, 11003.75 examples / s\n",
            "INFO:gensim.models.poincare:training on epoch 57, examples #3990-#4000, loss: 9.47\n",
            "INFO:gensim.models.poincare:time taken for 4000 examples: 0.36 s, 11104.00 examples / s\n",
            "INFO:gensim.models.poincare:training on epoch 58, examples #3990-#4000, loss: 9.60\n",
            "INFO:gensim.models.poincare:time taken for 4000 examples: 0.40 s, 9954.84 examples / s\n",
            "INFO:gensim.models.poincare:training on epoch 59, examples #3990-#4000, loss: 9.33\n",
            "INFO:gensim.models.poincare:time taken for 4000 examples: 0.36 s, 11113.59 examples / s\n",
            "INFO:gensim.models.poincare:training on epoch 60, examples #3990-#4000, loss: 9.19\n",
            "INFO:gensim.models.poincare:time taken for 4000 examples: 0.40 s, 9947.90 examples / s\n",
            "INFO:gensim.models.poincare:training on epoch 61, examples #3990-#4000, loss: 9.29\n",
            "INFO:gensim.models.poincare:time taken for 4000 examples: 0.39 s, 10269.83 examples / s\n",
            "INFO:gensim.models.poincare:training on epoch 62, examples #3990-#4000, loss: 9.23\n",
            "INFO:gensim.models.poincare:time taken for 4000 examples: 0.40 s, 9919.54 examples / s\n",
            "INFO:gensim.models.poincare:training on epoch 63, examples #3990-#4000, loss: 9.09\n",
            "INFO:gensim.models.poincare:time taken for 4000 examples: 0.40 s, 9971.74 examples / s\n",
            "INFO:gensim.models.poincare:training on epoch 64, examples #3990-#4000, loss: 9.10\n",
            "INFO:gensim.models.poincare:time taken for 4000 examples: 0.36 s, 11054.51 examples / s\n",
            "INFO:gensim.models.poincare:training on epoch 65, examples #3990-#4000, loss: 8.94\n",
            "INFO:gensim.models.poincare:time taken for 4000 examples: 0.37 s, 10769.50 examples / s\n",
            "INFO:gensim.models.poincare:training on epoch 66, examples #3990-#4000, loss: 8.77\n",
            "INFO:gensim.models.poincare:time taken for 4000 examples: 0.37 s, 10940.47 examples / s\n",
            "INFO:gensim.models.poincare:training on epoch 67, examples #3990-#4000, loss: 8.79\n",
            "INFO:gensim.models.poincare:time taken for 4000 examples: 0.39 s, 10147.09 examples / s\n",
            "INFO:gensim.models.poincare:training on epoch 68, examples #3990-#4000, loss: 8.93\n",
            "INFO:gensim.models.poincare:time taken for 4000 examples: 0.37 s, 10819.91 examples / s\n",
            "INFO:gensim.models.poincare:training on epoch 69, examples #3990-#4000, loss: 8.73\n",
            "INFO:gensim.models.poincare:time taken for 4000 examples: 0.41 s, 9764.06 examples / s\n",
            "INFO:gensim.models.poincare:training on epoch 70, examples #3990-#4000, loss: 8.56\n",
            "INFO:gensim.models.poincare:time taken for 4000 examples: 0.40 s, 10030.06 examples / s\n",
            "INFO:gensim.models.poincare:training on epoch 71, examples #3990-#4000, loss: 8.51\n",
            "INFO:gensim.models.poincare:time taken for 4000 examples: 0.40 s, 9877.18 examples / s\n",
            "INFO:gensim.models.poincare:training on epoch 72, examples #3990-#4000, loss: 8.17\n",
            "INFO:gensim.models.poincare:time taken for 4000 examples: 0.46 s, 8643.89 examples / s\n",
            "INFO:gensim.models.poincare:training on epoch 73, examples #3990-#4000, loss: 8.43\n",
            "INFO:gensim.models.poincare:time taken for 4000 examples: 0.43 s, 9212.97 examples / s\n",
            "INFO:gensim.models.poincare:training on epoch 74, examples #3990-#4000, loss: 8.29\n",
            "INFO:gensim.models.poincare:time taken for 4000 examples: 0.45 s, 8977.35 examples / s\n",
            "INFO:gensim.models.poincare:training on epoch 75, examples #3990-#4000, loss: 8.40\n",
            "INFO:gensim.models.poincare:time taken for 4000 examples: 0.44 s, 9106.35 examples / s\n",
            "INFO:gensim.models.poincare:training on epoch 76, examples #3990-#4000, loss: 8.28\n",
            "INFO:gensim.models.poincare:time taken for 4000 examples: 0.39 s, 10231.00 examples / s\n",
            "INFO:gensim.models.poincare:training on epoch 77, examples #3990-#4000, loss: 8.12\n",
            "INFO:gensim.models.poincare:time taken for 4000 examples: 0.38 s, 10483.10 examples / s\n",
            "INFO:gensim.models.poincare:training on epoch 78, examples #3990-#4000, loss: 8.23\n",
            "INFO:gensim.models.poincare:time taken for 4000 examples: 0.38 s, 10605.89 examples / s\n",
            "INFO:gensim.models.poincare:training on epoch 79, examples #3990-#4000, loss: 7.92\n",
            "INFO:gensim.models.poincare:time taken for 4000 examples: 0.39 s, 10146.46 examples / s\n",
            "INFO:gensim.models.poincare:training on epoch 80, examples #3990-#4000, loss: 8.10\n",
            "INFO:gensim.models.poincare:time taken for 4000 examples: 0.38 s, 10539.39 examples / s\n",
            "INFO:gensim.models.poincare:training on epoch 81, examples #3990-#4000, loss: 7.96\n",
            "INFO:gensim.models.poincare:time taken for 4000 examples: 0.37 s, 10821.76 examples / s\n",
            "INFO:gensim.models.poincare:training on epoch 82, examples #3990-#4000, loss: 7.98\n",
            "INFO:gensim.models.poincare:time taken for 4000 examples: 0.36 s, 11138.34 examples / s\n",
            "INFO:gensim.models.poincare:training on epoch 83, examples #3990-#4000, loss: 7.75\n",
            "INFO:gensim.models.poincare:time taken for 4000 examples: 0.40 s, 9976.61 examples / s\n",
            "INFO:gensim.models.poincare:training on epoch 84, examples #3990-#4000, loss: 8.03\n",
            "INFO:gensim.models.poincare:time taken for 4000 examples: 0.38 s, 10403.13 examples / s\n",
            "INFO:gensim.models.poincare:training on epoch 85, examples #3990-#4000, loss: 7.59\n",
            "INFO:gensim.models.poincare:time taken for 4000 examples: 0.41 s, 9831.15 examples / s\n",
            "INFO:gensim.models.poincare:training on epoch 86, examples #3990-#4000, loss: 7.77\n",
            "INFO:gensim.models.poincare:time taken for 4000 examples: 0.41 s, 9741.52 examples / s\n",
            "INFO:gensim.models.poincare:training on epoch 87, examples #3990-#4000, loss: 7.89\n",
            "INFO:gensim.models.poincare:time taken for 4000 examples: 0.39 s, 10261.12 examples / s\n",
            "INFO:gensim.models.poincare:training on epoch 88, examples #3990-#4000, loss: 7.96\n",
            "INFO:gensim.models.poincare:time taken for 4000 examples: 0.38 s, 10418.77 examples / s\n",
            "INFO:gensim.models.poincare:training on epoch 89, examples #3990-#4000, loss: 7.68\n",
            "INFO:gensim.models.poincare:time taken for 4000 examples: 0.39 s, 10310.92 examples / s\n",
            "INFO:gensim.models.poincare:training on epoch 90, examples #3990-#4000, loss: 7.44\n",
            "INFO:gensim.models.poincare:time taken for 4000 examples: 0.39 s, 10259.15 examples / s\n",
            "INFO:gensim.models.poincare:training on epoch 91, examples #3990-#4000, loss: 7.44\n",
            "INFO:gensim.models.poincare:time taken for 4000 examples: 0.39 s, 10260.65 examples / s\n",
            "INFO:gensim.models.poincare:training on epoch 92, examples #3990-#4000, loss: 7.42\n",
            "INFO:gensim.models.poincare:time taken for 4000 examples: 0.40 s, 9922.74 examples / s\n",
            "INFO:gensim.models.poincare:training on epoch 93, examples #3990-#4000, loss: 7.46\n",
            "INFO:gensim.models.poincare:time taken for 4000 examples: 0.42 s, 9625.10 examples / s\n",
            "INFO:gensim.models.poincare:training on epoch 94, examples #3990-#4000, loss: 7.40\n"
          ],
          "name": "stderr"
        },
        {
          "output_type": "stream",
          "text": [
            "INFO:gensim.models.poincare:time taken for 4000 examples: 0.42 s, 9629.16 examples / s\n",
            "INFO:gensim.models.poincare:training on epoch 95, examples #3990-#4000, loss: 7.40\n",
            "INFO:gensim.models.poincare:time taken for 4000 examples: 0.42 s, 9528.54 examples / s\n",
            "INFO:gensim.models.poincare:training on epoch 96, examples #3990-#4000, loss: 7.50\n",
            "INFO:gensim.models.poincare:time taken for 4000 examples: 0.43 s, 9223.75 examples / s\n",
            "INFO:gensim.models.poincare:training on epoch 97, examples #3990-#4000, loss: 7.26\n",
            "INFO:gensim.models.poincare:time taken for 4000 examples: 0.41 s, 9848.66 examples / s\n",
            "INFO:gensim.models.poincare:training on epoch 98, examples #3990-#4000, loss: 7.60\n",
            "INFO:gensim.models.poincare:time taken for 4000 examples: 0.38 s, 10470.70 examples / s\n",
            "INFO:gensim.models.poincare:training on epoch 99, examples #3990-#4000, loss: 7.21\n",
            "INFO:gensim.models.poincare:time taken for 4000 examples: 0.36 s, 11002.44 examples / s\n",
            "INFO:gensim.models.poincare:training on epoch 100, examples #3990-#4000, loss: 7.35\n",
            "INFO:gensim.models.poincare:time taken for 4000 examples: 0.36 s, 11126.71 examples / s\n",
            "INFO:gensim.models.poincare:training finished\n"
          ],
          "name": "stderr"
        }
      ]
    },
    {
      "metadata": {
        "id": "ZP90YZfGoMyi",
        "colab_type": "code",
        "colab": {}
      },
      "cell_type": "code",
      "source": [
        "fig = poincare_2d_visualization(\n",
        "    model_with_dim_2, filtered_set, \"Poincare Hierarchy\", show_node_labels=show_node_labels\n",
        ")"
      ],
      "execution_count": 0,
      "outputs": []
    },
    {
      "metadata": {
        "id": "KkB7UNDLoMyj",
        "colab_type": "code",
        "colab": {},
        "outputId": "7e79c28b-48d3-45ea-f158-2fa0fe1c16db"
      },
      "cell_type": "code",
      "source": [
        "py.image.ishow(fig, width=1000, height=1000)"
      ],
      "execution_count": 0,
      "outputs": [
        {
          "output_type": "display_data",
          "data": {
            "image/png": "[encoded data removed]",
            "text/plain": [
              "<IPython.core.display.Image object>"
            ]
          },
          "metadata": {
            "tags": []
          }
        }
      ]
    },
    {
      "metadata": {
        "id": "BRezW1gOoMyk",
        "colab_type": "code",
        "colab": {}
      },
      "cell_type": "code",
      "source": [
        "py.image.save_as(fig, filename='poincare_viz.png')"
      ],
      "execution_count": 0,
      "outputs": []
    },
    {
      "metadata": {
        "id": "RdJKz1ogoMym",
        "colab_type": "code",
        "colab": {}
      },
      "cell_type": "code",
      "source": [
        ""
      ],
      "execution_count": 0,
      "outputs": []
    }
  ]
}
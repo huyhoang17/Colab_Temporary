{
  "nbformat": 4,
  "nbformat_minor": 0,
  "metadata": {
    "colab": {
      "name": "RS_Implicit_ALS_lastfm.ipynb",
      "version": "0.3.2",
      "provenance": [],
      "collapsed_sections": [],
      "include_colab_link": true
    },
    "kernelspec": {
      "name": "python3",
      "display_name": "Python 3"
    },
    "accelerator": "GPU"
  },
  "cells": [
    {
      "cell_type": "markdown",
      "metadata": {
        "id": "view-in-github",
        "colab_type": "text"
      },
      "source": [
        "[View in Colaboratory](https://colab.research.google.com/github/huyhoang17/Colab_Temporary/blob/master/[Test]RS_Implicit_ALS_lastfm.ipynb)"
      ]
    },
    {
      "metadata": {
        "id": "NNFTuDa5sZgO",
        "colab_type": "code",
        "colab": {
          "base_uri": "https://localhost:8080/",
          "height": 34
        },
        "outputId": "723304cf-7489-4556-995c-10d6b6a04211"
      },
      "cell_type": "code",
      "source": [
        "# Load the Drive helper and mount\n",
        "from google.colab import drive\n",
        "\n",
        "# This will prompt for authorization.\n",
        "drive.mount('/content/drive')"
      ],
      "execution_count": 1,
      "outputs": [
        {
          "output_type": "stream",
          "text": [
            "Drive already mounted at /content/drive; to attempt to forcibly remount, call drive.mount(\"/content/drive\", force_remount=True).\n"
          ],
          "name": "stdout"
        }
      ]
    },
    {
      "metadata": {
        "id": "m-va-dFe0uZo",
        "colab_type": "code",
        "colab": {}
      },
      "cell_type": "code",
      "source": [
        "# https://medium.com/radon-dev/als-implicit-collaborative-filtering-5ed653ba39fe"
      ],
      "execution_count": 0,
      "outputs": []
    },
    {
      "metadata": {
        "id": "dIrZRHKNsaB2",
        "colab_type": "code",
        "colab": {
          "base_uri": "https://localhost:8080/",
          "height": 34
        },
        "outputId": "b7cada16-9d9d-4001-b21b-582705927ec0"
      },
      "cell_type": "code",
      "source": [
        "!ls drive/My\\ Drive/workspace/Recommender_System/lastfm"
      ],
      "execution_count": 2,
      "outputs": [
        {
          "output_type": "stream",
          "text": [
            "dataset  lastfm-dataset-360K.tar.gz  notebooks\n"
          ],
          "name": "stdout"
        }
      ]
    },
    {
      "metadata": {
        "id": "GjNSdzENt-RB",
        "colab_type": "code",
        "colab": {}
      },
      "cell_type": "code",
      "source": [
        "# os.mkdir('drive/My Drive/workspace/Recommender_System/lastfm/dataset')"
      ],
      "execution_count": 0,
      "outputs": []
    },
    {
      "metadata": {
        "id": "qdNxj0L2uHmR",
        "colab_type": "code",
        "colab": {}
      },
      "cell_type": "code",
      "source": [
        "# import tarfile\n",
        "# fname = 'drive/My Drive/workspace/Recommender_System/lastfm/lastfm-dataset-360K.tar.gz'\n",
        "# if fname.endswith(\"tar.gz\"):\n",
        "#     tar = tarfile.open(fname, \"r:gz\")\n",
        "#     tar.extractall('drive/My Drive/workspace/Recommender_System/lastfm/dataset')\n",
        "#     tar.close()"
      ],
      "execution_count": 0,
      "outputs": []
    },
    {
      "metadata": {
        "id": "ZyBK5Z-9ujs2",
        "colab_type": "code",
        "colab": {
          "base_uri": "https://localhost:8080/",
          "height": 51
        },
        "outputId": "89ba64b7-8a07-413f-f4b4-c43696bacf43"
      },
      "cell_type": "code",
      "source": [
        "!ls drive/My\\ Drive/workspace/Recommender_System/lastfm/dataset/lastfm-dataset-360K"
      ],
      "execution_count": 3,
      "outputs": [
        {
          "output_type": "stream",
          "text": [
            "mbox_sha1sum.py  usersha1-artmbid-artname-plays.tsv\n",
            "README.txt\t usersha1-profile.tsv\n"
          ],
          "name": "stdout"
        }
      ]
    },
    {
      "metadata": {
        "id": "qikcGs-pvEjp",
        "colab_type": "code",
        "colab": {}
      },
      "cell_type": "code",
      "source": [
        "import os\n",
        "import random\n",
        "import pandas as pd\n",
        "import numpy as np\n",
        "\n",
        "import scipy.sparse as sparse\n",
        "from scipy.sparse.linalg import spsolve\n",
        "from sklearn.preprocessing import MinMaxScaler"
      ],
      "execution_count": 0,
      "outputs": []
    },
    {
      "metadata": {
        "id": "Bgw8U8alvTxD",
        "colab_type": "code",
        "colab": {
          "base_uri": "https://localhost:8080/",
          "height": 34
        },
        "outputId": "3ba97d15-b54b-4d66-fddb-39b94a4816a4"
      },
      "cell_type": "code",
      "source": [
        "ds_path = 'drive/My Drive/workspace/Recommender_System/lastfm/dataset'\n",
        "lastfm_path = os.path.join(ds_path, 'lastfm-dataset-360K')\n",
        "lastfm_path"
      ],
      "execution_count": 5,
      "outputs": [
        {
          "output_type": "execute_result",
          "data": {
            "text/plain": [
              "'drive/My Drive/workspace/Recommender_System/lastfm/dataset/lastfm-dataset-360K'"
            ]
          },
          "metadata": {
            "tags": []
          },
          "execution_count": 5
        }
      ]
    },
    {
      "metadata": {
        "id": "ev7bUdc91NWv",
        "colab_type": "code",
        "colab": {
          "base_uri": "https://localhost:8080/",
          "height": 51
        },
        "outputId": "6dc8cc0f-4bda-44ec-ae4e-2c4928627d15"
      },
      "cell_type": "code",
      "source": [
        "!ls drive/My\\ Drive/workspace/Recommender_System/lastfm/dataset/lastfm-dataset-360K"
      ],
      "execution_count": 6,
      "outputs": [
        {
          "output_type": "stream",
          "text": [
            "mbox_sha1sum.py  usersha1-artmbid-artname-plays.tsv\n",
            "README.txt\t usersha1-profile.tsv\n"
          ],
          "name": "stdout"
        }
      ]
    },
    {
      "metadata": {
        "id": "jYtnKx21vebc",
        "colab_type": "code",
        "colab": {
          "base_uri": "https://localhost:8080/",
          "height": 34
        },
        "outputId": "a6017972-07bc-4914-ca24-a25a805858ea"
      },
      "cell_type": "code",
      "source": [
        "os.path.exists(lastfm_path)"
      ],
      "execution_count": 5,
      "outputs": [
        {
          "output_type": "execute_result",
          "data": {
            "text/plain": [
              "True"
            ]
          },
          "metadata": {
            "tags": []
          },
          "execution_count": 5
        }
      ]
    },
    {
      "metadata": {
        "id": "VbksPkQ9vkK8",
        "colab_type": "code",
        "colab": {}
      },
      "cell_type": "code",
      "source": [
        "raw_data = pd.read_table(os.path.join(lastfm_path, 'usersha1-artmbid-artname-plays.tsv'))"
      ],
      "execution_count": 0,
      "outputs": []
    },
    {
      "metadata": {
        "id": "C9ZKblch2R8K",
        "colab_type": "code",
        "colab": {
          "base_uri": "https://localhost:8080/",
          "height": 204
        },
        "outputId": "d9375912-37ab-4382-8ad3-383589ce924e"
      },
      "cell_type": "code",
      "source": [
        "raw_data.head()"
      ],
      "execution_count": 8,
      "outputs": [
        {
          "output_type": "execute_result",
          "data": {
            "text/html": [
              "<div>\n",
              "<style scoped>\n",
              "    .dataframe tbody tr th:only-of-type {\n",
              "        vertical-align: middle;\n",
              "    }\n",
              "\n",
              "    .dataframe tbody tr th {\n",
              "        vertical-align: top;\n",
              "    }\n",
              "\n",
              "    .dataframe thead th {\n",
              "        text-align: right;\n",
              "    }\n",
              "</style>\n",
              "<table border=\"1\" class=\"dataframe\">\n",
              "  <thead>\n",
              "    <tr style=\"text-align: right;\">\n",
              "      <th></th>\n",
              "      <th>00000c289a1829a808ac09c00daf10bc3c4e223b</th>\n",
              "      <th>3bd73256-3905-4f3a-97e2-8b341527f805</th>\n",
              "      <th>betty blowtorch</th>\n",
              "      <th>2137</th>\n",
              "    </tr>\n",
              "  </thead>\n",
              "  <tbody>\n",
              "    <tr>\n",
              "      <th>0</th>\n",
              "      <td>00000c289a1829a808ac09c00daf10bc3c4e223b</td>\n",
              "      <td>f2fb0ff0-5679-42ec-a55c-15109ce6e320</td>\n",
              "      <td>die Ärzte</td>\n",
              "      <td>1099</td>\n",
              "    </tr>\n",
              "    <tr>\n",
              "      <th>1</th>\n",
              "      <td>00000c289a1829a808ac09c00daf10bc3c4e223b</td>\n",
              "      <td>b3ae82c2-e60b-4551-a76d-6620f1b456aa</td>\n",
              "      <td>melissa etheridge</td>\n",
              "      <td>897</td>\n",
              "    </tr>\n",
              "    <tr>\n",
              "      <th>2</th>\n",
              "      <td>00000c289a1829a808ac09c00daf10bc3c4e223b</td>\n",
              "      <td>3d6bbeb7-f90e-4d10-b440-e153c0d10b53</td>\n",
              "      <td>elvenking</td>\n",
              "      <td>717</td>\n",
              "    </tr>\n",
              "    <tr>\n",
              "      <th>3</th>\n",
              "      <td>00000c289a1829a808ac09c00daf10bc3c4e223b</td>\n",
              "      <td>bbd2ffd7-17f4-4506-8572-c1ea58c3f9a8</td>\n",
              "      <td>juliette &amp; the licks</td>\n",
              "      <td>706</td>\n",
              "    </tr>\n",
              "    <tr>\n",
              "      <th>4</th>\n",
              "      <td>00000c289a1829a808ac09c00daf10bc3c4e223b</td>\n",
              "      <td>8bfac288-ccc5-448d-9573-c33ea2aa5c30</td>\n",
              "      <td>red hot chili peppers</td>\n",
              "      <td>691</td>\n",
              "    </tr>\n",
              "  </tbody>\n",
              "</table>\n",
              "</div>"
            ],
            "text/plain": [
              "   00000c289a1829a808ac09c00daf10bc3c4e223b  \\\n",
              "0  00000c289a1829a808ac09c00daf10bc3c4e223b   \n",
              "1  00000c289a1829a808ac09c00daf10bc3c4e223b   \n",
              "2  00000c289a1829a808ac09c00daf10bc3c4e223b   \n",
              "3  00000c289a1829a808ac09c00daf10bc3c4e223b   \n",
              "4  00000c289a1829a808ac09c00daf10bc3c4e223b   \n",
              "\n",
              "   3bd73256-3905-4f3a-97e2-8b341527f805        betty blowtorch  2137  \n",
              "0  f2fb0ff0-5679-42ec-a55c-15109ce6e320              die Ärzte  1099  \n",
              "1  b3ae82c2-e60b-4551-a76d-6620f1b456aa      melissa etheridge   897  \n",
              "2  3d6bbeb7-f90e-4d10-b440-e153c0d10b53              elvenking   717  \n",
              "3  bbd2ffd7-17f4-4506-8572-c1ea58c3f9a8   juliette & the licks   706  \n",
              "4  8bfac288-ccc5-448d-9573-c33ea2aa5c30  red hot chili peppers   691  "
            ]
          },
          "metadata": {
            "tags": []
          },
          "execution_count": 8
        }
      ]
    },
    {
      "metadata": {
        "id": "dGIbmC3mvmSu",
        "colab_type": "code",
        "colab": {
          "base_uri": "https://localhost:8080/",
          "height": 34
        },
        "outputId": "a1c59754-7587-4cfd-b32f-04ffffaf7a52"
      },
      "cell_type": "code",
      "source": [
        "raw_data.shape"
      ],
      "execution_count": 9,
      "outputs": [
        {
          "output_type": "execute_result",
          "data": {
            "text/plain": [
              "(17535654, 4)"
            ]
          },
          "metadata": {
            "tags": []
          },
          "execution_count": 9
        }
      ]
    },
    {
      "metadata": {
        "id": "flaiynL6vya2",
        "colab_type": "code",
        "colab": {
          "base_uri": "https://localhost:8080/",
          "height": 221
        },
        "outputId": "4e0dead5-5f01-45d8-b873-c1d834c26b10"
      },
      "cell_type": "code",
      "source": [
        "raw_data = raw_data.drop(raw_data.columns[1], axis=1)\n",
        "raw_data.columns = ['user', 'artist', 'plays']\n",
        "\n",
        "# Drop rows with missing values\n",
        "data = raw_data.dropna()\n",
        "\n",
        "# Convert artists names into numerical IDs\n",
        "data['user_id'] = data['user'].astype(\"category\").cat.codes\n",
        "data['artist_id'] = data['artist'].astype(\"category\").cat.codes\n",
        "\n",
        "# Create a lookup frame so we can get the artist names back in \n",
        "# readable form later.\n",
        "item_lookup = data[['artist_id', 'artist']].drop_duplicates()\n",
        "item_lookup['artist_id'] = item_lookup.artist_id.astype(str)\n",
        "\n",
        "data = data.drop(['user', 'artist'], axis=1)\n",
        "\n",
        "# Drop any rows that have 0 plays\n",
        "data = data.loc[data.plays != 0]\n",
        "\n",
        "# Create lists of all users, artists and plays\n",
        "users = list(np.sort(data.user_id.unique()))\n",
        "artists = list(np.sort(data.artist_id.unique()))\n",
        "plays = list(data.plays)\n",
        "\n",
        "# Get the rows and columns for our new matrix\n",
        "rows = data.user_id.astype(int)\n",
        "cols = data.artist_id.astype(int)\n",
        "\n",
        "# Contruct a sparse matrix for our users and items containing number of plays\n",
        "data_sparse = sparse.csr_matrix((plays, (rows, cols)), shape=(len(users), len(artists)))"
      ],
      "execution_count": 10,
      "outputs": [
        {
          "output_type": "stream",
          "text": [
            "/usr/local/lib/python3.6/dist-packages/ipykernel_launcher.py:8: SettingWithCopyWarning: \n",
            "A value is trying to be set on a copy of a slice from a DataFrame.\n",
            "Try using .loc[row_indexer,col_indexer] = value instead\n",
            "\n",
            "See the caveats in the documentation: http://pandas.pydata.org/pandas-docs/stable/indexing.html#indexing-view-versus-copy\n",
            "  \n",
            "/usr/local/lib/python3.6/dist-packages/ipykernel_launcher.py:9: SettingWithCopyWarning: \n",
            "A value is trying to be set on a copy of a slice from a DataFrame.\n",
            "Try using .loc[row_indexer,col_indexer] = value instead\n",
            "\n",
            "See the caveats in the documentation: http://pandas.pydata.org/pandas-docs/stable/indexing.html#indexing-view-versus-copy\n",
            "  if __name__ == '__main__':\n"
          ],
          "name": "stderr"
        }
      ]
    },
    {
      "metadata": {
        "id": "_wVsHGUS2dXX",
        "colab_type": "code",
        "colab": {
          "base_uri": "https://localhost:8080/",
          "height": 34
        },
        "outputId": "0f2e9493-7372-4ada-8d7e-13d26907c712"
      },
      "cell_type": "code",
      "source": [
        "data_sparse.shape"
      ],
      "execution_count": 11,
      "outputs": [
        {
          "output_type": "execute_result",
          "data": {
            "text/plain": [
              "(358868, 292363)"
            ]
          },
          "metadata": {
            "tags": []
          },
          "execution_count": 11
        }
      ]
    },
    {
      "metadata": {
        "id": "PhxD-Id80Qp9",
        "colab_type": "code",
        "colab": {}
      },
      "cell_type": "code",
      "source": [
        "from tqdm import tqdm"
      ],
      "execution_count": 0,
      "outputs": []
    },
    {
      "metadata": {
        "id": "l_v2xYbhv5EW",
        "colab_type": "code",
        "colab": {}
      },
      "cell_type": "code",
      "source": [
        "def implicit_als(sparse_data, alpha_val=40, iterations=10, lambda_val=0.1, features=10):\n",
        "    \"\"\" Implementation of Alternating Least Squares with implicit data. We iteratively\n",
        "    compute the user (x_u) and item (y_i) vectors using the following formulas:\n",
        "\n",
        "    x_u = ((Y.T*Y + Y.T*(Cu - I) * Y) + lambda*I)^-1 * (X.T * Cu * p(u))\n",
        "    y_i = ((X.T*X + X.T*(Ci - I) * X) + lambda*I)^-1 * (Y.T * Ci * p(i))\n",
        "\n",
        "    Args:\n",
        "        sparse_data (csr_matrix): Our sparse user-by-item matrix\n",
        "\n",
        "        alpha_val (int): The rate in which we'll increase our confidence\n",
        "        in a preference with more interactions.\n",
        "\n",
        "        iterations (int): How many times we alternate between fixing and \n",
        "        updating our user and item vectors\n",
        "\n",
        "        lambda_val (float): Regularization value\n",
        "\n",
        "        features (int): How many latent features we want to compute.\n",
        "\n",
        "    Returns:     \n",
        "        X (csr_matrix): user vectors of size users-by-features\n",
        "\n",
        "        Y (csr_matrix): item vectors of size items-by-features\n",
        "     \"\"\"\n",
        "\n",
        "    # Calculate the foncidence for each value in our data\n",
        "    confidence = sparse_data * alpha_val\n",
        "\n",
        "    # Get the size of user rows and item columns\n",
        "    user_size, item_size = sparse_data.shape\n",
        "\n",
        "    # We create the user vectors X of size users-by-features, the item vectors\n",
        "    # Y of size items-by-features and randomly assign the values.\n",
        "    X = sparse.csr_matrix(np.random.normal(size = (user_size, features)))\n",
        "    Y = sparse.csr_matrix(np.random.normal(size = (item_size, features)))\n",
        "\n",
        "    #Precompute I and lambda * I\n",
        "    X_I = sparse.eye(user_size)\n",
        "    Y_I = sparse.eye(item_size)\n",
        "\n",
        "    I = sparse.eye(features)\n",
        "    lI = lambda_val * I\n",
        "    \n",
        "    # Start main loop. For each iteration we first compute X and then Y\n",
        "    for i in range(iterations):\n",
        "        print('iteration %d of %d' % (i + 1, iterations))\n",
        "        \n",
        "        # Precompute Y-transpose-Y and X-transpose-X\n",
        "        yTy = Y.T.dot(Y)\n",
        "        xTx = X.T.dot(X)\n",
        "\n",
        "        # Loop through all users\n",
        "        for u in tqdm(range(user_size)):\n",
        "\n",
        "            # Get the user row.\n",
        "            u_row = confidence[u,:].toarray() \n",
        "\n",
        "            # Calculate the binary preference p(u)\n",
        "            p_u = u_row.copy()\n",
        "            p_u[p_u != 0] = 1.0\n",
        "\n",
        "            # Calculate Cu and Cu - I\n",
        "            CuI = sparse.diags(u_row, [0])\n",
        "            Cu = CuI + Y_I\n",
        "\n",
        "            # Put it all together and compute the final formula\n",
        "            yT_CuI_y = Y.T.dot(CuI).dot(Y)\n",
        "            yT_Cu_pu = Y.T.dot(Cu).dot(p_u.T)\n",
        "            X[u] = spsolve(yTy + yT_CuI_y + lI, yT_Cu_pu)\n",
        "\n",
        "    \n",
        "        for i in tqdm(range(item_size)):\n",
        "\n",
        "            # Get the item column and transpose it.\n",
        "            i_row = confidence[:,i].T.toarray()\n",
        "\n",
        "            # Calculate the binary preference p(i)\n",
        "            p_i = i_row.copy()\n",
        "            p_i[p_i != 0] = 1.0\n",
        "\n",
        "            # Calculate Ci and Ci - I\n",
        "            CiI = sparse.diags(i_row, [0])\n",
        "            Ci = CiI + X_I\n",
        "\n",
        "            # Put it all together and compute the final formula\n",
        "            xT_CiI_x = X.T.dot(CiI).dot(X)\n",
        "            xT_Ci_pi = X.T.dot(Ci).dot(p_i.T)\n",
        "            Y[i] = spsolve(xTx + xT_CiI_x + lI, xT_Ci_pi)\n",
        "\n",
        "    return X, Y"
      ],
      "execution_count": 0,
      "outputs": []
    },
    {
      "metadata": {
        "id": "V2X0LZffwHpY",
        "colab_type": "code",
        "colab": {
          "base_uri": "https://localhost:8080/",
          "height": 673
        },
        "outputId": "6fc2ddb7-fead-49eb-b15a-21792946310f"
      },
      "cell_type": "code",
      "source": [
        "user_vecs, item_vecs = implicit_als(data_sparse, iterations=1, features=20, alpha_val=40)"
      ],
      "execution_count": 18,
      "outputs": [
        {
          "output_type": "stream",
          "text": [
            "iteration 1 of 1\n"
          ],
          "name": "stdout"
        },
        {
          "output_type": "stream",
          "text": [
            "  0%|          | 310/358868 [01:14<23:50:21,  4.18it/s]"
          ],
          "name": "stderr"
        },
        {
          "output_type": "error",
          "ename": "KeyboardInterrupt",
          "evalue": "ignored",
          "traceback": [
            "\u001b[0;31m---------------------------------------------------------------------------\u001b[0m",
            "\u001b[0;31mKeyboardInterrupt\u001b[0m                         Traceback (most recent call last)",
            "\u001b[0;32m<ipython-input-18-2c04406d93cc>\u001b[0m in \u001b[0;36m<module>\u001b[0;34m()\u001b[0m\n\u001b[0;32m----> 1\u001b[0;31m \u001b[0muser_vecs\u001b[0m\u001b[0;34m,\u001b[0m \u001b[0mitem_vecs\u001b[0m \u001b[0;34m=\u001b[0m \u001b[0mimplicit_als\u001b[0m\u001b[0;34m(\u001b[0m\u001b[0mdata_sparse\u001b[0m\u001b[0;34m,\u001b[0m \u001b[0miterations\u001b[0m\u001b[0;34m=\u001b[0m\u001b[0;36m1\u001b[0m\u001b[0;34m,\u001b[0m \u001b[0mfeatures\u001b[0m\u001b[0;34m=\u001b[0m\u001b[0;36m20\u001b[0m\u001b[0;34m,\u001b[0m \u001b[0malpha_val\u001b[0m\u001b[0;34m=\u001b[0m\u001b[0;36m40\u001b[0m\u001b[0;34m)\u001b[0m\u001b[0;34m\u001b[0m\u001b[0m\n\u001b[0m",
            "\u001b[0;32m<ipython-input-17-2a27663eb0a4>\u001b[0m in \u001b[0;36mimplicit_als\u001b[0;34m(sparse_data, alpha_val, iterations, lambda_val, features)\u001b[0m\n\u001b[1;32m     67\u001b[0m             \u001b[0;31m# Put it all together and compute the final formula\u001b[0m\u001b[0;34m\u001b[0m\u001b[0;34m\u001b[0m\u001b[0m\n\u001b[1;32m     68\u001b[0m             \u001b[0myT_CuI_y\u001b[0m \u001b[0;34m=\u001b[0m \u001b[0mY\u001b[0m\u001b[0;34m.\u001b[0m\u001b[0mT\u001b[0m\u001b[0;34m.\u001b[0m\u001b[0mdot\u001b[0m\u001b[0;34m(\u001b[0m\u001b[0mCuI\u001b[0m\u001b[0;34m)\u001b[0m\u001b[0;34m.\u001b[0m\u001b[0mdot\u001b[0m\u001b[0;34m(\u001b[0m\u001b[0mY\u001b[0m\u001b[0;34m)\u001b[0m\u001b[0;34m\u001b[0m\u001b[0m\n\u001b[0;32m---> 69\u001b[0;31m             \u001b[0myT_Cu_pu\u001b[0m \u001b[0;34m=\u001b[0m \u001b[0mY\u001b[0m\u001b[0;34m.\u001b[0m\u001b[0mT\u001b[0m\u001b[0;34m.\u001b[0m\u001b[0mdot\u001b[0m\u001b[0;34m(\u001b[0m\u001b[0mCu\u001b[0m\u001b[0;34m)\u001b[0m\u001b[0;34m.\u001b[0m\u001b[0mdot\u001b[0m\u001b[0;34m(\u001b[0m\u001b[0mp_u\u001b[0m\u001b[0;34m.\u001b[0m\u001b[0mT\u001b[0m\u001b[0;34m)\u001b[0m\u001b[0;34m\u001b[0m\u001b[0m\n\u001b[0m\u001b[1;32m     70\u001b[0m             \u001b[0mX\u001b[0m\u001b[0;34m[\u001b[0m\u001b[0mu\u001b[0m\u001b[0;34m]\u001b[0m \u001b[0;34m=\u001b[0m \u001b[0mspsolve\u001b[0m\u001b[0;34m(\u001b[0m\u001b[0myTy\u001b[0m \u001b[0;34m+\u001b[0m \u001b[0myT_CuI_y\u001b[0m \u001b[0;34m+\u001b[0m \u001b[0mlI\u001b[0m\u001b[0;34m,\u001b[0m \u001b[0myT_Cu_pu\u001b[0m\u001b[0;34m)\u001b[0m\u001b[0;34m\u001b[0m\u001b[0m\n\u001b[1;32m     71\u001b[0m \u001b[0;34m\u001b[0m\u001b[0m\n",
            "\u001b[0;32m/usr/local/lib/python3.6/dist-packages/scipy/sparse/base.py\u001b[0m in \u001b[0;36mdot\u001b[0;34m(self, other)\u001b[0m\n\u001b[1;32m    300\u001b[0m \u001b[0;34m\u001b[0m\u001b[0m\n\u001b[1;32m    301\u001b[0m         \"\"\"\n\u001b[0;32m--> 302\u001b[0;31m         \u001b[0;32mreturn\u001b[0m \u001b[0mself\u001b[0m \u001b[0;34m*\u001b[0m \u001b[0mother\u001b[0m\u001b[0;34m\u001b[0m\u001b[0m\n\u001b[0m\u001b[1;32m    303\u001b[0m \u001b[0;34m\u001b[0m\u001b[0m\n\u001b[1;32m    304\u001b[0m     \u001b[0;32mdef\u001b[0m \u001b[0mpower\u001b[0m\u001b[0;34m(\u001b[0m\u001b[0mself\u001b[0m\u001b[0;34m,\u001b[0m \u001b[0mn\u001b[0m\u001b[0;34m,\u001b[0m \u001b[0mdtype\u001b[0m\u001b[0;34m=\u001b[0m\u001b[0;32mNone\u001b[0m\u001b[0;34m)\u001b[0m\u001b[0;34m:\u001b[0m\u001b[0;34m\u001b[0m\u001b[0m\n",
            "\u001b[0;32m/usr/local/lib/python3.6/dist-packages/scipy/sparse/base.py\u001b[0m in \u001b[0;36m__mul__\u001b[0;34m(self, other)\u001b[0m\n\u001b[1;32m    367\u001b[0m             \u001b[0;32mif\u001b[0m \u001b[0mself\u001b[0m\u001b[0;34m.\u001b[0m\u001b[0mshape\u001b[0m\u001b[0;34m[\u001b[0m\u001b[0;36m1\u001b[0m\u001b[0;34m]\u001b[0m \u001b[0;34m!=\u001b[0m \u001b[0mother\u001b[0m\u001b[0;34m.\u001b[0m\u001b[0mshape\u001b[0m\u001b[0;34m[\u001b[0m\u001b[0;36m0\u001b[0m\u001b[0;34m]\u001b[0m\u001b[0;34m:\u001b[0m\u001b[0;34m\u001b[0m\u001b[0m\n\u001b[1;32m    368\u001b[0m                 \u001b[0;32mraise\u001b[0m \u001b[0mValueError\u001b[0m\u001b[0;34m(\u001b[0m\u001b[0;34m'dimension mismatch'\u001b[0m\u001b[0;34m)\u001b[0m\u001b[0;34m\u001b[0m\u001b[0m\n\u001b[0;32m--> 369\u001b[0;31m             \u001b[0;32mreturn\u001b[0m \u001b[0mself\u001b[0m\u001b[0;34m.\u001b[0m\u001b[0m_mul_sparse_matrix\u001b[0m\u001b[0;34m(\u001b[0m\u001b[0mother\u001b[0m\u001b[0;34m)\u001b[0m\u001b[0;34m\u001b[0m\u001b[0m\n\u001b[0m\u001b[1;32m    370\u001b[0m \u001b[0;34m\u001b[0m\u001b[0m\n\u001b[1;32m    371\u001b[0m         \u001b[0;31m# If it's a list or whatever, treat it like a matrix\u001b[0m\u001b[0;34m\u001b[0m\u001b[0;34m\u001b[0m\u001b[0m\n",
            "\u001b[0;32m/usr/local/lib/python3.6/dist-packages/scipy/sparse/compressed.py\u001b[0m in \u001b[0;36m_mul_sparse_matrix\u001b[0;34m(self, other)\u001b[0m\n\u001b[1;32m    548\u001b[0m            \u001b[0mnp\u001b[0m\u001b[0;34m.\u001b[0m\u001b[0masarray\u001b[0m\u001b[0;34m(\u001b[0m\u001b[0mother\u001b[0m\u001b[0;34m.\u001b[0m\u001b[0mindices\u001b[0m\u001b[0;34m,\u001b[0m \u001b[0mdtype\u001b[0m\u001b[0;34m=\u001b[0m\u001b[0midx_dtype\u001b[0m\u001b[0;34m)\u001b[0m\u001b[0;34m,\u001b[0m\u001b[0;34m\u001b[0m\u001b[0m\n\u001b[1;32m    549\u001b[0m            \u001b[0mother\u001b[0m\u001b[0;34m.\u001b[0m\u001b[0mdata\u001b[0m\u001b[0;34m,\u001b[0m\u001b[0;34m\u001b[0m\u001b[0m\n\u001b[0;32m--> 550\u001b[0;31m            indptr, indices, data)\n\u001b[0m\u001b[1;32m    551\u001b[0m \u001b[0;34m\u001b[0m\u001b[0m\n\u001b[1;32m    552\u001b[0m         \u001b[0;32mreturn\u001b[0m \u001b[0mself\u001b[0m\u001b[0;34m.\u001b[0m\u001b[0m__class__\u001b[0m\u001b[0;34m(\u001b[0m\u001b[0;34m(\u001b[0m\u001b[0mdata\u001b[0m\u001b[0;34m,\u001b[0m\u001b[0mindices\u001b[0m\u001b[0;34m,\u001b[0m\u001b[0mindptr\u001b[0m\u001b[0;34m)\u001b[0m\u001b[0;34m,\u001b[0m\u001b[0mshape\u001b[0m\u001b[0;34m=\u001b[0m\u001b[0;34m(\u001b[0m\u001b[0mM\u001b[0m\u001b[0;34m,\u001b[0m\u001b[0mN\u001b[0m\u001b[0;34m)\u001b[0m\u001b[0;34m)\u001b[0m\u001b[0;34m\u001b[0m\u001b[0m\n",
            "\u001b[0;31mKeyboardInterrupt\u001b[0m: "
          ]
        }
      ]
    },
    {
      "metadata": {
        "id": "ZQgUaj3IwKsJ",
        "colab_type": "code",
        "colab": {
          "base_uri": "https://localhost:8080/",
          "height": 18343
        },
        "outputId": "5352f18a-d591-4143-ca4a-c804b60f786a"
      },
      "cell_type": "code",
      "source": [
        "!apt install cuda\n",
        "!pip install implicit==0.3.8"
      ],
      "execution_count": 28,
      "outputs": [
        {
          "output_type": "stream",
          "text": [
            "Reading package lists... Done\n",
            "Building dependency tree       \n",
            "Reading state information... Done\n",
            "The following additional packages will be installed:\n",
            "  acpid adwaita-icon-theme at-spi2-core ca-certificates-java cuda-9-2\n",
            "  cuda-compiler-9-2 cuda-cublas-dev-9-2 cuda-cufft-dev-9-2 cuda-curand-dev-9-2\n",
            "  cuda-cusolver-dev-9-2 cuda-cusparse-dev-9-2 cuda-demo-suite-9-2\n",
            "  cuda-documentation-9-2 cuda-drivers cuda-libraries-dev-9-2 cuda-npp-dev-9-2\n",
            "  cuda-nsight-9-2 cuda-nvgraph-dev-9-2 cuda-nvml-dev-9-2 cuda-nvprune-9-2\n",
            "  cuda-nvrtc-dev-9-2 cuda-nvvp-9-2 cuda-runtime-9-2 cuda-samples-9-2\n",
            "  cuda-toolkit-9-2 cuda-tools-9-2 cuda-visual-tools-9-2 dbus\n",
            "  dconf-gsettings-backend dconf-service default-jre default-jre-headless dkms\n",
            "  dmsetup fakeroot fontconfig fonts-dejavu-core fonts-dejavu-extra freeglut3\n",
            "  freeglut3-dev glib-networking glib-networking-common\n",
            "  glib-networking-services gsettings-desktop-schemas gtk-update-icon-cache\n",
            "  hicolor-icon-theme humanity-icon-theme java-common keyboard-configuration\n",
            "  kmod lib32gcc1 libapparmor1 libargon2-0 libasound2 libasound2-data\n",
            "  libatk-bridge2.0-0 libatk-wrapper-java libatk-wrapper-java-jni libatk1.0-0\n",
            "  libatk1.0-data libatspi2.0-0 libavahi-client3 libavahi-common-data\n",
            "  libavahi-common3 libc6-i386 libcairo-gobject2 libcairo2 libcap2 libcolord2\n",
            "  libcroco3 libcryptsetup12 libcuda1-396 libcups2 libdatrie1 libdconf1\n",
            "  libdevmapper1.02.1 libdrm-amdgpu1 libdrm-dev libdrm-intel1 libdrm-nouveau2\n",
            "  libdrm-radeon1 libepoxy0 libfakeroot libfontenc1 libgdk-pixbuf2.0-0\n",
            "  libgdk-pixbuf2.0-bin libgdk-pixbuf2.0-common libgif7 libgl1 libgl1-mesa-dev\n",
            "  libgl1-mesa-dri libgl1-mesa-glx libgles1 libglu1-mesa libglu1-mesa-dev\n",
            "  libglvnd-core-dev libglvnd-dev libglx-mesa0 libglx0 libgtk-3-0 libgtk-3-bin\n",
            "  libgtk-3-common libice-dev libidn11 libip4tc0 libjansson4 libjbig0\n",
            "  libjson-c3 libjson-glib-1.0-0 libjson-glib-1.0-common libkmod2 liblcms2-2\n",
            "  libllvm6.0 liblocale-gettext-perl libnspr4 libnss-systemd libnss3\n",
            "  libpam-systemd libpango-1.0-0 libpangocairo-1.0-0 libpangoft2-1.0-0\n",
            "  libpciaccess0 libpcsclite1 libpixman-1-0 libpolkit-agent-1-0\n",
            "  libpolkit-backend-1-0 libpolkit-gobject-1-0 libproxy1v5 librest-0.7-0\n",
            "  librsvg2-2 librsvg2-common libsensors4 libsm-dev libsoup-gnome2.4-1\n",
            "  libsoup2.4-1 libthai-data libthai0 libtiff5 libvdpau1 libwayland-cursor0\n",
            "  libwayland-egl1-mesa libx11-xcb-dev libxaw7 libxcb-dri2-0-dev\n",
            "  libxcb-dri3-dev libxcb-glx0 libxcb-glx0-dev libxcb-present-dev libxcb-randr0\n",
            "  libxcb-randr0-dev libxcb-render0 libxcb-render0-dev libxcb-shape0\n",
            "  libxcb-shape0-dev libxcb-shm0 libxcb-sync-dev libxcb-xfixes0-dev\n",
            "  libxcomposite1 libxcursor1 libxdamage-dev libxdamage1 libxext-dev\n",
            "  libxfixes-dev libxfixes3 libxfont2 libxi-dev libxi6 libxinerama1\n",
            "  libxkbcommon0 libxkbfile1 libxmu-dev libxmu-headers libxmu6 libxmuu1\n",
            "  libxnvctrl0 libxpm4 libxrandr2 libxshmfence-dev libxt-dev libxt6 libxtst6\n",
            "  libxv1 libxxf86dga1 libxxf86vm-dev libxxf86vm1 linux-headers-4.15.0-36\n",
            "  linux-headers-4.15.0-36-generic linux-headers-generic mesa-common-dev\n",
            "  mesa-vdpau-drivers networkd-dispatcher nvidia-396 nvidia-396-dev\n",
            "  nvidia-modprobe nvidia-opencl-icd-396 nvidia-prime nvidia-settings\n",
            "  ocl-icd-libopencl1 openjdk-11-jre openjdk-11-jre-headless policykit-1\n",
            "  policykit-1-gnome python3-xkit screen-resolution-extra shared-mime-info sudo\n",
            "  systemd systemd-sysv ubuntu-mono udev vdpau-driver-all x11-utils\n",
            "  x11-xkb-utils x11proto-damage-dev x11proto-dri2-dev x11proto-fixes-dev\n",
            "  x11proto-gl-dev x11proto-input-dev x11proto-xext-dev\n",
            "  x11proto-xf86vidmode-dev xauth xfonts-base xfonts-encodings xfonts-utils\n",
            "  xkb-data xserver-common xserver-xorg-core xserver-xorg-legacy\n",
            "Suggested packages:\n",
            "  default-dbus-session-bus | dbus-session-bus default-java-plugin\n",
            "  python3-apport menu libasound2-plugins alsa-utils colord cups-common gvfs\n",
            "  libice-doc liblcms2-utils pciutils pcscd librsvg2-bin lm-sensors libsm-doc\n",
            "  libxext-doc libxt-doc iw | wireless-tools libnss-mdns fonts-ipafont-gothic\n",
            "  fonts-ipafont-mincho fonts-wqy-microhei | fonts-wqy-zenhei fonts-indic\n",
            "  systemd-container libvdpau-va-gl1 nvidia-vdpau-driver\n",
            "  nvidia-legacy-340xx-vdpau-driver mesa-utils xfs | xserver xfonts-100dpi\n",
            "  | xfonts-75dpi xfonts-scalable\n",
            "The following packages will be REMOVED:\n",
            "  libnvidia-compute-396\n",
            "The following NEW packages will be installed:\n",
            "  acpid adwaita-icon-theme at-spi2-core ca-certificates-java cuda cuda-9-2\n",
            "  cuda-compiler-9-2 cuda-cublas-dev-9-2 cuda-cufft-dev-9-2 cuda-curand-dev-9-2\n",
            "  cuda-cusolver-dev-9-2 cuda-cusparse-dev-9-2 cuda-demo-suite-9-2\n",
            "  cuda-documentation-9-2 cuda-drivers cuda-libraries-dev-9-2 cuda-npp-dev-9-2\n",
            "  cuda-nsight-9-2 cuda-nvgraph-dev-9-2 cuda-nvml-dev-9-2 cuda-nvprune-9-2\n",
            "  cuda-nvrtc-dev-9-2 cuda-nvvp-9-2 cuda-runtime-9-2 cuda-samples-9-2\n",
            "  cuda-toolkit-9-2 cuda-tools-9-2 cuda-visual-tools-9-2 dbus\n",
            "  dconf-gsettings-backend dconf-service default-jre default-jre-headless dkms\n",
            "  dmsetup fakeroot fontconfig fonts-dejavu-core fonts-dejavu-extra freeglut3\n",
            "  freeglut3-dev glib-networking glib-networking-common\n",
            "  glib-networking-services gsettings-desktop-schemas gtk-update-icon-cache\n",
            "  hicolor-icon-theme humanity-icon-theme java-common keyboard-configuration\n",
            "  kmod lib32gcc1 libapparmor1 libargon2-0 libasound2 libasound2-data\n",
            "  libatk-bridge2.0-0 libatk-wrapper-java libatk-wrapper-java-jni libatk1.0-0\n",
            "  libatk1.0-data libatspi2.0-0 libavahi-client3 libavahi-common-data\n",
            "  libavahi-common3 libc6-i386 libcairo-gobject2 libcairo2 libcap2 libcolord2\n",
            "  libcroco3 libcryptsetup12 libcuda1-396 libcups2 libdatrie1 libdconf1\n",
            "  libdevmapper1.02.1 libdrm-amdgpu1 libdrm-dev libdrm-intel1 libdrm-nouveau2\n",
            "  libdrm-radeon1 libepoxy0 libfakeroot libfontenc1 libgdk-pixbuf2.0-0\n",
            "  libgdk-pixbuf2.0-bin libgdk-pixbuf2.0-common libgif7 libgl1 libgl1-mesa-dev\n",
            "  libgl1-mesa-dri libgl1-mesa-glx libgles1 libglu1-mesa libglu1-mesa-dev\n",
            "  libglvnd-core-dev libglvnd-dev libglx-mesa0 libglx0 libgtk-3-0 libgtk-3-bin\n",
            "  libgtk-3-common libice-dev libidn11 libip4tc0 libjansson4 libjbig0\n",
            "  libjson-c3 libjson-glib-1.0-0 libjson-glib-1.0-common libkmod2 liblcms2-2\n",
            "  libllvm6.0 liblocale-gettext-perl libnspr4 libnss-systemd libnss3\n",
            "  libpam-systemd libpango-1.0-0 libpangocairo-1.0-0 libpangoft2-1.0-0\n",
            "  libpciaccess0 libpcsclite1 libpixman-1-0 libpolkit-agent-1-0\n",
            "  libpolkit-backend-1-0 libpolkit-gobject-1-0 libproxy1v5 librest-0.7-0\n",
            "  librsvg2-2 librsvg2-common libsensors4 libsm-dev libsoup-gnome2.4-1\n",
            "  libsoup2.4-1 libthai-data libthai0 libtiff5 libvdpau1 libwayland-cursor0\n",
            "  libwayland-egl1-mesa libx11-xcb-dev libxaw7 libxcb-dri2-0-dev\n",
            "  libxcb-dri3-dev libxcb-glx0 libxcb-glx0-dev libxcb-present-dev libxcb-randr0\n",
            "  libxcb-randr0-dev libxcb-render0 libxcb-render0-dev libxcb-shape0\n",
            "  libxcb-shape0-dev libxcb-shm0 libxcb-sync-dev libxcb-xfixes0-dev\n",
            "  libxcomposite1 libxcursor1 libxdamage-dev libxdamage1 libxext-dev\n",
            "  libxfixes-dev libxfixes3 libxfont2 libxi-dev libxi6 libxinerama1\n",
            "  libxkbcommon0 libxkbfile1 libxmu-dev libxmu-headers libxmu6 libxmuu1\n",
            "  libxnvctrl0 libxpm4 libxrandr2 libxshmfence-dev libxt-dev libxt6 libxtst6\n",
            "  libxv1 libxxf86dga1 libxxf86vm-dev libxxf86vm1 linux-headers-4.15.0-36\n",
            "  linux-headers-4.15.0-36-generic linux-headers-generic mesa-common-dev\n",
            "  mesa-vdpau-drivers networkd-dispatcher nvidia-396 nvidia-396-dev\n",
            "  nvidia-modprobe nvidia-opencl-icd-396 nvidia-prime nvidia-settings\n",
            "  ocl-icd-libopencl1 openjdk-11-jre openjdk-11-jre-headless policykit-1\n",
            "  policykit-1-gnome python3-xkit screen-resolution-extra shared-mime-info sudo\n",
            "  systemd systemd-sysv ubuntu-mono udev vdpau-driver-all x11-utils\n",
            "  x11-xkb-utils x11proto-damage-dev x11proto-dri2-dev x11proto-fixes-dev\n",
            "  x11proto-gl-dev x11proto-input-dev x11proto-xext-dev\n",
            "  x11proto-xf86vidmode-dev xauth xfonts-base xfonts-encodings xfonts-utils\n",
            "  xkb-data xserver-common xserver-xorg-core xserver-xorg-legacy\n",
            "0 upgraded, 229 newly installed, 1 to remove and 12 not upgraded.\n",
            "Need to get 1,059 MB of archives.\n",
            "After this operation, 2,830 MB of additional disk space will be used.\n",
            "Get:1 https://developer.download.nvidia.com/compute/cuda/repos/ubuntu1710/x86_64  cuda-nvprune-9-2 9.2.148-1 [36.8 kB]\n",
            "Get:2 https://developer.download.nvidia.com/compute/cuda/repos/ubuntu1710/x86_64  cuda-compiler-9-2 9.2.148-1 [2,520 B]\n",
            "Get:3 https://developer.download.nvidia.com/compute/cuda/repos/ubuntu1710/x86_64  cuda-nsight-9-2 9.2.148-1 [2,582 B]\n",
            "Get:4 https://developer.download.nvidia.com/compute/cuda/repos/ubuntu1710/x86_64  cuda-nvvp-9-2 9.2.148-1 [2,528 B]\n",
            "Get:5 https://developer.download.nvidia.com/compute/cuda/repos/ubuntu1710/x86_64  cuda-nvrtc-dev-9-2 9.2.148-1 [9,348 B]\n",
            "Get:6 https://developer.download.nvidia.com/compute/cuda/repos/ubuntu1710/x86_64  cuda-cusolver-dev-9-2 9.2.148-1 [8,184 kB]\n",
            "Get:7 http://ppa.launchpad.net/graphics-drivers/ppa/ubuntu bionic/main amd64 libxnvctrl0 amd64 410.66-0ubuntu0~gpu18.04.1 [18.1 kB]\n",
            "Get:8 http://archive.ubuntu.com/ubuntu bionic/main amd64 liblocale-gettext-perl amd64 1.07-3build2 [16.6 kB]\n",
            "Get:9 https://developer.download.nvidia.com/compute/cuda/repos/ubuntu1710/x86_64  cuda-cublas-dev-9-2 9.2.148.1-1 [50.4 MB]\n",
            "Get:10 http://archive.ubuntu.com/ubuntu bionic-updates/main amd64 keyboard-configuration all 1.178ubuntu2.7 [372 kB]\n",
            "Get:11 http://ppa.launchpad.net/graphics-drivers/ppa/ubuntu bionic/main amd64 nvidia-settings amd64 410.66-0ubuntu0~gpu18.04.1 [961 kB]\n",
            "Get:12 http://archive.ubuntu.com/ubuntu bionic/main amd64 libcap2 amd64 1:2.25-1.2 [13.0 kB]\n",
            "Get:13 http://archive.ubuntu.com/ubuntu bionic/main amd64 libargon2-0 amd64 0~20161029-1.1 [19.9 kB]\n",
            "Get:14 http://archive.ubuntu.com/ubuntu bionic/main amd64 libdevmapper1.02.1 amd64 2:1.02.145-4.1ubuntu3 [127 kB]\n",
            "Get:15 http://archive.ubuntu.com/ubuntu bionic/main amd64 libjson-c3 amd64 0.12.1-1.3 [21.4 kB]\n",
            "Get:16 http://archive.ubuntu.com/ubuntu bionic-updates/main amd64 libcryptsetup12 amd64 2:2.0.2-1ubuntu1.1 [134 kB]\n",
            "Get:17 http://archive.ubuntu.com/ubuntu bionic/main amd64 libidn11 amd64 1.33-2.1ubuntu1 [45.7 kB]\n",
            "Get:18 http://archive.ubuntu.com/ubuntu bionic/main amd64 libip4tc0 amd64 1.6.1-2ubuntu2 [19.6 kB]\n",
            "Get:19 http://archive.ubuntu.com/ubuntu bionic-updates/main amd64 libapparmor1 amd64 2.12-4ubuntu5.1 [31.3 kB]\n",
            "Get:20 http://archive.ubuntu.com/ubuntu bionic/main amd64 libkmod2 amd64 24-1ubuntu3 [40.1 kB]\n",
            "Get:21 http://archive.ubuntu.com/ubuntu bionic-updates/main amd64 systemd amd64 237-3ubuntu10.3 [2,896 kB]\n",
            "Get:22 http://archive.ubuntu.com/ubuntu bionic-updates/main amd64 systemd-sysv amd64 237-3ubuntu10.3 [11.7 kB]\n",
            "Get:23 http://archive.ubuntu.com/ubuntu bionic/main amd64 fontconfig amd64 2.12.6-0ubuntu2 [169 kB]\n",
            "Get:24 http://archive.ubuntu.com/ubuntu bionic/main amd64 libxinerama1 amd64 2:1.1.3-1 [7,908 B]\n",
            "Get:25 http://archive.ubuntu.com/ubuntu bionic/main amd64 libxxf86dga1 amd64 2:1.1.4-1 [13.7 kB]\n",
            "Get:26 http://archive.ubuntu.com/ubuntu bionic/main amd64 libxxf86vm1 amd64 1:1.1.4-1 [10.6 kB]\n",
            "Get:27 http://archive.ubuntu.com/ubuntu bionic/main amd64 dbus amd64 1.12.2-1ubuntu1 [150 kB]\n",
            "Get:28 http://archive.ubuntu.com/ubuntu bionic/main amd64 dmsetup amd64 2:1.02.145-4.1ubuntu3 [74.5 kB]\n",
            "Get:29 http://archive.ubuntu.com/ubuntu bionic/main amd64 kmod amd64 24-1ubuntu3 [88.6 kB]\n",
            "Get:30 http://archive.ubuntu.com/ubuntu bionic-updates/main amd64 libnss-systemd amd64 237-3ubuntu10.3 [105 kB]\n",
            "Get:31 http://archive.ubuntu.com/ubuntu bionic-updates/main amd64 libpam-systemd amd64 237-3ubuntu10.3 [108 kB]\n",
            "Get:32 http://archive.ubuntu.com/ubuntu bionic-updates/main amd64 networkd-dispatcher all 1.7-0ubuntu3.2 [12.8 kB]\n",
            "Get:33 http://archive.ubuntu.com/ubuntu bionic/main amd64 shared-mime-info amd64 1.9-2 [426 kB]\n",
            "Get:34 http://archive.ubuntu.com/ubuntu bionic/main amd64 sudo amd64 1.8.21p2-3ubuntu1 [428 kB]\n",
            "Get:35 http://archive.ubuntu.com/ubuntu bionic-updates/main amd64 udev amd64 237-3ubuntu10.3 [1,100 kB]\n",
            "Get:36 http://archive.ubuntu.com/ubuntu bionic/main amd64 xkb-data all 2.23.1-1ubuntu1 [325 kB]\n",
            "Get:37 http://archive.ubuntu.com/ubuntu bionic-updates/main amd64 libpolkit-gobject-1-0 amd64 0.105-20ubuntu0.18.04.1 [36.3 kB]\n",
            "Get:38 http://archive.ubuntu.com/ubuntu bionic/main amd64 libxmuu1 amd64 2:1.1.2-2 [9,674 B]\n",
            "Get:39 http://archive.ubuntu.com/ubuntu bionic/main amd64 xauth amd64 1:1.0.10-1 [24.6 kB]\n",
            "Get:40 http://archive.ubuntu.com/ubuntu bionic/main amd64 acpid amd64 1:2.0.28-1ubuntu1 [36.5 kB]\n",
            "Get:41 http://archive.ubuntu.com/ubuntu bionic/main amd64 hicolor-icon-theme all 0.17-2 [9,976 B]\n",
            "Get:42 http://archive.ubuntu.com/ubuntu bionic/main amd64 libjbig0 amd64 2.1-3.1build1 [26.7 kB]\n",
            "Get:43 http://archive.ubuntu.com/ubuntu bionic/main amd64 libtiff5 amd64 4.0.9-5 [152 kB]\n",
            "Get:44 http://archive.ubuntu.com/ubuntu bionic/main amd64 libgdk-pixbuf2.0-common all 2.36.11-2 [4,536 B]\n",
            "Get:45 https://developer.download.nvidia.com/compute/cuda/repos/ubuntu1710/x86_64  cuda-cufft-dev-9-2 9.2.148-1 [106 MB]\n",
            "Get:46 http://archive.ubuntu.com/ubuntu bionic/main amd64 libgdk-pixbuf2.0-0 amd64 2.36.11-2 [165 kB]\n",
            "Get:47 http://archive.ubuntu.com/ubuntu bionic/main amd64 gtk-update-icon-cache amd64 3.22.30-1ubuntu1 [28.0 kB]\n",
            "Get:48 http://archive.ubuntu.com/ubuntu bionic/main amd64 libpixman-1-0 amd64 0.34.0-2 [229 kB]\n",
            "Get:49 http://archive.ubuntu.com/ubuntu bionic/main amd64 libxcb-render0 amd64 1.13-1 [14.7 kB]\n",
            "Get:50 http://archive.ubuntu.com/ubuntu bionic/main amd64 libxcb-shm0 amd64 1.13-1 [5,572 B]\n",
            "Get:51 http://archive.ubuntu.com/ubuntu bionic/main amd64 libcairo2 amd64 1.15.10-2 [580 kB]\n",
            "Get:52 http://archive.ubuntu.com/ubuntu bionic/main amd64 libcroco3 amd64 0.6.12-2 [81.3 kB]\n",
            "Get:53 http://archive.ubuntu.com/ubuntu bionic/main amd64 libthai-data all 0.1.27-2 [133 kB]\n",
            "Get:54 http://archive.ubuntu.com/ubuntu bionic/main amd64 libdatrie1 amd64 0.2.10-7 [17.8 kB]\n",
            "Get:55 http://archive.ubuntu.com/ubuntu bionic/main amd64 libthai0 amd64 0.1.27-2 [18.0 kB]\n",
            "Get:56 http://archive.ubuntu.com/ubuntu bionic-updates/main amd64 libpango-1.0-0 amd64 1.40.14-1ubuntu0.1 [153 kB]\n",
            "Get:57 http://archive.ubuntu.com/ubuntu bionic-updates/main amd64 libpangoft2-1.0-0 amd64 1.40.14-1ubuntu0.1 [33.2 kB]\n",
            "Get:58 http://archive.ubuntu.com/ubuntu bionic-updates/main amd64 libpangocairo-1.0-0 amd64 1.40.14-1ubuntu0.1 [20.8 kB]\n",
            "Get:59 http://archive.ubuntu.com/ubuntu bionic/main amd64 librsvg2-2 amd64 2.40.20-2 [98.6 kB]\n",
            "Get:60 http://archive.ubuntu.com/ubuntu bionic/main amd64 librsvg2-common amd64 2.40.20-2 [5,124 B]\n",
            "Get:61 http://archive.ubuntu.com/ubuntu bionic/main amd64 humanity-icon-theme all 0.6.15 [1,250 kB]\n",
            "Get:62 http://archive.ubuntu.com/ubuntu bionic/main amd64 ubuntu-mono all 16.10+18.04.20180421.1-0ubuntu1 [149 kB]\n",
            "Get:63 http://archive.ubuntu.com/ubuntu bionic/main amd64 adwaita-icon-theme all 3.28.0-1ubuntu1 [3,306 kB]\n",
            "Get:64 http://archive.ubuntu.com/ubuntu bionic/main amd64 libatspi2.0-0 amd64 2.28.0-1 [59.6 kB]\n",
            "Get:65 http://archive.ubuntu.com/ubuntu bionic/main amd64 libxtst6 amd64 2:1.2.3-1 [12.8 kB]\n",
            "Get:66 http://archive.ubuntu.com/ubuntu bionic/main amd64 at-spi2-core amd64 2.28.0-1 [47.9 kB]\n",
            "Get:67 http://archive.ubuntu.com/ubuntu bionic/main amd64 java-common all 0.63ubuntu1~02 [7,032 B]\n",
            "Get:68 http://archive.ubuntu.com/ubuntu bionic-updates/main amd64 libavahi-common-data amd64 0.7-3.1ubuntu1.1 [22.1 kB]\n",
            "Get:69 http://archive.ubuntu.com/ubuntu bionic-updates/main amd64 libavahi-common3 amd64 0.7-3.1ubuntu1.1 [21.7 kB]\n",
            "Get:70 http://archive.ubuntu.com/ubuntu bionic-updates/main amd64 libavahi-client3 amd64 0.7-3.1ubuntu1.1 [25.3 kB]\n",
            "Get:71 http://archive.ubuntu.com/ubuntu bionic-updates/main amd64 libcups2 amd64 2.2.7-1ubuntu2.1 [211 kB]\n",
            "Get:72 http://archive.ubuntu.com/ubuntu bionic-updates/main amd64 liblcms2-2 amd64 2.9-1ubuntu0.1 [139 kB]\n",
            "Get:73 http://archive.ubuntu.com/ubuntu bionic/main amd64 libnspr4 amd64 2:4.18-1ubuntu1 [112 kB]\n",
            "Get:74 http://archive.ubuntu.com/ubuntu bionic/main amd64 libnss3 amd64 2:3.35-2ubuntu2 [1,135 kB]\n",
            "Get:75 http://archive.ubuntu.com/ubuntu bionic/main amd64 libpcsclite1 amd64 1.8.23-1 [21.3 kB]\n",
            "Get:76 http://archive.ubuntu.com/ubuntu bionic/main amd64 libxi6 amd64 2:1.7.9-1 [29.2 kB]\n",
            "Get:77 http://archive.ubuntu.com/ubuntu bionic-updates/main amd64 openjdk-11-jre-headless amd64 10.0.2+13-1ubuntu0.18.04.2 [39.5 MB]\n",
            "Get:78 http://archive.ubuntu.com/ubuntu bionic/main amd64 default-jre-headless amd64 2:1.10-63ubuntu1~02 [3,412 B]\n",
            "Get:79 http://archive.ubuntu.com/ubuntu bionic-updates/main amd64 ca-certificates-java all 20180516ubuntu1~18.04.1 [12.2 kB]\n",
            "Get:80 http://archive.ubuntu.com/ubuntu bionic/main amd64 libdconf1 amd64 0.26.0-2ubuntu3 [33.1 kB]\n",
            "Get:81 http://archive.ubuntu.com/ubuntu bionic/main amd64 dconf-service amd64 0.26.0-2ubuntu3 [28.4 kB]\n",
            "Get:82 http://archive.ubuntu.com/ubuntu bionic/main amd64 dconf-gsettings-backend amd64 0.26.0-2ubuntu3 [20.0 kB]\n",
            "Get:83 http://archive.ubuntu.com/ubuntu bionic/main amd64 libgtk-3-common all 3.22.30-1ubuntu1 [228 kB]\n",
            "Get:84 http://archive.ubuntu.com/ubuntu bionic/main amd64 libatk1.0-data all 2.28.1-1 [2,992 B]\n",
            "Get:85 http://archive.ubuntu.com/ubuntu bionic/main amd64 libatk1.0-0 amd64 2.28.1-1 [43.9 kB]\n",
            "Get:86 http://archive.ubuntu.com/ubuntu bionic/main amd64 libatk-bridge2.0-0 amd64 2.26.2-1 [57.3 kB]\n",
            "Get:87 http://archive.ubuntu.com/ubuntu bionic/main amd64 libcairo-gobject2 amd64 1.15.10-2 [17.2 kB]\n",
            "Get:88 http://archive.ubuntu.com/ubuntu bionic/main amd64 libcolord2 amd64 1.3.3-2build1 [107 kB]\n",
            "Get:89 http://archive.ubuntu.com/ubuntu bionic/main amd64 libepoxy0 amd64 1.4.3-1 [181 kB]\n",
            "Get:90 http://archive.ubuntu.com/ubuntu bionic/main amd64 libjson-glib-1.0-common all 1.4.2-3 [3,464 B]\n",
            "Get:91 http://archive.ubuntu.com/ubuntu bionic/main amd64 libjson-glib-1.0-0 amd64 1.4.2-3 [58.5 kB]\n",
            "Get:92 http://archive.ubuntu.com/ubuntu bionic/main amd64 libproxy1v5 amd64 0.4.15-1 [49.5 kB]\n",
            "Get:93 http://archive.ubuntu.com/ubuntu bionic/main amd64 glib-networking-common all 2.56.0-1 [3,324 B]\n",
            "Get:94 http://archive.ubuntu.com/ubuntu bionic/main amd64 glib-networking-services amd64 2.56.0-1 [8,488 B]\n",
            "Get:95 http://archive.ubuntu.com/ubuntu bionic/main amd64 gsettings-desktop-schemas all 3.28.0-1ubuntu1 [27.8 kB]\n",
            "Get:96 http://archive.ubuntu.com/ubuntu bionic/main amd64 glib-networking amd64 2.56.0-1 [56.7 kB]\n",
            "Get:97 http://archive.ubuntu.com/ubuntu bionic-updates/main amd64 libsoup2.4-1 amd64 2.62.1-1ubuntu0.1 [292 kB]\n",
            "Get:98 http://archive.ubuntu.com/ubuntu bionic-updates/main amd64 libsoup-gnome2.4-1 amd64 2.62.1-1ubuntu0.1 [5,092 B]\n",
            "Get:99 http://archive.ubuntu.com/ubuntu bionic/main amd64 librest-0.7-0 amd64 0.8.0-2 [31.8 kB]\n",
            "Get:100 http://archive.ubuntu.com/ubuntu bionic/main amd64 libwayland-cursor0 amd64 1.14.0-2 [9,976 B]\n",
            "Get:101 http://archive.ubuntu.com/ubuntu bionic-updates/main amd64 libwayland-egl1-mesa amd64 18.0.5-0ubuntu0~18.04.1 [7,148 B]\n",
            "Get:102 http://archive.ubuntu.com/ubuntu bionic/main amd64 libxcomposite1 amd64 1:0.4.4-2 [6,988 B]\n",
            "Get:103 http://archive.ubuntu.com/ubuntu bionic/main amd64 libxfixes3 amd64 1:5.0.3-1 [10.8 kB]\n",
            "Get:104 http://archive.ubuntu.com/ubuntu bionic/main amd64 libxcursor1 amd64 1:1.1.15-1 [19.8 kB]\n",
            "Get:105 http://archive.ubuntu.com/ubuntu bionic/main amd64 libxdamage1 amd64 1:1.1.4-3 [6,934 B]\n",
            "Get:106 http://archive.ubuntu.com/ubuntu bionic/main amd64 libxkbcommon0 amd64 0.8.0-1 [97.6 kB]\n",
            "Get:107 http://archive.ubuntu.com/ubuntu bionic/main amd64 libxrandr2 amd64 2:1.5.1-1 [18.1 kB]\n",
            "Get:108 http://archive.ubuntu.com/ubuntu bionic/main amd64 libgtk-3-0 amd64 3.22.30-1ubuntu1 [2,505 kB]\n",
            "Get:109 http://archive.ubuntu.com/ubuntu bionic/main amd64 libxcb-glx0 amd64 1.13-1 [22.0 kB]\n",
            "Get:110 http://archive.ubuntu.com/ubuntu bionic/main amd64 libdrm-amdgpu1 amd64 2.4.91-2 [19.0 kB]\n",
            "Get:111 http://archive.ubuntu.com/ubuntu bionic/main amd64 libpciaccess0 amd64 0.14-1 [17.9 kB]\n",
            "Get:112 http://archive.ubuntu.com/ubuntu bionic/main amd64 libdrm-intel1 amd64 2.4.91-2 [59.8 kB]\n",
            "Get:113 https://developer.download.nvidia.com/compute/cuda/repos/ubuntu1710/x86_64  cuda-curand-dev-9-2 9.2.148-1 [57.8 MB]\n",
            "Get:114 http://archive.ubuntu.com/ubuntu bionic/main amd64 libdrm-nouveau2 amd64 2.4.91-2 [16.5 kB]\n",
            "Get:115 http://archive.ubuntu.com/ubuntu bionic/main amd64 libdrm-radeon1 amd64 2.4.91-2 [21.7 kB]\n",
            "Get:116 http://archive.ubuntu.com/ubuntu bionic/main amd64 libllvm6.0 amd64 1:6.0-1ubuntu2 [14.5 MB]\n",
            "Get:117 http://archive.ubuntu.com/ubuntu bionic/main amd64 libsensors4 amd64 1:3.4.0-4 [28.8 kB]\n",
            "Get:118 https://developer.download.nvidia.com/compute/cuda/repos/ubuntu1710/x86_64  cuda-cusparse-dev-9-2 9.2.148-1 [27.8 MB]\n",
            "Get:119 http://archive.ubuntu.com/ubuntu bionic-updates/main amd64 libgl1-mesa-dri amd64 18.0.5-0ubuntu0~18.04.1 [6,011 kB]\n",
            "Get:120 http://archive.ubuntu.com/ubuntu bionic-updates/main amd64 libglx-mesa0 amd64 18.0.5-0ubuntu0~18.04.1 [132 kB]\n",
            "Get:121 http://archive.ubuntu.com/ubuntu bionic-updates/main amd64 libglx0 amd64 1.0.0-2ubuntu2.2 [28.1 kB]\n",
            "Get:122 http://archive.ubuntu.com/ubuntu bionic-updates/main amd64 libgl1 amd64 1.0.0-2ubuntu2.2 [84.8 kB]\n",
            "Get:123 http://archive.ubuntu.com/ubuntu bionic-updates/main amd64 libgl1-mesa-glx amd64 18.0.5-0ubuntu0~18.04.1 [3,780 B]\n",
            "Get:124 https://developer.download.nvidia.com/compute/cuda/repos/ubuntu1710/x86_64  cuda-npp-dev-9-2 9.2.148-1 [52.0 MB]\n",
            "Get:125 http://archive.ubuntu.com/ubuntu bionic-updates/main amd64 libasound2-data all 1.1.3-5ubuntu0.1 [36.3 kB]\n",
            "Get:126 http://archive.ubuntu.com/ubuntu bionic-updates/main amd64 libasound2 amd64 1.1.3-5ubuntu0.1 [359 kB]\n",
            "Get:127 http://archive.ubuntu.com/ubuntu bionic/main amd64 libgif7 amd64 5.1.4-2 [30.6 kB]\n",
            "Get:128 http://archive.ubuntu.com/ubuntu bionic-updates/main amd64 openjdk-11-jre amd64 10.0.2+13-1ubuntu0.18.04.2 [53.2 kB]\n",
            "Get:129 http://archive.ubuntu.com/ubuntu bionic/main amd64 default-jre amd64 2:1.10-63ubuntu1~02 [1,092 B]\n",
            "Get:130 http://archive.ubuntu.com/ubuntu bionic/universe amd64 freeglut3 amd64 2.8.1-3 [73.6 kB]\n",
            "Get:131 http://archive.ubuntu.com/ubuntu bionic/main amd64 libdrm-dev amd64 2.4.91-2 [238 kB]\n",
            "Get:132 http://archive.ubuntu.com/ubuntu bionic-updates/main amd64 mesa-common-dev amd64 18.0.5-0ubuntu0~18.04.1 [536 kB]\n",
            "Get:133 http://archive.ubuntu.com/ubuntu bionic-updates/main amd64 libglvnd-core-dev amd64 1.0.0-2ubuntu2.2 [12.9 kB]\n",
            "Get:134 http://archive.ubuntu.com/ubuntu bionic-updates/main amd64 libgles1 amd64 1.0.0-2ubuntu2.2 [11.2 kB]\n",
            "Get:135 http://archive.ubuntu.com/ubuntu bionic-updates/main amd64 libglvnd-dev amd64 1.0.0-2ubuntu2.2 [3,408 B]\n",
            "Get:136 https://developer.download.nvidia.com/compute/cuda/repos/ubuntu1710/x86_64  cuda-nvml-dev-9-2 9.2.148-1 [49.7 kB]\n",
            "Get:137 https://developer.download.nvidia.com/compute/cuda/repos/ubuntu1710/x86_64  cuda-nvgraph-dev-9-2 9.2.148-1 [30.1 MB]\n",
            "Get:138 http://archive.ubuntu.com/ubuntu bionic-updates/main amd64 libx11-xcb-dev amd64 2:1.6.4-3ubuntu0.1 [9,764 B]\n",
            "Get:139 http://archive.ubuntu.com/ubuntu bionic/main amd64 libxcb-dri3-dev amd64 1.13-1 [7,368 B]\n",
            "Get:140 http://archive.ubuntu.com/ubuntu bionic/main amd64 libxcb-randr0 amd64 1.13-1 [16.4 kB]\n",
            "Get:141 http://archive.ubuntu.com/ubuntu bionic/main amd64 libxcb-render0-dev amd64 1.13-1 [18.4 kB]\n",
            "Get:142 http://archive.ubuntu.com/ubuntu bionic/main amd64 libxcb-randr0-dev amd64 1.13-1 [20.4 kB]\n",
            "Get:143 https://developer.download.nvidia.com/compute/cuda/repos/ubuntu1710/x86_64  cuda-visual-tools-9-2 9.2.148-1 [396 MB]\n",
            "Get:144 http://archive.ubuntu.com/ubuntu bionic/main amd64 libxcb-shape0 amd64 1.13-1 [5,964 B]\n",
            "Get:145 http://archive.ubuntu.com/ubuntu bionic/main amd64 libxcb-shape0-dev amd64 1.13-1 [7,144 B]\n",
            "Get:146 http://archive.ubuntu.com/ubuntu bionic/main amd64 libxcb-xfixes0-dev amd64 1.13-1 [11.7 kB]\n",
            "Get:147 http://archive.ubuntu.com/ubuntu bionic/main amd64 libxcb-sync-dev amd64 1.13-1 [10.6 kB]\n",
            "Get:148 http://archive.ubuntu.com/ubuntu bionic/main amd64 libxcb-present-dev amd64 1.13-1 [6,968 B]\n",
            "Get:149 http://archive.ubuntu.com/ubuntu bionic/main amd64 libxshmfence-dev amd64 1.3-1 [3,692 B]\n",
            "Get:150 http://archive.ubuntu.com/ubuntu bionic/main amd64 libxcb-dri2-0-dev amd64 1.13-1 [8,476 B]\n",
            "Get:151 http://archive.ubuntu.com/ubuntu bionic/main amd64 libxcb-glx0-dev amd64 1.13-1 [27.9 kB]\n",
            "Get:152 http://archive.ubuntu.com/ubuntu bionic/main amd64 x11proto-fixes-dev all 1:2018.4-4 [2,620 B]\n",
            "Get:153 http://archive.ubuntu.com/ubuntu bionic/main amd64 libxfixes-dev amd64 1:5.0.3-1 [11.0 kB]\n",
            "Get:154 http://archive.ubuntu.com/ubuntu bionic/main amd64 x11proto-damage-dev all 1:2018.4-4 [2,620 B]\n",
            "Get:155 http://archive.ubuntu.com/ubuntu bionic/main amd64 libxdamage-dev amd64 1:1.1.4-3 [5,028 B]\n",
            "Get:156 http://archive.ubuntu.com/ubuntu bionic/main amd64 x11proto-xext-dev all 2018.4-4 [2,620 B]\n",
            "Get:157 http://archive.ubuntu.com/ubuntu bionic/main amd64 libxext-dev amd64 2:1.3.3-1 [82.1 kB]\n",
            "Get:158 http://archive.ubuntu.com/ubuntu bionic/main amd64 x11proto-xf86vidmode-dev all 2018.4-4 [2,632 B]\n",
            "Get:159 http://archive.ubuntu.com/ubuntu bionic/main amd64 libxxf86vm-dev amd64 1:1.1.4-1 [13.3 kB]\n",
            "Get:160 http://archive.ubuntu.com/ubuntu bionic/main amd64 x11proto-dri2-dev all 2018.4-4 [2,620 B]\n",
            "Get:161 http://archive.ubuntu.com/ubuntu bionic/main amd64 x11proto-gl-dev all 2018.4-4 [2,612 B]\n",
            "Get:162 http://archive.ubuntu.com/ubuntu bionic-updates/main amd64 libgl1-mesa-dev amd64 18.0.5-0ubuntu0~18.04.1 [4,444 B]\n",
            "Get:163 http://archive.ubuntu.com/ubuntu bionic/main amd64 libglu1-mesa amd64 9.0.0-2.1build1 [168 kB]\n",
            "Get:164 http://archive.ubuntu.com/ubuntu bionic/main amd64 libglu1-mesa-dev amd64 9.0.0-2.1build1 [206 kB]\n",
            "Get:165 http://archive.ubuntu.com/ubuntu bionic/main amd64 libxt6 amd64 1:1.1.5-1 [160 kB]\n",
            "Get:166 http://archive.ubuntu.com/ubuntu bionic/main amd64 libice-dev amd64 2:1.0.9-2 [46.8 kB]\n",
            "Get:167 http://archive.ubuntu.com/ubuntu bionic/main amd64 libsm-dev amd64 2:1.2.2-1 [16.2 kB]\n",
            "Get:168 http://archive.ubuntu.com/ubuntu bionic/main amd64 libxt-dev amd64 1:1.1.5-1 [395 kB]\n",
            "Get:169 http://archive.ubuntu.com/ubuntu bionic/universe amd64 freeglut3-dev amd64 2.8.1-3 [124 kB]\n",
            "Get:170 http://archive.ubuntu.com/ubuntu bionic/main amd64 libxmu6 amd64 2:1.1.2-2 [46.0 kB]\n",
            "Get:171 http://archive.ubuntu.com/ubuntu bionic/main amd64 libxmu-headers all 2:1.1.2-2 [54.3 kB]\n",
            "Get:172 http://archive.ubuntu.com/ubuntu bionic/main amd64 libxmu-dev amd64 2:1.1.2-2 [49.0 kB]\n",
            "Get:173 http://archive.ubuntu.com/ubuntu bionic/main amd64 x11proto-input-dev all 2018.4-4 [2,620 B]\n",
            "Get:174 http://archive.ubuntu.com/ubuntu bionic/main amd64 libxi-dev amd64 2:1.7.9-1 [186 kB]\n",
            "Get:175 http://archive.ubuntu.com/ubuntu bionic-updates/main amd64 dkms all 2.3-3ubuntu9.2 [68.0 kB]\n",
            "Get:176 http://archive.ubuntu.com/ubuntu bionic/main amd64 libc6-i386 amd64 2.27-3ubuntu1 [2,651 kB]\n",
            "Get:177 http://archive.ubuntu.com/ubuntu bionic-updates/main amd64 lib32gcc1 amd64 1:8.2.0-1ubuntu2~18.04 [47.9 kB]\n",
            "Get:178 http://archive.ubuntu.com/ubuntu bionic/main amd64 libxpm4 amd64 1:3.5.12-1 [34.0 kB]\n",
            "Get:179 http://archive.ubuntu.com/ubuntu bionic/main amd64 libxaw7 amd64 2:1.0.13-1 [173 kB]\n",
            "Get:180 http://archive.ubuntu.com/ubuntu bionic/main amd64 libxkbfile1 amd64 1:1.0.9-2 [64.6 kB]\n",
            "Get:181 http://archive.ubuntu.com/ubuntu bionic-updates/main amd64 x11-xkb-utils amd64 7.7+3ubuntu0.18.04.1 [160 kB]\n",
            "Get:182 http://archive.ubuntu.com/ubuntu bionic/main amd64 xserver-common all 2:1.19.6-1ubuntu4 [27.2 kB]\n",
            "Get:183 http://archive.ubuntu.com/ubuntu bionic/main amd64 xserver-xorg-legacy amd64 2:1.19.6-1ubuntu4 [32.7 kB]\n",
            "Get:184 http://archive.ubuntu.com/ubuntu bionic/main amd64 libfontenc1 amd64 1:1.1.3-1 [13.9 kB]\n",
            "Get:185 http://archive.ubuntu.com/ubuntu bionic/main amd64 libxfont2 amd64 1:2.0.3-1 [91.7 kB]\n",
            "Get:186 http://archive.ubuntu.com/ubuntu bionic/main amd64 xserver-xorg-core amd64 2:1.19.6-1ubuntu4 [1,350 kB]\n",
            "Get:187 http://archive.ubuntu.com/ubuntu bionic/main amd64 python3-xkit all 0.5.0ubuntu2 [18.6 kB]\n",
            "Get:188 http://archive.ubuntu.com/ubuntu bionic-updates/main amd64 libpolkit-agent-1-0 amd64 0.105-20ubuntu0.18.04.1 [14.9 kB]\n",
            "Get:189 http://archive.ubuntu.com/ubuntu bionic-updates/main amd64 libpolkit-backend-1-0 amd64 0.105-20ubuntu0.18.04.1 [36.2 kB]\n",
            "Get:190 http://archive.ubuntu.com/ubuntu bionic-updates/main amd64 policykit-1 amd64 0.105-20ubuntu0.18.04.1 [53.4 kB]\n",
            "Get:191 http://archive.ubuntu.com/ubuntu bionic/main amd64 policykit-1-gnome amd64 0.105-6ubuntu2 [24.0 kB]\n",
            "Get:192 http://archive.ubuntu.com/ubuntu bionic/main amd64 screen-resolution-extra all 0.17.3 [11.7 kB]\n",
            "Get:193 http://archive.ubuntu.com/ubuntu bionic/main amd64 libvdpau1 amd64 1.1.1-3ubuntu1 [25.5 kB]\n",
            "Get:194 http://archive.ubuntu.com/ubuntu bionic/main amd64 libjansson4 amd64 2.11-1 [29.3 kB]\n",
            "Get:195 http://archive.ubuntu.com/ubuntu bionic/main amd64 ocl-icd-libopencl1 amd64 2.2.11-1ubuntu1 [30.3 kB]\n",
            "Get:196 http://archive.ubuntu.com/ubuntu bionic/main amd64 libfakeroot amd64 1.22-2ubuntu1 [25.9 kB]\n",
            "Get:197 http://archive.ubuntu.com/ubuntu bionic/main amd64 fakeroot amd64 1.22-2ubuntu1 [62.3 kB]\n",
            "Get:198 http://archive.ubuntu.com/ubuntu bionic/main amd64 fonts-dejavu-core all 2.37-1 [1,041 kB]\n",
            "Get:199 http://archive.ubuntu.com/ubuntu bionic/main amd64 fonts-dejavu-extra all 2.37-1 [1,953 kB]\n",
            "Get:200 http://archive.ubuntu.com/ubuntu bionic/main amd64 libxv1 amd64 2:1.0.11-1 [10.7 kB]\n",
            "Get:201 http://archive.ubuntu.com/ubuntu bionic/main amd64 x11-utils amd64 7.7+3build1 [196 kB]\n",
            "Get:202 http://archive.ubuntu.com/ubuntu bionic/main amd64 libatk-wrapper-java all 0.33.3-20ubuntu0.1 [34.7 kB]\n",
            "Get:203 http://archive.ubuntu.com/ubuntu bionic/main amd64 libatk-wrapper-java-jni amd64 0.33.3-20ubuntu0.1 [28.3 kB]\n",
            "Get:204 http://archive.ubuntu.com/ubuntu bionic/main amd64 libgdk-pixbuf2.0-bin amd64 2.36.11-2 [7,864 B]\n",
            "Get:205 http://archive.ubuntu.com/ubuntu bionic/main amd64 libgtk-3-bin amd64 3.22.30-1ubuntu1 [57.3 kB]\n",
            "Get:206 http://archive.ubuntu.com/ubuntu bionic-updates/main amd64 linux-headers-4.15.0-36 all 4.15.0-36.39 [11.0 MB]\n",
            "Get:207 http://archive.ubuntu.com/ubuntu bionic-updates/main amd64 linux-headers-4.15.0-36-generic amd64 4.15.0-36.39 [1,103 kB]\n",
            "Get:208 http://archive.ubuntu.com/ubuntu bionic-updates/main amd64 linux-headers-generic amd64 4.15.0.36.38 [2,376 B]\n",
            "Get:209 http://archive.ubuntu.com/ubuntu bionic-updates/main amd64 mesa-vdpau-drivers amd64 18.0.5-0ubuntu0~18.04.1 [1,902 kB]\n",
            "Get:210 http://archive.ubuntu.com/ubuntu bionic-updates/main amd64 nvidia-prime all 0.8.8.1 [8,348 B]\n",
            "Get:211 http://archive.ubuntu.com/ubuntu bionic/main amd64 vdpau-driver-all amd64 1.1.1-3ubuntu1 [4,674 B]\n",
            "Get:212 http://archive.ubuntu.com/ubuntu bionic/main amd64 xfonts-encodings all 1:1.0.4-2 [573 kB]\n",
            "Get:213 http://archive.ubuntu.com/ubuntu bionic/main amd64 xfonts-utils amd64 1:7.7+6 [91.5 kB]\n",
            "Get:214 http://archive.ubuntu.com/ubuntu bionic/main amd64 xfonts-base all 1:1.0.4+nmu1 [5,914 kB]\n",
            "Get:215 https://developer.download.nvidia.com/compute/cuda/repos/ubuntu1710/x86_64  cuda-tools-9-2 9.2.148-1 [2,486 B]\n",
            "Get:216 https://developer.download.nvidia.com/compute/cuda/repos/ubuntu1710/x86_64  cuda-samples-9-2 9.2.148-1 [75.8 MB]\n",
            "Get:217 https://developer.download.nvidia.com/compute/cuda/repos/ubuntu1710/x86_64  cuda-documentation-9-2 9.2.148-1 [50.7 MB]\n",
            "Get:218 https://developer.download.nvidia.com/compute/cuda/repos/ubuntu1710/x86_64  cuda-libraries-dev-9-2 9.2.148-1 [2,598 B]\n",
            "Get:219 https://developer.download.nvidia.com/compute/cuda/repos/ubuntu1710/x86_64  cuda-toolkit-9-2 9.2.148-1 [2,824 B]\n",
            "Get:220 https://developer.download.nvidia.com/compute/cuda/repos/ubuntu1710/x86_64  nvidia-396 396.44-0ubuntu1 [80.0 MB]\n",
            "Get:221 https://developer.download.nvidia.com/compute/cuda/repos/ubuntu1710/x86_64  nvidia-396-dev 396.44-0ubuntu1 [81.7 kB]\n",
            "Get:222 https://developer.download.nvidia.com/compute/cuda/repos/ubuntu1710/x86_64  libcuda1-396 396.44-0ubuntu1 [3,457 kB]\n",
            "Get:223 https://developer.download.nvidia.com/compute/cuda/repos/ubuntu1710/x86_64  nvidia-modprobe 396.44-0ubuntu1 [18.9 kB]\n",
            "Get:224 https://developer.download.nvidia.com/compute/cuda/repos/ubuntu1710/x86_64  nvidia-opencl-icd-396 396.44-0ubuntu1 [3,581 kB]\n",
            "Get:225 https://developer.download.nvidia.com/compute/cuda/repos/ubuntu1710/x86_64  cuda-drivers 396.44-1 [2,386 B]\n",
            "Get:226 https://developer.download.nvidia.com/compute/cuda/repos/ubuntu1710/x86_64  cuda-runtime-9-2 9.2.148-1 [2,530 B]\n",
            "Get:227 https://developer.download.nvidia.com/compute/cuda/repos/ubuntu1710/x86_64  cuda-demo-suite-9-2 9.2.148-1 [3,903 kB]\n",
            "Get:228 https://developer.download.nvidia.com/compute/cuda/repos/ubuntu1710/x86_64  cuda-9-2 9.2.148-1 [2,556 B]\n",
            "Get:229 https://developer.download.nvidia.com/compute/cuda/repos/ubuntu1710/x86_64  cuda 9.2.148-1 [2,502 B]\n",
            "Fetched 1,059 MB in 23s (46.9 MB/s)\n",
            "Extracting templates from packages: 100%\n",
            "Preconfiguring packages ...\n",
            "(Reading database ... 22278 files and directories currently installed.)\n",
            "Removing libnvidia-compute-396:amd64 (396.54-0ubuntu0~gpu18.04.1) ...\n",
            "Selecting previously unselected package liblocale-gettext-perl.\n",
            "(Reading database ... 22262 files and directories currently installed.)\n",
            "Preparing to unpack .../00-liblocale-gettext-perl_1.07-3build2_amd64.deb ...\n",
            "Unpacking liblocale-gettext-perl (1.07-3build2) ...\n",
            "Selecting previously unselected package keyboard-configuration.\n",
            "Preparing to unpack .../01-keyboard-configuration_1.178ubuntu2.7_all.deb ...\n",
            "Unpacking keyboard-configuration (1.178ubuntu2.7) ...\n",
            "Selecting previously unselected package libcap2:amd64.\n",
            "Preparing to unpack .../02-libcap2_1%3a2.25-1.2_amd64.deb ...\n",
            "Unpacking libcap2:amd64 (1:2.25-1.2) ...\n",
            "Selecting previously unselected package libargon2-0:amd64.\n",
            "Preparing to unpack .../03-libargon2-0_0~20161029-1.1_amd64.deb ...\n",
            "Unpacking libargon2-0:amd64 (0~20161029-1.1) ...\n",
            "Selecting previously unselected package libdevmapper1.02.1:amd64.\n",
            "Preparing to unpack .../04-libdevmapper1.02.1_2%3a1.02.145-4.1ubuntu3_amd64.deb ...\n",
            "Unpacking libdevmapper1.02.1:amd64 (2:1.02.145-4.1ubuntu3) ...\n",
            "Selecting previously unselected package libjson-c3:amd64.\n",
            "Preparing to unpack .../05-libjson-c3_0.12.1-1.3_amd64.deb ...\n",
            "Unpacking libjson-c3:amd64 (0.12.1-1.3) ...\n",
            "Selecting previously unselected package libcryptsetup12:amd64.\n",
            "Preparing to unpack .../06-libcryptsetup12_2%3a2.0.2-1ubuntu1.1_amd64.deb ...\n",
            "Unpacking libcryptsetup12:amd64 (2:2.0.2-1ubuntu1.1) ...\n",
            "Selecting previously unselected package libidn11:amd64.\n",
            "Preparing to unpack .../07-libidn11_1.33-2.1ubuntu1_amd64.deb ...\n",
            "Unpacking libidn11:amd64 (1.33-2.1ubuntu1) ...\n",
            "Selecting previously unselected package libip4tc0:amd64.\n",
            "Preparing to unpack .../08-libip4tc0_1.6.1-2ubuntu2_amd64.deb ...\n",
            "Unpacking libip4tc0:amd64 (1.6.1-2ubuntu2) ...\n",
            "Selecting previously unselected package libapparmor1:amd64.\n",
            "Preparing to unpack .../09-libapparmor1_2.12-4ubuntu5.1_amd64.deb ...\n",
            "Unpacking libapparmor1:amd64 (2.12-4ubuntu5.1) ...\n",
            "Selecting previously unselected package libkmod2:amd64.\n",
            "Preparing to unpack .../10-libkmod2_24-1ubuntu3_amd64.deb ...\n",
            "Unpacking libkmod2:amd64 (24-1ubuntu3) ...\n",
            "Setting up libcap2:amd64 (1:2.25-1.2) ...\n",
            "Setting up libargon2-0:amd64 (0~20161029-1.1) ...\n",
            "Setting up libdevmapper1.02.1:amd64 (2:1.02.145-4.1ubuntu3) ...\n",
            "Setting up libjson-c3:amd64 (0.12.1-1.3) ...\n",
            "Setting up libcryptsetup12:amd64 (2:2.0.2-1ubuntu1.1) ...\n",
            "Setting up libidn11:amd64 (1.33-2.1ubuntu1) ...\n",
            "Setting up libip4tc0:amd64 (1.6.1-2ubuntu2) ...\n",
            "Selecting previously unselected package systemd.\n",
            "(Reading database ... 22348 files and directories currently installed.)\n",
            "Preparing to unpack .../systemd_237-3ubuntu10.3_amd64.deb ...\n",
            "Unpacking systemd (237-3ubuntu10.3) ...\n",
            "Setting up libapparmor1:amd64 (2.12-4ubuntu5.1) ...\n",
            "Setting up libkmod2:amd64 (24-1ubuntu3) ...\n",
            "Setting up systemd (237-3ubuntu10.3) ...\n",
            "Created symlink /etc/systemd/system/getty.target.wants/getty@tty1.service → /lib/systemd/system/getty@.service.\n",
            "Created symlink /etc/systemd/system/multi-user.target.wants/remote-fs.target → /lib/systemd/system/remote-fs.target.\n",
            "Created symlink /etc/systemd/system/sysinit.target.wants/systemd-timesyncd.service → /lib/systemd/system/systemd-timesyncd.service.\n",
            "Created symlink /etc/systemd/system/dbus-org.freedesktop.resolve1.service → /lib/systemd/system/systemd-resolved.service.\n",
            "Created symlink /etc/systemd/system/multi-user.target.wants/systemd-resolved.service → /lib/systemd/system/systemd-resolved.service.\n",
            "ln: failed to create symbolic link '/etc/resolv.conf': Device or resource busy\n",
            "Created symlink /etc/systemd/system/multi-user.target.wants/ondemand.service → /lib/systemd/system/ondemand.service.\n",
            "Initializing machine ID from random generator.\n",
            "Selecting previously unselected package systemd-sysv.\n",
            "(Reading database ... 23049 files and directories currently installed.)\n",
            "Preparing to unpack .../000-systemd-sysv_237-3ubuntu10.3_amd64.deb ...\n",
            "Unpacking systemd-sysv (237-3ubuntu10.3) ...\n",
            "Selecting previously unselected package fontconfig.\n",
            "Preparing to unpack .../001-fontconfig_2.12.6-0ubuntu2_amd64.deb ...\n",
            "Unpacking fontconfig (2.12.6-0ubuntu2) ...\n",
            "Selecting previously unselected package libxinerama1:amd64.\n",
            "Preparing to unpack .../002-libxinerama1_2%3a1.1.3-1_amd64.deb ...\n",
            "Unpacking libxinerama1:amd64 (2:1.1.3-1) ...\n",
            "Selecting previously unselected package libxxf86dga1:amd64.\n",
            "Preparing to unpack .../003-libxxf86dga1_2%3a1.1.4-1_amd64.deb ...\n",
            "Unpacking libxxf86dga1:amd64 (2:1.1.4-1) ...\n",
            "Selecting previously unselected package libxxf86vm1:amd64.\n",
            "Preparing to unpack .../004-libxxf86vm1_1%3a1.1.4-1_amd64.deb ...\n",
            "Unpacking libxxf86vm1:amd64 (1:1.1.4-1) ...\n",
            "Selecting previously unselected package dbus.\n",
            "Preparing to unpack .../005-dbus_1.12.2-1ubuntu1_amd64.deb ...\n",
            "Unpacking dbus (1.12.2-1ubuntu1) ...\n",
            "Selecting previously unselected package dmsetup.\n",
            "Preparing to unpack .../006-dmsetup_2%3a1.02.145-4.1ubuntu3_amd64.deb ...\n",
            "Unpacking dmsetup (2:1.02.145-4.1ubuntu3) ...\n",
            "Selecting previously unselected package kmod.\n",
            "Preparing to unpack .../007-kmod_24-1ubuntu3_amd64.deb ...\n",
            "Unpacking kmod (24-1ubuntu3) ...\n",
            "Selecting previously unselected package libnss-systemd:amd64.\n",
            "Preparing to unpack .../008-libnss-systemd_237-3ubuntu10.3_amd64.deb ...\n",
            "Unpacking libnss-systemd:amd64 (237-3ubuntu10.3) ...\n",
            "Selecting previously unselected package libpam-systemd:amd64.\n",
            "Preparing to unpack .../009-libpam-systemd_237-3ubuntu10.3_amd64.deb ...\n",
            "Unpacking libpam-systemd:amd64 (237-3ubuntu10.3) ...\n",
            "Selecting previously unselected package networkd-dispatcher.\n",
            "Preparing to unpack .../010-networkd-dispatcher_1.7-0ubuntu3.2_all.deb ...\n",
            "Unpacking networkd-dispatcher (1.7-0ubuntu3.2) ...\n",
            "Selecting previously unselected package shared-mime-info.\n",
            "Preparing to unpack .../011-shared-mime-info_1.9-2_amd64.deb ...\n",
            "Unpacking shared-mime-info (1.9-2) ...\n",
            "Selecting previously unselected package sudo.\n",
            "Preparing to unpack .../012-sudo_1.8.21p2-3ubuntu1_amd64.deb ...\n",
            "Unpacking sudo (1.8.21p2-3ubuntu1) ...\n",
            "Selecting previously unselected package udev.\n",
            "Preparing to unpack .../013-udev_237-3ubuntu10.3_amd64.deb ...\n",
            "Unpacking udev (237-3ubuntu10.3) ...\n",
            "Selecting previously unselected package xkb-data.\n",
            "Preparing to unpack .../014-xkb-data_2.23.1-1ubuntu1_all.deb ...\n",
            "Unpacking xkb-data (2.23.1-1ubuntu1) ...\n",
            "Selecting previously unselected package libpolkit-gobject-1-0:amd64.\n",
            "Preparing to unpack .../015-libpolkit-gobject-1-0_0.105-20ubuntu0.18.04.1_amd64.deb ...\n",
            "Unpacking libpolkit-gobject-1-0:amd64 (0.105-20ubuntu0.18.04.1) ...\n",
            "Selecting previously unselected package libxmuu1:amd64.\n",
            "Preparing to unpack .../016-libxmuu1_2%3a1.1.2-2_amd64.deb ...\n",
            "Unpacking libxmuu1:amd64 (2:1.1.2-2) ...\n",
            "Selecting previously unselected package xauth.\n",
            "Preparing to unpack .../017-xauth_1%3a1.0.10-1_amd64.deb ...\n",
            "Unpacking xauth (1:1.0.10-1) ...\n",
            "Selecting previously unselected package acpid.\n",
            "Preparing to unpack .../018-acpid_1%3a2.0.28-1ubuntu1_amd64.deb ...\n",
            "Unpacking acpid (1:2.0.28-1ubuntu1) ...\n",
            "Selecting previously unselected package hicolor-icon-theme.\n",
            "Preparing to unpack .../019-hicolor-icon-theme_0.17-2_all.deb ...\n",
            "Unpacking hicolor-icon-theme (0.17-2) ...\n",
            "Selecting previously unselected package libjbig0:amd64.\n",
            "Preparing to unpack .../020-libjbig0_2.1-3.1build1_amd64.deb ...\n",
            "Unpacking libjbig0:amd64 (2.1-3.1build1) ...\n",
            "Selecting previously unselected package libtiff5:amd64.\n",
            "Preparing to unpack .../021-libtiff5_4.0.9-5_amd64.deb ...\n",
            "Unpacking libtiff5:amd64 (4.0.9-5) ...\n",
            "Selecting previously unselected package libgdk-pixbuf2.0-common.\n",
            "Preparing to unpack .../022-libgdk-pixbuf2.0-common_2.36.11-2_all.deb ...\n",
            "Unpacking libgdk-pixbuf2.0-common (2.36.11-2) ...\n",
            "Selecting previously unselected package libgdk-pixbuf2.0-0:amd64.\n",
            "Preparing to unpack .../023-libgdk-pixbuf2.0-0_2.36.11-2_amd64.deb ...\n",
            "Unpacking libgdk-pixbuf2.0-0:amd64 (2.36.11-2) ...\n",
            "Selecting previously unselected package gtk-update-icon-cache.\n",
            "Preparing to unpack .../024-gtk-update-icon-cache_3.22.30-1ubuntu1_amd64.deb ...\n",
            "No diversion 'diversion of /usr/sbin/update-icon-caches to /usr/sbin/update-icon-caches.gtk2 by libgtk-3-bin', none removed.\n",
            "No diversion 'diversion of /usr/share/man/man8/update-icon-caches.8.gz to /usr/share/man/man8/update-icon-caches.gtk2.8.gz by libgtk-3-bin', none removed.\n",
            "Unpacking gtk-update-icon-cache (3.22.30-1ubuntu1) ...\n",
            "Selecting previously unselected package libpixman-1-0:amd64.\n",
            "Preparing to unpack .../025-libpixman-1-0_0.34.0-2_amd64.deb ...\n",
            "Unpacking libpixman-1-0:amd64 (0.34.0-2) ...\n",
            "Selecting previously unselected package libxcb-render0:amd64.\n",
            "Preparing to unpack .../026-libxcb-render0_1.13-1_amd64.deb ...\n",
            "Unpacking libxcb-render0:amd64 (1.13-1) ...\n",
            "Selecting previously unselected package libxcb-shm0:amd64.\n",
            "Preparing to unpack .../027-libxcb-shm0_1.13-1_amd64.deb ...\n",
            "Unpacking libxcb-shm0:amd64 (1.13-1) ...\n",
            "Selecting previously unselected package libcairo2:amd64.\n",
            "Preparing to unpack .../028-libcairo2_1.15.10-2_amd64.deb ...\n",
            "Unpacking libcairo2:amd64 (1.15.10-2) ...\n",
            "Selecting previously unselected package libcroco3:amd64.\n",
            "Preparing to unpack .../029-libcroco3_0.6.12-2_amd64.deb ...\n",
            "Unpacking libcroco3:amd64 (0.6.12-2) ...\n",
            "Selecting previously unselected package libthai-data.\n",
            "Preparing to unpack .../030-libthai-data_0.1.27-2_all.deb ...\n",
            "Unpacking libthai-data (0.1.27-2) ...\n",
            "Selecting previously unselected package libdatrie1:amd64.\n",
            "Preparing to unpack .../031-libdatrie1_0.2.10-7_amd64.deb ...\n",
            "Unpacking libdatrie1:amd64 (0.2.10-7) ...\n",
            "Selecting previously unselected package libthai0:amd64.\n",
            "Preparing to unpack .../032-libthai0_0.1.27-2_amd64.deb ...\n",
            "Unpacking libthai0:amd64 (0.1.27-2) ...\n",
            "Selecting previously unselected package libpango-1.0-0:amd64.\n",
            "Preparing to unpack .../033-libpango-1.0-0_1.40.14-1ubuntu0.1_amd64.deb ...\n",
            "Unpacking libpango-1.0-0:amd64 (1.40.14-1ubuntu0.1) ...\n",
            "Selecting previously unselected package libpangoft2-1.0-0:amd64.\n",
            "Preparing to unpack .../034-libpangoft2-1.0-0_1.40.14-1ubuntu0.1_amd64.deb ...\n",
            "Unpacking libpangoft2-1.0-0:amd64 (1.40.14-1ubuntu0.1) ...\n",
            "Selecting previously unselected package libpangocairo-1.0-0:amd64.\n",
            "Preparing to unpack .../035-libpangocairo-1.0-0_1.40.14-1ubuntu0.1_amd64.deb ...\n",
            "Unpacking libpangocairo-1.0-0:amd64 (1.40.14-1ubuntu0.1) ...\n",
            "Selecting previously unselected package librsvg2-2:amd64.\n",
            "Preparing to unpack .../036-librsvg2-2_2.40.20-2_amd64.deb ...\n",
            "Unpacking librsvg2-2:amd64 (2.40.20-2) ...\n",
            "Selecting previously unselected package librsvg2-common:amd64.\n",
            "Preparing to unpack .../037-librsvg2-common_2.40.20-2_amd64.deb ...\n",
            "Unpacking librsvg2-common:amd64 (2.40.20-2) ...\n",
            "Selecting previously unselected package humanity-icon-theme.\n",
            "Preparing to unpack .../038-humanity-icon-theme_0.6.15_all.deb ...\n",
            "Unpacking humanity-icon-theme (0.6.15) ...\n",
            "Selecting previously unselected package ubuntu-mono.\n",
            "Preparing to unpack .../039-ubuntu-mono_16.10+18.04.20180421.1-0ubuntu1_all.deb ...\n",
            "Unpacking ubuntu-mono (16.10+18.04.20180421.1-0ubuntu1) ...\n",
            "Selecting previously unselected package adwaita-icon-theme.\n",
            "Preparing to unpack .../040-adwaita-icon-theme_3.28.0-1ubuntu1_all.deb ...\n",
            "Unpacking adwaita-icon-theme (3.28.0-1ubuntu1) ...\n",
            "Selecting previously unselected package libatspi2.0-0:amd64.\n",
            "Preparing to unpack .../041-libatspi2.0-0_2.28.0-1_amd64.deb ...\n",
            "Unpacking libatspi2.0-0:amd64 (2.28.0-1) ...\n",
            "Selecting previously unselected package libxtst6:amd64.\n",
            "Preparing to unpack .../042-libxtst6_2%3a1.2.3-1_amd64.deb ...\n",
            "Unpacking libxtst6:amd64 (2:1.2.3-1) ...\n",
            "Selecting previously unselected package at-spi2-core.\n",
            "Preparing to unpack .../043-at-spi2-core_2.28.0-1_amd64.deb ...\n",
            "Unpacking at-spi2-core (2.28.0-1) ...\n",
            "Selecting previously unselected package java-common.\n",
            "Preparing to unpack .../044-java-common_0.63ubuntu1~02_all.deb ...\n",
            "Unpacking java-common (0.63ubuntu1~02) ...\n",
            "Selecting previously unselected package libavahi-common-data:amd64.\n",
            "Preparing to unpack .../045-libavahi-common-data_0.7-3.1ubuntu1.1_amd64.deb ...\n",
            "Unpacking libavahi-common-data:amd64 (0.7-3.1ubuntu1.1) ...\n",
            "Selecting previously unselected package libavahi-common3:amd64.\n",
            "Preparing to unpack .../046-libavahi-common3_0.7-3.1ubuntu1.1_amd64.deb ...\n",
            "Unpacking libavahi-common3:amd64 (0.7-3.1ubuntu1.1) ...\n",
            "Selecting previously unselected package libavahi-client3:amd64.\n",
            "Preparing to unpack .../047-libavahi-client3_0.7-3.1ubuntu1.1_amd64.deb ...\n",
            "Unpacking libavahi-client3:amd64 (0.7-3.1ubuntu1.1) ...\n",
            "Selecting previously unselected package libcups2:amd64.\n",
            "Preparing to unpack .../048-libcups2_2.2.7-1ubuntu2.1_amd64.deb ...\n",
            "Unpacking libcups2:amd64 (2.2.7-1ubuntu2.1) ...\n",
            "Selecting previously unselected package liblcms2-2:amd64.\n",
            "Preparing to unpack .../049-liblcms2-2_2.9-1ubuntu0.1_amd64.deb ...\n",
            "Unpacking liblcms2-2:amd64 (2.9-1ubuntu0.1) ...\n",
            "Selecting previously unselected package libnspr4:amd64.\n",
            "Preparing to unpack .../050-libnspr4_2%3a4.18-1ubuntu1_amd64.deb ...\n",
            "Unpacking libnspr4:amd64 (2:4.18-1ubuntu1) ...\n",
            "Selecting previously unselected package libnss3:amd64.\n",
            "Preparing to unpack .../051-libnss3_2%3a3.35-2ubuntu2_amd64.deb ...\n",
            "Unpacking libnss3:amd64 (2:3.35-2ubuntu2) ...\n",
            "Selecting previously unselected package libpcsclite1:amd64.\n",
            "Preparing to unpack .../052-libpcsclite1_1.8.23-1_amd64.deb ...\n",
            "Unpacking libpcsclite1:amd64 (1.8.23-1) ...\n",
            "Selecting previously unselected package libxi6:amd64.\n",
            "Preparing to unpack .../053-libxi6_2%3a1.7.9-1_amd64.deb ...\n",
            "Unpacking libxi6:amd64 (2:1.7.9-1) ...\n",
            "Selecting previously unselected package openjdk-11-jre-headless:amd64.\n",
            "Preparing to unpack .../054-openjdk-11-jre-headless_10.0.2+13-1ubuntu0.18.04.2_amd64.deb ...\n",
            "Unpacking openjdk-11-jre-headless:amd64 (10.0.2+13-1ubuntu0.18.04.2) ...\n",
            "Selecting previously unselected package default-jre-headless.\n",
            "Preparing to unpack .../055-default-jre-headless_2%3a1.10-63ubuntu1~02_amd64.deb ...\n",
            "Unpacking default-jre-headless (2:1.10-63ubuntu1~02) ...\n",
            "Selecting previously unselected package ca-certificates-java.\n",
            "Preparing to unpack .../056-ca-certificates-java_20180516ubuntu1~18.04.1_all.deb ...\n",
            "Unpacking ca-certificates-java (20180516ubuntu1~18.04.1) ...\n",
            "Selecting previously unselected package cuda-nvprune-9-2.\n",
            "Preparing to unpack .../057-cuda-nvprune-9-2_9.2.148-1_amd64.deb ...\n",
            "Unpacking cuda-nvprune-9-2 (9.2.148-1) ...\n",
            "Selecting previously unselected package cuda-compiler-9-2.\n",
            "Preparing to unpack .../058-cuda-compiler-9-2_9.2.148-1_amd64.deb ...\n",
            "Unpacking cuda-compiler-9-2 (9.2.148-1) ...\n",
            "Selecting previously unselected package libdconf1:amd64.\n",
            "Preparing to unpack .../059-libdconf1_0.26.0-2ubuntu3_amd64.deb ...\n",
            "Unpacking libdconf1:amd64 (0.26.0-2ubuntu3) ...\n",
            "Selecting previously unselected package dconf-service.\n",
            "Preparing to unpack .../060-dconf-service_0.26.0-2ubuntu3_amd64.deb ...\n",
            "Unpacking dconf-service (0.26.0-2ubuntu3) ...\n",
            "Selecting previously unselected package dconf-gsettings-backend:amd64.\n",
            "Preparing to unpack .../061-dconf-gsettings-backend_0.26.0-2ubuntu3_amd64.deb ...\n",
            "Unpacking dconf-gsettings-backend:amd64 (0.26.0-2ubuntu3) ...\n",
            "Selecting previously unselected package libgtk-3-common.\n",
            "Preparing to unpack .../062-libgtk-3-common_3.22.30-1ubuntu1_all.deb ...\n",
            "Unpacking libgtk-3-common (3.22.30-1ubuntu1) ...\n",
            "Selecting previously unselected package libatk1.0-data.\n",
            "Preparing to unpack .../063-libatk1.0-data_2.28.1-1_all.deb ...\n",
            "Unpacking libatk1.0-data (2.28.1-1) ...\n",
            "Selecting previously unselected package libatk1.0-0:amd64.\n",
            "Preparing to unpack .../064-libatk1.0-0_2.28.1-1_amd64.deb ...\n",
            "Unpacking libatk1.0-0:amd64 (2.28.1-1) ...\n",
            "Selecting previously unselected package libatk-bridge2.0-0:amd64.\n",
            "Preparing to unpack .../065-libatk-bridge2.0-0_2.26.2-1_amd64.deb ...\n",
            "Unpacking libatk-bridge2.0-0:amd64 (2.26.2-1) ...\n",
            "Selecting previously unselected package libcairo-gobject2:amd64.\n",
            "Preparing to unpack .../066-libcairo-gobject2_1.15.10-2_amd64.deb ...\n",
            "Unpacking libcairo-gobject2:amd64 (1.15.10-2) ...\n",
            "Selecting previously unselected package libcolord2:amd64.\n",
            "Preparing to unpack .../067-libcolord2_1.3.3-2build1_amd64.deb ...\n",
            "Unpacking libcolord2:amd64 (1.3.3-2build1) ...\n",
            "Selecting previously unselected package libepoxy0:amd64.\n",
            "Preparing to unpack .../068-libepoxy0_1.4.3-1_amd64.deb ...\n",
            "Unpacking libepoxy0:amd64 (1.4.3-1) ...\n",
            "Selecting previously unselected package libjson-glib-1.0-common.\n",
            "Preparing to unpack .../069-libjson-glib-1.0-common_1.4.2-3_all.deb ...\n",
            "Unpacking libjson-glib-1.0-common (1.4.2-3) ...\n",
            "Selecting previously unselected package libjson-glib-1.0-0:amd64.\n",
            "Preparing to unpack .../070-libjson-glib-1.0-0_1.4.2-3_amd64.deb ...\n",
            "Unpacking libjson-glib-1.0-0:amd64 (1.4.2-3) ...\n",
            "Selecting previously unselected package libproxy1v5:amd64.\n",
            "Preparing to unpack .../071-libproxy1v5_0.4.15-1_amd64.deb ...\n",
            "Unpacking libproxy1v5:amd64 (0.4.15-1) ...\n",
            "Selecting previously unselected package glib-networking-common.\n",
            "Preparing to unpack .../072-glib-networking-common_2.56.0-1_all.deb ...\n",
            "Unpacking glib-networking-common (2.56.0-1) ...\n",
            "Selecting previously unselected package glib-networking-services.\n",
            "Preparing to unpack .../073-glib-networking-services_2.56.0-1_amd64.deb ...\n",
            "Unpacking glib-networking-services (2.56.0-1) ...\n",
            "Selecting previously unselected package gsettings-desktop-schemas.\n",
            "Preparing to unpack .../074-gsettings-desktop-schemas_3.28.0-1ubuntu1_all.deb ...\n",
            "Unpacking gsettings-desktop-schemas (3.28.0-1ubuntu1) ...\n",
            "Selecting previously unselected package glib-networking:amd64.\n",
            "Preparing to unpack .../075-glib-networking_2.56.0-1_amd64.deb ...\n",
            "Unpacking glib-networking:amd64 (2.56.0-1) ...\n",
            "Selecting previously unselected package libsoup2.4-1:amd64.\n",
            "Preparing to unpack .../076-libsoup2.4-1_2.62.1-1ubuntu0.1_amd64.deb ...\n",
            "Unpacking libsoup2.4-1:amd64 (2.62.1-1ubuntu0.1) ...\n",
            "Selecting previously unselected package libsoup-gnome2.4-1:amd64.\n",
            "Preparing to unpack .../077-libsoup-gnome2.4-1_2.62.1-1ubuntu0.1_amd64.deb ...\n",
            "Unpacking libsoup-gnome2.4-1:amd64 (2.62.1-1ubuntu0.1) ...\n",
            "Selecting previously unselected package librest-0.7-0:amd64.\n",
            "Preparing to unpack .../078-librest-0.7-0_0.8.0-2_amd64.deb ...\n",
            "Unpacking librest-0.7-0:amd64 (0.8.0-2) ...\n",
            "Selecting previously unselected package libwayland-cursor0:amd64.\n",
            "Preparing to unpack .../079-libwayland-cursor0_1.14.0-2_amd64.deb ...\n",
            "Unpacking libwayland-cursor0:amd64 (1.14.0-2) ...\n",
            "Selecting previously unselected package libwayland-egl1-mesa:amd64.\n",
            "Preparing to unpack .../080-libwayland-egl1-mesa_18.0.5-0ubuntu0~18.04.1_amd64.deb ...\n",
            "Unpacking libwayland-egl1-mesa:amd64 (18.0.5-0ubuntu0~18.04.1) ...\n",
            "Selecting previously unselected package libxcomposite1:amd64.\n",
            "Preparing to unpack .../081-libxcomposite1_1%3a0.4.4-2_amd64.deb ...\n",
            "Unpacking libxcomposite1:amd64 (1:0.4.4-2) ...\n",
            "Selecting previously unselected package libxfixes3:amd64.\n",
            "Preparing to unpack .../082-libxfixes3_1%3a5.0.3-1_amd64.deb ...\n",
            "Unpacking libxfixes3:amd64 (1:5.0.3-1) ...\n",
            "Selecting previously unselected package libxcursor1:amd64.\n",
            "Preparing to unpack .../083-libxcursor1_1%3a1.1.15-1_amd64.deb ...\n",
            "Unpacking libxcursor1:amd64 (1:1.1.15-1) ...\n",
            "Selecting previously unselected package libxdamage1:amd64.\n",
            "Preparing to unpack .../084-libxdamage1_1%3a1.1.4-3_amd64.deb ...\n",
            "Unpacking libxdamage1:amd64 (1:1.1.4-3) ...\n",
            "Selecting previously unselected package libxkbcommon0:amd64.\n",
            "Preparing to unpack .../085-libxkbcommon0_0.8.0-1_amd64.deb ...\n",
            "Unpacking libxkbcommon0:amd64 (0.8.0-1) ...\n",
            "Selecting previously unselected package libxrandr2:amd64.\n",
            "Preparing to unpack .../086-libxrandr2_2%3a1.5.1-1_amd64.deb ...\n",
            "Unpacking libxrandr2:amd64 (2:1.5.1-1) ...\n",
            "Selecting previously unselected package libgtk-3-0:amd64.\n",
            "Preparing to unpack .../087-libgtk-3-0_3.22.30-1ubuntu1_amd64.deb ...\n",
            "Unpacking libgtk-3-0:amd64 (3.22.30-1ubuntu1) ...\n",
            "Selecting previously unselected package libxcb-glx0:amd64.\n",
            "Preparing to unpack .../088-libxcb-glx0_1.13-1_amd64.deb ...\n",
            "Unpacking libxcb-glx0:amd64 (1.13-1) ...\n",
            "Selecting previously unselected package libdrm-amdgpu1:amd64.\n",
            "Preparing to unpack .../089-libdrm-amdgpu1_2.4.91-2_amd64.deb ...\n",
            "Unpacking libdrm-amdgpu1:amd64 (2.4.91-2) ...\n",
            "Selecting previously unselected package libpciaccess0:amd64.\n",
            "Preparing to unpack .../090-libpciaccess0_0.14-1_amd64.deb ...\n",
            "Unpacking libpciaccess0:amd64 (0.14-1) ...\n",
            "Selecting previously unselected package libdrm-intel1:amd64.\n",
            "Preparing to unpack .../091-libdrm-intel1_2.4.91-2_amd64.deb ...\n",
            "Unpacking libdrm-intel1:amd64 (2.4.91-2) ...\n",
            "Selecting previously unselected package libdrm-nouveau2:amd64.\n",
            "Preparing to unpack .../092-libdrm-nouveau2_2.4.91-2_amd64.deb ...\n",
            "Unpacking libdrm-nouveau2:amd64 (2.4.91-2) ...\n",
            "Selecting previously unselected package libdrm-radeon1:amd64.\n",
            "Preparing to unpack .../093-libdrm-radeon1_2.4.91-2_amd64.deb ...\n",
            "Unpacking libdrm-radeon1:amd64 (2.4.91-2) ...\n",
            "Selecting previously unselected package libllvm6.0:amd64.\n",
            "Preparing to unpack .../094-libllvm6.0_1%3a6.0-1ubuntu2_amd64.deb ...\n",
            "Unpacking libllvm6.0:amd64 (1:6.0-1ubuntu2) ...\n",
            "Selecting previously unselected package libsensors4:amd64.\n",
            "Preparing to unpack .../095-libsensors4_1%3a3.4.0-4_amd64.deb ...\n",
            "Unpacking libsensors4:amd64 (1:3.4.0-4) ...\n",
            "Selecting previously unselected package libgl1-mesa-dri:amd64.\n",
            "Preparing to unpack .../096-libgl1-mesa-dri_18.0.5-0ubuntu0~18.04.1_amd64.deb ...\n",
            "Unpacking libgl1-mesa-dri:amd64 (18.0.5-0ubuntu0~18.04.1) ...\n",
            "Selecting previously unselected package libglx-mesa0:amd64.\n",
            "Preparing to unpack .../097-libglx-mesa0_18.0.5-0ubuntu0~18.04.1_amd64.deb ...\n",
            "Unpacking libglx-mesa0:amd64 (18.0.5-0ubuntu0~18.04.1) ...\n",
            "Selecting previously unselected package libglx0:amd64.\n",
            "Preparing to unpack .../098-libglx0_1.0.0-2ubuntu2.2_amd64.deb ...\n",
            "Unpacking libglx0:amd64 (1.0.0-2ubuntu2.2) ...\n",
            "Selecting previously unselected package libgl1:amd64.\n",
            "Preparing to unpack .../099-libgl1_1.0.0-2ubuntu2.2_amd64.deb ...\n",
            "Unpacking libgl1:amd64 (1.0.0-2ubuntu2.2) ...\n",
            "Selecting previously unselected package libgl1-mesa-glx:amd64.\n",
            "Preparing to unpack .../100-libgl1-mesa-glx_18.0.5-0ubuntu0~18.04.1_amd64.deb ...\n",
            "Unpacking libgl1-mesa-glx:amd64 (18.0.5-0ubuntu0~18.04.1) ...\n",
            "Selecting previously unselected package libasound2-data.\n",
            "Preparing to unpack .../101-libasound2-data_1.1.3-5ubuntu0.1_all.deb ...\n",
            "Unpacking libasound2-data (1.1.3-5ubuntu0.1) ...\n",
            "Selecting previously unselected package libasound2:amd64.\n",
            "Preparing to unpack .../102-libasound2_1.1.3-5ubuntu0.1_amd64.deb ...\n",
            "Unpacking libasound2:amd64 (1.1.3-5ubuntu0.1) ...\n",
            "Selecting previously unselected package libgif7:amd64.\n",
            "Preparing to unpack .../103-libgif7_5.1.4-2_amd64.deb ...\n",
            "Unpacking libgif7:amd64 (5.1.4-2) ...\n",
            "Selecting previously unselected package openjdk-11-jre:amd64.\n",
            "Preparing to unpack .../104-openjdk-11-jre_10.0.2+13-1ubuntu0.18.04.2_amd64.deb ...\n",
            "Unpacking openjdk-11-jre:amd64 (10.0.2+13-1ubuntu0.18.04.2) ...\n",
            "Selecting previously unselected package default-jre.\n",
            "Preparing to unpack .../105-default-jre_2%3a1.10-63ubuntu1~02_amd64.deb ...\n",
            "Unpacking default-jre (2:1.10-63ubuntu1~02) ...\n",
            "Selecting previously unselected package cuda-nsight-9-2.\n",
            "Preparing to unpack .../106-cuda-nsight-9-2_9.2.148-1_amd64.deb ...\n",
            "Unpacking cuda-nsight-9-2 (9.2.148-1) ...\n",
            "Selecting previously unselected package cuda-nvvp-9-2.\n",
            "Preparing to unpack .../107-cuda-nvvp-9-2_9.2.148-1_amd64.deb ...\n",
            "Unpacking cuda-nvvp-9-2 (9.2.148-1) ...\n",
            "Selecting previously unselected package cuda-nvrtc-dev-9-2.\n",
            "Preparing to unpack .../108-cuda-nvrtc-dev-9-2_9.2.148-1_amd64.deb ...\n",
            "Unpacking cuda-nvrtc-dev-9-2 (9.2.148-1) ...\n",
            "Selecting previously unselected package cuda-cusolver-dev-9-2.\n",
            "Preparing to unpack .../109-cuda-cusolver-dev-9-2_9.2.148-1_amd64.deb ...\n",
            "Unpacking cuda-cusolver-dev-9-2 (9.2.148-1) ...\n",
            "Selecting previously unselected package cuda-cublas-dev-9-2.\n",
            "Preparing to unpack .../110-cuda-cublas-dev-9-2_9.2.148.1-1_amd64.deb ...\n",
            "Unpacking cuda-cublas-dev-9-2 (9.2.148.1-1) ...\n",
            "Selecting previously unselected package cuda-cufft-dev-9-2.\n",
            "Preparing to unpack .../111-cuda-cufft-dev-9-2_9.2.148-1_amd64.deb ...\n",
            "Unpacking cuda-cufft-dev-9-2 (9.2.148-1) ...\n",
            "Selecting previously unselected package cuda-curand-dev-9-2.\n",
            "Preparing to unpack .../112-cuda-curand-dev-9-2_9.2.148-1_amd64.deb ...\n",
            "Unpacking cuda-curand-dev-9-2 (9.2.148-1) ...\n",
            "Selecting previously unselected package cuda-cusparse-dev-9-2.\n",
            "Preparing to unpack .../113-cuda-cusparse-dev-9-2_9.2.148-1_amd64.deb ...\n",
            "Unpacking cuda-cusparse-dev-9-2 (9.2.148-1) ...\n",
            "Selecting previously unselected package cuda-npp-dev-9-2.\n",
            "Preparing to unpack .../114-cuda-npp-dev-9-2_9.2.148-1_amd64.deb ...\n",
            "Unpacking cuda-npp-dev-9-2 (9.2.148-1) ...\n",
            "Selecting previously unselected package cuda-nvml-dev-9-2.\n",
            "Preparing to unpack .../115-cuda-nvml-dev-9-2_9.2.148-1_amd64.deb ...\n",
            "Unpacking cuda-nvml-dev-9-2 (9.2.148-1) ...\n",
            "Selecting previously unselected package cuda-nvgraph-dev-9-2.\n",
            "Preparing to unpack .../116-cuda-nvgraph-dev-9-2_9.2.148-1_amd64.deb ...\n",
            "Unpacking cuda-nvgraph-dev-9-2 (9.2.148-1) ...\n",
            "Selecting previously unselected package cuda-visual-tools-9-2.\n",
            "Preparing to unpack .../117-cuda-visual-tools-9-2_9.2.148-1_amd64.deb ...\n",
            "Unpacking cuda-visual-tools-9-2 (9.2.148-1) ...\n",
            "Selecting previously unselected package cuda-tools-9-2.\n",
            "Preparing to unpack .../118-cuda-tools-9-2_9.2.148-1_amd64.deb ...\n",
            "Unpacking cuda-tools-9-2 (9.2.148-1) ...\n",
            "Selecting previously unselected package freeglut3:amd64.\n",
            "Preparing to unpack .../119-freeglut3_2.8.1-3_amd64.deb ...\n",
            "Unpacking freeglut3:amd64 (2.8.1-3) ...\n",
            "Selecting previously unselected package libdrm-dev:amd64.\n",
            "Preparing to unpack .../120-libdrm-dev_2.4.91-2_amd64.deb ...\n",
            "Unpacking libdrm-dev:amd64 (2.4.91-2) ...\n",
            "Selecting previously unselected package mesa-common-dev:amd64.\n",
            "Preparing to unpack .../121-mesa-common-dev_18.0.5-0ubuntu0~18.04.1_amd64.deb ...\n",
            "Unpacking mesa-common-dev:amd64 (18.0.5-0ubuntu0~18.04.1) ...\n",
            "Selecting previously unselected package libglvnd-core-dev:amd64.\n",
            "Preparing to unpack .../122-libglvnd-core-dev_1.0.0-2ubuntu2.2_amd64.deb ...\n",
            "Unpacking libglvnd-core-dev:amd64 (1.0.0-2ubuntu2.2) ...\n",
            "Selecting previously unselected package libgles1:amd64.\n",
            "Preparing to unpack .../123-libgles1_1.0.0-2ubuntu2.2_amd64.deb ...\n",
            "Unpacking libgles1:amd64 (1.0.0-2ubuntu2.2) ...\n",
            "Selecting previously unselected package libglvnd-dev:amd64.\n",
            "Preparing to unpack .../124-libglvnd-dev_1.0.0-2ubuntu2.2_amd64.deb ...\n",
            "Unpacking libglvnd-dev:amd64 (1.0.0-2ubuntu2.2) ...\n",
            "Selecting previously unselected package libx11-xcb-dev:amd64.\n",
            "Preparing to unpack .../125-libx11-xcb-dev_2%3a1.6.4-3ubuntu0.1_amd64.deb ...\n",
            "Unpacking libx11-xcb-dev:amd64 (2:1.6.4-3ubuntu0.1) ...\n",
            "Selecting previously unselected package libxcb-dri3-dev:amd64.\n",
            "Preparing to unpack .../126-libxcb-dri3-dev_1.13-1_amd64.deb ...\n",
            "Unpacking libxcb-dri3-dev:amd64 (1.13-1) ...\n",
            "Selecting previously unselected package libxcb-randr0:amd64.\n",
            "Preparing to unpack .../127-libxcb-randr0_1.13-1_amd64.deb ...\n",
            "Unpacking libxcb-randr0:amd64 (1.13-1) ...\n",
            "Selecting previously unselected package libxcb-render0-dev:amd64.\n",
            "Preparing to unpack .../128-libxcb-render0-dev_1.13-1_amd64.deb ...\n",
            "Unpacking libxcb-render0-dev:amd64 (1.13-1) ...\n",
            "Selecting previously unselected package libxcb-randr0-dev:amd64.\n",
            "Preparing to unpack .../129-libxcb-randr0-dev_1.13-1_amd64.deb ...\n",
            "Unpacking libxcb-randr0-dev:amd64 (1.13-1) ...\n",
            "Selecting previously unselected package libxcb-shape0:amd64.\n",
            "Preparing to unpack .../130-libxcb-shape0_1.13-1_amd64.deb ...\n",
            "Unpacking libxcb-shape0:amd64 (1.13-1) ...\n",
            "Selecting previously unselected package libxcb-shape0-dev:amd64.\n",
            "Preparing to unpack .../131-libxcb-shape0-dev_1.13-1_amd64.deb ...\n",
            "Unpacking libxcb-shape0-dev:amd64 (1.13-1) ...\n",
            "Selecting previously unselected package libxcb-xfixes0-dev:amd64.\n",
            "Preparing to unpack .../132-libxcb-xfixes0-dev_1.13-1_amd64.deb ...\n",
            "Unpacking libxcb-xfixes0-dev:amd64 (1.13-1) ...\n",
            "Selecting previously unselected package libxcb-sync-dev:amd64.\n",
            "Preparing to unpack .../133-libxcb-sync-dev_1.13-1_amd64.deb ...\n",
            "Unpacking libxcb-sync-dev:amd64 (1.13-1) ...\n",
            "Selecting previously unselected package libxcb-present-dev:amd64.\n",
            "Preparing to unpack .../134-libxcb-present-dev_1.13-1_amd64.deb ...\n",
            "Unpacking libxcb-present-dev:amd64 (1.13-1) ...\n",
            "Selecting previously unselected package libxshmfence-dev:amd64.\n",
            "Preparing to unpack .../135-libxshmfence-dev_1.3-1_amd64.deb ...\n",
            "Unpacking libxshmfence-dev:amd64 (1.3-1) ...\n",
            "Selecting previously unselected package libxcb-dri2-0-dev:amd64.\n",
            "Preparing to unpack .../136-libxcb-dri2-0-dev_1.13-1_amd64.deb ...\n",
            "Unpacking libxcb-dri2-0-dev:amd64 (1.13-1) ...\n",
            "Selecting previously unselected package libxcb-glx0-dev:amd64.\n",
            "Preparing to unpack .../137-libxcb-glx0-dev_1.13-1_amd64.deb ...\n",
            "Unpacking libxcb-glx0-dev:amd64 (1.13-1) ...\n",
            "Selecting previously unselected package x11proto-fixes-dev.\n",
            "Preparing to unpack .../138-x11proto-fixes-dev_1%3a2018.4-4_all.deb ...\n",
            "Unpacking x11proto-fixes-dev (1:2018.4-4) ...\n",
            "Selecting previously unselected package libxfixes-dev:amd64.\n",
            "Preparing to unpack .../139-libxfixes-dev_1%3a5.0.3-1_amd64.deb ...\n",
            "Unpacking libxfixes-dev:amd64 (1:5.0.3-1) ...\n",
            "Selecting previously unselected package x11proto-damage-dev.\n",
            "Preparing to unpack .../140-x11proto-damage-dev_1%3a2018.4-4_all.deb ...\n",
            "Unpacking x11proto-damage-dev (1:2018.4-4) ...\n",
            "Selecting previously unselected package libxdamage-dev:amd64.\n",
            "Preparing to unpack .../141-libxdamage-dev_1%3a1.1.4-3_amd64.deb ...\n",
            "Unpacking libxdamage-dev:amd64 (1:1.1.4-3) ...\n",
            "Selecting previously unselected package x11proto-xext-dev.\n",
            "Preparing to unpack .../142-x11proto-xext-dev_2018.4-4_all.deb ...\n",
            "Unpacking x11proto-xext-dev (2018.4-4) ...\n",
            "Selecting previously unselected package libxext-dev:amd64.\n",
            "Preparing to unpack .../143-libxext-dev_2%3a1.3.3-1_amd64.deb ...\n",
            "Unpacking libxext-dev:amd64 (2:1.3.3-1) ...\n",
            "Selecting previously unselected package x11proto-xf86vidmode-dev.\n",
            "Preparing to unpack .../144-x11proto-xf86vidmode-dev_2018.4-4_all.deb ...\n",
            "Unpacking x11proto-xf86vidmode-dev (2018.4-4) ...\n",
            "Selecting previously unselected package libxxf86vm-dev:amd64.\n",
            "Preparing to unpack .../145-libxxf86vm-dev_1%3a1.1.4-1_amd64.deb ...\n",
            "Unpacking libxxf86vm-dev:amd64 (1:1.1.4-1) ...\n",
            "Selecting previously unselected package x11proto-dri2-dev.\n",
            "Preparing to unpack .../146-x11proto-dri2-dev_2018.4-4_all.deb ...\n",
            "Unpacking x11proto-dri2-dev (2018.4-4) ...\n",
            "Selecting previously unselected package x11proto-gl-dev.\n",
            "Preparing to unpack .../147-x11proto-gl-dev_2018.4-4_all.deb ...\n",
            "Unpacking x11proto-gl-dev (2018.4-4) ...\n",
            "Selecting previously unselected package libgl1-mesa-dev:amd64.\n",
            "Preparing to unpack .../148-libgl1-mesa-dev_18.0.5-0ubuntu0~18.04.1_amd64.deb ...\n",
            "Unpacking libgl1-mesa-dev:amd64 (18.0.5-0ubuntu0~18.04.1) ...\n",
            "Selecting previously unselected package libglu1-mesa:amd64.\n",
            "Preparing to unpack .../149-libglu1-mesa_9.0.0-2.1build1_amd64.deb ...\n",
            "Unpacking libglu1-mesa:amd64 (9.0.0-2.1build1) ...\n",
            "Selecting previously unselected package libglu1-mesa-dev:amd64.\n",
            "Preparing to unpack .../150-libglu1-mesa-dev_9.0.0-2.1build1_amd64.deb ...\n",
            "Unpacking libglu1-mesa-dev:amd64 (9.0.0-2.1build1) ...\n",
            "Selecting previously unselected package libxt6:amd64.\n",
            "Preparing to unpack .../151-libxt6_1%3a1.1.5-1_amd64.deb ...\n",
            "Unpacking libxt6:amd64 (1:1.1.5-1) ...\n",
            "Selecting previously unselected package libice-dev:amd64.\n",
            "Preparing to unpack .../152-libice-dev_2%3a1.0.9-2_amd64.deb ...\n",
            "Unpacking libice-dev:amd64 (2:1.0.9-2) ...\n",
            "Selecting previously unselected package libsm-dev:amd64.\n",
            "Preparing to unpack .../153-libsm-dev_2%3a1.2.2-1_amd64.deb ...\n",
            "Unpacking libsm-dev:amd64 (2:1.2.2-1) ...\n",
            "Selecting previously unselected package libxt-dev:amd64.\n",
            "Preparing to unpack .../154-libxt-dev_1%3a1.1.5-1_amd64.deb ...\n",
            "Unpacking libxt-dev:amd64 (1:1.1.5-1) ...\n",
            "Selecting previously unselected package freeglut3-dev:amd64.\n",
            "Preparing to unpack .../155-freeglut3-dev_2.8.1-3_amd64.deb ...\n",
            "Unpacking freeglut3-dev:amd64 (2.8.1-3) ...\n",
            "Selecting previously unselected package libxmu6:amd64.\n",
            "Preparing to unpack .../156-libxmu6_2%3a1.1.2-2_amd64.deb ...\n",
            "Unpacking libxmu6:amd64 (2:1.1.2-2) ...\n",
            "Selecting previously unselected package libxmu-headers.\n",
            "Preparing to unpack .../157-libxmu-headers_2%3a1.1.2-2_all.deb ...\n",
            "Unpacking libxmu-headers (2:1.1.2-2) ...\n",
            "Selecting previously unselected package libxmu-dev:amd64.\n",
            "Preparing to unpack .../158-libxmu-dev_2%3a1.1.2-2_amd64.deb ...\n",
            "Unpacking libxmu-dev:amd64 (2:1.1.2-2) ...\n",
            "Selecting previously unselected package x11proto-input-dev.\n",
            "Preparing to unpack .../159-x11proto-input-dev_2018.4-4_all.deb ...\n",
            "Unpacking x11proto-input-dev (2018.4-4) ...\n",
            "Selecting previously unselected package libxi-dev:amd64.\n",
            "Preparing to unpack .../160-libxi-dev_2%3a1.7.9-1_amd64.deb ...\n",
            "Unpacking libxi-dev:amd64 (2:1.7.9-1) ...\n",
            "Selecting previously unselected package cuda-samples-9-2.\n",
            "Preparing to unpack .../161-cuda-samples-9-2_9.2.148-1_amd64.deb ...\n",
            "Unpacking cuda-samples-9-2 (9.2.148-1) ...\n",
            "Selecting previously unselected package cuda-documentation-9-2.\n",
            "Preparing to unpack .../162-cuda-documentation-9-2_9.2.148-1_amd64.deb ...\n",
            "Unpacking cuda-documentation-9-2 (9.2.148-1) ...\n",
            "Selecting previously unselected package cuda-libraries-dev-9-2.\n",
            "Preparing to unpack .../163-cuda-libraries-dev-9-2_9.2.148-1_amd64.deb ...\n",
            "Unpacking cuda-libraries-dev-9-2 (9.2.148-1) ...\n",
            "Selecting previously unselected package cuda-toolkit-9-2.\n",
            "Preparing to unpack .../164-cuda-toolkit-9-2_9.2.148-1_amd64.deb ...\n",
            "Unpacking cuda-toolkit-9-2 (9.2.148-1) ...\n",
            "Selecting previously unselected package dkms.\n",
            "Preparing to unpack .../165-dkms_2.3-3ubuntu9.2_all.deb ...\n",
            "Unpacking dkms (2.3-3ubuntu9.2) ...\n",
            "Selecting previously unselected package libc6-i386.\n",
            "Preparing to unpack .../166-libc6-i386_2.27-3ubuntu1_amd64.deb ...\n",
            "Unpacking libc6-i386 (2.27-3ubuntu1) ...\n",
            "Selecting previously unselected package lib32gcc1.\n",
            "Preparing to unpack .../167-lib32gcc1_1%3a8.2.0-1ubuntu2~18.04_amd64.deb ...\n",
            "Unpacking lib32gcc1 (1:8.2.0-1ubuntu2~18.04) ...\n",
            "Selecting previously unselected package libxpm4:amd64.\n",
            "Preparing to unpack .../168-libxpm4_1%3a3.5.12-1_amd64.deb ...\n",
            "Unpacking libxpm4:amd64 (1:3.5.12-1) ...\n",
            "Selecting previously unselected package libxaw7:amd64.\n",
            "Preparing to unpack .../169-libxaw7_2%3a1.0.13-1_amd64.deb ...\n",
            "Unpacking libxaw7:amd64 (2:1.0.13-1) ...\n",
            "Selecting previously unselected package libxkbfile1:amd64.\n",
            "Preparing to unpack .../170-libxkbfile1_1%3a1.0.9-2_amd64.deb ...\n",
            "Unpacking libxkbfile1:amd64 (1:1.0.9-2) ...\n",
            "Selecting previously unselected package x11-xkb-utils.\n",
            "Preparing to unpack .../171-x11-xkb-utils_7.7+3ubuntu0.18.04.1_amd64.deb ...\n",
            "Unpacking x11-xkb-utils (7.7+3ubuntu0.18.04.1) ...\n",
            "Selecting previously unselected package xserver-common.\n",
            "Preparing to unpack .../172-xserver-common_2%3a1.19.6-1ubuntu4_all.deb ...\n",
            "Unpacking xserver-common (2:1.19.6-1ubuntu4) ...\n",
            "Selecting previously unselected package xserver-xorg-legacy.\n",
            "Preparing to unpack .../173-xserver-xorg-legacy_2%3a1.19.6-1ubuntu4_amd64.deb ...\n",
            "Unpacking xserver-xorg-legacy (2:1.19.6-1ubuntu4) ...\n",
            "Selecting previously unselected package libfontenc1:amd64.\n",
            "Preparing to unpack .../174-libfontenc1_1%3a1.1.3-1_amd64.deb ...\n",
            "Unpacking libfontenc1:amd64 (1:1.1.3-1) ...\n",
            "Selecting previously unselected package libxfont2:amd64.\n",
            "Preparing to unpack .../175-libxfont2_1%3a2.0.3-1_amd64.deb ...\n",
            "Unpacking libxfont2:amd64 (1:2.0.3-1) ...\n",
            "Selecting previously unselected package xserver-xorg-core.\n",
            "Preparing to unpack .../176-xserver-xorg-core_2%3a1.19.6-1ubuntu4_amd64.deb ...\n",
            "Unpacking xserver-xorg-core (2:1.19.6-1ubuntu4) ...\n",
            "Selecting previously unselected package nvidia-396.\n",
            "Preparing to unpack .../177-nvidia-396_396.44-0ubuntu1_amd64.deb ...\n",
            "Unpacking nvidia-396 (396.44-0ubuntu1) ...\n",
            "\u001b[1mdpkg:\u001b[0m error processing archive /tmp/apt-dpkg-install-UXaIj9/177-nvidia-396_396.44-0ubuntu1_amd64.deb (--unpack):\n",
            " trying to overwrite '/usr/share/egl/egl_external_platform.d/10_nvidia_wayland.json', which is also in package libnvidia-gl-396:amd64 396.54-0ubuntu0~gpu18.04.1\n",
            "\u001b[1mdpkg-deb:\u001b[0m \u001b[1;31merror:\u001b[0m paste subprocess was killed by signal (Broken pipe)\n",
            "Selecting previously unselected package nvidia-396-dev.\n",
            "Preparing to unpack .../178-nvidia-396-dev_396.44-0ubuntu1_amd64.deb ...\n",
            "Unpacking nvidia-396-dev (396.44-0ubuntu1) ...\n",
            "Selecting previously unselected package libcuda1-396.\n",
            "Preparing to unpack .../179-libcuda1-396_396.44-0ubuntu1_amd64.deb ...\n",
            "Unpacking libcuda1-396 (396.44-0ubuntu1) ...\n",
            "Selecting previously unselected package nvidia-modprobe.\n",
            "Preparing to unpack .../180-nvidia-modprobe_396.44-0ubuntu1_amd64.deb ...\n",
            "Unpacking nvidia-modprobe (396.44-0ubuntu1) ...\n",
            "Selecting previously unselected package python3-xkit.\n",
            "Preparing to unpack .../181-python3-xkit_0.5.0ubuntu2_all.deb ...\n",
            "Unpacking python3-xkit (0.5.0ubuntu2) ...\n",
            "Selecting previously unselected package libpolkit-agent-1-0:amd64.\n",
            "Preparing to unpack .../182-libpolkit-agent-1-0_0.105-20ubuntu0.18.04.1_amd64.deb ...\n",
            "Unpacking libpolkit-agent-1-0:amd64 (0.105-20ubuntu0.18.04.1) ...\n",
            "Selecting previously unselected package libpolkit-backend-1-0:amd64.\n",
            "Preparing to unpack .../183-libpolkit-backend-1-0_0.105-20ubuntu0.18.04.1_amd64.deb ...\n",
            "Unpacking libpolkit-backend-1-0:amd64 (0.105-20ubuntu0.18.04.1) ...\n",
            "Selecting previously unselected package policykit-1.\n",
            "Preparing to unpack .../184-policykit-1_0.105-20ubuntu0.18.04.1_amd64.deb ...\n",
            "Unpacking policykit-1 (0.105-20ubuntu0.18.04.1) ...\n",
            "Selecting previously unselected package policykit-1-gnome.\n",
            "Preparing to unpack .../185-policykit-1-gnome_0.105-6ubuntu2_amd64.deb ...\n",
            "Unpacking policykit-1-gnome (0.105-6ubuntu2) ...\n",
            "Selecting previously unselected package screen-resolution-extra.\n",
            "Preparing to unpack .../186-screen-resolution-extra_0.17.3_all.deb ...\n",
            "Unpacking screen-resolution-extra (0.17.3) ...\n",
            "Selecting previously unselected package libvdpau1:amd64.\n",
            "Preparing to unpack .../187-libvdpau1_1.1.1-3ubuntu1_amd64.deb ...\n",
            "Unpacking libvdpau1:amd64 (1.1.1-3ubuntu1) ...\n",
            "Selecting previously unselected package libjansson4:amd64.\n",
            "Preparing to unpack .../188-libjansson4_2.11-1_amd64.deb ...\n",
            "Unpacking libjansson4:amd64 (2.11-1) ...\n",
            "Selecting previously unselected package libxnvctrl0:amd64.\n",
            "Preparing to unpack .../189-libxnvctrl0_410.66-0ubuntu0~gpu18.04.1_amd64.deb ...\n",
            "Unpacking libxnvctrl0:amd64 (410.66-0ubuntu0~gpu18.04.1) ...\n",
            "Selecting previously unselected package nvidia-settings.\n",
            "Preparing to unpack .../190-nvidia-settings_410.66-0ubuntu0~gpu18.04.1_amd64.deb ...\n",
            "Unpacking nvidia-settings (410.66-0ubuntu0~gpu18.04.1) ...\n",
            "Selecting previously unselected package ocl-icd-libopencl1:amd64.\n",
            "Preparing to unpack .../191-ocl-icd-libopencl1_2.2.11-1ubuntu1_amd64.deb ...\n",
            "Unpacking ocl-icd-libopencl1:amd64 (2.2.11-1ubuntu1) ...\n",
            "Selecting previously unselected package nvidia-opencl-icd-396.\n",
            "Preparing to unpack .../192-nvidia-opencl-icd-396_396.44-0ubuntu1_amd64.deb ...\n",
            "Unpacking nvidia-opencl-icd-396 (396.44-0ubuntu1) ...\n",
            "Selecting previously unselected package cuda-drivers.\n",
            "Preparing to unpack .../193-cuda-drivers_396.44-1_amd64.deb ...\n",
            "Unpacking cuda-drivers (396.44-1) ...\n",
            "Selecting previously unselected package cuda-runtime-9-2.\n",
            "Preparing to unpack .../194-cuda-runtime-9-2_9.2.148-1_amd64.deb ...\n",
            "Unpacking cuda-runtime-9-2 (9.2.148-1) ...\n",
            "Selecting previously unselected package cuda-demo-suite-9-2.\n",
            "Preparing to unpack .../195-cuda-demo-suite-9-2_9.2.148-1_amd64.deb ...\n",
            "Unpacking cuda-demo-suite-9-2 (9.2.148-1) ...\n",
            "Selecting previously unselected package cuda-9-2.\n",
            "Preparing to unpack .../196-cuda-9-2_9.2.148-1_amd64.deb ...\n",
            "Unpacking cuda-9-2 (9.2.148-1) ...\n",
            "Selecting previously unselected package cuda.\n",
            "Preparing to unpack .../197-cuda_9.2.148-1_amd64.deb ...\n",
            "Unpacking cuda (9.2.148-1) ...\n",
            "Selecting previously unselected package libfakeroot:amd64.\n",
            "Preparing to unpack .../198-libfakeroot_1.22-2ubuntu1_amd64.deb ...\n",
            "Unpacking libfakeroot:amd64 (1.22-2ubuntu1) ...\n",
            "Selecting previously unselected package fakeroot.\n",
            "Preparing to unpack .../199-fakeroot_1.22-2ubuntu1_amd64.deb ...\n",
            "Unpacking fakeroot (1.22-2ubuntu1) ...\n",
            "Selecting previously unselected package fonts-dejavu-core.\n",
            "Preparing to unpack .../200-fonts-dejavu-core_2.37-1_all.deb ...\n",
            "Unpacking fonts-dejavu-core (2.37-1) ...\n",
            "Selecting previously unselected package fonts-dejavu-extra.\n",
            "Preparing to unpack .../201-fonts-dejavu-extra_2.37-1_all.deb ...\n",
            "Unpacking fonts-dejavu-extra (2.37-1) ...\n",
            "Selecting previously unselected package libxv1:amd64.\n",
            "Preparing to unpack .../202-libxv1_2%3a1.0.11-1_amd64.deb ...\n",
            "Unpacking libxv1:amd64 (2:1.0.11-1) ...\n",
            "Selecting previously unselected package x11-utils.\n",
            "Preparing to unpack .../203-x11-utils_7.7+3build1_amd64.deb ...\n",
            "Unpacking x11-utils (7.7+3build1) ...\n",
            "Selecting previously unselected package libatk-wrapper-java.\n",
            "Preparing to unpack .../204-libatk-wrapper-java_0.33.3-20ubuntu0.1_all.deb ...\n",
            "Unpacking libatk-wrapper-java (0.33.3-20ubuntu0.1) ...\n",
            "Selecting previously unselected package libatk-wrapper-java-jni:amd64.\n",
            "Preparing to unpack .../205-libatk-wrapper-java-jni_0.33.3-20ubuntu0.1_amd64.deb ...\n",
            "Unpacking libatk-wrapper-java-jni:amd64 (0.33.3-20ubuntu0.1) ...\n",
            "Selecting previously unselected package libgdk-pixbuf2.0-bin.\n",
            "Preparing to unpack .../206-libgdk-pixbuf2.0-bin_2.36.11-2_amd64.deb ...\n",
            "Unpacking libgdk-pixbuf2.0-bin (2.36.11-2) ...\n",
            "Selecting previously unselected package libgtk-3-bin.\n",
            "Preparing to unpack .../207-libgtk-3-bin_3.22.30-1ubuntu1_amd64.deb ...\n",
            "Unpacking libgtk-3-bin (3.22.30-1ubuntu1) ...\n",
            "Selecting previously unselected package linux-headers-4.15.0-36.\n",
            "Preparing to unpack .../208-linux-headers-4.15.0-36_4.15.0-36.39_all.deb ...\n",
            "Unpacking linux-headers-4.15.0-36 (4.15.0-36.39) ...\n",
            "Selecting previously unselected package linux-headers-4.15.0-36-generic.\n",
            "Preparing to unpack .../209-linux-headers-4.15.0-36-generic_4.15.0-36.39_amd64.deb ...\n",
            "Unpacking linux-headers-4.15.0-36-generic (4.15.0-36.39) ...\n",
            "Selecting previously unselected package linux-headers-generic.\n",
            "Preparing to unpack .../210-linux-headers-generic_4.15.0.36.38_amd64.deb ...\n",
            "Unpacking linux-headers-generic (4.15.0.36.38) ...\n",
            "Selecting previously unselected package mesa-vdpau-drivers:amd64.\n",
            "Preparing to unpack .../211-mesa-vdpau-drivers_18.0.5-0ubuntu0~18.04.1_amd64.deb ...\n",
            "Unpacking mesa-vdpau-drivers:amd64 (18.0.5-0ubuntu0~18.04.1) ...\n",
            "Selecting previously unselected package nvidia-prime.\n",
            "Preparing to unpack .../212-nvidia-prime_0.8.8.1_all.deb ...\n",
            "Unpacking nvidia-prime (0.8.8.1) ...\n",
            "Selecting previously unselected package vdpau-driver-all:amd64.\n",
            "Preparing to unpack .../213-vdpau-driver-all_1.1.1-3ubuntu1_amd64.deb ...\n",
            "Unpacking vdpau-driver-all:amd64 (1.1.1-3ubuntu1) ...\n",
            "Selecting previously unselected package xfonts-encodings.\n",
            "Preparing to unpack .../214-xfonts-encodings_1%3a1.0.4-2_all.deb ...\n",
            "Unpacking xfonts-encodings (1:1.0.4-2) ...\n",
            "Selecting previously unselected package xfonts-utils.\n",
            "Preparing to unpack .../215-xfonts-utils_1%3a7.7+6_amd64.deb ...\n",
            "Unpacking xfonts-utils (1:7.7+6) ...\n",
            "Selecting previously unselected package xfonts-base.\n",
            "Preparing to unpack .../216-xfonts-base_1%3a1.0.4+nmu1_all.deb ...\n",
            "Unpacking xfonts-base (1:1.0.4+nmu1) ...\n",
            "Errors were encountered while processing:\n",
            " /tmp/apt-dpkg-install-UXaIj9/177-nvidia-396_396.44-0ubuntu1_amd64.deb\n",
            "E: Sub-process /usr/bin/dpkg returned an error code (1)\n",
            "Collecting implicit==0.3.8\n",
            "  Using cached https://files.pythonhosted.org/packages/2e/d3/162237c5b41bef34faf5fce513535bc84808113dd3b2497c2437222a9bfc/implicit-0.3.8.tar.gz\n",
            "Requirement already satisfied: numpy in /usr/local/lib/python3.6/dist-packages (from implicit==0.3.8) (1.14.6)\n",
            "Requirement already satisfied: scipy>=0.16 in /usr/local/lib/python3.6/dist-packages (from implicit==0.3.8) (0.19.1)\n",
            "Requirement already satisfied: tqdm in /usr/local/lib/python3.6/dist-packages (from implicit==0.3.8) (4.27.0)\n",
            "Building wheels for collected packages: implicit\n",
            "  Running setup.py bdist_wheel for implicit ... \u001b[?25l-\b \b\\\b \b|\b \b/\b \b-\b \b\\\b \b|\b \b/\b \b-\b \b\\\b \b|\b \b/\b \b-\b \b\\\b \b|\b \b/\b \b-\b \b\\\b \b|\b \b/\b \bdone\n",
            "\u001b[?25h  Stored in directory: /root/.cache/pip/wheels/16/6c/e7/54f2a48bd3bd8a90f5b456a3e7b2ee687e111dbe25fc9fbf9d\n",
            "Successfully built implicit\n",
            "Installing collected packages: implicit\n",
            "Successfully installed implicit-0.3.8\n"
          ],
          "name": "stdout"
        }
      ]
    },
    {
      "metadata": {
        "id": "0nsRyeeO1Ds2",
        "colab_type": "code",
        "colab": {}
      },
      "cell_type": "code",
      "source": [
        "import implicit"
      ],
      "execution_count": 0,
      "outputs": []
    },
    {
      "metadata": {
        "id": "sy1ygFvP1RLo",
        "colab_type": "code",
        "colab": {
          "base_uri": "https://localhost:8080/",
          "height": 204
        },
        "outputId": "8bef0830-8307-4ac9-9ec1-7163f1e19342"
      },
      "cell_type": "code",
      "source": [
        "data.head()"
      ],
      "execution_count": 30,
      "outputs": [
        {
          "output_type": "execute_result",
          "data": {
            "text/html": [
              "<div>\n",
              "<style scoped>\n",
              "    .dataframe tbody tr th:only-of-type {\n",
              "        vertical-align: middle;\n",
              "    }\n",
              "\n",
              "    .dataframe tbody tr th {\n",
              "        vertical-align: top;\n",
              "    }\n",
              "\n",
              "    .dataframe thead th {\n",
              "        text-align: right;\n",
              "    }\n",
              "</style>\n",
              "<table border=\"1\" class=\"dataframe\">\n",
              "  <thead>\n",
              "    <tr style=\"text-align: right;\">\n",
              "      <th></th>\n",
              "      <th>plays</th>\n",
              "      <th>user_id</th>\n",
              "      <th>artist_id</th>\n",
              "    </tr>\n",
              "  </thead>\n",
              "  <tbody>\n",
              "    <tr>\n",
              "      <th>0</th>\n",
              "      <td>1099</td>\n",
              "      <td>0</td>\n",
              "      <td>90933</td>\n",
              "    </tr>\n",
              "    <tr>\n",
              "      <th>1</th>\n",
              "      <td>897</td>\n",
              "      <td>0</td>\n",
              "      <td>185367</td>\n",
              "    </tr>\n",
              "    <tr>\n",
              "      <th>2</th>\n",
              "      <td>717</td>\n",
              "      <td>0</td>\n",
              "      <td>106704</td>\n",
              "    </tr>\n",
              "    <tr>\n",
              "      <th>3</th>\n",
              "      <td>706</td>\n",
              "      <td>0</td>\n",
              "      <td>155241</td>\n",
              "    </tr>\n",
              "    <tr>\n",
              "      <th>4</th>\n",
              "      <td>691</td>\n",
              "      <td>0</td>\n",
              "      <td>220128</td>\n",
              "    </tr>\n",
              "  </tbody>\n",
              "</table>\n",
              "</div>"
            ],
            "text/plain": [
              "   plays  user_id  artist_id\n",
              "0   1099        0      90933\n",
              "1    897        0     185367\n",
              "2    717        0     106704\n",
              "3    706        0     155241\n",
              "4    691        0     220128"
            ]
          },
          "metadata": {
            "tags": []
          },
          "execution_count": 30
        }
      ]
    },
    {
      "metadata": {
        "id": "YOaKvmaB_IcG",
        "colab_type": "code",
        "colab": {}
      },
      "cell_type": "code",
      "source": [
        "raw_data = pd.read_table(os.path.join(lastfm_path, 'usersha1-artmbid-artname-plays.tsv'))\n",
        "raw_data = raw_data.drop(raw_data.columns[1], axis=1)\n",
        "raw_data.columns = ['user', 'artist', 'plays']\n",
        "\n",
        "# Drop NaN columns\n",
        "data = raw_data.dropna()\n",
        "data = data.copy()\n",
        "\n",
        "# Create a numeric user_id and artist_id column\n",
        "data['user'] = data['user'].astype(\"category\")\n",
        "data['artist'] = data['artist'].astype(\"category\")\n",
        "data['user_id'] = data['user'].cat.codes\n",
        "data['artist_id'] = data['artist'].cat.codes"
      ],
      "execution_count": 0,
      "outputs": []
    },
    {
      "metadata": {
        "id": "qajTVpOkGzMj",
        "colab_type": "code",
        "colab": {
          "base_uri": "https://localhost:8080/",
          "height": 204
        },
        "outputId": "10eff52c-f408-48c8-fed5-b25dfb828400"
      },
      "cell_type": "code",
      "source": [
        "data.head()"
      ],
      "execution_count": 32,
      "outputs": [
        {
          "output_type": "execute_result",
          "data": {
            "text/html": [
              "<div>\n",
              "<style scoped>\n",
              "    .dataframe tbody tr th:only-of-type {\n",
              "        vertical-align: middle;\n",
              "    }\n",
              "\n",
              "    .dataframe tbody tr th {\n",
              "        vertical-align: top;\n",
              "    }\n",
              "\n",
              "    .dataframe thead th {\n",
              "        text-align: right;\n",
              "    }\n",
              "</style>\n",
              "<table border=\"1\" class=\"dataframe\">\n",
              "  <thead>\n",
              "    <tr style=\"text-align: right;\">\n",
              "      <th></th>\n",
              "      <th>user</th>\n",
              "      <th>artist</th>\n",
              "      <th>plays</th>\n",
              "      <th>user_id</th>\n",
              "      <th>artist_id</th>\n",
              "    </tr>\n",
              "  </thead>\n",
              "  <tbody>\n",
              "    <tr>\n",
              "      <th>0</th>\n",
              "      <td>00000c289a1829a808ac09c00daf10bc3c4e223b</td>\n",
              "      <td>die Ärzte</td>\n",
              "      <td>1099</td>\n",
              "      <td>0</td>\n",
              "      <td>90933</td>\n",
              "    </tr>\n",
              "    <tr>\n",
              "      <th>1</th>\n",
              "      <td>00000c289a1829a808ac09c00daf10bc3c4e223b</td>\n",
              "      <td>melissa etheridge</td>\n",
              "      <td>897</td>\n",
              "      <td>0</td>\n",
              "      <td>185367</td>\n",
              "    </tr>\n",
              "    <tr>\n",
              "      <th>2</th>\n",
              "      <td>00000c289a1829a808ac09c00daf10bc3c4e223b</td>\n",
              "      <td>elvenking</td>\n",
              "      <td>717</td>\n",
              "      <td>0</td>\n",
              "      <td>106704</td>\n",
              "    </tr>\n",
              "    <tr>\n",
              "      <th>3</th>\n",
              "      <td>00000c289a1829a808ac09c00daf10bc3c4e223b</td>\n",
              "      <td>juliette &amp; the licks</td>\n",
              "      <td>706</td>\n",
              "      <td>0</td>\n",
              "      <td>155241</td>\n",
              "    </tr>\n",
              "    <tr>\n",
              "      <th>4</th>\n",
              "      <td>00000c289a1829a808ac09c00daf10bc3c4e223b</td>\n",
              "      <td>red hot chili peppers</td>\n",
              "      <td>691</td>\n",
              "      <td>0</td>\n",
              "      <td>220128</td>\n",
              "    </tr>\n",
              "  </tbody>\n",
              "</table>\n",
              "</div>"
            ],
            "text/plain": [
              "                                       user                 artist  plays  \\\n",
              "0  00000c289a1829a808ac09c00daf10bc3c4e223b              die Ärzte   1099   \n",
              "1  00000c289a1829a808ac09c00daf10bc3c4e223b      melissa etheridge    897   \n",
              "2  00000c289a1829a808ac09c00daf10bc3c4e223b              elvenking    717   \n",
              "3  00000c289a1829a808ac09c00daf10bc3c4e223b   juliette & the licks    706   \n",
              "4  00000c289a1829a808ac09c00daf10bc3c4e223b  red hot chili peppers    691   \n",
              "\n",
              "   user_id  artist_id  \n",
              "0        0      90933  \n",
              "1        0     185367  \n",
              "2        0     106704  \n",
              "3        0     155241  \n",
              "4        0     220128  "
            ]
          },
          "metadata": {
            "tags": []
          },
          "execution_count": 32
        }
      ]
    },
    {
      "metadata": {
        "id": "0LREkics1dQd",
        "colab_type": "code",
        "colab": {}
      },
      "cell_type": "code",
      "source": [
        "# The implicit library expects data as a item-user matrix so we\n",
        "# create two matricies, one for fitting the model (item-user) \n",
        "# and one for recommendations (user-item)\n",
        "sparse_item_user = sparse.csr_matrix((data['plays'].astype(float), (data['artist_id'], data['user_id'])))\n",
        "sparse_user_item = sparse.csr_matrix((data['plays'].astype(float), (data['user_id'], data['artist_id'])))"
      ],
      "execution_count": 0,
      "outputs": []
    },
    {
      "metadata": {
        "id": "Cgl59R1v1oaB",
        "colab_type": "code",
        "colab": {
          "base_uri": "https://localhost:8080/",
          "height": 51
        },
        "outputId": "9b143642-18d3-4ff6-d477-8547679090db"
      },
      "cell_type": "code",
      "source": [
        "sparse_item_user"
      ],
      "execution_count": 34,
      "outputs": [
        {
          "output_type": "execute_result",
          "data": {
            "text/plain": [
              "<292363x358868 sparse matrix of type '<class 'numpy.float64'>'\n",
              "\twith 17535375 stored elements in Compressed Sparse Row format>"
            ]
          },
          "metadata": {
            "tags": []
          },
          "execution_count": 34
        }
      ]
    },
    {
      "metadata": {
        "id": "4a07S_3c11UD",
        "colab_type": "code",
        "colab": {
          "base_uri": "https://localhost:8080/",
          "height": 51
        },
        "outputId": "0a704c20-6c45-4446-960b-f85c137773a7"
      },
      "cell_type": "code",
      "source": [
        "sparse_user_item"
      ],
      "execution_count": 35,
      "outputs": [
        {
          "output_type": "execute_result",
          "data": {
            "text/plain": [
              "<358868x292363 sparse matrix of type '<class 'numpy.float64'>'\n",
              "\twith 17535375 stored elements in Compressed Sparse Row format>"
            ]
          },
          "metadata": {
            "tags": []
          },
          "execution_count": 35
        }
      ]
    },
    {
      "metadata": {
        "id": "TERVZqCY12Hl",
        "colab_type": "code",
        "colab": {
          "base_uri": "https://localhost:8080/",
          "height": 34
        },
        "outputId": "7ba5b8d6-12e8-472a-fddd-41045ea7d428"
      },
      "cell_type": "code",
      "source": [
        "data['user_id'].shape, data['artist_id'].shape"
      ],
      "execution_count": 36,
      "outputs": [
        {
          "output_type": "execute_result",
          "data": {
            "text/plain": [
              "((17535450,), (17535450,))"
            ]
          },
          "metadata": {
            "tags": []
          },
          "execution_count": 36
        }
      ]
    },
    {
      "metadata": {
        "id": "3ZLibPHU172Z",
        "colab_type": "code",
        "colab": {
          "base_uri": "https://localhost:8080/",
          "height": 51
        },
        "outputId": "5425f745-e4b0-4df8-d442-f2d5d2763602"
      },
      "cell_type": "code",
      "source": [
        "# Initialize the als model and fit it using the sparse item-user matrix\n",
        "model = implicit.als.AlternatingLeastSquares(factors=20, regularization=0.1, iterations=20)"
      ],
      "execution_count": 37,
      "outputs": [
        {
          "output_type": "stream",
          "text": [
            "GPU training requires factor size to be a multiple of 32. Increasing factors from 20 to 32.\n",
            "WARNING:root:OpenBLAS detected. Its highly recommend to set the environment variable 'export OPENBLAS_NUM_THREADS=1' to disable its internal multithreading\n"
          ],
          "name": "stderr"
        }
      ]
    },
    {
      "metadata": {
        "id": "N0nJD0R72BQD",
        "colab_type": "code",
        "colab": {
          "base_uri": "https://localhost:8080/",
          "height": 34
        },
        "outputId": "1e3e14b5-7379-4cc6-d525-a4bc16729266"
      },
      "cell_type": "code",
      "source": [
        "model"
      ],
      "execution_count": 25,
      "outputs": [
        {
          "output_type": "execute_result",
          "data": {
            "text/plain": [
              "<implicit.als.AlternatingLeastSquares at 0x7f6ff6fd3eb8>"
            ]
          },
          "metadata": {
            "tags": []
          },
          "execution_count": 25
        }
      ]
    },
    {
      "metadata": {
        "id": "IeZhmej_2Fen",
        "colab_type": "code",
        "colab": {}
      },
      "cell_type": "code",
      "source": [
        "# Calculate the confidence by multiplying it by our alpha value.\n",
        "alpha_val = 15\n",
        "data_conf = (sparse_item_user * alpha_val).astype('double')"
      ],
      "execution_count": 0,
      "outputs": []
    },
    {
      "metadata": {
        "id": "RJP1yMrJH5pw",
        "colab_type": "code",
        "colab": {
          "base_uri": "https://localhost:8080/",
          "height": 34
        },
        "outputId": "fc084279-d8ea-4989-b9ff-a2b978eebab6"
      },
      "cell_type": "code",
      "source": [
        "type(data_conf)"
      ],
      "execution_count": 41,
      "outputs": [
        {
          "output_type": "execute_result",
          "data": {
            "text/plain": [
              "scipy.sparse.csr.csr_matrix"
            ]
          },
          "metadata": {
            "tags": []
          },
          "execution_count": 41
        }
      ]
    },
    {
      "metadata": {
        "id": "_YkqoaBJH-i5",
        "colab_type": "code",
        "colab": {}
      },
      "cell_type": "code",
      "source": [
        "data_conf"
      ],
      "execution_count": 0,
      "outputs": []
    },
    {
      "metadata": {
        "id": "DYizujnj2OtI",
        "colab_type": "code",
        "colab": {
          "base_uri": "https://localhost:8080/",
          "height": 731
        },
        "outputId": "8b9858c1-d164-43d2-f485-aab5c81684bd"
      },
      "cell_type": "code",
      "source": [
        "model.fit(data_conf)"
      ],
      "execution_count": 39,
      "outputs": [
        {
          "output_type": "stream",
          "text": [
            "\n",
            "  0%|          | 0/20 [00:00<?, ?it/s]\u001b[A\n",
            "  2%|▎         | 0.5/20 [00:00<00:19,  1.01it/s]\u001b[A\n",
            "  5%|▌         | 1.0/20 [00:01<00:24,  1.31s/it]\u001b[A\n",
            "  8%|▊         | 1.5/20 [00:02<00:22,  1.21s/it]\u001b[A\n",
            " 10%|█         | 2.0/20 [00:03<00:26,  1.45s/it]\u001b[A\n",
            " 12%|█▎        | 2.5/20 [00:03<00:23,  1.31s/it]\u001b[A\n",
            " 15%|█▌        | 3.0/20 [00:06<00:45,  2.66s/it]\u001b[A\n",
            " 18%|█▊        | 3.5/20 [00:06<00:35,  2.17s/it]\u001b[A\n",
            " 20%|██        | 4.0/20 [00:09<00:52,  3.25s/it]\u001b[A\n",
            " 22%|██▎       | 4.5/20 [00:10<00:39,  2.58s/it]\u001b[A\n",
            " 25%|██▌       | 5.0/20 [00:13<00:53,  3.54s/it]\u001b[A\n",
            " 28%|██▊       | 5.5/20 [00:13<00:40,  2.77s/it]\u001b[A\n",
            " 30%|███       | 6.0/20 [00:16<00:51,  3.67s/it]\u001b[A\n",
            " 32%|███▎      | 6.5/20 [00:17<00:38,  2.88s/it]\u001b[A\n",
            " 35%|███▌      | 7.0/20 [00:19<00:48,  3.75s/it]\u001b[A\n",
            " 38%|███▊      | 7.5/20 [00:20<00:36,  2.92s/it]\u001b[A\n",
            " 40%|████      | 8.0/20 [00:23<00:45,  3.78s/it]\u001b[A\n",
            " 42%|████▎     | 8.5/20 [00:23<00:33,  2.95s/it]\u001b[A\n",
            " 45%|████▌     | 9.0/20 [00:26<00:41,  3.79s/it]\u001b[A\n",
            " 48%|████▊     | 9.5/20 [00:27<00:31,  2.95s/it]\u001b[A\n",
            " 50%|█████     | 10.0/20 [00:30<00:38,  3.81s/it]\u001b[A\n",
            " 52%|█████▎    | 10.5/20 [00:30<00:28,  2.97s/it]\u001b[A\n",
            " 55%|█████▌    | 11.0/20 [00:33<00:34,  3.82s/it]\u001b[A\n",
            " 57%|█████▊    | 11.5/20 [00:34<00:25,  2.97s/it]\u001b[A\n",
            " 60%|██████    | 12.0/20 [00:36<00:30,  3.81s/it]\u001b[A\n",
            " 62%|██████▎   | 12.5/20 [00:37<00:22,  2.96s/it]\u001b[A\n",
            " 65%|██████▌   | 13.0/20 [00:40<00:26,  3.81s/it]\u001b[A\n",
            " 68%|██████▊   | 13.5/20 [00:40<00:19,  2.97s/it]\u001b[A\n",
            " 70%|███████   | 14.0/20 [00:43<00:22,  3.81s/it]\u001b[A\n",
            " 72%|███████▎  | 14.5/20 [00:44<00:16,  2.96s/it]\u001b[A\n",
            " 75%|███████▌  | 15.0/20 [00:47<00:19,  3.81s/it]\u001b[A\n",
            " 78%|███████▊  | 15.5/20 [00:47<00:13,  2.96s/it]\u001b[A\n",
            " 80%|████████  | 16.0/20 [00:50<00:15,  3.82s/it]\u001b[A\n",
            " 82%|████████▎ | 16.5/20 [00:51<00:10,  2.98s/it]\u001b[A\n",
            " 85%|████████▌ | 17.0/20 [00:53<00:11,  3.82s/it]\u001b[A\n",
            " 88%|████████▊ | 17.5/20 [00:54<00:07,  2.97s/it]\u001b[A\n",
            " 90%|█████████ | 18.0/20 [00:57<00:07,  3.82s/it]\u001b[A\n",
            " 92%|█████████▎| 18.5/20 [00:57<00:04,  2.97s/it]\u001b[A\n",
            " 95%|█████████▌| 19.0/20 [01:00<00:03,  3.81s/it]\u001b[A\n",
            " 98%|█████████▊| 19.5/20 [01:01<00:01,  2.97s/it]\u001b[A\n",
            "100%|██████████| 20.0/20 [01:04<00:00,  3.81s/it]\u001b[A\n",
            "\u001b[A"
          ],
          "name": "stderr"
        }
      ]
    },
    {
      "metadata": {
        "id": "t75IO5eh2Ruv",
        "colab_type": "code",
        "colab": {}
      },
      "cell_type": "code",
      "source": [
        "# Find the 10 most similar to Jay-Z\n",
        "item_id = 147068 #Jay-Z\n",
        "n_similar = 10"
      ],
      "execution_count": 0,
      "outputs": []
    },
    {
      "metadata": {
        "id": "Q0ChbZIA9cRd",
        "colab_type": "code",
        "colab": {
          "base_uri": "https://localhost:8080/",
          "height": 34
        },
        "outputId": "a894c82a-9888-4258-9f2b-6fe6d5c9d189"
      },
      "cell_type": "code",
      "source": [
        "model.use_gpu"
      ],
      "execution_count": 43,
      "outputs": [
        {
          "output_type": "execute_result",
          "data": {
            "text/plain": [
              "True"
            ]
          },
          "metadata": {
            "tags": []
          },
          "execution_count": 43
        }
      ]
    },
    {
      "metadata": {
        "id": "ECmfVl4x9jpm",
        "colab_type": "code",
        "colab": {}
      },
      "cell_type": "code",
      "source": [
        "# Get the user and item vectors from our trained model\n",
        "user_vecs = model.user_factors\n",
        "item_vecs = model.item_factors"
      ],
      "execution_count": 0,
      "outputs": []
    },
    {
      "metadata": {
        "id": "Wlbi3q-f9njp",
        "colab_type": "code",
        "colab": {
          "base_uri": "https://localhost:8080/",
          "height": 34
        },
        "outputId": "d7c10a76-88d4-4e76-ec12-621f2db1f9de"
      },
      "cell_type": "code",
      "source": [
        "user_vecs.shape"
      ],
      "execution_count": 45,
      "outputs": [
        {
          "output_type": "execute_result",
          "data": {
            "text/plain": [
              "(358868, 32)"
            ]
          },
          "metadata": {
            "tags": []
          },
          "execution_count": 45
        }
      ]
    },
    {
      "metadata": {
        "id": "J4AsF-bN9o2f",
        "colab_type": "code",
        "colab": {
          "base_uri": "https://localhost:8080/",
          "height": 34
        },
        "outputId": "1a2c27ee-1d34-47db-b292-0dbcf4c2ba6c"
      },
      "cell_type": "code",
      "source": [
        "item_vecs.shape"
      ],
      "execution_count": 46,
      "outputs": [
        {
          "output_type": "execute_result",
          "data": {
            "text/plain": [
              "(292363, 32)"
            ]
          },
          "metadata": {
            "tags": []
          },
          "execution_count": 46
        }
      ]
    },
    {
      "metadata": {
        "id": "DMipRwqT90UP",
        "colab_type": "code",
        "colab": {
          "base_uri": "https://localhost:8080/",
          "height": 238
        },
        "outputId": "609ccf50-9aff-4d83-e9d9-cff2e7824423"
      },
      "cell_type": "code",
      "source": [
        "item_vecs"
      ],
      "execution_count": 47,
      "outputs": [
        {
          "output_type": "execute_result",
          "data": {
            "text/plain": [
              "array([[-5.6301883e-06, -1.2624863e-05,  1.2741190e-05, ...,\n",
              "        -1.3160368e-05, -1.6411353e-05,  3.6287861e-06],\n",
              "       [ 2.5084019e-03, -6.4977095e-03,  5.4144632e-04, ...,\n",
              "        -4.3445062e-03, -7.8636892e-03, -3.9436668e-04],\n",
              "       [-2.1971375e-04,  9.6211843e-05,  1.1375421e-04, ...,\n",
              "         9.6576601e-05, -2.1186795e-04, -8.5151136e-05],\n",
              "       ...,\n",
              "       [-1.6205923e-03,  3.3260535e-03,  2.2060887e-03, ...,\n",
              "        -1.4680428e-04,  6.0867544e-05, -5.7063857e-04],\n",
              "       [ 7.6797773e-04,  1.5353750e-03,  1.6126351e-03, ...,\n",
              "         3.8693968e-04,  2.5001117e-03,  1.0965897e-03],\n",
              "       [-1.9997684e-03, -2.2198183e-03, -9.8850264e-04, ...,\n",
              "        -7.5788812e-06, -1.7106013e-03, -1.2740255e-03]], dtype=float32)"
            ]
          },
          "metadata": {
            "tags": []
          },
          "execution_count": 47
        }
      ]
    },
    {
      "metadata": {
        "id": "76Myd3Cu9rVw",
        "colab_type": "code",
        "colab": {}
      },
      "cell_type": "code",
      "source": [
        "# Calculate the vector norms\n",
        "item_norms = np.sqrt((item_vecs * item_vecs).sum(axis=1))"
      ],
      "execution_count": 0,
      "outputs": []
    },
    {
      "metadata": {
        "id": "JjqL90EF9vW1",
        "colab_type": "code",
        "colab": {
          "base_uri": "https://localhost:8080/",
          "height": 34
        },
        "outputId": "3b751add-b2a6-4c95-f001-1ee12c67c814"
      },
      "cell_type": "code",
      "source": [
        "item_norms.shape"
      ],
      "execution_count": 49,
      "outputs": [
        {
          "output_type": "execute_result",
          "data": {
            "text/plain": [
              "(292363,)"
            ]
          },
          "metadata": {
            "tags": []
          },
          "execution_count": 49
        }
      ]
    },
    {
      "metadata": {
        "id": "BitRdNZJ9wM-",
        "colab_type": "code",
        "colab": {
          "base_uri": "https://localhost:8080/",
          "height": 51
        },
        "outputId": "9f2d2271-0025-4b2d-96e2-8e354a34010a"
      },
      "cell_type": "code",
      "source": [
        "item_norms"
      ],
      "execution_count": 50,
      "outputs": [
        {
          "output_type": "execute_result",
          "data": {
            "text/plain": [
              "array([8.2388506e-05, 2.0304542e-02, 6.6063774e-04, ..., 1.0225646e-02,\n",
              "       6.5628961e-03, 7.1776020e-03], dtype=float32)"
            ]
          },
          "metadata": {
            "tags": []
          },
          "execution_count": 50
        }
      ]
    },
    {
      "metadata": {
        "id": "hxJlIkeT98Wb",
        "colab_type": "code",
        "colab": {}
      },
      "cell_type": "code",
      "source": [
        "scores = item_vecs.dot(item_vecs[item_id]) / item_norms"
      ],
      "execution_count": 0,
      "outputs": []
    },
    {
      "metadata": {
        "id": "cg34wtWR-Q3O",
        "colab_type": "code",
        "colab": {
          "base_uri": "https://localhost:8080/",
          "height": 51
        },
        "outputId": "2e37f5d2-030e-4623-910e-501efa44fb98"
      },
      "cell_type": "code",
      "source": [
        "scores"
      ],
      "execution_count": 52,
      "outputs": [
        {
          "output_type": "execute_result",
          "data": {
            "text/plain": [
              "array([ 0.00999367, -0.01358925, -0.00674658, ...,  0.01309817,\n",
              "        0.02638995, -0.02531872], dtype=float32)"
            ]
          },
          "metadata": {
            "tags": []
          },
          "execution_count": 52
        }
      ]
    },
    {
      "metadata": {
        "id": "RkHTACRm-RhA",
        "colab_type": "code",
        "colab": {
          "base_uri": "https://localhost:8080/",
          "height": 34
        },
        "outputId": "09d26ab9-485d-413f-dc81-02e1ab84d64c"
      },
      "cell_type": "code",
      "source": [
        "max(scores)"
      ],
      "execution_count": 53,
      "outputs": [
        {
          "output_type": "execute_result",
          "data": {
            "text/plain": [
              "0.04776986"
            ]
          },
          "metadata": {
            "tags": []
          },
          "execution_count": 53
        }
      ]
    },
    {
      "metadata": {
        "id": "VxfNF7Pv-UEE",
        "colab_type": "code",
        "colab": {
          "base_uri": "https://localhost:8080/",
          "height": 34
        },
        "outputId": "7f867485-7a16-4041-8733-666509239394"
      },
      "cell_type": "code",
      "source": [
        "min(scores)"
      ],
      "execution_count": 54,
      "outputs": [
        {
          "output_type": "execute_result",
          "data": {
            "text/plain": [
              "-0.03077719"
            ]
          },
          "metadata": {
            "tags": []
          },
          "execution_count": 54
        }
      ]
    },
    {
      "metadata": {
        "id": "xyHAcIZQ-Yai",
        "colab_type": "code",
        "colab": {}
      },
      "cell_type": "code",
      "source": [
        "top_idx = np.argpartition(scores, -n_similar)[-n_similar:]"
      ],
      "execution_count": 0,
      "outputs": []
    },
    {
      "metadata": {
        "id": "vMo5y1I9-eDl",
        "colab_type": "code",
        "colab": {
          "base_uri": "https://localhost:8080/",
          "height": 51
        },
        "outputId": "8ec14ae1-45b4-4b1e-fd10-31caad78fced"
      },
      "cell_type": "code",
      "source": [
        "top_idx"
      ],
      "execution_count": 56,
      "outputs": [
        {
          "output_type": "execute_result",
          "data": {
            "text/plain": [
              "array([195384, 205889,   3845, 263308, 223171, 261970, 147068,   2721,\n",
              "       175905, 238216])"
            ]
          },
          "metadata": {
            "tags": []
          },
          "execution_count": 56
        }
      ]
    },
    {
      "metadata": {
        "id": "iy1T8B-E-e-4",
        "colab_type": "code",
        "colab": {}
      },
      "cell_type": "code",
      "source": [
        "similar = sorted(zip(top_idx, scores[top_idx] / item_norms[item_id]), key=lambda x: -x[1])"
      ],
      "execution_count": 0,
      "outputs": []
    },
    {
      "metadata": {
        "id": "GByq_zPC-oDT",
        "colab_type": "code",
        "colab": {
          "base_uri": "https://localhost:8080/",
          "height": 187
        },
        "outputId": "2f23f97d-c860-47fe-80a3-00ffa3b0cfee"
      },
      "cell_type": "code",
      "source": [
        "similar"
      ],
      "execution_count": 58,
      "outputs": [
        {
          "output_type": "execute_result",
          "data": {
            "text/plain": [
              "[(147068, 0.99999994),\n",
              " (238216, 0.9970172),\n",
              " (2721, 0.99214715),\n",
              " (205889, 0.9921287),\n",
              " (175905, 0.9916901),\n",
              " (261970, 0.99064505),\n",
              " (3845, 0.98762625),\n",
              " (223171, 0.9828211),\n",
              " (263308, 0.9827492),\n",
              " (195384, 0.9824248)]"
            ]
          },
          "metadata": {
            "tags": []
          },
          "execution_count": 58
        }
      ]
    },
    {
      "metadata": {
        "id": "yI3ZgaXB-oy5",
        "colab_type": "code",
        "colab": {
          "base_uri": "https://localhost:8080/",
          "height": 187
        },
        "outputId": "803c0436-d0f9-4730-8703-67418f00b262"
      },
      "cell_type": "code",
      "source": [
        "# Print the names of our most similar artists\n",
        "for item in similar:\n",
        "    idx, score = item\n",
        "    print(data.artist.loc[data.artist_id == idx].iloc[0])"
      ],
      "execution_count": 59,
      "outputs": [
        {
          "output_type": "stream",
          "text": [
            "jay-z\n",
            "snoop dogg\n",
            "2pac\n",
            "outkast\n",
            "lupe fiasco\n",
            "the roots\n",
            "50 cent\n",
            "rjd2\n",
            "the streets\n",
            "n*e*r*d\n"
          ],
          "name": "stdout"
        }
      ]
    },
    {
      "metadata": {
        "id": "cGVlqmOO-y8c",
        "colab_type": "code",
        "colab": {
          "base_uri": "https://localhost:8080/",
          "height": 204
        },
        "outputId": "c67cf970-75d1-4563-fa0b-085a7f3cd69b"
      },
      "cell_type": "code",
      "source": [
        "data.head()"
      ],
      "execution_count": 60,
      "outputs": [
        {
          "output_type": "execute_result",
          "data": {
            "text/html": [
              "<div>\n",
              "<style scoped>\n",
              "    .dataframe tbody tr th:only-of-type {\n",
              "        vertical-align: middle;\n",
              "    }\n",
              "\n",
              "    .dataframe tbody tr th {\n",
              "        vertical-align: top;\n",
              "    }\n",
              "\n",
              "    .dataframe thead th {\n",
              "        text-align: right;\n",
              "    }\n",
              "</style>\n",
              "<table border=\"1\" class=\"dataframe\">\n",
              "  <thead>\n",
              "    <tr style=\"text-align: right;\">\n",
              "      <th></th>\n",
              "      <th>user</th>\n",
              "      <th>artist</th>\n",
              "      <th>plays</th>\n",
              "      <th>user_id</th>\n",
              "      <th>artist_id</th>\n",
              "    </tr>\n",
              "  </thead>\n",
              "  <tbody>\n",
              "    <tr>\n",
              "      <th>0</th>\n",
              "      <td>00000c289a1829a808ac09c00daf10bc3c4e223b</td>\n",
              "      <td>die Ärzte</td>\n",
              "      <td>1099</td>\n",
              "      <td>0</td>\n",
              "      <td>90933</td>\n",
              "    </tr>\n",
              "    <tr>\n",
              "      <th>1</th>\n",
              "      <td>00000c289a1829a808ac09c00daf10bc3c4e223b</td>\n",
              "      <td>melissa etheridge</td>\n",
              "      <td>897</td>\n",
              "      <td>0</td>\n",
              "      <td>185367</td>\n",
              "    </tr>\n",
              "    <tr>\n",
              "      <th>2</th>\n",
              "      <td>00000c289a1829a808ac09c00daf10bc3c4e223b</td>\n",
              "      <td>elvenking</td>\n",
              "      <td>717</td>\n",
              "      <td>0</td>\n",
              "      <td>106704</td>\n",
              "    </tr>\n",
              "    <tr>\n",
              "      <th>3</th>\n",
              "      <td>00000c289a1829a808ac09c00daf10bc3c4e223b</td>\n",
              "      <td>juliette &amp; the licks</td>\n",
              "      <td>706</td>\n",
              "      <td>0</td>\n",
              "      <td>155241</td>\n",
              "    </tr>\n",
              "    <tr>\n",
              "      <th>4</th>\n",
              "      <td>00000c289a1829a808ac09c00daf10bc3c4e223b</td>\n",
              "      <td>red hot chili peppers</td>\n",
              "      <td>691</td>\n",
              "      <td>0</td>\n",
              "      <td>220128</td>\n",
              "    </tr>\n",
              "  </tbody>\n",
              "</table>\n",
              "</div>"
            ],
            "text/plain": [
              "                                       user                 artist  plays  \\\n",
              "0  00000c289a1829a808ac09c00daf10bc3c4e223b              die Ärzte   1099   \n",
              "1  00000c289a1829a808ac09c00daf10bc3c4e223b      melissa etheridge    897   \n",
              "2  00000c289a1829a808ac09c00daf10bc3c4e223b              elvenking    717   \n",
              "3  00000c289a1829a808ac09c00daf10bc3c4e223b   juliette & the licks    706   \n",
              "4  00000c289a1829a808ac09c00daf10bc3c4e223b  red hot chili peppers    691   \n",
              "\n",
              "   user_id  artist_id  \n",
              "0        0      90933  \n",
              "1        0     185367  \n",
              "2        0     106704  \n",
              "3        0     155241  \n",
              "4        0     220128  "
            ]
          },
          "metadata": {
            "tags": []
          },
          "execution_count": 60
        }
      ]
    },
    {
      "metadata": {
        "id": "GG1yTZxE-2L9",
        "colab_type": "code",
        "colab": {}
      },
      "cell_type": "code",
      "source": [
        "#------------------------------\n",
        "# CREATE USER RECOMMENDATIONS\n",
        "#------------------------------\n",
        "def recommend(user_id, sparse_user_item, user_vecs, item_vecs, num_items=10):\n",
        "    \"\"\"The same recommendation function we used before\"\"\"\n",
        "\n",
        "    user_interactions = sparse_user_item[user_id,:].toarray()\n",
        "\n",
        "    user_interactions = user_interactions.reshape(-1) + 1\n",
        "    user_interactions[user_interactions > 1] = 0\n",
        "\n",
        "    rec_vector = user_vecs[user_id,:].dot(item_vecs.T).toarray()\n",
        "\n",
        "    min_max = MinMaxScaler()\n",
        "    rec_vector_scaled = min_max.fit_transform(rec_vector.reshape(-1,1))[:,0]\n",
        "    recommend_vector = user_interactions * rec_vector_scaled\n",
        "\n",
        "    item_idx = np.argsort(recommend_vector)[::-1][:num_items]\n",
        "\n",
        "    artists = []\n",
        "    scores = []\n",
        "\n",
        "    for idx in item_idx:\n",
        "        artists.append(data.artist.loc[data.artist_id == idx].iloc[0])\n",
        "        scores.append(recommend_vector[idx])\n",
        "\n",
        "    recommendations = pd.DataFrame({'artist': artists, 'score': scores})\n",
        "\n",
        "    return recommendations"
      ],
      "execution_count": 0,
      "outputs": []
    },
    {
      "metadata": {
        "id": "a3c0QGPD_-VI",
        "colab_type": "code",
        "colab": {}
      },
      "cell_type": "code",
      "source": [
        "# Get the trained user and item vectors. We convert them to \n",
        "# csr matrices to work with our previous recommend function.\n",
        "user_vecs = sparse.csr_matrix(model.user_factors)\n",
        "item_vecs = sparse.csr_matrix(model.item_factors)"
      ],
      "execution_count": 0,
      "outputs": []
    },
    {
      "metadata": {
        "id": "r9mPUvi0BidG",
        "colab_type": "code",
        "colab": {}
      },
      "cell_type": "code",
      "source": [
        "# Create recommendations for user with id 2025\n",
        "user_id = 2025"
      ],
      "execution_count": 0,
      "outputs": []
    },
    {
      "metadata": {
        "id": "DvVv2Y3DBkmJ",
        "colab_type": "code",
        "colab": {}
      },
      "cell_type": "code",
      "source": [
        "recommendations = recommend(user_id, sparse_user_item, user_vecs, item_vecs)"
      ],
      "execution_count": 0,
      "outputs": []
    },
    {
      "metadata": {
        "id": "UGcFw54UBndr",
        "colab_type": "code",
        "colab": {
          "base_uri": "https://localhost:8080/",
          "height": 204
        },
        "outputId": "44577e1e-222b-42ac-af39-367d76b288bf"
      },
      "cell_type": "code",
      "source": [
        "print(recommendations)"
      ],
      "execution_count": 65,
      "outputs": [
        {
          "output_type": "stream",
          "text": [
            "                   artist     score\n",
            "0               sam cooke  1.000000\n",
            "1                the band  0.995662\n",
            "2                    ween  0.995482\n",
            "3  sly & the family stone  0.981407\n",
            "4            brian wilson  0.975953\n",
            "5            otis redding  0.973579\n",
            "6         thelonious monk  0.972716\n",
            "7         curtis mayfield  0.972609\n",
            "8          duke ellington  0.971102\n",
            "9                al green  0.970876\n"
          ],
          "name": "stdout"
        }
      ]
    },
    {
      "metadata": {
        "id": "mnxwwsm-BpKD",
        "colab_type": "code",
        "colab": {}
      },
      "cell_type": "code",
      "source": [
        "# Using recommend method\n",
        "# Create recommendations for user with id 2025\n",
        "user_id = 2025\n",
        "\n",
        "# Use the implicit recommender.\n",
        "recommended = model.recommend(user_id, sparse_user_item)"
      ],
      "execution_count": 0,
      "outputs": []
    },
    {
      "metadata": {
        "id": "y-bV5q-3CTM4",
        "colab_type": "code",
        "colab": {
          "base_uri": "https://localhost:8080/",
          "height": 187
        },
        "outputId": "844fa868-2cdc-4d46-cc2b-c2380200b0ff"
      },
      "cell_type": "code",
      "source": [
        "recommended"
      ],
      "execution_count": 67,
      "outputs": [
        {
          "output_type": "execute_result",
          "data": {
            "text/plain": [
              "[(228211, 1.2123001),\n",
              " (252327, 1.2042192),\n",
              " (279110, 1.2038832),\n",
              " (237704, 1.1776652),\n",
              " (56148, 1.1675047),\n",
              " (205656, 1.1630838),\n",
              " (265267, 1.1614755),\n",
              " (78883, 1.1612756),\n",
              " (101331, 1.1584694),\n",
              " (15100, 1.1580477)]"
            ]
          },
          "metadata": {
            "tags": []
          },
          "execution_count": 67
        }
      ]
    },
    {
      "metadata": {
        "id": "WnOtEa_PCT8c",
        "colab_type": "code",
        "colab": {}
      },
      "cell_type": "code",
      "source": [
        "artists = []\n",
        "scores = []\n",
        "\n",
        "# Get artist names from ids\n",
        "for item in recommended:\n",
        "    idx, score = item\n",
        "    artists.append(data.artist.loc[data.artist_id == idx].iloc[0])\n",
        "    scores.append(score)"
      ],
      "execution_count": 0,
      "outputs": []
    },
    {
      "metadata": {
        "id": "5z9TPYl9CWnW",
        "colab_type": "code",
        "colab": {
          "base_uri": "https://localhost:8080/",
          "height": 204
        },
        "outputId": "7a446f57-4fd4-4559-94bd-649a6a013da7"
      },
      "cell_type": "code",
      "source": [
        "# Create a dataframe of artist names and scores\n",
        "recommendations = pd.DataFrame({'artist': artists, 'score': scores})\n",
        "print(recommendations)"
      ],
      "execution_count": 69,
      "outputs": [
        {
          "output_type": "stream",
          "text": [
            "                   artist     score\n",
            "0               sam cooke  1.212300\n",
            "1                the band  1.204219\n",
            "2                    ween  1.203883\n",
            "3  sly & the family stone  1.177665\n",
            "4            brian wilson  1.167505\n",
            "5            otis redding  1.163084\n",
            "6         thelonious monk  1.161476\n",
            "7         curtis mayfield  1.161276\n",
            "8          duke ellington  1.158469\n",
            "9                al green  1.158048\n"
          ],
          "name": "stdout"
        }
      ]
    },
    {
      "metadata": {
        "id": "T2CZU2zJCZhg",
        "colab_type": "code",
        "colab": {}
      },
      "cell_type": "code",
      "source": [
        "add = recommendations['score'][0] - 1"
      ],
      "execution_count": 0,
      "outputs": []
    },
    {
      "metadata": {
        "id": "BeHDBuJFCgkx",
        "colab_type": "code",
        "colab": {
          "base_uri": "https://localhost:8080/",
          "height": 204
        },
        "outputId": "2ee21a66-a2db-4358-aab0-b0982188822e"
      },
      "cell_type": "code",
      "source": [
        "print(recommendations['score'] - add)"
      ],
      "execution_count": 72,
      "outputs": [
        {
          "output_type": "stream",
          "text": [
            "0    1.000000\n",
            "1    0.978973\n",
            "2    0.973336\n",
            "3    0.964416\n",
            "4    0.964408\n",
            "5    0.962556\n",
            "6    0.958192\n",
            "7    0.951517\n",
            "8    0.950474\n",
            "9    0.947800\n",
            "Name: score, dtype: float64\n"
          ],
          "name": "stdout"
        }
      ]
    },
    {
      "metadata": {
        "id": "9ZZ3zsjhCuTs",
        "colab_type": "code",
        "colab": {}
      },
      "cell_type": "code",
      "source": [
        "# https://medium.com/radon-dev/als-implicit-collaborative-filtering-5ed653ba39fe"
      ],
      "execution_count": 0,
      "outputs": []
    },
    {
      "metadata": {
        "id": "U3l2YW-oCyo0",
        "colab_type": "code",
        "colab": {}
      },
      "cell_type": "code",
      "source": [
        ""
      ],
      "execution_count": 0,
      "outputs": []
    }
  ]
}
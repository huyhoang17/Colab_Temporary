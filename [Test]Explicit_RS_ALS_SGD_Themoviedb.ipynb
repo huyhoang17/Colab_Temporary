{
  "nbformat": 4,
  "nbformat_minor": 0,
  "metadata": {
    "colab": {
      "name": "[Test]Explicit_RS_ALS_SGD_Themoviedb.ipynb",
      "version": "0.3.2",
      "provenance": [],
      "collapsed_sections": [],
      "include_colab_link": true
    }
  },
  "cells": [
    {
      "cell_type": "markdown",
      "metadata": {
        "id": "view-in-github",
        "colab_type": "text"
      },
      "source": [
        "[View in Colaboratory](https://colab.research.google.com/github/huyhoang17/Colab_Temporary/blob/master/[Test]Explicit_RS_ALS_SGD_Themoviedb.ipynb)"
      ]
    },
    {
      "metadata": {
        "id": "k-gcvuYCe4yD",
        "colab_type": "code",
        "colab": {
          "base_uri": "https://localhost:8080/",
          "height": 125
        },
        "outputId": "f63ee47b-5d70-4432-abef-d3e1ce1e7d16"
      },
      "cell_type": "code",
      "source": [
        "# Load the Drive helper and mount\n",
        "from google.colab import drive\n",
        "\n",
        "# This will prompt for authorization.\n",
        "drive.mount('/content/drive')"
      ],
      "execution_count": 1,
      "outputs": [
        {
          "output_type": "stream",
          "text": [
            "Go to this URL in a browser: https://accounts.google.com/o/oauth2/auth?client_id=947318989803-6bn6qk8qdgf4n4g3pfee6491hc0brc4i.apps.googleusercontent.com&redirect_uri=urn%3Aietf%3Awg%3Aoauth%3A2.0%3Aoob&scope=email%20https%3A%2F%2Fwww.googleapis.com%2Fauth%2Fdocs.test%20https%3A%2F%2Fwww.googleapis.com%2Fauth%2Fdrive%20https%3A%2F%2Fwww.googleapis.com%2Fauth%2Fdrive.photos.readonly%20https%3A%2F%2Fwww.googleapis.com%2Fauth%2Fpeopleapi.readonly&response_type=code\n",
            "\n",
            "Enter your authorization code:\n",
            "··········\n",
            "Mounted at /content/drive\n"
          ],
          "name": "stdout"
        }
      ]
    },
    {
      "metadata": {
        "id": "oOXHqOd7mpy-",
        "colab_type": "code",
        "colab": {
          "base_uri": "https://localhost:8080/",
          "height": 34
        },
        "outputId": "e617dc4d-d6b3-4f29-acc7-e1529e65d08b"
      },
      "cell_type": "code",
      "source": [
        "!ls drive/My\\ Drive/workspace/Recommender_System/Explicit_Rating_Movie"
      ],
      "execution_count": 4,
      "outputs": [
        {
          "output_type": "stream",
          "text": [
            "dataset  notebooks\n"
          ],
          "name": "stdout"
        }
      ]
    },
    {
      "metadata": {
        "id": "wD01iCZ2e5UB",
        "colab_type": "code",
        "colab": {
          "base_uri": "https://localhost:8080/",
          "height": 52
        },
        "outputId": "d0dd1c55-7c99-47f7-c4f5-89f98b28be0f"
      },
      "cell_type": "code",
      "source": [
        "!wget http://files.grouplens.org/datasets/movielens/ml-100k.zip -P drive/My\\ Drive/workspace/Recommender_System/Explicit_Rating_Movie/dataset"
      ],
      "execution_count": 5,
      "outputs": [
        {
          "output_type": "stream",
          "text": [
            "\n",
            "Redirecting output to ‘wget-log’.\n"
          ],
          "name": "stdout"
        }
      ]
    },
    {
      "metadata": {
        "id": "j4TvFQtDnBvm",
        "colab_type": "code",
        "colab": {}
      },
      "cell_type": "code",
      "source": [
        "base_data = 'drive/My Drive/workspace/Recommender_System/Explicit_Rating_Movie/dataset'"
      ],
      "execution_count": 0,
      "outputs": []
    },
    {
      "metadata": {
        "id": "Ipzy6Z7zm0Tp",
        "colab_type": "code",
        "colab": {}
      },
      "cell_type": "code",
      "source": [
        "# import os\n",
        "# import zipfile\n",
        "# zip_ref = zipfile.ZipFile(os.path.join(base_data, 'ml-100k.zip'), 'r')\n",
        "# zip_ref.extractall(base_data)\n",
        "# zip_ref.close()"
      ],
      "execution_count": 0,
      "outputs": []
    },
    {
      "metadata": {
        "id": "stGHi9zinJPj",
        "colab_type": "code",
        "colab": {}
      },
      "cell_type": "code",
      "source": [
        "base_mvlen = os.path.join(base_data, 'ml-100k')"
      ],
      "execution_count": 0,
      "outputs": []
    },
    {
      "metadata": {
        "id": "bqbgidownStS",
        "colab_type": "code",
        "colab": {}
      },
      "cell_type": "code",
      "source": [
        "import numpy as np\n",
        "import pandas as pd\n",
        "np.random.seed(42)"
      ],
      "execution_count": 0,
      "outputs": []
    },
    {
      "metadata": {
        "id": "Rmu5dwolnpJX",
        "colab_type": "code",
        "colab": {
          "base_uri": "https://localhost:8080/",
          "height": 34
        },
        "outputId": "15008034-055f-42af-b346-1888211b12ed"
      },
      "cell_type": "code",
      "source": [
        "names = ['user_id', 'item_id', 'rating', 'timestamp']\n",
        "df = pd.read_csv(os.path.join(base_mvlen, 'u.data'), sep='\\t', names=names)\n",
        "n_users = df.user_id.unique().shape[0]\n",
        "n_items = df.item_id.unique().shape[0]\n",
        "n_users, n_items"
      ],
      "execution_count": 16,
      "outputs": [
        {
          "output_type": "execute_result",
          "data": {
            "text/plain": [
              "(943, 1682)"
            ]
          },
          "metadata": {
            "tags": []
          },
          "execution_count": 16
        }
      ]
    },
    {
      "metadata": {
        "id": "L23OAuPtolF7",
        "colab_type": "code",
        "colab": {
          "base_uri": "https://localhost:8080/",
          "height": 123
        },
        "outputId": "daafdfdb-4f3d-4615-9f17-e9256460e58f"
      },
      "cell_type": "code",
      "source": [
        "df.head(), df.shape"
      ],
      "execution_count": 20,
      "outputs": [
        {
          "output_type": "execute_result",
          "data": {
            "text/plain": [
              "(   user_id  item_id  rating  timestamp\n",
              " 0      196      242       3  881250949\n",
              " 1      186      302       3  891717742\n",
              " 2       22      377       1  878887116\n",
              " 3      244       51       2  880606923\n",
              " 4      166      346       1  886397596, (100000, 4))"
            ]
          },
          "metadata": {
            "tags": []
          },
          "execution_count": 20
        }
      ]
    },
    {
      "metadata": {
        "id": "ji3OwYm2o6Zx",
        "colab_type": "code",
        "colab": {}
      },
      "cell_type": "code",
      "source": [
        "# Create r_{ui}, our ratings matrix\n",
        "ratings = np.zeros((n_users, n_items))\n",
        "for row in df.itertuples():\n",
        "    ratings[row[1]-1, row[2]-1] = row[3]"
      ],
      "execution_count": 0,
      "outputs": []
    },
    {
      "metadata": {
        "id": "zrQhhnZBpH66",
        "colab_type": "code",
        "colab": {
          "base_uri": "https://localhost:8080/",
          "height": 141
        },
        "outputId": "f6531939-c262-4357-869e-56f606caeee8"
      },
      "cell_type": "code",
      "source": [
        "ratings"
      ],
      "execution_count": 26,
      "outputs": [
        {
          "output_type": "execute_result",
          "data": {
            "text/plain": [
              "array([[5., 3., 4., ..., 0., 0., 0.],\n",
              "       [4., 0., 0., ..., 0., 0., 0.],\n",
              "       [0., 0., 0., ..., 0., 0., 0.],\n",
              "       ...,\n",
              "       [5., 0., 0., ..., 0., 0., 0.],\n",
              "       [0., 0., 0., ..., 0., 0., 0.],\n",
              "       [0., 5., 0., ..., 0., 0., 0.]])"
            ]
          },
          "metadata": {
            "tags": []
          },
          "execution_count": 26
        }
      ]
    },
    {
      "metadata": {
        "id": "bMl_4PULp0aQ",
        "colab_type": "code",
        "colab": {}
      },
      "cell_type": "code",
      "source": [
        "# Split into training and test sets. \n",
        "# Remove 10 ratings for each user \n",
        "# and assign them to the test set\n",
        "def train_test_split(ratings):\n",
        "    test = np.zeros(ratings.shape)\n",
        "    train = ratings.copy()\n",
        "    for user in range(ratings.shape[0]):\n",
        "        test_ratings = np.random.choice(ratings[user, :].nonzero()[0], \n",
        "                                        size=10, \n",
        "                                        replace=False)\n",
        "        train[user, test_ratings] = 0.\n",
        "        test[user, test_ratings] = ratings[user, test_ratings]\n",
        "        \n",
        "    # Test and training are truly disjoint\n",
        "    assert(np.all((train * test) == 0)) \n",
        "    return train, test"
      ],
      "execution_count": 0,
      "outputs": []
    },
    {
      "metadata": {
        "id": "vbjHbrL1spHc",
        "colab_type": "code",
        "colab": {}
      },
      "cell_type": "code",
      "source": [
        "train, test = train_test_split(ratings)"
      ],
      "execution_count": 0,
      "outputs": []
    },
    {
      "metadata": {
        "id": "efK18gHestpV",
        "colab_type": "code",
        "colab": {
          "base_uri": "https://localhost:8080/",
          "height": 34
        },
        "outputId": "ed8569f8-be81-4ea2-9597-99230e92e57a"
      },
      "cell_type": "code",
      "source": [
        "train.shape, test.shape"
      ],
      "execution_count": 29,
      "outputs": [
        {
          "output_type": "execute_result",
          "data": {
            "text/plain": [
              "((943, 1682), (943, 1682))"
            ]
          },
          "metadata": {
            "tags": []
          },
          "execution_count": 29
        }
      ]
    },
    {
      "metadata": {
        "id": "oCPC1iegsyir",
        "colab_type": "code",
        "colab": {}
      },
      "cell_type": "code",
      "source": [
        "from sklearn.metrics import mean_squared_error\n",
        "\n",
        "def get_mse(pred, actual):\n",
        "    # Ignore nonzero terms.\n",
        "    pred = pred[actual.nonzero()].flatten()\n",
        "    actual = actual[actual.nonzero()].flatten()\n",
        "    return mean_squared_error(pred, actual)\n"
      ],
      "execution_count": 0,
      "outputs": []
    },
    {
      "metadata": {
        "id": "BnQDoVHws-lD",
        "colab_type": "code",
        "colab": {}
      },
      "cell_type": "code",
      "source": [
        "from numpy.linalg import solve\n",
        "\n",
        "class ExplicitMF():\n",
        "    def __init__(self, \n",
        "                 ratings, \n",
        "                 n_factors=40, \n",
        "                 item_reg=0.0, \n",
        "                 user_reg=0.0,\n",
        "                 verbose=False):\n",
        "        \"\"\"\n",
        "        Train a matrix factorization model to predict empty \n",
        "        entries in a matrix. The terminology assumes a \n",
        "        ratings matrix which is ~ user x item\n",
        "        \n",
        "        Params\n",
        "        ======\n",
        "        ratings : (ndarray)\n",
        "            User x Item matrix with corresponding ratings\n",
        "        \n",
        "        n_factors : (int)\n",
        "            Number of latent factors to use in matrix \n",
        "            factorization model\n",
        "        \n",
        "        item_reg : (float)\n",
        "            Regularization term for item latent factors\n",
        "        \n",
        "        user_reg : (float)\n",
        "            Regularization term for user latent factors\n",
        "        \n",
        "        verbose : (bool)\n",
        "            Whether or not to printout training progress\n",
        "        \"\"\"\n",
        "        \n",
        "        self.ratings = ratings\n",
        "        self.n_users, self.n_items = ratings.shape\n",
        "        self.n_factors = n_factors\n",
        "        self.item_reg = item_reg\n",
        "        self.user_reg = user_reg\n",
        "        self._v = verbose\n",
        "\n",
        "    def als_step(self,\n",
        "                 latent_vectors,\n",
        "                 fixed_vecs,\n",
        "                 ratings,\n",
        "                 _lambda,\n",
        "                 type='user'):\n",
        "        \"\"\"\n",
        "        One of the two ALS steps. Solve for the latent vectors\n",
        "        specified by type.\n",
        "        \"\"\"\n",
        "        if type == 'user':\n",
        "            # Precompute\n",
        "            YTY = fixed_vecs.T.dot(fixed_vecs)\n",
        "            lambdaI = np.eye(YTY.shape[0]) * _lambda\n",
        "\n",
        "            for u in range(latent_vectors.shape[0]):\n",
        "                latent_vectors[u, :] = solve((YTY + lambdaI), \n",
        "                                             ratings[u, :].dot(fixed_vecs))\n",
        "        elif type == 'item':\n",
        "            # Precompute\n",
        "            XTX = fixed_vecs.T.dot(fixed_vecs)\n",
        "            lambdaI = np.eye(XTX.shape[0]) * _lambda\n",
        "            \n",
        "            for i in range(latent_vectors.shape[0]):\n",
        "                latent_vectors[i, :] = solve((XTX + lambdaI), \n",
        "                                             ratings[:, i].T.dot(fixed_vecs))\n",
        "        return latent_vectors\n",
        "\n",
        "    def train(self, n_iter=10):\n",
        "        \"\"\" Train model for n_iter iterations from scratch.\"\"\"\n",
        "        # initialize latent vectors\n",
        "        self.user_vecs = np.random.random((self.n_users, self.n_factors))\n",
        "        self.item_vecs = np.random.random((self.n_items, self.n_factors))\n",
        "        \n",
        "        self.partial_train(n_iter)\n",
        "    \n",
        "    def partial_train(self, n_iter):\n",
        "        \"\"\" \n",
        "        Train model for n_iter iterations. Can be \n",
        "        called multiple times for further training.\n",
        "        \"\"\"\n",
        "        ctr = 1\n",
        "        while ctr <= n_iter:\n",
        "            if ctr % 10 == 0 and self._v:\n",
        "                print '\\tcurrent iteration: {}'.format(ctr)\n",
        "            self.user_vecs = self.als_step(self.user_vecs, \n",
        "                                           self.item_vecs, \n",
        "                                           self.ratings, \n",
        "                                           self.user_reg, \n",
        "                                           type='user')\n",
        "            self.item_vecs = self.als_step(self.item_vecs, \n",
        "                                           self.user_vecs, \n",
        "                                           self.ratings, \n",
        "                                           self.item_reg, \n",
        "                                           type='item')\n",
        "            ctr += 1\n",
        "    \n",
        "    def predict_all(self):\n",
        "        \"\"\" Predict ratings for every user and item. \"\"\"\n",
        "        predictions = np.zeros((self.user_vecs.shape[0], \n",
        "                                self.item_vecs.shape[0]))\n",
        "        for u in range(self.user_vecs.shape[0]):\n",
        "            for i in range(self.item_vecs.shape[0]):\n",
        "                predictions[u, i] = self.predict(u, i)\n",
        "                \n",
        "        return predictions\n",
        "    def predict(self, u, i):\n",
        "        \"\"\" Single user and item prediction. \"\"\"\n",
        "        return self.user_vecs[u, :].dot(self.item_vecs[i, :].T)\n",
        "    \n",
        "    def calculate_learning_curve(self, iter_array, test):\n",
        "        \"\"\"\n",
        "        Keep track of MSE as a function of training iterations.\n",
        "        \n",
        "        Params\n",
        "        ======\n",
        "        iter_array : (list)\n",
        "            List of numbers of iterations to train for each step of \n",
        "            the learning curve. e.g. [1, 5, 10, 20]\n",
        "        test : (2D ndarray)\n",
        "            Testing dataset (assumed to be user x item).\n",
        "        \n",
        "        The function creates two new class attributes:\n",
        "        \n",
        "        train_mse : (list)\n",
        "            Training data MSE values for each value of iter_array\n",
        "        test_mse : (list)\n",
        "            Test data MSE values for each value of iter_array\n",
        "        \"\"\"\n",
        "        iter_array.sort()\n",
        "        self.train_mse =[]\n",
        "        self.test_mse = []\n",
        "        iter_diff = 0\n",
        "        for (i, n_iter) in enumerate(iter_array):\n",
        "            if self._v:\n",
        "                print('Iteration: {}'.format(n_iter))\n",
        "            if i == 0:\n",
        "                self.train(n_iter - iter_diff)\n",
        "            else:\n",
        "                self.partial_train(n_iter - iter_diff)\n",
        "\n",
        "            predictions = self.predict_all()\n",
        "\n",
        "            self.train_mse += [get_mse(predictions, self.ratings)]\n",
        "            self.test_mse += [get_mse(predictions, test)]\n",
        "            if self._v:\n",
        "                print('Train mse: ' + str(self.train_mse[-1]))\n",
        "                print('Test mse: ' + str(self.test_mse[-1]))\n",
        "            iter_diff = n_iter"
      ],
      "execution_count": 0,
      "outputs": []
    },
    {
      "metadata": {
        "id": "_JYU_8_BvCSj",
        "colab_type": "code",
        "colab": {}
      },
      "cell_type": "code",
      "source": [
        "MF_ALS = ExplicitMF(train, n_factors=40, user_reg=0.0, item_reg=0.0)"
      ],
      "execution_count": 0,
      "outputs": []
    },
    {
      "metadata": {
        "id": "kTBbVmtYvfAW",
        "colab_type": "code",
        "colab": {}
      },
      "cell_type": "code",
      "source": [
        "iter_array = [1, 2, 5, 10, 25, 50, 100]\n",
        "MF_ALS.calculate_learning_curve(iter_array, test)"
      ],
      "execution_count": 0,
      "outputs": []
    },
    {
      "metadata": {
        "id": "uiDaWTkLvuPT",
        "colab_type": "code",
        "colab": {}
      },
      "cell_type": "code",
      "source": [
        "%matplotlib inline\n",
        "import matplotlib.pyplot as plt\n",
        "import seaborn as sns\n",
        "sns.set()"
      ],
      "execution_count": 0,
      "outputs": []
    },
    {
      "metadata": {
        "id": "wvYtqDxrv8qi",
        "colab_type": "code",
        "colab": {
          "base_uri": "https://localhost:8080/",
          "height": 390
        },
        "outputId": "73d390b4-b86c-4c16-d059-f61a0ee93b50"
      },
      "cell_type": "code",
      "source": [
        "def plot_learning_curve(iter_array, model):\n",
        "    plt.plot(iter_array, model.train_mse, \\\n",
        "             label='Training', linewidth=5)\n",
        "    plt.plot(iter_array, model.test_mse, \\\n",
        "             label='Test', linewidth=5)\n",
        "\n",
        "\n",
        "    plt.xticks(fontsize=16);\n",
        "    plt.yticks(fontsize=16);\n",
        "    plt.xlabel('iterations', fontsize=30);\n",
        "    plt.ylabel('MSE', fontsize=30);\n",
        "    plt.legend(loc='best', fontsize=20);\n",
        "\n",
        "plot_learning_curve(iter_array, MF_ALS)"
      ],
      "execution_count": 38,
      "outputs": [
        {
          "output_type": "display_data",
          "data": {
            "image/png": "[encoded data removed]",
            "text/plain": [
              "<matplotlib.figure.Figure at 0x7f6aa13183d0>"
            ]
          },
          "metadata": {
            "tags": []
          }
        }
      ]
    },
    {
      "metadata": {
        "id": "U1GgqGljwBZI",
        "colab_type": "code",
        "colab": {}
      },
      "cell_type": "code",
      "source": [
        "MF_ALS = ExplicitMF(train, n_factors=40, \\\n",
        "                    user_reg=1., item_reg=1.)\n",
        "\n",
        "iter_array = [1, 2, 5, 10, 25, 50, 100]\n",
        "MF_ALS.calculate_learning_curve(iter_array, test)"
      ],
      "execution_count": 0,
      "outputs": []
    },
    {
      "metadata": {
        "id": "Srsew6mswS09",
        "colab_type": "code",
        "colab": {
          "base_uri": "https://localhost:8080/",
          "height": 383
        },
        "outputId": "c7607bdd-81ac-4a39-95b5-ee0ec9269723"
      },
      "cell_type": "code",
      "source": [
        "plot_learning_curve(iter_array, MF_ALS)"
      ],
      "execution_count": 40,
      "outputs": [
        {
          "output_type": "display_data",
          "data": {
            "image/png": "[encoded data removed]",
            "text/plain": [
              "<matplotlib.figure.Figure at 0x7f6aa130c8d0>"
            ]
          },
          "metadata": {
            "tags": []
          }
        }
      ]
    },
    {
      "metadata": {
        "id": "XdPUVR61wUdz",
        "colab_type": "code",
        "colab": {
          "base_uri": "https://localhost:8080/",
          "height": 976
        },
        "outputId": "e08f3187-bd96-4f50-e690-20a91a69f248"
      },
      "cell_type": "code",
      "source": [
        "latent_factors = [5, 10, 20, 40, 80]\n",
        "regularizations = [0.01, 0.1, 1., 10., 100.]\n",
        "regularizations.sort()\n",
        "iter_array = [1, 2, 5, 10, 25, 50, 100]\n",
        "\n",
        "best_params = {}\n",
        "best_params['n_factors'] = latent_factors[0]\n",
        "best_params['reg'] = regularizations[0]\n",
        "best_params['n_iter'] = 0\n",
        "best_params['train_mse'] = np.inf\n",
        "best_params['test_mse'] = np.inf\n",
        "best_params['model'] = None\n",
        "\n",
        "for fact in latent_factors:\n",
        "    print('Factors: {}'.format(fact))\n",
        "    for reg in regularizations:\n",
        "        print('Regularization: {}'.format(reg))\n",
        "        MF_ALS = ExplicitMF(train, n_factors=fact, \\\n",
        "                            user_reg=reg, item_reg=reg)\n",
        "        MF_ALS.calculate_learning_curve(iter_array, test)\n",
        "        min_idx = np.argmin(MF_ALS.test_mse)\n",
        "        if MF_ALS.test_mse[min_idx] < best_params['test_mse']:\n",
        "            best_params['n_factors'] = fact\n",
        "            best_params['reg'] = reg\n",
        "            best_params['n_iter'] = iter_array[min_idx]\n",
        "            best_params['train_mse'] = MF_ALS.train_mse[min_idx]\n",
        "            best_params['test_mse'] = MF_ALS.test_mse[min_idx]\n",
        "            best_params['model'] = MF_ALS\n",
        "            print 'New optimal hyperparameters'\n",
        "            print(pd.Series(best_params))"
      ],
      "execution_count": 41,
      "outputs": [
        {
          "output_type": "stream",
          "text": [
            "Factors: 5\n",
            "Regularization: 0.01\n",
            "New optimal hyperparameters\n",
            "model        <__main__.ExplicitMF instance at 0x7f6a9f246cf8>\n",
            "n_factors                                                   5\n",
            "n_iter                                                     10\n",
            "reg                                                      0.01\n",
            "test_mse                                               8.6506\n",
            "train_mse                                             6.13147\n",
            "dtype: object\n",
            "Regularization: 0.1\n",
            "Regularization: 1.0\n",
            "Regularization: 10.0\n",
            "Regularization: 100.0\n",
            "Factors: 10\n",
            "Regularization: 0.01\n",
            "New optimal hyperparameters\n",
            "model        <__main__.ExplicitMF instance at 0x7f6aa23926c8>\n",
            "n_factors                                                  10\n",
            "n_iter                                                     10\n",
            "reg                                                      0.01\n",
            "test_mse                                              8.18391\n",
            "train_mse                                             5.39557\n",
            "dtype: object\n",
            "Regularization: 0.1\n",
            "Regularization: 1.0\n",
            "Regularization: 10.0\n",
            "Regularization: 100.0\n",
            "Factors: 20\n",
            "Regularization: 0.01\n",
            "New optimal hyperparameters\n",
            "model        <__main__.ExplicitMF instance at 0x7f6a9f17a488>\n",
            "n_factors                                                  20\n",
            "n_iter                                                    100\n",
            "reg                                                      0.01\n",
            "test_mse                                              8.04113\n",
            "train_mse                                             4.75325\n",
            "dtype: object\n",
            "Regularization: 0.1\n",
            "Regularization: 1.0\n",
            "Regularization: 10.0\n",
            "Regularization: 100.0\n",
            "Factors: 40\n",
            "Regularization: 0.01\n",
            "Regularization: 0.1\n",
            "Regularization: 1.0\n",
            "Regularization: 10.0\n",
            "Regularization: 100.0\n",
            "Factors: 80\n",
            "Regularization: 0.01\n",
            "Regularization: 0.1\n",
            "Regularization: 1.0\n",
            "Regularization: 10.0\n",
            "Regularization: 100.0\n"
          ],
          "name": "stdout"
        }
      ]
    },
    {
      "metadata": {
        "id": "yg3JdzQZwn1_",
        "colab_type": "code",
        "colab": {
          "base_uri": "https://localhost:8080/",
          "height": 383
        },
        "outputId": "bd8061ec-cb8e-48a5-dc63-851f1dce4688"
      },
      "cell_type": "code",
      "source": [
        "best_als_model = best_params['model']\n",
        "plot_learning_curve(iter_array, best_als_model)"
      ],
      "execution_count": 42,
      "outputs": [
        {
          "output_type": "display_data",
          "data": {
            "image/png": "[encoded data removed]",
            "text/plain": [
              "<matplotlib.figure.Figure at 0x7f6a9f23cf50>"
            ]
          },
          "metadata": {
            "tags": []
          }
        }
      ]
    },
    {
      "metadata": {
        "id": "Eog1WI5rwrxP",
        "colab_type": "code",
        "colab": {}
      },
      "cell_type": "code",
      "source": [
        "class ExplicitMF():\n",
        "    def __init__(self, \n",
        "                 ratings,\n",
        "                 n_factors=40,\n",
        "                 learning='sgd',\n",
        "                 item_fact_reg=0.0, \n",
        "                 user_fact_reg=0.0,\n",
        "                 item_bias_reg=0.0,\n",
        "                 user_bias_reg=0.0,\n",
        "                 verbose=False):\n",
        "        \"\"\"\n",
        "        Train a matrix factorization model to predict empty \n",
        "        entries in a matrix. The terminology assumes a \n",
        "        ratings matrix which is ~ user x item\n",
        "        \n",
        "        Params\n",
        "        ======\n",
        "        ratings : (ndarray)\n",
        "            User x Item matrix with corresponding ratings\n",
        "        \n",
        "        n_factors : (int)\n",
        "            Number of latent factors to use in matrix \n",
        "            factorization model\n",
        "        learning : (str)\n",
        "            Method of optimization. Options include \n",
        "            'sgd' or 'als'.\n",
        "        \n",
        "        item_fact_reg : (float)\n",
        "            Regularization term for item latent factors\n",
        "        \n",
        "        user_fact_reg : (float)\n",
        "            Regularization term for user latent factors\n",
        "            \n",
        "        item_bias_reg : (float)\n",
        "            Regularization term for item biases\n",
        "        \n",
        "        user_bias_reg : (float)\n",
        "            Regularization term for user biases\n",
        "        \n",
        "        verbose : (bool)\n",
        "            Whether or not to printout training progress\n",
        "        \"\"\"\n",
        "        \n",
        "        self.ratings = ratings\n",
        "        self.n_users, self.n_items = ratings.shape\n",
        "        self.n_factors = n_factors\n",
        "        self.item_fact_reg = item_fact_reg\n",
        "        self.user_fact_reg = user_fact_reg\n",
        "        self.item_bias_reg = item_bias_reg\n",
        "        self.user_bias_reg = user_bias_reg\n",
        "        self.learning = learning\n",
        "        if self.learning == 'sgd':\n",
        "            self.sample_row, self.sample_col = self.ratings.nonzero()\n",
        "            self.n_samples = len(self.sample_row)\n",
        "        self._v = verbose\n",
        "\n",
        "    def als_step(self,\n",
        "                 latent_vectors,\n",
        "                 fixed_vecs,\n",
        "                 ratings,\n",
        "                 _lambda,\n",
        "                 type='user'):\n",
        "        \"\"\"\n",
        "        One of the two ALS steps. Solve for the latent vectors\n",
        "        specified by type.\n",
        "        \"\"\"\n",
        "        if type == 'user':\n",
        "            # Precompute\n",
        "            YTY = fixed_vecs.T.dot(fixed_vecs)\n",
        "            lambdaI = np.eye(YTY.shape[0]) * _lambda\n",
        "\n",
        "            for u in range(latent_vectors.shape[0]):\n",
        "                latent_vectors[u, :] = solve((YTY + lambdaI), \n",
        "                                             ratings[u, :].dot(fixed_vecs))\n",
        "        elif type == 'item':\n",
        "            # Precompute\n",
        "            XTX = fixed_vecs.T.dot(fixed_vecs)\n",
        "            lambdaI = np.eye(XTX.shape[0]) * _lambda\n",
        "            \n",
        "            for i in range(latent_vectors.shape[0]):\n",
        "                latent_vectors[i, :] = solve((XTX + lambdaI), \n",
        "                                             ratings[:, i].T.dot(fixed_vecs))\n",
        "        return latent_vectors\n",
        "\n",
        "    def train(self, n_iter=10, learning_rate=0.1):\n",
        "        \"\"\" Train model for n_iter iterations from scratch.\"\"\"\n",
        "        # initialize latent vectors        \n",
        "        self.user_vecs = np.random.normal(scale=1./self.n_factors,\\\n",
        "                                          size=(self.n_users, self.n_factors))\n",
        "        self.item_vecs = np.random.normal(scale=1./self.n_factors,\n",
        "                                          size=(self.n_items, self.n_factors))\n",
        "        \n",
        "        if self.learning == 'als':\n",
        "            self.partial_train(n_iter)\n",
        "        elif self.learning == 'sgd':\n",
        "            self.learning_rate = learning_rate\n",
        "            self.user_bias = np.zeros(self.n_users)\n",
        "            self.item_bias = np.zeros(self.n_items)\n",
        "            self.global_bias = np.mean(self.ratings[np.where(self.ratings != 0)])\n",
        "            self.partial_train(n_iter)\n",
        "    \n",
        "    \n",
        "    def partial_train(self, n_iter):\n",
        "        \"\"\" \n",
        "        Train model for n_iter iterations. Can be \n",
        "        called multiple times for further training.\n",
        "        \"\"\"\n",
        "        ctr = 1\n",
        "        while ctr <= n_iter:\n",
        "            if ctr % 10 == 0 and self._v:\n",
        "                print('\\tcurrent iteration: {}'.format(ctr))\n",
        "            if self.learning == 'als':\n",
        "                self.user_vecs = self.als_step(self.user_vecs, \n",
        "                                               self.item_vecs, \n",
        "                                               self.ratings, \n",
        "                                               self.user_fact_reg, \n",
        "                                               type='user')\n",
        "                self.item_vecs = self.als_step(self.item_vecs, \n",
        "                                               self.user_vecs, \n",
        "                                               self.ratings, \n",
        "                                               self.item_fact_reg, \n",
        "                                               type='item')\n",
        "            elif self.learning == 'sgd':\n",
        "                self.training_indices = np.arange(self.n_samples)\n",
        "                np.random.shuffle(self.training_indices)\n",
        "                self.sgd()\n",
        "            ctr += 1\n",
        "\n",
        "    def sgd(self):\n",
        "        for idx in self.training_indices:\n",
        "            u = self.sample_row[idx]\n",
        "            i = self.sample_col[idx]\n",
        "            prediction = self.predict(u, i)\n",
        "            e = (self.ratings[u,i] - prediction) # error\n",
        "            \n",
        "            # Update biases\n",
        "            self.user_bias[u] += self.learning_rate * \\\n",
        "                                (e - self.user_bias_reg * self.user_bias[u])\n",
        "            self.item_bias[i] += self.learning_rate * \\\n",
        "                                (e - self.item_bias_reg * self.item_bias[i])\n",
        "            \n",
        "            #Update latent factors\n",
        "            self.user_vecs[u, :] += self.learning_rate * \\\n",
        "                                    (e * self.item_vecs[i, :] - \\\n",
        "                                     self.user_fact_reg * self.user_vecs[u,:])\n",
        "            self.item_vecs[i, :] += self.learning_rate * \\\n",
        "                                    (e * self.user_vecs[u, :] - \\\n",
        "                                     self.item_fact_reg * self.item_vecs[i,:])\n",
        "    def predict(self, u, i):\n",
        "        \"\"\" Single user and item prediction.\"\"\"\n",
        "        if self.learning == 'als':\n",
        "            return self.user_vecs[u, :].dot(self.item_vecs[i, :].T)\n",
        "        elif self.learning == 'sgd':\n",
        "            prediction = self.global_bias + self.user_bias[u] + self.item_bias[i]\n",
        "            prediction += self.user_vecs[u, :].dot(self.item_vecs[i, :].T)\n",
        "            return prediction\n",
        "    \n",
        "    def predict_all(self):\n",
        "        \"\"\" Predict ratings for every user and item.\"\"\"\n",
        "        predictions = np.zeros((self.user_vecs.shape[0], \n",
        "                                self.item_vecs.shape[0]))\n",
        "        for u in range(self.user_vecs.shape[0]):\n",
        "            for i in xrange(self.item_vecs.shape[0]):\n",
        "                predictions[u, i] = self.predict(u, i)\n",
        "                \n",
        "        return predictions\n",
        "    \n",
        "    def calculate_learning_curve(self, iter_array, test, learning_rate=0.1):\n",
        "        \"\"\"\n",
        "        Keep track of MSE as a function of training iterations.\n",
        "        \n",
        "        Params\n",
        "        ======\n",
        "        iter_array : (list)\n",
        "            List of numbers of iterations to train for each step of \n",
        "            the learning curve. e.g. [1, 5, 10, 20]\n",
        "        test : (2D ndarray)\n",
        "            Testing dataset (assumed to be user x item).\n",
        "        \n",
        "        The function creates two new class attributes:\n",
        "        \n",
        "        train_mse : (list)\n",
        "            Training data MSE values for each value of iter_array\n",
        "        test_mse : (list)\n",
        "            Test data MSE values for each value of iter_array\n",
        "        \"\"\"\n",
        "        iter_array.sort()\n",
        "        self.train_mse =[]\n",
        "        self.test_mse = []\n",
        "        iter_diff = 0\n",
        "        for (i, n_iter) in enumerate(iter_array):\n",
        "            if self._v:\n",
        "                print('Iteration: {}'.format(n_iter))\n",
        "            if i == 0:\n",
        "                self.train(n_iter - iter_diff, learning_rate)\n",
        "            else:\n",
        "                self.partial_train(n_iter - iter_diff)\n",
        "\n",
        "            predictions = self.predict_all()\n",
        "\n",
        "            self.train_mse += [get_mse(predictions, self.ratings)]\n",
        "            self.test_mse += [get_mse(predictions, test)]\n",
        "            if self._v:\n",
        "                print('Train mse: ' + str(self.train_mse[-1]))\n",
        "                print('Test mse: ' + str(self.test_mse[-1]))\n",
        "            iter_diff = n_iter"
      ],
      "execution_count": 0,
      "outputs": []
    },
    {
      "metadata": {
        "id": "Eorktk-v0t5a",
        "colab_type": "code",
        "colab": {
          "base_uri": "https://localhost:8080/",
          "height": 763
        },
        "outputId": "b8b89117-b82a-4d98-f41d-22617707d2a9"
      },
      "cell_type": "code",
      "source": [
        "MF_SGD = ExplicitMF(train, 40, learning='sgd', verbose=True)\n",
        "iter_array = [1, 2, 5, 10, 25, 50, 100, 200]\n",
        "MF_SGD.calculate_learning_curve(iter_array, test, learning_rate=0.001)"
      ],
      "execution_count": 44,
      "outputs": [
        {
          "output_type": "stream",
          "text": [
            "Iteration: 1\n",
            "Train mse: 1.1430462174972136\n",
            "Test mse: 1.176935032748205\n",
            "Iteration: 2\n",
            "Train mse: 1.073300733045542\n",
            "Test mse: 1.1256300450237802\n",
            "Iteration: 5\n",
            "Train mse: 0.9769258601879528\n",
            "Test mse: 1.0474445134941004\n",
            "Iteration: 10\n",
            "Train mse: 0.9192825450458536\n",
            "Test mse: 0.9969727382624485\n",
            "Iteration: 25\n",
            "\tcurrent iteration: 10\n",
            "Train mse: 0.8673221990762796\n",
            "Test mse: 0.95094170277297\n",
            "Iteration: 50\n",
            "\tcurrent iteration: 10\n",
            "\tcurrent iteration: 20\n",
            "Train mse: 0.8394759046220416\n",
            "Test mse: 0.9319213233813146\n",
            "Iteration: 100\n",
            "\tcurrent iteration: 10\n",
            "\tcurrent iteration: 20\n",
            "\tcurrent iteration: 30\n",
            "\tcurrent iteration: 40\n",
            "\tcurrent iteration: 50\n",
            "Train mse: 0.7494605427146007\n",
            "Test mse: 0.9091692773674999\n",
            "Iteration: 200\n",
            "\tcurrent iteration: 10\n",
            "\tcurrent iteration: 20\n",
            "\tcurrent iteration: 30\n",
            "\tcurrent iteration: 40\n",
            "\tcurrent iteration: 50\n",
            "\tcurrent iteration: 60\n",
            "\tcurrent iteration: 70\n",
            "\tcurrent iteration: 80\n",
            "\tcurrent iteration: 90\n",
            "\tcurrent iteration: 100\n",
            "Train mse: 0.4039988166370598\n",
            "Test mse: 0.8932056051024783\n"
          ],
          "name": "stdout"
        }
      ]
    },
    {
      "metadata": {
        "id": "NEkM7-lo0zxm",
        "colab_type": "code",
        "colab": {
          "base_uri": "https://localhost:8080/",
          "height": 383
        },
        "outputId": "042dc010-bab2-4782-910f-ea2d0394e6dc"
      },
      "cell_type": "code",
      "source": [
        "plot_learning_curve(iter_array, MF_SGD)"
      ],
      "execution_count": 45,
      "outputs": [
        {
          "output_type": "display_data",
          "data": {
            "image/png": "[encoded data removed]",
            "text/plain": [
              "<matplotlib.figure.Figure at 0x7f6a9f1dae10>"
            ]
          },
          "metadata": {
            "tags": []
          }
        }
      ]
    },
    {
      "metadata": {
        "id": "mcKbnZvY022N",
        "colab_type": "code",
        "colab": {}
      },
      "cell_type": "code",
      "source": [
        "best_als_model = ExplicitMF(ratings, n_factors=20, learning='als', \\\n",
        "                            item_fact_reg=0.01, user_fact_reg=0.01)\n",
        "best_als_model.train(50)"
      ],
      "execution_count": 0,
      "outputs": []
    },
    {
      "metadata": {
        "id": "12gvDqhU2QXc",
        "colab_type": "code",
        "colab": {}
      },
      "cell_type": "code",
      "source": [
        "best_sgd_model = ExplicitMF(ratings, n_factors=80, learning='sgd', \\\n",
        "                            item_fact_reg=0.01, user_fact_reg=0.01, \\\n",
        "                            user_bias_reg=0.01, item_bias_reg=0.01)\n",
        "best_sgd_model.train(200, learning_rate=0.001)"
      ],
      "execution_count": 0,
      "outputs": []
    },
    {
      "metadata": {
        "id": "W5eHNII32SOW",
        "colab_type": "code",
        "colab": {}
      },
      "cell_type": "code",
      "source": [
        "def cosine_similarity(model):\n",
        "    sim = model.item_vecs.dot(model.item_vecs.T)\n",
        "    norms = np.array([np.sqrt(np.diagonal(sim))])\n",
        "    return sim / norms / norms.T\n",
        "\n",
        "als_sim = cosine_similarity(best_als_model)\n",
        "sgd_sim = cosine_similarity(best_sgd_model)"
      ],
      "execution_count": 0,
      "outputs": []
    },
    {
      "metadata": {
        "id": "MxAD-Lwc2r4X",
        "colab_type": "code",
        "colab": {
          "base_uri": "https://localhost:8080/",
          "height": 52
        },
        "outputId": "9beebff2-0508-49d3-dbbc-ada2f95f7773"
      },
      "cell_type": "code",
      "source": [
        "# Load in movie data\n",
        "idx_to_movie = {}\n",
        "with open(os.path.join(base_mvlen, 'u.item'), 'r') as f:\n",
        "  for line in f:\n",
        "    print(line)\n",
        "    break"
      ],
      "execution_count": 50,
      "outputs": [
        {
          "output_type": "stream",
          "text": [
            "1|Toy Story (1995)|01-Jan-1995||http://us.imdb.com/M/title-exact?Toy%20Story%20(1995)|0|0|0|1|1|1|0|0|0|0|0|0|0|0|0|0|0|0|0\n",
            "\n"
          ],
          "name": "stdout"
        }
      ]
    },
    {
      "metadata": {
        "id": "NEqggtcJ22qZ",
        "colab_type": "code",
        "colab": {}
      },
      "cell_type": "code",
      "source": [
        "# Load in movie data\n",
        "idx_to_movie = {}\n",
        "with open(os.path.join(base_mvlen, 'u.item'), 'r') as f:\n",
        "    for line in f.readlines():\n",
        "        info = line.split('|')\n",
        "        idx_to_movie[int(info[0])-1] = info[4]"
      ],
      "execution_count": 0,
      "outputs": []
    },
    {
      "metadata": {
        "id": "Rbtgv5AD337p",
        "colab_type": "code",
        "colab": {}
      },
      "cell_type": "code",
      "source": [
        "# Build function to query themoviedb.org's API\n",
        "import requests\n",
        "import json\n",
        "\n",
        "# Get base url filepath structure. w185 corresponds to size of movie poster.\n",
        "api_key = '86f2f6ab21d072edaeeef0c837a07030'\n",
        "headers = {'Accept': 'application/json'}\n",
        "payload = {'api_key': api_key} \n",
        "response = requests.get(\"http://api.themoviedb.org/3/configuration\",\\\n",
        "                        params=payload,\\\n",
        "                        headers=headers)\n",
        "response = json.loads(response.text)\n",
        "base_url = response['images']['base_url'] + 'w185'\n",
        "\n",
        "def get_poster(imdb_url, base_url, api_key):\n",
        "    # Get IMDB movie ID\n",
        "    response = requests.get(imdb_url)\n",
        "    movie_id = response.url.split('/')[-2]\n",
        "    \n",
        "    # Query themoviedb.org API for movie poster path.\n",
        "    movie_url = 'http://api.themoviedb.org/3/movie/{:}/images'.format(movie_id)\n",
        "    headers = {'Accept': 'application/json'}\n",
        "    payload = {'api_key': api_key} \n",
        "    response = requests.get(movie_url, params=payload, headers=headers)\n",
        "    try:\n",
        "        file_path = json.loads(response.text)['posters'][0]['file_path']\n",
        "    except:\n",
        "        # IMDB movie ID is sometimes no good. Need to get correct one.\n",
        "        movie_title = imdb_url.split('?')[-1].split('(')[0]\n",
        "        payload['query'] = movie_title\n",
        "        response = requests.get('http://api.themoviedb.org/3/search/movie',\\\n",
        "                                params=payload,\\\n",
        "                                headers=headers)\n",
        "        try:\n",
        "            movie_id = json.loads(response.text)['results'][0]['id']\n",
        "            payload.pop('query', None)\n",
        "            movie_url = 'http://api.themoviedb.org/3/movie/{:}/images'\\\n",
        "                        .format(movie_id)\n",
        "            response = requests.get(movie_url, params=payload, headers=headers)\n",
        "            file_path = json.loads(response.text)['posters'][0]['file_path']\n",
        "        except:\n",
        "            # Sometimes the url just doesn't work.\n",
        "            # Return '' so that it does not mess up Image()\n",
        "            return ''\n",
        "        \n",
        "    return base_url + file_path"
      ],
      "execution_count": 0,
      "outputs": []
    },
    {
      "metadata": {
        "id": "nvrwXPMZ4AaZ",
        "colab_type": "code",
        "colab": {}
      },
      "cell_type": "code",
      "source": [
        "from IPython.display import HTML\n",
        "from IPython.display import display\n",
        "\n",
        "def display_top_k_movies(similarity, mapper, movie_idx, base_url, api_key, k=5):\n",
        "    movie_indices = np.argsort(similarity[movie_idx,:])[::-1]\n",
        "    images = ''\n",
        "    k_ctr = 0\n",
        "    # Start i at 1 to not grab the input movie\n",
        "    i = 1\n",
        "    while k_ctr < 5:\n",
        "        movie = mapper[movie_indices[i]]\n",
        "        poster = get_poster(movie, base_url, api_key)\n",
        "        if poster != '':\n",
        "            images += \"<img style='width: 120px; margin: 0px; \\\n",
        "                      float: left; border: 1px solid black;' src='%s' />\"\\\n",
        "                      % poster\n",
        "            k_ctr += 1\n",
        "        i += 1\n",
        "    display(HTML(images))\n",
        "\n",
        "def compare_recs(als_similarity, sgd_similarity, mapper,\\\n",
        "                 movie_idx, base_url, api_key, k=5):\n",
        "    # Display input\n",
        "    display(HTML('<font size=5>'+'Input'+'</font>'))\n",
        "    input_poster = get_poster(mapper[movie_idx], base_url, api_key)\n",
        "    input_image = \"<img style='width: 120px; margin: 0px; \\\n",
        "                      float: left; border: 1px solid black;' src='%s' />\" \\\n",
        "                  % input_poster\n",
        "    display(HTML(input_image))\n",
        "    # Display ALS Recs\n",
        "    display(HTML('<font size=5>'+'ALS Recs'+'</font>'))\n",
        "    display_top_k_movies(als_similarity, idx_to_movie,\\\n",
        "                         movie_idx, base_url, api_key)\n",
        "    # Display SGD Recs\n",
        "    display(HTML('<font size=5>'+'SGD Recs'+'</font>'))\n",
        "    display_top_k_movies(sgd_similarity, idx_to_movie,\\\n",
        "                         movie_idx, base_url, api_key)"
      ],
      "execution_count": 0,
      "outputs": []
    },
    {
      "metadata": {
        "id": "KmHM4nCo5V1T",
        "colab_type": "code",
        "colab": {
          "base_uri": "https://localhost:8080/",
          "height": 285
        },
        "outputId": "10f5901b-c2e3-4515-fad8-be56d15ab87e"
      },
      "cell_type": "code",
      "source": [
        "idx = 0 \n",
        "compare_recs(als_sim, sgd_sim, idx_to_movie, idx, base_url, api_key)"
      ],
      "execution_count": 54,
      "outputs": [
        {
          "output_type": "display_data",
          "data": {
            "text/plain": [
              "<IPython.core.display.HTML object>"
            ],
            "text/html": [
              "<font size=5>Input</font>"
            ]
          },
          "metadata": {
            "tags": []
          }
        },
        {
          "output_type": "display_data",
          "data": {
            "text/plain": [
              "<IPython.core.display.HTML object>"
            ],
            "text/html": [
              "<img style='width: 120px; margin: 0px;                       float: left; border: 1px solid black;' src='' />"
            ]
          },
          "metadata": {
            "tags": []
          }
        },
        {
          "output_type": "display_data",
          "data": {
            "text/plain": [
              "<IPython.core.display.HTML object>"
            ],
            "text/html": [
              "<font size=5>ALS Recs</font>"
            ]
          },
          "metadata": {
            "tags": []
          }
        },
        {
          "output_type": "display_data",
          "data": {
            "text/plain": [
              "<IPython.core.display.HTML object>"
            ],
            "text/html": [
              "<img style='width: 120px; margin: 0px;                       float: left; border: 1px solid black;' src='http://image.tmdb.org/t/p/w185/f24UVKq3UiQWLqGWdqjwkzgB8j8.jpg' /><img style='width: 120px; margin: 0px;                       float: left; border: 1px solid black;' src='http://image.tmdb.org/t/p/w185/qEsrAHoxj746FRb7OLGYjrx1AI3.jpg' /><img style='width: 120px; margin: 0px;                       float: left; border: 1px solid black;' src='http://image.tmdb.org/t/p/w185/yRF1qpaQPZJjiORDsR7eUHzSHbf.jpg' /><img style='width: 120px; margin: 0px;                       float: left; border: 1px solid black;' src='http://image.tmdb.org/t/p/w185/wtmM5bMRGRomH8wF1e8swi5aFab.jpg' /><img style='width: 120px; margin: 0px;                       float: left; border: 1px solid black;' src='http://image.tmdb.org/t/p/w185/7lV0mtzMze8Xr33jzKakuSCE6IF.jpg' />"
            ]
          },
          "metadata": {
            "tags": []
          }
        },
        {
          "output_type": "display_data",
          "data": {
            "text/plain": [
              "<IPython.core.display.HTML object>"
            ],
            "text/html": [
              "<font size=5>SGD Recs</font>"
            ]
          },
          "metadata": {
            "tags": []
          }
        },
        {
          "output_type": "display_data",
          "data": {
            "text/plain": [
              "<IPython.core.display.HTML object>"
            ],
            "text/html": [
              "<img style='width: 120px; margin: 0px;                       float: left; border: 1px solid black;' src='http://image.tmdb.org/t/p/w185/mfmOHQRAiypRJQ8uSO7r2ZBVtur.jpg' /><img style='width: 120px; margin: 0px;                       float: left; border: 1px solid black;' src='http://image.tmdb.org/t/p/w185/oFNAbCPeleK4XpH6VYOovHbB7vW.jpg' /><img style='width: 120px; margin: 0px;                       float: left; border: 1px solid black;' src='http://image.tmdb.org/t/p/w185/2BiUNHq9QkgCUVGKwGIAyknFYdq.jpg' /><img style='width: 120px; margin: 0px;                       float: left; border: 1px solid black;' src='http://image.tmdb.org/t/p/w185/2WYt7hZ0q4xt9MJmBxBC3fjlhLl.jpg' /><img style='width: 120px; margin: 0px;                       float: left; border: 1px solid black;' src='http://image.tmdb.org/t/p/w185/crycJDHRvpQyZeQyRYtIZKIpNzK.jpg' />"
            ]
          },
          "metadata": {
            "tags": []
          }
        }
      ]
    },
    {
      "metadata": {
        "id": "eEUT3Sxq5jHr",
        "colab_type": "code",
        "colab": {
          "base_uri": "https://localhost:8080/",
          "height": 285
        },
        "outputId": "eaf8e912-0b63-4299-e0a9-5c46c1af8dea"
      },
      "cell_type": "code",
      "source": [
        "idx = 1 \n",
        "compare_recs(als_sim, sgd_sim, idx_to_movie, idx, base_url, api_key)"
      ],
      "execution_count": 55,
      "outputs": [
        {
          "output_type": "display_data",
          "data": {
            "text/plain": [
              "<IPython.core.display.HTML object>"
            ],
            "text/html": [
              "<font size=5>Input</font>"
            ]
          },
          "metadata": {
            "tags": []
          }
        },
        {
          "output_type": "display_data",
          "data": {
            "text/plain": [
              "<IPython.core.display.HTML object>"
            ],
            "text/html": [
              "<img style='width: 120px; margin: 0px;                       float: left; border: 1px solid black;' src='' />"
            ]
          },
          "metadata": {
            "tags": []
          }
        },
        {
          "output_type": "display_data",
          "data": {
            "text/plain": [
              "<IPython.core.display.HTML object>"
            ],
            "text/html": [
              "<font size=5>ALS Recs</font>"
            ]
          },
          "metadata": {
            "tags": []
          }
        },
        {
          "output_type": "display_data",
          "data": {
            "text/plain": [
              "<IPython.core.display.HTML object>"
            ],
            "text/html": [
              "<img style='width: 120px; margin: 0px;                       float: left; border: 1px solid black;' src='http://image.tmdb.org/t/p/w185/sv1Gz4LoGw7XoxZxQSgkjZNrpmk.jpg' /><img style='width: 120px; margin: 0px;                       float: left; border: 1px solid black;' src='http://image.tmdb.org/t/p/w185/xAx5MP7Dg4y85pyS7atX6eWk4Qd.jpg' /><img style='width: 120px; margin: 0px;                       float: left; border: 1px solid black;' src='http://image.tmdb.org/t/p/w185/c8u4qaDwyENn6eKVoBMMO1XXS3q.jpg' /><img style='width: 120px; margin: 0px;                       float: left; border: 1px solid black;' src='http://image.tmdb.org/t/p/w185/iipz2RLBC2ph53DxxXCDfyLoFCZ.jpg' /><img style='width: 120px; margin: 0px;                       float: left; border: 1px solid black;' src='http://image.tmdb.org/t/p/w185/lI8rtESvx2NOeGBW2jrALf7y3F6.jpg' />"
            ]
          },
          "metadata": {
            "tags": []
          }
        },
        {
          "output_type": "display_data",
          "data": {
            "text/plain": [
              "<IPython.core.display.HTML object>"
            ],
            "text/html": [
              "<font size=5>SGD Recs</font>"
            ]
          },
          "metadata": {
            "tags": []
          }
        },
        {
          "output_type": "display_data",
          "data": {
            "text/plain": [
              "<IPython.core.display.HTML object>"
            ],
            "text/html": [
              "<img style='width: 120px; margin: 0px;                       float: left; border: 1px solid black;' src='http://image.tmdb.org/t/p/w185/xYnvr4o7GEaA2uyt4Q1ASUI5Obv.jpg' /><img style='width: 120px; margin: 0px;                       float: left; border: 1px solid black;' src='http://image.tmdb.org/t/p/w185/xlVE9xdu1ROJO07Uk5RI3KtGuUv.jpg' /><img style='width: 120px; margin: 0px;                       float: left; border: 1px solid black;' src='http://image.tmdb.org/t/p/w185/iYjL341MZUA5Ul0Oe4wjkMmpt7B.jpg' /><img style='width: 120px; margin: 0px;                       float: left; border: 1px solid black;' src='http://image.tmdb.org/t/p/w185/3uixF2pHa0whTKcYmenDrArX0II.jpg' /><img style='width: 120px; margin: 0px;                       float: left; border: 1px solid black;' src='http://image.tmdb.org/t/p/w185/ygMORms9SJaW8P5hdXsuFRDW4WV.jpg' />"
            ]
          },
          "metadata": {
            "tags": []
          }
        }
      ]
    },
    {
      "metadata": {
        "id": "pffNZ9FI5ziU",
        "colab_type": "code",
        "colab": {
          "base_uri": "https://localhost:8080/",
          "height": 285
        },
        "outputId": "e5bfd1ef-ccc8-458c-c55c-c03a6fd60d23"
      },
      "cell_type": "code",
      "source": [
        "idx = 20\n",
        "compare_recs(als_sim, sgd_sim, idx_to_movie, idx, base_url, api_key)"
      ],
      "execution_count": 56,
      "outputs": [
        {
          "output_type": "display_data",
          "data": {
            "text/plain": [
              "<IPython.core.display.HTML object>"
            ],
            "text/html": [
              "<font size=5>Input</font>"
            ]
          },
          "metadata": {
            "tags": []
          }
        },
        {
          "output_type": "display_data",
          "data": {
            "text/plain": [
              "<IPython.core.display.HTML object>"
            ],
            "text/html": [
              "<img style='width: 120px; margin: 0px;                       float: left; border: 1px solid black;' src='' />"
            ]
          },
          "metadata": {
            "tags": []
          }
        },
        {
          "output_type": "display_data",
          "data": {
            "text/plain": [
              "<IPython.core.display.HTML object>"
            ],
            "text/html": [
              "<font size=5>ALS Recs</font>"
            ]
          },
          "metadata": {
            "tags": []
          }
        },
        {
          "output_type": "display_data",
          "data": {
            "text/plain": [
              "<IPython.core.display.HTML object>"
            ],
            "text/html": [
              "<img style='width: 120px; margin: 0px;                       float: left; border: 1px solid black;' src='http://image.tmdb.org/t/p/w185/yihlZ637BO0AvXih1n3ILpr1OvN.jpg' /><img style='width: 120px; margin: 0px;                       float: left; border: 1px solid black;' src='http://image.tmdb.org/t/p/w185/974wqQhLjWUNlaHKRXLXyKonMGV.jpg' /><img style='width: 120px; margin: 0px;                       float: left; border: 1px solid black;' src='http://image.tmdb.org/t/p/w185/7lV0mtzMze8Xr33jzKakuSCE6IF.jpg' /><img style='width: 120px; margin: 0px;                       float: left; border: 1px solid black;' src='http://image.tmdb.org/t/p/w185/c6KIX0NY9qGlMNLyII8NloC1AC1.jpg' /><img style='width: 120px; margin: 0px;                       float: left; border: 1px solid black;' src='http://image.tmdb.org/t/p/w185/nqDcgfwBPAOW5kZzAdfXXcu3FqT.jpg' />"
            ]
          },
          "metadata": {
            "tags": []
          }
        },
        {
          "output_type": "display_data",
          "data": {
            "text/plain": [
              "<IPython.core.display.HTML object>"
            ],
            "text/html": [
              "<font size=5>SGD Recs</font>"
            ]
          },
          "metadata": {
            "tags": []
          }
        },
        {
          "output_type": "display_data",
          "data": {
            "text/plain": [
              "<IPython.core.display.HTML object>"
            ],
            "text/html": [
              "<img style='width: 120px; margin: 0px;                       float: left; border: 1px solid black;' src='http://image.tmdb.org/t/p/w185/lL8tgCiVBybWz2c27SIMBmhb8Rt.jpg' /><img style='width: 120px; margin: 0px;                       float: left; border: 1px solid black;' src='http://image.tmdb.org/t/p/w185/wTvuMi6YlO6bVe2Ax5mEL1dbVYv.jpg' /><img style='width: 120px; margin: 0px;                       float: left; border: 1px solid black;' src='http://image.tmdb.org/t/p/w185/7lV0mtzMze8Xr33jzKakuSCE6IF.jpg' /><img style='width: 120px; margin: 0px;                       float: left; border: 1px solid black;' src='http://image.tmdb.org/t/p/w185/lI8rtESvx2NOeGBW2jrALf7y3F6.jpg' /><img style='width: 120px; margin: 0px;                       float: left; border: 1px solid black;' src='http://image.tmdb.org/t/p/w185/bN57Rl003E9pYred5kw9Rp8h9Np.jpg' />"
            ]
          },
          "metadata": {
            "tags": []
          }
        }
      ]
    },
    {
      "metadata": {
        "id": "HHluDW536LbR",
        "colab_type": "code",
        "colab": {}
      },
      "cell_type": "code",
      "source": [
        ""
      ],
      "execution_count": 0,
      "outputs": []
    }
  ]
}